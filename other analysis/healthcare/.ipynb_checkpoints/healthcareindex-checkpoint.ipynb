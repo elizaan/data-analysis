{
 "cells": [
  {
   "cell_type": "code",
   "execution_count": 1,
   "metadata": {},
   "outputs": [
    {
     "name": "stderr",
     "output_type": "stream",
     "text": [
      "C:\\Users\\USER\\.conda\\envs\\DAND\\lib\\site-packages\\sklearn\\utils\\deprecation.py:144: FutureWarning: The sklearn.ensemble.forest module is  deprecated in version 0.22 and will be removed in version 0.24. The corresponding classes / functions should instead be imported from sklearn.ensemble. Anything that cannot be imported from sklearn.ensemble is now part of the private API.\n",
      "  warnings.warn(message, FutureWarning)\n"
     ]
    }
   ],
   "source": [
    "import numpy as np\n",
    "import pandas as pd\n",
    "import scipy\n",
    "import statsmodels.api as st\n",
    "import matplotlib.pyplot as plt\n",
    "%matplotlib inline\n",
    "from matplotlib.pylab import rcParams\n",
    "rcParams['figure.figsize'] = 18, 6\n",
    "import seaborn as sns\n",
    "import sklearn\n",
    "from sklearn.ensemble.forest import RandomForestRegressor\n",
    "from statsmodels.tsa.stattools import adfuller\n",
    "from statsmodels.graphics.tsaplots import plot_acf, plot_pacf\n",
    "from statsmodels.tsa.stattools import acf, pacf\n",
    "from statsmodels.tsa.arima_model import ARIMA\n",
    "import operator \n",
    "import psycopg2\n",
    "import math\n",
    "import requests\n",
    "import json\n",
    "from flask import jsonify\n",
    "import csv\n",
    "from csv import writer\n",
    "from statistics import mean\n",
    "from plotly.subplots import make_subplots\n",
    "import plotly.graph_objects as go"
   ]
  },
  {
   "cell_type": "markdown",
   "metadata": {},
   "source": [
    "# Fetching latest data of pollution from APi"
   ]
  },
  {
   "cell_type": "code",
   "execution_count": 2,
   "metadata": {},
   "outputs": [],
   "source": [
    "url = 'https://www.numbeo.com/api/rankings_by_country_historical?api_key=r8umol7u42vvbs&section=12&fbclid=IwAR2g23utsR5KC5PvEU91RyQk8Z3DWno1BMqEL-KsbgAG43aQc-RxX4TDN0w'\n",
    "response = requests.get(url)\n",
    "lst = json.loads(response.text)\n",
    "\n",
    "health_index = {}\n",
    "\n",
    "\n",
    "for i in lst['2020']:\n",
    "    \n",
    "    health_index[i['iso3166_country_code']] = i['healthcare_index']"
   ]
  },
  {
   "cell_type": "code",
   "execution_count": 3,
   "metadata": {},
   "outputs": [
    {
     "data": {
      "text/plain": [
       "80"
      ]
     },
     "execution_count": 3,
     "metadata": {},
     "output_type": "execute_result"
    }
   ],
   "source": [
    "len(health_index)"
   ]
  },
  {
   "cell_type": "markdown",
   "metadata": {},
   "source": [
    "# Making CSV file containing pollution data"
   ]
  },
  {
   "cell_type": "code",
   "execution_count": 4,
   "metadata": {},
   "outputs": [],
   "source": [
    "with open('global_health_index_ranking_comma.csv', 'w') as csv_file:\n",
    "    csv_writer = writer(csv_file)\n",
    "    headers = ['country name', 'Country_code_iso2','healthcare index']\n",
    "    csv_writer.writerow(headers)\n",
    "    for i in lst['2020']:\n",
    "        name = i['country']\n",
    "        code = i['iso3166_country_code']\n",
    "        entry = [name, code,health_index[code]]\n",
    "        csv_writer.writerow(entry)\n"
   ]
  },
  {
   "cell_type": "markdown",
   "metadata": {},
   "source": [
    "# reading total affected, deaths and recovered with active cases from api"
   ]
  },
  {
   "cell_type": "code",
   "execution_count": 11,
   "metadata": {},
   "outputs": [],
   "source": [
    "\n",
    "url = 'http://coronavirus-tracker-api.herokuapp.com/all'\n",
    "response = requests.get(url)\n",
    "lst = json.loads(response.text)\n",
    "url_iso2 = 'https://restcountries.eu/rest/v2/'\n",
    "\n",
    "\n",
    "response_iso2 = requests.get(url_iso2)\n",
    "lst_iso2 = json.loads(response_iso2.text)\n",
    "\n",
    "latestaffected={}\n",
    "latestdeath={}\n",
    "latestrecovered={}\n",
    "population={}\n",
    "dict_iso3 = {}\n",
    "\n",
    "for i in lst['confirmed']['locations']:\n",
    "    \n",
    "    latestaffected[i['country_code']] = {}\n",
    "    latestdeath[i['country_code']] = {}\n",
    "    latestrecovered[i['country_code']] = {}\n",
    "    \n",
    "for k in lst_iso2:\n",
    "    population[k['alpha2Code']] = k['population']\n",
    "    dict_iso3[k['alpha2Code']] = k['alpha3Code']\n",
    "    \n",
    "\n",
    "for i in lst['confirmed']['locations']:\n",
    "    code = i['country_code']\n",
    "    latestaffected[code] = 0\n",
    "\n",
    "for i in lst['recovered']['locations']:\n",
    "    code = i['country_code']\n",
    "    latestrecovered[code] = 0\n",
    "\n",
    "for i in lst['deaths']['locations']:\n",
    "    code = i['country_code']\n",
    "    latestdeath[code] = 0\n",
    "    \n",
    "\n",
    "    \n",
    "for i in lst['deaths']['locations']:\n",
    "    code = i['country_code']\n",
    "    latestdeath[code] = latestdeath[code] + i['latest'] \n",
    "\n",
    "for i in lst['recovered']['locations']:\n",
    "    code = i['country_code']\n",
    "    latestrecovered[code] = latestrecovered[code] + i['latest']\n",
    "\n",
    "for i in lst['confirmed']['locations']:\n",
    "    code = i['country_code']\n",
    "    latestaffected[code] = latestaffected[code] + i['latest']"
   ]
  },
  {
   "cell_type": "markdown",
   "metadata": {},
   "source": [
    " # making csv file containig covid datas"
   ]
  },
  {
   "cell_type": "code",
   "execution_count": 12,
   "metadata": {},
   "outputs": [],
   "source": [
    "with open('countrylatestactive.csv', 'w') as csv_file:\n",
    "    csv_writer = writer(csv_file)\n",
    "    headers = ['Country_name', 'Country_code_iso2','population','Tot_affected','Tot_dead','Tot_recov','Affected per thousand','Active','Active_rateaff','Active_raterec']\n",
    "    csv_writer.writerow(headers)\n",
    "    for i in lst['confirmed']['locations']:\n",
    "        name = i['country']\n",
    "        code = i['country_code']\n",
    "        if code in dict_iso3:\n",
    "            active = latestaffected[code]-(latestrecovered[code]+ latestdeath[code])\n",
    "            entry = [name, code,population[code],latestaffected[code],latestdeath[code],latestrecovered[code],(latestaffected[code]/population[code]) * 1000, active ,(active/latestaffected[code])*100,(active/(latestrecovered[code]+active))*100]\n",
    "            csv_writer.writerow(entry)\n"
   ]
  },
  {
   "cell_type": "markdown",
   "metadata": {},
   "source": [
    "# Deleting duplicates"
   ]
  },
  {
   "cell_type": "code",
   "execution_count": 13,
   "metadata": {},
   "outputs": [],
   "source": [
    "with open('countrylatestactive.csv','r') as in_file, open('countrylatestactive2.csv','w') as out_file:\n",
    "    seen = set() # set for fast O(1) amortized lookup\n",
    "    for line in in_file:\n",
    "        if line in seen: continue # skip duplicate\n",
    "\n",
    "        seen.add(line)\n",
    "        out_file.write(line)"
   ]
  },
  {
   "cell_type": "markdown",
   "metadata": {},
   "source": [
    "# Joining two csv files (final csv is combinedpollution.csv)"
   ]
  },
  {
   "cell_type": "code",
   "execution_count": 5,
   "metadata": {},
   "outputs": [],
   "source": [
    "df1 = pd.read_csv('global_health_index_ranking_comma.csv')\n",
    "df2 = pd.read_csv('countrylatestactive2.csv')\n",
    "res = pd.merge(df1, df2,on ='Country_code_iso2',how='left')\n",
    "res.to_csv('combinedhealth.csv', index=False)"
   ]
  },
  {
   "cell_type": "markdown",
   "metadata": {},
   "source": [
    "# reading csv file and making scatter plot (pollution index vs total affected)"
   ]
  },
  {
   "cell_type": "code",
   "execution_count": 8,
   "metadata": {},
   "outputs": [
    {
     "ename": "SyntaxError",
     "evalue": "invalid syntax (<ipython-input-8-91f33b4f01e6>, line 13)",
     "output_type": "error",
     "traceback": [
      "\u001b[1;36m  File \u001b[1;32m\"<ipython-input-8-91f33b4f01e6>\"\u001b[1;36m, line \u001b[1;32m13\u001b[0m\n\u001b[1;33m    labels = ['{0},{0}'.format(i + 1,i+1) for i in dataset.healthcareindex,dataset.Country_name]\u001b[0m\n\u001b[1;37m                                                                          ^\u001b[0m\n\u001b[1;31mSyntaxError\u001b[0m\u001b[1;31m:\u001b[0m invalid syntax\n"
     ]
    }
   ],
   "source": [
    "dataset = pd.read_csv('combinedhealth.csv')\n",
    "\n",
    "\n",
    "import seaborn as sns; sns.set()\n",
    "import matplotlib.pyplot as plt\n",
    "import mpld3\n",
    "sns.set_context(\"talk\")\n",
    "#fig_dims = (20, 20)\n",
    "#fig, ax = plt.subplots(figsize=fig_dims)\n",
    "#sns.set_ylim(0,1750000,1000)\n",
    "#plt.ylim(-1000,1750000,1000)\n",
    "ax = sns.stripplot(x=\"healthcare index\", y=\"Tot_recov\",jitter=0.25,size=8, data=dataset)\n",
    "labels = ['{0},{0}'.format(i + 1,i+1) for i in dataset.healthcareindex,dataset.Country_name]\n",
    "tooltip = mpld3.plugins.PointLabelTooltip(scatter, labels=labels)\n",
    "mpld3.plugins.connect(fig, tooltip)\n"
   ]
  },
  {
   "cell_type": "code",
   "execution_count": null,
   "metadata": {},
   "outputs": [],
   "source": []
  }
 ],
 "metadata": {
  "kernelspec": {
   "display_name": "Python [conda env:.conda-DAND] *",
   "language": "python",
   "name": "conda-env-.conda-DAND-py"
  },
  "language_info": {
   "codemirror_mode": {
    "name": "ipython",
    "version": 3
   },
   "file_extension": ".py",
   "mimetype": "text/x-python",
   "name": "python",
   "nbconvert_exporter": "python",
   "pygments_lexer": "ipython3",
   "version": "3.8.2"
  }
 },
 "nbformat": 4,
 "nbformat_minor": 4
}
