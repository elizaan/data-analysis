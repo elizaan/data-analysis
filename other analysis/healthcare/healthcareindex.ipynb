{
 "cells": [
  {
   "cell_type": "code",
   "execution_count": 2,
   "metadata": {},
   "outputs": [
    {
     "name": "stderr",
     "output_type": "stream",
     "text": [
      "C:\\Users\\USER\\.conda\\envs\\DAND\\lib\\site-packages\\sklearn\\utils\\deprecation.py:144: FutureWarning: The sklearn.ensemble.forest module is  deprecated in version 0.22 and will be removed in version 0.24. The corresponding classes / functions should instead be imported from sklearn.ensemble. Anything that cannot be imported from sklearn.ensemble is now part of the private API.\n",
      "  warnings.warn(message, FutureWarning)\n"
     ]
    }
   ],
   "source": [
    "import numpy as np\n",
    "import pandas as pd\n",
    "import scipy\n",
    "import statsmodels.api as st\n",
    "import matplotlib.pyplot as plt\n",
    "%matplotlib inline\n",
    "from matplotlib.pylab import rcParams\n",
    "rcParams['figure.figsize'] = 18, 6\n",
    "import seaborn as sns\n",
    "import sklearn\n",
    "from sklearn.ensemble.forest import RandomForestRegressor\n",
    "from statsmodels.tsa.stattools import adfuller\n",
    "from statsmodels.graphics.tsaplots import plot_acf, plot_pacf\n",
    "from statsmodels.tsa.stattools import acf, pacf\n",
    "from statsmodels.tsa.arima_model import ARIMA\n",
    "import operator \n",
    "import psycopg2\n",
    "import math\n",
    "import requests\n",
    "import json\n",
    "from flask import jsonify\n",
    "import csv\n",
    "from csv import writer\n",
    "from statistics import mean\n",
    "from plotly.subplots import make_subplots\n",
    "import plotly.graph_objects as go\n",
    "from numpy import cov\n",
    "from scipy.stats import pearsonr\n",
    "from scipy.stats import spearmanr\n",
    "from scipy.stats import kendalltau\n",
    "from numpy import mean\n",
    "from numpy import std\n",
    "import statistics"
   ]
  },
  {
   "cell_type": "markdown",
   "metadata": {},
   "source": [
    "# Fetching latest data of pollution from APi"
   ]
  },
  {
   "cell_type": "code",
   "execution_count": 2,
   "metadata": {},
   "outputs": [],
   "source": [
    "url = 'https://www.numbeo.com/api/rankings_by_country_historical?api_key=r8umol7u42vvbs&section=12&fbclid=IwAR2g23utsR5KC5PvEU91RyQk8Z3DWno1BMqEL-KsbgAG43aQc-RxX4TDN0w'\n",
    "response = requests.get(url)\n",
    "lst = json.loads(response.text)\n",
    "\n",
    "health_index = {}\n",
    "\n",
    "\n",
    "for i in lst['2020']:\n",
    "    \n",
    "    health_index[i['iso3166_country_code']] = i['healthcare_index']"
   ]
  },
  {
   "cell_type": "code",
   "execution_count": 3,
   "metadata": {},
   "outputs": [
    {
     "data": {
      "text/plain": [
       "80"
      ]
     },
     "execution_count": 3,
     "metadata": {},
     "output_type": "execute_result"
    }
   ],
   "source": [
    "len(health_index)"
   ]
  },
  {
   "cell_type": "markdown",
   "metadata": {},
   "source": [
    "# Making CSV file containing pollution data"
   ]
  },
  {
   "cell_type": "code",
   "execution_count": 4,
   "metadata": {},
   "outputs": [],
   "source": [
    "with open('global_health_index_ranking_comma.csv', 'w') as csv_file:\n",
    "    csv_writer = writer(csv_file)\n",
    "    headers = ['country name', 'Country_code_iso2','healthcare index']\n",
    "    csv_writer.writerow(headers)\n",
    "    for i in lst['2020']:\n",
    "        name = i['country']\n",
    "        code = i['iso3166_country_code']\n",
    "        entry = [name, code,health_index[code]]\n",
    "        csv_writer.writerow(entry)\n"
   ]
  },
  {
   "cell_type": "markdown",
   "metadata": {},
   "source": [
    "# reading total affected, deaths and recovered with active cases from api"
   ]
  },
  {
   "cell_type": "code",
   "execution_count": 11,
   "metadata": {},
   "outputs": [],
   "source": [
    "\n",
    "url = 'http://coronavirus-tracker-api.herokuapp.com/all'\n",
    "response = requests.get(url)\n",
    "lst = json.loads(response.text)\n",
    "url_iso2 = 'https://restcountries.eu/rest/v2/'\n",
    "\n",
    "\n",
    "response_iso2 = requests.get(url_iso2)\n",
    "lst_iso2 = json.loads(response_iso2.text)\n",
    "\n",
    "latestaffected={}\n",
    "latestdeath={}\n",
    "latestrecovered={}\n",
    "population={}\n",
    "dict_iso3 = {}\n",
    "\n",
    "for i in lst['confirmed']['locations']:\n",
    "    \n",
    "    latestaffected[i['country_code']] = {}\n",
    "    latestdeath[i['country_code']] = {}\n",
    "    latestrecovered[i['country_code']] = {}\n",
    "    \n",
    "for k in lst_iso2:\n",
    "    population[k['alpha2Code']] = k['population']\n",
    "    dict_iso3[k['alpha2Code']] = k['alpha3Code']\n",
    "    \n",
    "\n",
    "for i in lst['confirmed']['locations']:\n",
    "    code = i['country_code']\n",
    "    latestaffected[code] = 0\n",
    "\n",
    "for i in lst['recovered']['locations']:\n",
    "    code = i['country_code']\n",
    "    latestrecovered[code] = 0\n",
    "\n",
    "for i in lst['deaths']['locations']:\n",
    "    code = i['country_code']\n",
    "    latestdeath[code] = 0\n",
    "    \n",
    "\n",
    "    \n",
    "for i in lst['deaths']['locations']:\n",
    "    code = i['country_code']\n",
    "    latestdeath[code] = latestdeath[code] + i['latest'] \n",
    "\n",
    "for i in lst['recovered']['locations']:\n",
    "    code = i['country_code']\n",
    "    latestrecovered[code] = latestrecovered[code] + i['latest']\n",
    "\n",
    "for i in lst['confirmed']['locations']:\n",
    "    code = i['country_code']\n",
    "    latestaffected[code] = latestaffected[code] + i['latest']"
   ]
  },
  {
   "cell_type": "markdown",
   "metadata": {},
   "source": [
    " # making csv file containig covid datas"
   ]
  },
  {
   "cell_type": "code",
   "execution_count": 12,
   "metadata": {},
   "outputs": [],
   "source": [
    "with open('countrylatestactive.csv', 'w') as csv_file:\n",
    "    csv_writer = writer(csv_file)\n",
    "    headers = ['Country_name', 'Country_code_iso2','population','Tot_affected','Tot_dead','Tot_recov','Affected per thousand','Active','Active_rateaff','Active_raterec']\n",
    "    csv_writer.writerow(headers)\n",
    "    for i in lst['confirmed']['locations']:\n",
    "        name = i['country']\n",
    "        code = i['country_code']\n",
    "        if code in dict_iso3:\n",
    "            active = latestaffected[code]-(latestrecovered[code]+ latestdeath[code])\n",
    "            entry = [name, code,population[code],latestaffected[code],latestdeath[code],latestrecovered[code],(latestaffected[code]/population[code]) * 1000, active ,(active/latestaffected[code])*100,(active/(latestrecovered[code]+active))*100]\n",
    "            csv_writer.writerow(entry)\n"
   ]
  },
  {
   "cell_type": "markdown",
   "metadata": {},
   "source": [
    "# Deleting duplicates"
   ]
  },
  {
   "cell_type": "code",
   "execution_count": 13,
   "metadata": {},
   "outputs": [],
   "source": [
    "with open('countrylatestactive.csv','r') as in_file, open('countrylatestactive2.csv','w') as out_file:\n",
    "    seen = set() # set for fast O(1) amortized lookup\n",
    "    for line in in_file:\n",
    "        if line in seen: continue # skip duplicate\n",
    "\n",
    "        seen.add(line)\n",
    "        out_file.write(line)"
   ]
  },
  {
   "cell_type": "markdown",
   "metadata": {},
   "source": [
    "# Joining two csv files (final csv is combinedpollution.csv)"
   ]
  },
  {
   "cell_type": "code",
   "execution_count": 5,
   "metadata": {},
   "outputs": [],
   "source": [
    "df1 = pd.read_csv('global_health_index_ranking_comma.csv')\n",
    "df2 = pd.read_csv('countrylatestactive2.csv')\n",
    "res = pd.merge(df1, df2,on ='Country_code_iso2',how='left')\n",
    "res.to_csv('combinedhealth.csv', index=False)"
   ]
  },
  {
   "cell_type": "markdown",
   "metadata": {},
   "source": [
    "# reading csv file and making scatter plot (pollution index vs total affected)"
   ]
  },
  {
   "cell_type": "code",
   "execution_count": 2,
   "metadata": {},
   "outputs": [
    {
     "data": {
      "image/png": "[encoded data removed]",
      "text/plain": [
       "<Figure size 1296x432 with 1 Axes>"
      ]
     },
     "metadata": {},
     "output_type": "display_data"
    }
   ],
   "source": [
    "dataset = pd.read_csv('combinedhealth.csv')\n",
    "\n",
    "\n",
    "import seaborn as sns; sns.set()\n",
    "import matplotlib.pyplot as plt\n",
    "\n",
    "sns.set_context(\"talk\")\n",
    "#fig_dims = (20, 20)\n",
    "#fig, ax = plt.subplots(figsize=fig_dims)\n",
    "#sns.set_ylim(0,1750000,1000)\n",
    "#plt.ylim(-1000,1750000,1000)\n",
    "ax = sns.stripplot(x=\"healthcare index\", y=\"Tot_recov\",jitter=0.25,size=8, data=dataset)\n"
   ]
  },
  {
   "cell_type": "code",
   "execution_count": 12,
   "metadata": {},
   "outputs": [],
   "source": [
    "with open('combinedhealth.csv','r') as csv_file:\n",
    "    csv_reader = csv.DictReader(csv_file)\n",
    "    \n",
    "    with open('recovered+health.csv','w') as new_file1:\n",
    "        fieldnames1 = ['country name','population','healthcare index','Tot_recov']\n",
    "        \n",
    "        csv_writer1 = csv.DictWriter(new_file1, fieldnames= fieldnames1)\n",
    "        csv_writer1.writeheader()\n",
    "        \n",
    "        for line1 in csv_reader:\n",
    "            del line1['Country_code_iso2']\n",
    "            del line1['Tot_affected']\n",
    "            del line1['Tot_dead']\n",
    "            del line1['Affected per thousand']\n",
    "            del line1['Active']\n",
    "            del line1['Active_rateaff']\n",
    "            del line1['Active_raterec']\n",
    "            del line1['Country_name']\n",
    "            #print(line['CFR1'],line['CFR2'])\n",
    "            #print(line1)\n",
    "            csv_writer1.writerow(line1)"
   ]
  },
  {
   "cell_type": "code",
   "execution_count": 15,
   "metadata": {},
   "outputs": [],
   "source": [
    "\n",
    "def correl(bd):\n",
    "    Bd1 = bd.iloc[:,2:3]\n",
    "    Bd2 = bd.iloc[:,3:4]\n",
    "    \n",
    "    \n",
    "    X = [x[0] for x in Bd1.values.tolist()]  #list comprehension\n",
    "    Y = [y[0] for y in Bd2.values.tolist()]\n",
    "    print('data1: mean=%.3f stdv=%.3f' % (mean(X), std(X)))\n",
    "    print('data2: mean=%.3f stdv=%.3f' % (mean(Y), std(Y)))\n",
    "    print('halth care: median=%.3f' % statistics.median(X))\n",
    "    print('total recovered: median=%.3f' % statistics.median(Y))\n",
    "    \n",
    "    \n",
    "    #print('my function pearson : %.5f' % pearson_def(X,Y))\n",
    "    \n",
    "    covariance = cov(X,Y)\n",
    "    print('covarience value :')\n",
    "    print( covariance)\n",
    "    \n",
    "    fig = go.Figure()\n",
    "    fig.add_trace(go.Scatter(x=X,y=Y,mode='markers',marker_color=Y)) # hover text goes here\n",
    "\n",
    "    fig.update_layout(title='healthcare vs recovered', xaxis=dict(title='health care'),yaxis=dict(title='Total # of recovered'))\n",
    "    \n",
    "    fig.show()\n",
    "    ##pyplot.scatter(Bd1, Bd2)\n",
    "    #pyplot.xlabel(\"temparature\")\n",
    "    #pyplot.ylabel(\"Total Affected\")\n",
    "    #pyplot.show()\n",
    "    alpha = 0.05 #setting my significant level 5 %\n",
    "    corr, r = pearsonr(X,Y)\n",
    "    print('Pearsons correlation: %.3f' % corr)\n",
    "   \n",
    "    \n",
    "    if r > alpha:\n",
    "        print('Samples are uncorrelated (fail to reject H0) p=%.3f' % r)\n",
    "        \n",
    "    else:\n",
    "        print('Samples are correlated (reject H0) p=%.3f' % r)\n",
    "        \n",
    "        \n",
    "    corr, p = spearmanr(X,Y)\n",
    "    print('Spearmans correlation: %.3f' % corr)\n",
    "    \n",
    "    \n",
    "    # interpret the significance\n",
    "    \n",
    "    if p > alpha:\n",
    "        print('Samples are uncorrelated (fail to reject H0) p=%.3f' % p)\n",
    "        \n",
    "    else:\n",
    "        print('Samples are correlated (reject H0) p=%.3f' % p)\n",
    "       \n",
    "        \n",
    "    \n",
    "    coef, q = kendalltau(X,Y)\n",
    "    print('Kendall correlation coefficient: %.3f' % coef)\n",
    "    \n",
    "    # interpret the significance\n",
    "    alpha = 0.05\n",
    "    if q > alpha:\n",
    "        print('Samples are uncorrelated (fail to reject H0) p=%.3f' % q)\n",
    "        \n",
    "    else:\n",
    "        print('Samples are correlated (reject H0) p=%.3f' % q)\n",
    "        \n",
    "\n",
    "    \n"
   ]
  },
  {
   "cell_type": "code",
   "execution_count": 16,
   "metadata": {},
   "outputs": [
    {
     "name": "stdout",
     "output_type": "stream",
     "text": [
      "data1: mean=64.825 stdv=9.839\n",
      "data2: mean=28813.557 stdv=58107.997\n",
      "halth care: median=65.917\n",
      "total recovered: median=6579.000\n",
      "covarience value :\n",
      "[[9.80548874e+01 4.92353644e+04]\n",
      " [4.92353644e+04 3.41982833e+09]]\n"
     ]
    },
    {
     "data": {
      "application/vnd.plotly.v1+json": {
       "config": {
        "plotlyServerURL": "https://plot.ly"
       },
       "data": [
        {
         "marker": {
          "color": [
           10304,
           28300,
           5100,
           6579,
           177,
           15228,
           1792,
           1474,
           162820,
           1561,
           4971,
           7727,
           1354,
           391508,
           150376,
           13973,
           2177,
           46248,
           18349,
           1166,
           13283,
           1184,
           2047,
           16371,
           6370,
           66702,
           22089,
           15465,
           1327,
           51022,
           741,
           14570,
           594,
           17276,
           419,
           10330,
           147101,
           10340,
           15923,
           1374,
           12162,
           13451,
           912,
           1856,
           122793,
           650,
           18425,
           1744,
           33540,
           53834,
           6083,
           6277,
           557,
           7946,
           4349,
           586,
           1470,
           67749,
           7379,
           692,
           6111,
           166647,
           4978,
           19142,
           7995,
           79367,
           142208,
           2931,
           6057,
           4768,
           278,
           5205,
           56169,
           3506,
           732,
           111176,
           408,
           7925,
           2501
          ]
         },
         "mode": "markers",
         "type": "scatter",
         "x": [
          79.99860994479369,
          72.43725188041212,
          75.79190686890706,
          77.38249505573336,
          74.64592905954916,
          78.72762179922465,
          65.91693639192265,
          73.81169474805587,
          73.32131095501444,
          72.67463446786569,
          69.22929187125368,
          74.35654655289011,
          64.58002737777636,
          69.27048387087197,
          78.8831603425714,
          81.14303216555612,
          58.15423976608186,
          71.58088490288624,
          71.88356618383239,
          74.46214569096963,
          73.30257137786309,
          69.49028321935113,
          62.679704472687405,
          67.03940119664006,
          74.62370946496463,
          79.98898809574172,
          51.88632331511487,
          74.33633922692606,
          60.02376798428232,
          59.11351937641233,
          62.90568702888348,
          73.2885665023417,
          51.75355667435408,
          70.83623033455724,
          86.71452788370918,
          61.00867058661992,
          66.59010710502179,
          81.96500377927123,
          59.036678989595394,
          56.214111561470226,
          55.05578456008383,
          64.14472858459068,
          55.395760410187854,
          47.799874881952235,
          69.80285710892498,
          66.28119946157919,
          70.58601588239037,
          52.26250385391089,
          65.442927827156,
          70.12282773228377,
          68.10437661360798,
          51.265556521036174,
          51.23671182935093,
          56.20827988883545,
          69.25247222855947,
          64.60226919248475,
          56.378298991344536,
          67.1269938320172,
          59.92786003290204,
          64.375423612315,
          67.24011019553645,
          56.29039044608058,
          45.71935330426248,
          60.58674613589418,
          52.333587237496126,
          64.48304749196544,
          57.59407546123578,
          77.94771584437149,
          60.483003134127294,
          50.695745427244965,
          57.7006626139217,
          45.840333291469705,
          56.15480198813532,
          67.47424953361626,
          72.53332484405294,
          51.699244026265156,
          55.588166086552384,
          42.796132398470796,
          51.59092976744031
         ],
         "y": [
          10304,
          28300,
          5100,
          6579,
          177,
          15228,
          1792,
          1474,
          162820,
          1561,
          4971,
          7727,
          1354,
          391508,
          150376,
          13973,
          2177,
          46248,
          18349,
          1166,
          13283,
          1184,
          2047,
          16371,
          6370,
          66702,
          22089,
          15465,
          1327,
          51022,
          741,
          14570,
          594,
          17276,
          419,
          10330,
          147101,
          10340,
          15923,
          1374,
          12162,
          13451,
          912,
          1856,
          122793,
          650,
          18425,
          1744,
          33540,
          53834,
          6083,
          6277,
          557,
          7946,
          4349,
          586,
          1470,
          67749,
          7379,
          692,
          6111,
          166647,
          4978,
          19142,
          7995,
          79367,
          142208,
          2931,
          6057,
          4768,
          278,
          5205,
          56169,
          3506,
          732,
          111176,
          408,
          7925,
          2501
         ]
        }
       ],
       "layout": {
        "template": {
         "data": {
          "bar": [
           {
            "error_x": {
             "color": "#2a3f5f"
            },
            "error_y": {
             "color": "#2a3f5f"
            },
            "marker": {
             "line": {
              "color": "#E5ECF6",
              "width": 0.5
             }
            },
            "type": "bar"
           }
          ],
          "barpolar": [
           {
            "marker": {
             "line": {
              "color": "#E5ECF6",
              "width": 0.5
             }
            },
            "type": "barpolar"
           }
          ],
          "carpet": [
           {
            "aaxis": {
             "endlinecolor": "#2a3f5f",
             "gridcolor": "white",
             "linecolor": "white",
             "minorgridcolor": "white",
             "startlinecolor": "#2a3f5f"
            },
            "baxis": {
             "endlinecolor": "#2a3f5f",
             "gridcolor": "white",
             "linecolor": "white",
             "minorgridcolor": "white",
             "startlinecolor": "#2a3f5f"
            },
            "type": "carpet"
           }
          ],
          "choropleth": [
           {
            "colorbar": {
             "outlinewidth": 0,
             "ticks": ""
            },
            "type": "choropleth"
           }
          ],
          "contour": [
           {
            "colorbar": {
             "outlinewidth": 0,
             "ticks": ""
            },
            "colorscale": [
             [
              0,
              "#0d0887"
             ],
             [
              0.1111111111111111,
              "#46039f"
             ],
             [
              0.2222222222222222,
              "#7201a8"
             ],
             [
              0.3333333333333333,
              "#9c179e"
             ],
             [
              0.4444444444444444,
              "#bd3786"
             ],
             [
              0.5555555555555556,
              "#d8576b"
             ],
             [
              0.6666666666666666,
              "#ed7953"
             ],
             [
              0.7777777777777778,
              "#fb9f3a"
             ],
             [
              0.8888888888888888,
              "#fdca26"
             ],
             [
              1,
              "#f0f921"
             ]
            ],
            "type": "contour"
           }
          ],
          "contourcarpet": [
           {
            "colorbar": {
             "outlinewidth": 0,
             "ticks": ""
            },
            "type": "contourcarpet"
           }
          ],
          "heatmap": [
           {
            "colorbar": {
             "outlinewidth": 0,
             "ticks": ""
            },
            "colorscale": [
             [
              0,
              "#0d0887"
             ],
             [
              0.1111111111111111,
              "#46039f"
             ],
             [
              0.2222222222222222,
              "#7201a8"
             ],
             [
              0.3333333333333333,
              "#9c179e"
             ],
             [
              0.4444444444444444,
              "#bd3786"
             ],
             [
              0.5555555555555556,
              "#d8576b"
             ],
             [
              0.6666666666666666,
              "#ed7953"
             ],
             [
              0.7777777777777778,
              "#fb9f3a"
             ],
             [
              0.8888888888888888,
              "#fdca26"
             ],
             [
              1,
              "#f0f921"
             ]
            ],
            "type": "heatmap"
           }
          ],
          "heatmapgl": [
           {
            "colorbar": {
             "outlinewidth": 0,
             "ticks": ""
            },
            "colorscale": [
             [
              0,
              "#0d0887"
             ],
             [
              0.1111111111111111,
              "#46039f"
             ],
             [
              0.2222222222222222,
              "#7201a8"
             ],
             [
              0.3333333333333333,
              "#9c179e"
             ],
             [
              0.4444444444444444,
              "#bd3786"
             ],
             [
              0.5555555555555556,
              "#d8576b"
             ],
             [
              0.6666666666666666,
              "#ed7953"
             ],
             [
              0.7777777777777778,
              "#fb9f3a"
             ],
             [
              0.8888888888888888,
              "#fdca26"
             ],
             [
              1,
              "#f0f921"
             ]
            ],
            "type": "heatmapgl"
           }
          ],
          "histogram": [
           {
            "marker": {
             "colorbar": {
              "outlinewidth": 0,
              "ticks": ""
             }
            },
            "type": "histogram"
           }
          ],
          "histogram2d": [
           {
            "colorbar": {
             "outlinewidth": 0,
             "ticks": ""
            },
            "colorscale": [
             [
              0,
              "#0d0887"
             ],
             [
              0.1111111111111111,
              "#46039f"
             ],
             [
              0.2222222222222222,
              "#7201a8"
             ],
             [
              0.3333333333333333,
              "#9c179e"
             ],
             [
              0.4444444444444444,
              "#bd3786"
             ],
             [
              0.5555555555555556,
              "#d8576b"
             ],
             [
              0.6666666666666666,
              "#ed7953"
             ],
             [
              0.7777777777777778,
              "#fb9f3a"
             ],
             [
              0.8888888888888888,
              "#fdca26"
             ],
             [
              1,
              "#f0f921"
             ]
            ],
            "type": "histogram2d"
           }
          ],
          "histogram2dcontour": [
           {
            "colorbar": {
             "outlinewidth": 0,
             "ticks": ""
            },
            "colorscale": [
             [
              0,
              "#0d0887"
             ],
             [
              0.1111111111111111,
              "#46039f"
             ],
             [
              0.2222222222222222,
              "#7201a8"
             ],
             [
              0.3333333333333333,
              "#9c179e"
             ],
             [
              0.4444444444444444,
              "#bd3786"
             ],
             [
              0.5555555555555556,
              "#d8576b"
             ],
             [
              0.6666666666666666,
              "#ed7953"
             ],
             [
              0.7777777777777778,
              "#fb9f3a"
             ],
             [
              0.8888888888888888,
              "#fdca26"
             ],
             [
              1,
              "#f0f921"
             ]
            ],
            "type": "histogram2dcontour"
           }
          ],
          "mesh3d": [
           {
            "colorbar": {
             "outlinewidth": 0,
             "ticks": ""
            },
            "type": "mesh3d"
           }
          ],
          "parcoords": [
           {
            "line": {
             "colorbar": {
              "outlinewidth": 0,
              "ticks": ""
             }
            },
            "type": "parcoords"
           }
          ],
          "pie": [
           {
            "automargin": true,
            "type": "pie"
           }
          ],
          "scatter": [
           {
            "marker": {
             "colorbar": {
              "outlinewidth": 0,
              "ticks": ""
             }
            },
            "type": "scatter"
           }
          ],
          "scatter3d": [
           {
            "line": {
             "colorbar": {
              "outlinewidth": 0,
              "ticks": ""
             }
            },
            "marker": {
             "colorbar": {
              "outlinewidth": 0,
              "ticks": ""
             }
            },
            "type": "scatter3d"
           }
          ],
          "scattercarpet": [
           {
            "marker": {
             "colorbar": {
              "outlinewidth": 0,
              "ticks": ""
             }
            },
            "type": "scattercarpet"
           }
          ],
          "scattergeo": [
           {
            "marker": {
             "colorbar": {
              "outlinewidth": 0,
              "ticks": ""
             }
            },
            "type": "scattergeo"
           }
          ],
          "scattergl": [
           {
            "marker": {
             "colorbar": {
              "outlinewidth": 0,
              "ticks": ""
             }
            },
            "type": "scattergl"
           }
          ],
          "scattermapbox": [
           {
            "marker": {
             "colorbar": {
              "outlinewidth": 0,
              "ticks": ""
             }
            },
            "type": "scattermapbox"
           }
          ],
          "scatterpolar": [
           {
            "marker": {
             "colorbar": {
              "outlinewidth": 0,
              "ticks": ""
             }
            },
            "type": "scatterpolar"
           }
          ],
          "scatterpolargl": [
           {
            "marker": {
             "colorbar": {
              "outlinewidth": 0,
              "ticks": ""
             }
            },
            "type": "scatterpolargl"
           }
          ],
          "scatterternary": [
           {
            "marker": {
             "colorbar": {
              "outlinewidth": 0,
              "ticks": ""
             }
            },
            "type": "scatterternary"
           }
          ],
          "surface": [
           {
            "colorbar": {
             "outlinewidth": 0,
             "ticks": ""
            },
            "colorscale": [
             [
              0,
              "#0d0887"
             ],
             [
              0.1111111111111111,
              "#46039f"
             ],
             [
              0.2222222222222222,
              "#7201a8"
             ],
             [
              0.3333333333333333,
              "#9c179e"
             ],
             [
              0.4444444444444444,
              "#bd3786"
             ],
             [
              0.5555555555555556,
              "#d8576b"
             ],
             [
              0.6666666666666666,
              "#ed7953"
             ],
             [
              0.7777777777777778,
              "#fb9f3a"
             ],
             [
              0.8888888888888888,
              "#fdca26"
             ],
             [
              1,
              "#f0f921"
             ]
            ],
            "type": "surface"
           }
          ],
          "table": [
           {
            "cells": {
             "fill": {
              "color": "#EBF0F8"
             },
             "line": {
              "color": "white"
             }
            },
            "header": {
             "fill": {
              "color": "#C8D4E3"
             },
             "line": {
              "color": "white"
             }
            },
            "type": "table"
           }
          ]
         },
         "layout": {
          "annotationdefaults": {
           "arrowcolor": "#2a3f5f",
           "arrowhead": 0,
           "arrowwidth": 1
          },
          "coloraxis": {
           "colorbar": {
            "outlinewidth": 0,
            "ticks": ""
           }
          },
          "colorscale": {
           "diverging": [
            [
             0,
             "#8e0152"
            ],
            [
             0.1,
             "#c51b7d"
            ],
            [
             0.2,
             "#de77ae"
            ],
            [
             0.3,
             "#f1b6da"
            ],
            [
             0.4,
             "#fde0ef"
            ],
            [
             0.5,
             "#f7f7f7"
            ],
            [
             0.6,
             "#e6f5d0"
            ],
            [
             0.7,
             "#b8e186"
            ],
            [
             0.8,
             "#7fbc41"
            ],
            [
             0.9,
             "#4d9221"
            ],
            [
             1,
             "#276419"
            ]
           ],
           "sequential": [
            [
             0,
             "#0d0887"
            ],
            [
             0.1111111111111111,
             "#46039f"
            ],
            [
             0.2222222222222222,
             "#7201a8"
            ],
            [
             0.3333333333333333,
             "#9c179e"
            ],
            [
             0.4444444444444444,
             "#bd3786"
            ],
            [
             0.5555555555555556,
             "#d8576b"
            ],
            [
             0.6666666666666666,
             "#ed7953"
            ],
            [
             0.7777777777777778,
             "#fb9f3a"
            ],
            [
             0.8888888888888888,
             "#fdca26"
            ],
            [
             1,
             "#f0f921"
            ]
           ],
           "sequentialminus": [
            [
             0,
             "#0d0887"
            ],
            [
             0.1111111111111111,
             "#46039f"
            ],
            [
             0.2222222222222222,
             "#7201a8"
            ],
            [
             0.3333333333333333,
             "#9c179e"
            ],
            [
             0.4444444444444444,
             "#bd3786"
            ],
            [
             0.5555555555555556,
             "#d8576b"
            ],
            [
             0.6666666666666666,
             "#ed7953"
            ],
            [
             0.7777777777777778,
             "#fb9f3a"
            ],
            [
             0.8888888888888888,
             "#fdca26"
            ],
            [
             1,
             "#f0f921"
            ]
           ]
          },
          "colorway": [
           "#636efa",
           "#EF553B",
           "#00cc96",
           "#ab63fa",
           "#FFA15A",
           "#19d3f3",
           "#FF6692",
           "#B6E880",
           "#FF97FF",
           "#FECB52"
          ],
          "font": {
           "color": "#2a3f5f"
          },
          "geo": {
           "bgcolor": "white",
           "lakecolor": "white",
           "landcolor": "#E5ECF6",
           "showlakes": true,
           "showland": true,
           "subunitcolor": "white"
          },
          "hoverlabel": {
           "align": "left"
          },
          "hovermode": "closest",
          "mapbox": {
           "style": "light"
          },
          "paper_bgcolor": "white",
          "plot_bgcolor": "#E5ECF6",
          "polar": {
           "angularaxis": {
            "gridcolor": "white",
            "linecolor": "white",
            "ticks": ""
           },
           "bgcolor": "#E5ECF6",
           "radialaxis": {
            "gridcolor": "white",
            "linecolor": "white",
            "ticks": ""
           }
          },
          "scene": {
           "xaxis": {
            "backgroundcolor": "#E5ECF6",
            "gridcolor": "white",
            "gridwidth": 2,
            "linecolor": "white",
            "showbackground": true,
            "ticks": "",
            "zerolinecolor": "white"
           },
           "yaxis": {
            "backgroundcolor": "#E5ECF6",
            "gridcolor": "white",
            "gridwidth": 2,
            "linecolor": "white",
            "showbackground": true,
            "ticks": "",
            "zerolinecolor": "white"
           },
           "zaxis": {
            "backgroundcolor": "#E5ECF6",
            "gridcolor": "white",
            "gridwidth": 2,
            "linecolor": "white",
            "showbackground": true,
            "ticks": "",
            "zerolinecolor": "white"
           }
          },
          "shapedefaults": {
           "line": {
            "color": "#2a3f5f"
           }
          },
          "ternary": {
           "aaxis": {
            "gridcolor": "white",
            "linecolor": "white",
            "ticks": ""
           },
           "baxis": {
            "gridcolor": "white",
            "linecolor": "white",
            "ticks": ""
           },
           "bgcolor": "#E5ECF6",
           "caxis": {
            "gridcolor": "white",
            "linecolor": "white",
            "ticks": ""
           }
          },
          "title": {
           "x": 0.05
          },
          "xaxis": {
           "automargin": true,
           "gridcolor": "white",
           "linecolor": "white",
           "ticks": "",
           "title": {
            "standoff": 15
           },
           "zerolinecolor": "white",
           "zerolinewidth": 2
          },
          "yaxis": {
           "automargin": true,
           "gridcolor": "white",
           "linecolor": "white",
           "ticks": "",
           "title": {
            "standoff": 15
           },
           "zerolinecolor": "white",
           "zerolinewidth": 2
          }
         }
        },
        "title": {
         "text": "healthcare vs recovered"
        },
        "xaxis": {
         "title": {
          "text": "health care"
         }
        },
        "yaxis": {
         "title": {
          "text": "Total # of recovered"
         }
        }
       }
      },
      "text/html": [
       "<div>\n",
       "        \n",
       "        \n",
       "            <div id=\"cc22b9c8-1451-4ab5-bebc-0c86a5d92441\" class=\"plotly-graph-div\" style=\"height:525px; width:100%;\"></div>\n",
       "            <script type=\"text/javascript\">\n",
       "                require([\"plotly\"], function(Plotly) {\n",
       "                    window.PLOTLYENV=window.PLOTLYENV || {};\n",
       "                    \n",
       "                if (document.getElementById(\"cc22b9c8-1451-4ab5-bebc-0c86a5d92441\")) {\n",
       "                    Plotly.newPlot(\n",
       "                        'cc22b9c8-1451-4ab5-bebc-0c86a5d92441',\n",
       "                        [{\"marker\": {\"color\": [10304.0, 28300.0, 5100.0, 6579.0, 177.0, 15228.0, 1792.0, 1474.0, 162820.0, 1561.0, 4971.0, 7727.0, 1354.0, 391508.0, 150376.0, 13973.0, 2177.0, 46248.0, 18349.0, 1166.0, 13283.0, 1184.0, 2047.0, 16371.0, 6370.0, 66702.0, 22089.0, 15465.0, 1327.0, 51022.0, 741.0, 14570.0, 594.0, 17276.0, 419.0, 10330.0, 147101.0, 10340.0, 15923.0, 1374.0, 12162.0, 13451.0, 912.0, 1856.0, 122793.0, 650.0, 18425.0, 1744.0, 33540.0, 53834.0, 6083.0, 6277.0, 557.0, 7946.0, 4349.0, 586.0, 1470.0, 67749.0, 7379.0, 692.0, 6111.0, 166647.0, 4978.0, 19142.0, 7995.0, 79367.0, 142208.0, 2931.0, 6057.0, 4768.0, 278.0, 5205.0, 56169.0, 3506.0, 732.0, 111176.0, 408.0, 7925.0, 2501.0]}, \"mode\": \"markers\", \"type\": \"scatter\", \"x\": [79.99860994479369, 72.43725188041212, 75.79190686890706, 77.38249505573336, 74.64592905954916, 78.72762179922465, 65.91693639192265, 73.81169474805587, 73.32131095501444, 72.67463446786569, 69.22929187125368, 74.35654655289011, 64.58002737777636, 69.27048387087197, 78.8831603425714, 81.14303216555612, 58.15423976608186, 71.58088490288624, 71.88356618383239, 74.46214569096963, 73.30257137786309, 69.49028321935113, 62.679704472687405, 67.03940119664006, 74.62370946496463, 79.98898809574172, 51.88632331511487, 74.33633922692606, 60.02376798428232, 59.11351937641233, 62.90568702888348, 73.2885665023417, 51.75355667435408, 70.83623033455724, 86.71452788370918, 61.00867058661992, 66.59010710502179, 81.96500377927123, 59.036678989595394, 56.214111561470226, 55.05578456008383, 64.14472858459068, 55.395760410187854, 47.799874881952235, 69.80285710892498, 66.28119946157919, 70.58601588239037, 52.26250385391089, 65.442927827156, 70.12282773228377, 68.10437661360798, 51.265556521036174, 51.23671182935093, 56.20827988883545, 69.25247222855947, 64.60226919248475, 56.378298991344536, 67.1269938320172, 59.92786003290204, 64.375423612315, 67.24011019553645, 56.29039044608058, 45.71935330426248, 60.58674613589418, 52.333587237496126, 64.48304749196544, 57.59407546123578, 77.94771584437149, 60.483003134127294, 50.695745427244965, 57.7006626139217, 45.840333291469705, 56.15480198813532, 67.47424953361626, 72.53332484405294, 51.699244026265156, 55.588166086552384, 42.796132398470796, 51.59092976744031], \"y\": [10304.0, 28300.0, 5100.0, 6579.0, 177.0, 15228.0, 1792.0, 1474.0, 162820.0, 1561.0, 4971.0, 7727.0, 1354.0, 391508.0, 150376.0, 13973.0, 2177.0, 46248.0, 18349.0, 1166.0, 13283.0, 1184.0, 2047.0, 16371.0, 6370.0, 66702.0, 22089.0, 15465.0, 1327.0, 51022.0, 741.0, 14570.0, 594.0, 17276.0, 419.0, 10330.0, 147101.0, 10340.0, 15923.0, 1374.0, 12162.0, 13451.0, 912.0, 1856.0, 122793.0, 650.0, 18425.0, 1744.0, 33540.0, 53834.0, 6083.0, 6277.0, 557.0, 7946.0, 4349.0, 586.0, 1470.0, 67749.0, 7379.0, 692.0, 6111.0, 166647.0, 4978.0, 19142.0, 7995.0, 79367.0, 142208.0, 2931.0, 6057.0, 4768.0, 278.0, 5205.0, 56169.0, 3506.0, 732.0, 111176.0, 408.0, 7925.0, 2501.0]}],\n",
       "                        {\"template\": {\"data\": {\"bar\": [{\"error_x\": {\"color\": \"#2a3f5f\"}, \"error_y\": {\"color\": \"#2a3f5f\"}, \"marker\": {\"line\": {\"color\": \"#E5ECF6\", \"width\": 0.5}}, \"type\": \"bar\"}], \"barpolar\": [{\"marker\": {\"line\": {\"color\": \"#E5ECF6\", \"width\": 0.5}}, \"type\": \"barpolar\"}], \"carpet\": [{\"aaxis\": {\"endlinecolor\": \"#2a3f5f\", \"gridcolor\": \"white\", \"linecolor\": \"white\", \"minorgridcolor\": \"white\", \"startlinecolor\": \"#2a3f5f\"}, \"baxis\": {\"endlinecolor\": \"#2a3f5f\", \"gridcolor\": \"white\", \"linecolor\": \"white\", \"minorgridcolor\": \"white\", \"startlinecolor\": \"#2a3f5f\"}, \"type\": \"carpet\"}], \"choropleth\": [{\"colorbar\": {\"outlinewidth\": 0, \"ticks\": \"\"}, \"type\": \"choropleth\"}], \"contour\": [{\"colorbar\": {\"outlinewidth\": 0, \"ticks\": \"\"}, \"colorscale\": [[0.0, \"#0d0887\"], [0.1111111111111111, \"#46039f\"], [0.2222222222222222, \"#7201a8\"], [0.3333333333333333, \"#9c179e\"], [0.4444444444444444, \"#bd3786\"], [0.5555555555555556, \"#d8576b\"], [0.6666666666666666, \"#ed7953\"], [0.7777777777777778, \"#fb9f3a\"], [0.8888888888888888, \"#fdca26\"], [1.0, \"#f0f921\"]], \"type\": \"contour\"}], \"contourcarpet\": [{\"colorbar\": {\"outlinewidth\": 0, \"ticks\": \"\"}, \"type\": \"contourcarpet\"}], \"heatmap\": [{\"colorbar\": {\"outlinewidth\": 0, \"ticks\": \"\"}, \"colorscale\": [[0.0, \"#0d0887\"], [0.1111111111111111, \"#46039f\"], [0.2222222222222222, \"#7201a8\"], [0.3333333333333333, \"#9c179e\"], [0.4444444444444444, \"#bd3786\"], [0.5555555555555556, \"#d8576b\"], [0.6666666666666666, \"#ed7953\"], [0.7777777777777778, \"#fb9f3a\"], [0.8888888888888888, \"#fdca26\"], [1.0, \"#f0f921\"]], \"type\": \"heatmap\"}], \"heatmapgl\": [{\"colorbar\": {\"outlinewidth\": 0, \"ticks\": \"\"}, \"colorscale\": [[0.0, \"#0d0887\"], [0.1111111111111111, \"#46039f\"], [0.2222222222222222, \"#7201a8\"], [0.3333333333333333, \"#9c179e\"], [0.4444444444444444, \"#bd3786\"], [0.5555555555555556, \"#d8576b\"], [0.6666666666666666, \"#ed7953\"], [0.7777777777777778, \"#fb9f3a\"], [0.8888888888888888, \"#fdca26\"], [1.0, \"#f0f921\"]], \"type\": \"heatmapgl\"}], \"histogram\": [{\"marker\": {\"colorbar\": {\"outlinewidth\": 0, \"ticks\": \"\"}}, \"type\": \"histogram\"}], \"histogram2d\": [{\"colorbar\": {\"outlinewidth\": 0, \"ticks\": \"\"}, \"colorscale\": [[0.0, \"#0d0887\"], [0.1111111111111111, \"#46039f\"], [0.2222222222222222, \"#7201a8\"], [0.3333333333333333, \"#9c179e\"], [0.4444444444444444, \"#bd3786\"], [0.5555555555555556, \"#d8576b\"], [0.6666666666666666, \"#ed7953\"], [0.7777777777777778, \"#fb9f3a\"], [0.8888888888888888, \"#fdca26\"], [1.0, \"#f0f921\"]], \"type\": \"histogram2d\"}], \"histogram2dcontour\": [{\"colorbar\": {\"outlinewidth\": 0, \"ticks\": \"\"}, \"colorscale\": [[0.0, \"#0d0887\"], [0.1111111111111111, \"#46039f\"], [0.2222222222222222, \"#7201a8\"], [0.3333333333333333, \"#9c179e\"], [0.4444444444444444, \"#bd3786\"], [0.5555555555555556, \"#d8576b\"], [0.6666666666666666, \"#ed7953\"], [0.7777777777777778, \"#fb9f3a\"], [0.8888888888888888, \"#fdca26\"], [1.0, \"#f0f921\"]], \"type\": \"histogram2dcontour\"}], \"mesh3d\": [{\"colorbar\": {\"outlinewidth\": 0, \"ticks\": \"\"}, \"type\": \"mesh3d\"}], \"parcoords\": [{\"line\": {\"colorbar\": {\"outlinewidth\": 0, \"ticks\": \"\"}}, \"type\": \"parcoords\"}], \"pie\": [{\"automargin\": true, \"type\": \"pie\"}], \"scatter\": [{\"marker\": {\"colorbar\": {\"outlinewidth\": 0, \"ticks\": \"\"}}, \"type\": \"scatter\"}], \"scatter3d\": [{\"line\": {\"colorbar\": {\"outlinewidth\": 0, \"ticks\": \"\"}}, \"marker\": {\"colorbar\": {\"outlinewidth\": 0, \"ticks\": \"\"}}, \"type\": \"scatter3d\"}], \"scattercarpet\": [{\"marker\": {\"colorbar\": {\"outlinewidth\": 0, \"ticks\": \"\"}}, \"type\": \"scattercarpet\"}], \"scattergeo\": [{\"marker\": {\"colorbar\": {\"outlinewidth\": 0, \"ticks\": \"\"}}, \"type\": \"scattergeo\"}], \"scattergl\": [{\"marker\": {\"colorbar\": {\"outlinewidth\": 0, \"ticks\": \"\"}}, \"type\": \"scattergl\"}], \"scattermapbox\": [{\"marker\": {\"colorbar\": {\"outlinewidth\": 0, \"ticks\": \"\"}}, \"type\": \"scattermapbox\"}], \"scatterpolar\": [{\"marker\": {\"colorbar\": {\"outlinewidth\": 0, \"ticks\": \"\"}}, \"type\": \"scatterpolar\"}], \"scatterpolargl\": [{\"marker\": {\"colorbar\": {\"outlinewidth\": 0, \"ticks\": \"\"}}, \"type\": \"scatterpolargl\"}], \"scatterternary\": [{\"marker\": {\"colorbar\": {\"outlinewidth\": 0, \"ticks\": \"\"}}, \"type\": \"scatterternary\"}], \"surface\": [{\"colorbar\": {\"outlinewidth\": 0, \"ticks\": \"\"}, \"colorscale\": [[0.0, \"#0d0887\"], [0.1111111111111111, \"#46039f\"], [0.2222222222222222, \"#7201a8\"], [0.3333333333333333, \"#9c179e\"], [0.4444444444444444, \"#bd3786\"], [0.5555555555555556, \"#d8576b\"], [0.6666666666666666, \"#ed7953\"], [0.7777777777777778, \"#fb9f3a\"], [0.8888888888888888, \"#fdca26\"], [1.0, \"#f0f921\"]], \"type\": \"surface\"}], \"table\": [{\"cells\": {\"fill\": {\"color\": \"#EBF0F8\"}, \"line\": {\"color\": \"white\"}}, \"header\": {\"fill\": {\"color\": \"#C8D4E3\"}, \"line\": {\"color\": \"white\"}}, \"type\": \"table\"}]}, \"layout\": {\"annotationdefaults\": {\"arrowcolor\": \"#2a3f5f\", \"arrowhead\": 0, \"arrowwidth\": 1}, \"coloraxis\": {\"colorbar\": {\"outlinewidth\": 0, \"ticks\": \"\"}}, \"colorscale\": {\"diverging\": [[0, \"#8e0152\"], [0.1, \"#c51b7d\"], [0.2, \"#de77ae\"], [0.3, \"#f1b6da\"], [0.4, \"#fde0ef\"], [0.5, \"#f7f7f7\"], [0.6, \"#e6f5d0\"], [0.7, \"#b8e186\"], [0.8, \"#7fbc41\"], [0.9, \"#4d9221\"], [1, \"#276419\"]], \"sequential\": [[0.0, \"#0d0887\"], [0.1111111111111111, \"#46039f\"], [0.2222222222222222, \"#7201a8\"], [0.3333333333333333, \"#9c179e\"], [0.4444444444444444, \"#bd3786\"], [0.5555555555555556, \"#d8576b\"], [0.6666666666666666, \"#ed7953\"], [0.7777777777777778, \"#fb9f3a\"], [0.8888888888888888, \"#fdca26\"], [1.0, \"#f0f921\"]], \"sequentialminus\": [[0.0, \"#0d0887\"], [0.1111111111111111, \"#46039f\"], [0.2222222222222222, \"#7201a8\"], [0.3333333333333333, \"#9c179e\"], [0.4444444444444444, \"#bd3786\"], [0.5555555555555556, \"#d8576b\"], [0.6666666666666666, \"#ed7953\"], [0.7777777777777778, \"#fb9f3a\"], [0.8888888888888888, \"#fdca26\"], [1.0, \"#f0f921\"]]}, \"colorway\": [\"#636efa\", \"#EF553B\", \"#00cc96\", \"#ab63fa\", \"#FFA15A\", \"#19d3f3\", \"#FF6692\", \"#B6E880\", \"#FF97FF\", \"#FECB52\"], \"font\": {\"color\": \"#2a3f5f\"}, \"geo\": {\"bgcolor\": \"white\", \"lakecolor\": \"white\", \"landcolor\": \"#E5ECF6\", \"showlakes\": true, \"showland\": true, \"subunitcolor\": \"white\"}, \"hoverlabel\": {\"align\": \"left\"}, \"hovermode\": \"closest\", \"mapbox\": {\"style\": \"light\"}, \"paper_bgcolor\": \"white\", \"plot_bgcolor\": \"#E5ECF6\", \"polar\": {\"angularaxis\": {\"gridcolor\": \"white\", \"linecolor\": \"white\", \"ticks\": \"\"}, \"bgcolor\": \"#E5ECF6\", \"radialaxis\": {\"gridcolor\": \"white\", \"linecolor\": \"white\", \"ticks\": \"\"}}, \"scene\": {\"xaxis\": {\"backgroundcolor\": \"#E5ECF6\", \"gridcolor\": \"white\", \"gridwidth\": 2, \"linecolor\": \"white\", \"showbackground\": true, \"ticks\": \"\", \"zerolinecolor\": \"white\"}, \"yaxis\": {\"backgroundcolor\": \"#E5ECF6\", \"gridcolor\": \"white\", \"gridwidth\": 2, \"linecolor\": \"white\", \"showbackground\": true, \"ticks\": \"\", \"zerolinecolor\": \"white\"}, \"zaxis\": {\"backgroundcolor\": \"#E5ECF6\", \"gridcolor\": \"white\", \"gridwidth\": 2, \"linecolor\": \"white\", \"showbackground\": true, \"ticks\": \"\", \"zerolinecolor\": \"white\"}}, \"shapedefaults\": {\"line\": {\"color\": \"#2a3f5f\"}}, \"ternary\": {\"aaxis\": {\"gridcolor\": \"white\", \"linecolor\": \"white\", \"ticks\": \"\"}, \"baxis\": {\"gridcolor\": \"white\", \"linecolor\": \"white\", \"ticks\": \"\"}, \"bgcolor\": \"#E5ECF6\", \"caxis\": {\"gridcolor\": \"white\", \"linecolor\": \"white\", \"ticks\": \"\"}}, \"title\": {\"x\": 0.05}, \"xaxis\": {\"automargin\": true, \"gridcolor\": \"white\", \"linecolor\": \"white\", \"ticks\": \"\", \"title\": {\"standoff\": 15}, \"zerolinecolor\": \"white\", \"zerolinewidth\": 2}, \"yaxis\": {\"automargin\": true, \"gridcolor\": \"white\", \"linecolor\": \"white\", \"ticks\": \"\", \"title\": {\"standoff\": 15}, \"zerolinecolor\": \"white\", \"zerolinewidth\": 2}}}, \"title\": {\"text\": \"healthcare vs recovered\"}, \"xaxis\": {\"title\": {\"text\": \"health care\"}}, \"yaxis\": {\"title\": {\"text\": \"Total # of recovered\"}}},\n",
       "                        {\"responsive\": true}\n",
       "                    ).then(function(){\n",
       "                            \n",
       "var gd = document.getElementById('cc22b9c8-1451-4ab5-bebc-0c86a5d92441');\n",
       "var x = new MutationObserver(function (mutations, observer) {{\n",
       "        var display = window.getComputedStyle(gd).display;\n",
       "        if (!display || display === 'none') {{\n",
       "            console.log([gd, 'removed!']);\n",
       "            Plotly.purge(gd);\n",
       "            observer.disconnect();\n",
       "        }}\n",
       "}});\n",
       "\n",
       "// Listen for the removal of the full notebook cells\n",
       "var notebookContainer = gd.closest('#notebook-container');\n",
       "if (notebookContainer) {{\n",
       "    x.observe(notebookContainer, {childList: true});\n",
       "}}\n",
       "\n",
       "// Listen for the clearing of the current output cell\n",
       "var outputEl = gd.closest('.output');\n",
       "if (outputEl) {{\n",
       "    x.observe(outputEl, {childList: true});\n",
       "}}\n",
       "\n",
       "                        })\n",
       "                };\n",
       "                });\n",
       "            </script>\n",
       "        </div>"
      ]
     },
     "metadata": {},
     "output_type": "display_data"
    },
    {
     "name": "stdout",
     "output_type": "stream",
     "text": [
      "Pearsons correlation: 0.085\n",
      "Samples are uncorrelated (fail to reject H0) p=0.456\n",
      "Spearmans correlation: 0.152\n",
      "Samples are uncorrelated (fail to reject H0) p=0.181\n",
      "Kendall correlation coefficient: 0.086\n",
      "Samples are uncorrelated (fail to reject H0) p=0.262\n"
     ]
    }
   ],
   "source": [
    "df = pd.read_csv('recovered+health.csv')\n",
    "\n",
    "correl(df)"
   ]
  },
  {
   "cell_type": "code",
   "execution_count": 3,
   "metadata": {},
   "outputs": [],
   "source": [
    "dataset = pd.read_csv('recovered+health.csv')\n",
    "dataset = dataset.sort_values([\"healthcare index\"], ascending = (False))\n",
    "dataset.to_csv('recovered+health.csv', index=False)"
   ]
  },
  {
   "cell_type": "code",
   "execution_count": null,
   "metadata": {},
   "outputs": [],
   "source": []
  }
 ],
 "metadata": {
  "kernelspec": {
   "display_name": "Python [conda env:.conda-DAND] *",
   "language": "python",
   "name": "conda-env-.conda-DAND-py"
  },
  "language_info": {
   "codemirror_mode": {
    "name": "ipython",
    "version": 3
   },
   "file_extension": ".py",
   "mimetype": "text/x-python",
   "name": "python",
   "nbconvert_exporter": "python",
   "pygments_lexer": "ipython3",
   "version": "3.8.2"
  }
 },
 "nbformat": 4,
 "nbformat_minor": 4
}
