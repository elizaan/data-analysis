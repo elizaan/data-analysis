{
 "cells": [
  {
   "cell_type": "code",
   "execution_count": 4,
   "metadata": {},
   "outputs": [],
   "source": [
    "import numpy as np\n",
    "import pandas as pd\n",
    "import scipy\n",
    "import statsmodels.api as st\n",
    "import matplotlib.pyplot as plt\n",
    "%matplotlib inline\n",
    "from matplotlib.pylab import rcParams\n",
    "rcParams['figure.figsize'] = 18, 6\n",
    "import seaborn as sns\n",
    "import sklearn\n",
    "from sklearn.ensemble.forest import RandomForestRegressor\n",
    "from statsmodels.tsa.stattools import adfuller\n",
    "from statsmodels.graphics.tsaplots import plot_acf, plot_pacf\n",
    "from statsmodels.tsa.stattools import acf, pacf\n",
    "from statsmodels.tsa.arima_model import ARIMA\n",
    "import operator \n",
    "import psycopg2\n",
    "import math\n",
    "import requests\n",
    "import json\n",
    "from flask import jsonify\n",
    "import csv\n",
    "from csv import writer\n",
    "from statistics import mean\n",
    "from plotly.subplots import make_subplots\n",
    "import plotly.graph_objects as go\n",
    "from numpy import cov\n",
    "from scipy.stats import pearsonr\n",
    "from scipy.stats import spearmanr\n",
    "from scipy.stats import kendalltau\n",
    "from numpy import mean\n",
    "from numpy import std\n",
    "import statistics"
   ]
  },
  {
   "cell_type": "markdown",
   "metadata": {},
   "source": [
    "# Fetching latest data of pollution from APi"
   ]
  },
  {
   "cell_type": "code",
   "execution_count": 8,
   "metadata": {},
   "outputs": [],
   "source": [
    "url = 'https://www.numbeo.com/api/rankings_by_country_historical?api_key=r8umol7u42vvbs&section=8&fbclid=IwAR2g23utsR5KC5PvEU91RyQk8Z3DWno1BMqEL-KsbgAG43aQc-RxX4TDN0w'\n",
    "response = requests.get(url)\n",
    "lst = json.loads(response.text)\n",
    "\n",
    "pollution_index = {}\n",
    "\n",
    "\n",
    "for i in lst['2020']:\n",
    "    \n",
    "    pollution_index[i['iso3166_country_code']] = i['pollution_index']"
   ]
  },
  {
   "cell_type": "code",
   "execution_count": 9,
   "metadata": {},
   "outputs": [
    {
     "data": {
      "text/plain": [
       "110"
      ]
     },
     "execution_count": 9,
     "metadata": {},
     "output_type": "execute_result"
    }
   ],
   "source": [
    "len(pollution_index)"
   ]
  },
  {
   "cell_type": "markdown",
   "metadata": {},
   "source": [
    "# Making CSV file containing pollution data"
   ]
  },
  {
   "cell_type": "code",
   "execution_count": 10,
   "metadata": {},
   "outputs": [],
   "source": [
    "with open('global_pollution_index_ranking_comma.csv', 'w') as csv_file:\n",
    "    csv_writer = writer(csv_file)\n",
    "    headers = ['country name', 'Country_code_iso2','pollution index']\n",
    "    csv_writer.writerow(headers)\n",
    "    for i in lst['2020']:\n",
    "        name = i['country']\n",
    "        code = i['iso3166_country_code']\n",
    "        entry = [name, code,pollution_index[code]]\n",
    "        csv_writer.writerow(entry)\n"
   ]
  },
  {
   "cell_type": "markdown",
   "metadata": {},
   "source": [
    "# reading total affected, deaths and recovered with active cases from api"
   ]
  },
  {
   "cell_type": "code",
   "execution_count": 2,
   "metadata": {},
   "outputs": [],
   "source": [
    "\n",
    "url = 'http://coronavirus-tracker-api.herokuapp.com/all'\n",
    "response = requests.get(url)\n",
    "lst = json.loads(response.text)\n",
    "url_iso2 = 'https://restcountries.eu/rest/v2/'\n",
    "\n",
    "\n",
    "response_iso2 = requests.get(url_iso2)\n",
    "lst_iso2 = json.loads(response_iso2.text)\n",
    "\n",
    "latestaffected={}\n",
    "latestdeath={}\n",
    "latestrecovered={}\n",
    "population={}\n",
    "dict_iso3 = {}\n",
    "\n",
    "for i in lst['confirmed']['locations']:\n",
    "    \n",
    "    latestaffected[i['country_code']] = {}\n",
    "    latestdeath[i['country_code']] = {}\n",
    "    latestrecovered[i['country_code']] = {}\n",
    "    \n",
    "for k in lst_iso2:\n",
    "    population[k['alpha2Code']] = k['population']\n",
    "    dict_iso3[k['alpha2Code']] = k['alpha3Code']\n",
    "    \n",
    "\n",
    "for i in lst['confirmed']['locations']:\n",
    "    code = i['country_code']\n",
    "    latestaffected[code] = 0\n",
    "\n",
    "for i in lst['recovered']['locations']:\n",
    "    code = i['country_code']\n",
    "    latestrecovered[code] = 0\n",
    "\n",
    "for i in lst['deaths']['locations']:\n",
    "    code = i['country_code']\n",
    "    latestdeath[code] = 0\n",
    "    \n",
    "\n",
    "    \n",
    "for i in lst['deaths']['locations']:\n",
    "    code = i['country_code']\n",
    "    latestdeath[code] = latestdeath[code] + i['latest'] \n",
    "\n",
    "for i in lst['recovered']['locations']:\n",
    "    code = i['country_code']\n",
    "    latestrecovered[code] = latestrecovered[code] + i['latest']\n",
    "\n",
    "for i in lst['confirmed']['locations']:\n",
    "    code = i['country_code']\n",
    "    latestaffected[code] = latestaffected[code] + i['latest']"
   ]
  },
  {
   "cell_type": "markdown",
   "metadata": {},
   "source": [
    " # making csv file containig covid datas"
   ]
  },
  {
   "cell_type": "code",
   "execution_count": 3,
   "metadata": {},
   "outputs": [],
   "source": [
    "with open('countrylatestactive.csv', 'w') as csv_file:\n",
    "    csv_writer = writer(csv_file)\n",
    "    headers = ['Country_name', 'Country_code_iso2','population','Tot_affected','Tot_dead','Tot_recov','Affected per thousand','Active','Active_rateaff','Active_raterec','Death rate']\n",
    "    csv_writer.writerow(headers)\n",
    "    for i in lst['confirmed']['locations']:\n",
    "        name = i['country']\n",
    "        code = i['country_code']\n",
    "        if code in dict_iso3:\n",
    "            active = latestaffected[code]-(latestrecovered[code]+ latestdeath[code])\n",
    "            entry = [name, code,population[code],latestaffected[code],latestdeath[code],latestrecovered[code],(latestaffected[code]/population[code]) * 1000, active ,(active/latestaffected[code])*100,(active/(latestrecovered[code]+active))*100, latestdeath[code]/latestaffected[code]]\n",
    "            csv_writer.writerow(entry)\n"
   ]
  },
  {
   "cell_type": "markdown",
   "metadata": {},
   "source": [
    "# Deleting duplicates"
   ]
  },
  {
   "cell_type": "code",
   "execution_count": 4,
   "metadata": {},
   "outputs": [],
   "source": [
    "with open('countrylatestactive.csv','r') as in_file, open('countrylatestactive2.csv','w') as out_file:\n",
    "    seen = set() # set for fast O(1) amortized lookup\n",
    "    for line in in_file:\n",
    "        if line in seen: continue # skip duplicate\n",
    "\n",
    "        seen.add(line)\n",
    "        out_file.write(line)"
   ]
  },
  {
   "cell_type": "markdown",
   "metadata": {},
   "source": [
    "# Joining two csv files (final csv is combinedpollution.csv)"
   ]
  },
  {
   "cell_type": "code",
   "execution_count": 14,
   "metadata": {},
   "outputs": [],
   "source": [
    "df1 = pd.read_csv('global_pollution_index_ranking_comma.csv')\n",
    "df2 = pd.read_csv('countrylatestactive2.csv')\n",
    "res = pd.merge(df1, df2,on ='Country_code_iso2',how='left')\n",
    "res.to_csv('combinedpollution.csv', index=False)"
   ]
  },
  {
   "cell_type": "markdown",
   "metadata": {},
   "source": [
    "# reading csv file and making scatter plot (pollution index vs total affected)"
   ]
  },
  {
   "cell_type": "code",
   "execution_count": 5,
   "metadata": {},
   "outputs": [
    {
     "data": {
      "image/png": "[encoded data removed]",
      "text/plain": [
       "<Figure size 1296x432 with 1 Axes>"
      ]
     },
     "metadata": {},
     "output_type": "display_data"
    }
   ],
   "source": [
    "dataset = pd.read_csv('combinedpollution.csv')\n",
    "\n",
    "\n",
    "import seaborn as sns; sns.set()\n",
    "import matplotlib.pyplot as plt\n",
    "sns.set_context(\"talk\")\n",
    "#fig_dims = (20, 20)\n",
    "#fig, ax = plt.subplots(figsize=fig_dims)\n",
    "#sns.set_ylim(0,1750000,1000)\n",
    "#plt.ylim(-1000,1750000,1000)\n",
    "ax = sns.stripplot(x=\"pollution index\", y=\"Tot_affected\",jitter=0.25,size=8, data=dataset)"
   ]
  },
  {
   "cell_type": "code",
   "execution_count": 3,
   "metadata": {},
   "outputs": [],
   "source": [
    "with open('combinedpollution.csv','r') as csv_file:\n",
    "    csv_reader = csv.DictReader(csv_file)\n",
    "    \n",
    "    with open('affected+pollution.csv','w') as new_file1:\n",
    "        fieldnames1 = ['country name','population','pollution index','Tot_affected']\n",
    "        \n",
    "        csv_writer1 = csv.DictWriter(new_file1, fieldnames= fieldnames1)\n",
    "        csv_writer1.writeheader()\n",
    "        \n",
    "        for line1 in csv_reader:\n",
    "            del line1['Country_code_iso2']\n",
    "            del line1['Tot_recov']\n",
    "            del line1['Tot_dead']\n",
    "            del line1['Affected per thousand']\n",
    "            del line1['Active']\n",
    "            del line1['Active_rateaff']\n",
    "            del line1['Active_raterec']\n",
    "            del line1['Country_name']\n",
    "            #print(line['CFR1'],line['CFR2'])\n",
    "            #print(line1)\n",
    "            csv_writer1.writerow(line1)"
   ]
  },
  {
   "cell_type": "code",
   "execution_count": 9,
   "metadata": {},
   "outputs": [],
   "source": [
    "\n",
    "def correl(bd):\n",
    "    Bd1 = bd.iloc[:,2:3]\n",
    "    Bd2 = bd.iloc[:,3:4]\n",
    "    \n",
    "    \n",
    "    X = [x[0] for x in Bd1.values.tolist()]  #list comprehension\n",
    "    Y = [y[0] for y in Bd2.values.tolist()]\n",
    "    print('data1: mean=%.3f stdv=%.3f' % (mean(X), std(X)))\n",
    "    print('data2: mean=%.3f stdv=%.3f' % (mean(Y), std(Y)))\n",
    "    print('pollution index: median=%.3f' % statistics.median(X))\n",
    "    print('total affected: median=%.3f' % statistics.median(Y))\n",
    "    \n",
    "    \n",
    "    #print('my function pearson : %.5f' % pearson_def(X,Y))\n",
    "    \n",
    "    covariance = cov(X,Y)\n",
    "    print('covarience value :')\n",
    "    print( covariance)\n",
    "    \n",
    "    fig = go.Figure()\n",
    "    fig.add_trace(go.Scatter(x=X,y=Y,mode='markers',marker_color=Y)) # hover text goes here\n",
    "\n",
    "    fig.update_layout(title='pollution index vs affected', xaxis=dict(title='pollution index'),yaxis=dict(title='Total # of Affected'))\n",
    "    \n",
    "    fig.show()\n",
    "    ##pyplot.scatter(Bd1, Bd2)\n",
    "    #pyplot.xlabel(\"temparature\")\n",
    "    #pyplot.ylabel(\"Total Affected\")\n",
    "    #pyplot.show()\n",
    "    alpha = 0.05 #setting my significant level 5 %\n",
    "    corr, r = pearsonr(X,Y)\n",
    "    print('Pearsons correlation: %.3f' % corr)\n",
    "   \n",
    "    \n",
    "    if r > alpha:\n",
    "        print('Samples are uncorrelated (fail to reject H0) p=%.3f' % r)\n",
    "        \n",
    "    else:\n",
    "        print('Samples are correlated (reject H0) p=%.3f' % r)\n",
    "        \n",
    "        \n",
    "    corr, p = spearmanr(X,Y)\n",
    "    print('Spearmans correlation: %.3f' % corr)\n",
    "    \n",
    "    \n",
    "    # interpret the significance\n",
    "    \n",
    "    if p > alpha:\n",
    "        print('Samples are uncorrelated (fail to reject H0) p=%.3f' % p)\n",
    "        \n",
    "    else:\n",
    "        print('Samples are correlated (reject H0) p=%.3f' % p)\n",
    "       \n",
    "        \n",
    "    \n",
    "    coef, q = kendalltau(X,Y)\n",
    "    print('Kendall correlation coefficient: %.3f' % coef)\n",
    "    \n",
    "    # interpret the significance\n",
    "    alpha = 0.05\n",
    "    if q > alpha:\n",
    "        print('Samples are uncorrelated (fail to reject H0) p=%.3f' % q)\n",
    "        \n",
    "    else:\n",
    "        print('Samples are correlated (reject H0) p=%.3f' % q)\n",
    "        \n",
    "\n",
    "    \n"
   ]
  },
  {
   "cell_type": "code",
   "execution_count": 10,
   "metadata": {},
   "outputs": [
    {
     "name": "stdout",
     "output_type": "stream",
     "text": [
      "data1: mean=58.139 stdv=21.022\n",
      "data2: mean=51997.157 stdv=174857.973\n",
      "pollution index: median=62.808\n",
      "total affected: median=8567.000\n",
      "covarience value :\n",
      "[[ 4.46049847e+02 -4.26830649e+05]\n",
      " [-4.26830649e+05  3.08610611e+10]]\n"
     ]
    },
    {
     "data": {
      "application/vnd.plotly.v1+json": {
       "config": {
        "plotlyServerURL": "https://plot.ly"
       },
       "data": [
        {
         "marker": {
          "color": [
           12456,
           206,
           148,
           7303,
           1161,
           8733,
           327,
           98,
           38292,
           19666,
           886,
           135905,
           84106,
           2039,
           124,
           731,
           158086,
           5135,
           4568,
           15723,
           720,
           1050,
           141591,
           612,
           1471,
           9304,
           3054,
           132,
           7768,
           15049,
           59151,
           1245,
           9692,
           735,
           4145,
           7601,
           1051,
           569,
           23267,
           121,
           116,
           159797,
           23851,
           78023,
           82289,
           8857,
           2460,
           78541,
           21905,
           441,
           7619,
           11728,
           509,
           24104,
           370680,
           11344,
           2435,
           48947,
           11275,
           7774,
           1469,
           18594,
           25937,
           16793,
           38103,
           334,
           231139,
           411821,
           22473,
           939,
           57592,
           2903,
           31969,
           13933,
           3793,
           984,
           324,
           803,
           38956,
           183038,
           268619,
           9086,
           236259,
           1515,
           16651,
           8373,
           1699176,
           24803,
           1057,
           32876,
           31292,
           2244,
           181524,
           1647,
           88989,
           45970,
           4001,
           1471,
           7150,
           1504,
           30776,
           16591,
           11680,
           8401,
           1840,
           35088,
           1805,
           6692
          ]
         },
         "mode": "markers",
         "type": "scatter",
         "x": [
          93.4490653025136,
          92.53704183746515,
          92.44535560502578,
          89.19684409860831,
          88.36626926220396,
          87.6297194464311,
          86.4720630435544,
          86.32945870423184,
          86.21459292694892,
          85.64919087791333,
          84.77333887605965,
          84.13382022619263,
          80.77382552559084,
          80.23085214953849,
          79.50276113877284,
          79.19275098710024,
          78.86749713922603,
          78.8322248702557,
          78.11891160501666,
          77.9034453414783,
          77.78229411739787,
          77.77298699838136,
          77.44633034157863,
          77.06766067457312,
          76.5969449877496,
          75.14845486067591,
          75.06562281276653,
          74.60838982698444,
          74.59742637121617,
          74.281244879218,
          74.25446100187605,
          73.76440958699955,
          71.42876331615305,
          71.08706965440389,
          70.6496736051879,
          70.64057201324914,
          69.52655107746425,
          68.91667721774489,
          68.69142825796946,
          68.42257957559681,
          68.30736547075179,
          67.35227940728504,
          66.56102687866961,
          66.10374316116359,
          65.78315558351777,
          65.74630623264024,
          65.3313246278034,
          65.08901814669828,
          65.0818874366921,
          63.350516503536866,
          63.17563099128312,
          63.08894420543304,
          62.93123090734661,
          62.828611655965396,
          62.787206277971,
          62.48445159817128,
          62.33095896911351,
          61.06373599931371,
          60.31774750963411,
          60.23288872033907,
          59.13778736747811,
          58.42430912610898,
          57.30304198925632,
          57.246400589869864,
          57.000902915210155,
          55.876747320266645,
          55.63246872384282,
          54.97914191505707,
          54.456332121834365,
          53.55117567817274,
          52.94032924469109,
          52.54868665163863,
          51.15343561721097,
          50.66675626674629,
          48.28648665291069,
          46.96997788091093,
          45.140026283353,
          44.843633115038394,
          43.633298950604846,
          43.563271166427185,
          40.55618269915485,
          40.229909766210376,
          39.98796832770541,
          39.659241169581776,
          39.59446345790974,
          37.74093477351215,
          36.87564709387704,
          33.9922098264066,
          33.7346729068835,
          33.48362076876569,
          30.890736044245557,
          30.45654037245389,
          29.026594694080554,
          28.79537737772181,
          27.829093441335264,
          27.405370482646862,
          24.27653820148749,
          24.06167077939277,
          23.461158152093162,
          23.39717981244885,
          22.393362581397653,
          22.18991596829216,
          21.325683421383356,
          20.346436797282948,
          19.805667599554752,
          18.08990024875911,
          16.20970055264105,
          11.547657810205465
         ],
         "y": [
          12456,
          206,
          148,
          7303,
          1161,
          8733,
          327,
          98,
          38292,
          19666,
          886,
          135905,
          84106,
          2039,
          124,
          731,
          158086,
          5135,
          4568,
          15723,
          720,
          1050,
          141591,
          612,
          1471,
          9304,
          3054,
          132,
          7768,
          15049,
          59151,
          1245,
          9692,
          735,
          4145,
          7601,
          1051,
          569,
          23267,
          121,
          116,
          159797,
          23851,
          78023,
          82289,
          8857,
          2460,
          78541,
          21905,
          441,
          7619,
          11728,
          509,
          24104,
          370680,
          11344,
          2435,
          48947,
          11275,
          7774,
          1469,
          18594,
          25937,
          16793,
          38103,
          334,
          231139,
          411821,
          22473,
          939,
          57592,
          2903,
          31969,
          13933,
          3793,
          984,
          324,
          803,
          38956,
          183038,
          268619,
          9086,
          236259,
          1515,
          16651,
          8373,
          1699176,
          24803,
          1057,
          32876,
          31292,
          2244,
          181524,
          1647,
          88989,
          45970,
          4001,
          1471,
          7150,
          1504,
          30776,
          16591,
          11680,
          8401,
          1840,
          35088,
          1805,
          6692
         ]
        }
       ],
       "layout": {
        "template": {
         "data": {
          "bar": [
           {
            "error_x": {
             "color": "#2a3f5f"
            },
            "error_y": {
             "color": "#2a3f5f"
            },
            "marker": {
             "line": {
              "color": "#E5ECF6",
              "width": 0.5
             }
            },
            "type": "bar"
           }
          ],
          "barpolar": [
           {
            "marker": {
             "line": {
              "color": "#E5ECF6",
              "width": 0.5
             }
            },
            "type": "barpolar"
           }
          ],
          "carpet": [
           {
            "aaxis": {
             "endlinecolor": "#2a3f5f",
             "gridcolor": "white",
             "linecolor": "white",
             "minorgridcolor": "white",
             "startlinecolor": "#2a3f5f"
            },
            "baxis": {
             "endlinecolor": "#2a3f5f",
             "gridcolor": "white",
             "linecolor": "white",
             "minorgridcolor": "white",
             "startlinecolor": "#2a3f5f"
            },
            "type": "carpet"
           }
          ],
          "choropleth": [
           {
            "colorbar": {
             "outlinewidth": 0,
             "ticks": ""
            },
            "type": "choropleth"
           }
          ],
          "contour": [
           {
            "colorbar": {
             "outlinewidth": 0,
             "ticks": ""
            },
            "colorscale": [
             [
              0,
              "#0d0887"
             ],
             [
              0.1111111111111111,
              "#46039f"
             ],
             [
              0.2222222222222222,
              "#7201a8"
             ],
             [
              0.3333333333333333,
              "#9c179e"
             ],
             [
              0.4444444444444444,
              "#bd3786"
             ],
             [
              0.5555555555555556,
              "#d8576b"
             ],
             [
              0.6666666666666666,
              "#ed7953"
             ],
             [
              0.7777777777777778,
              "#fb9f3a"
             ],
             [
              0.8888888888888888,
              "#fdca26"
             ],
             [
              1,
              "#f0f921"
             ]
            ],
            "type": "contour"
           }
          ],
          "contourcarpet": [
           {
            "colorbar": {
             "outlinewidth": 0,
             "ticks": ""
            },
            "type": "contourcarpet"
           }
          ],
          "heatmap": [
           {
            "colorbar": {
             "outlinewidth": 0,
             "ticks": ""
            },
            "colorscale": [
             [
              0,
              "#0d0887"
             ],
             [
              0.1111111111111111,
              "#46039f"
             ],
             [
              0.2222222222222222,
              "#7201a8"
             ],
             [
              0.3333333333333333,
              "#9c179e"
             ],
             [
              0.4444444444444444,
              "#bd3786"
             ],
             [
              0.5555555555555556,
              "#d8576b"
             ],
             [
              0.6666666666666666,
              "#ed7953"
             ],
             [
              0.7777777777777778,
              "#fb9f3a"
             ],
             [
              0.8888888888888888,
              "#fdca26"
             ],
             [
              1,
              "#f0f921"
             ]
            ],
            "type": "heatmap"
           }
          ],
          "heatmapgl": [
           {
            "colorbar": {
             "outlinewidth": 0,
             "ticks": ""
            },
            "colorscale": [
             [
              0,
              "#0d0887"
             ],
             [
              0.1111111111111111,
              "#46039f"
             ],
             [
              0.2222222222222222,
              "#7201a8"
             ],
             [
              0.3333333333333333,
              "#9c179e"
             ],
             [
              0.4444444444444444,
              "#bd3786"
             ],
             [
              0.5555555555555556,
              "#d8576b"
             ],
             [
              0.6666666666666666,
              "#ed7953"
             ],
             [
              0.7777777777777778,
              "#fb9f3a"
             ],
             [
              0.8888888888888888,
              "#fdca26"
             ],
             [
              1,
              "#f0f921"
             ]
            ],
            "type": "heatmapgl"
           }
          ],
          "histogram": [
           {
            "marker": {
             "colorbar": {
              "outlinewidth": 0,
              "ticks": ""
             }
            },
            "type": "histogram"
           }
          ],
          "histogram2d": [
           {
            "colorbar": {
             "outlinewidth": 0,
             "ticks": ""
            },
            "colorscale": [
             [
              0,
              "#0d0887"
             ],
             [
              0.1111111111111111,
              "#46039f"
             ],
             [
              0.2222222222222222,
              "#7201a8"
             ],
             [
              0.3333333333333333,
              "#9c179e"
             ],
             [
              0.4444444444444444,
              "#bd3786"
             ],
             [
              0.5555555555555556,
              "#d8576b"
             ],
             [
              0.6666666666666666,
              "#ed7953"
             ],
             [
              0.7777777777777778,
              "#fb9f3a"
             ],
             [
              0.8888888888888888,
              "#fdca26"
             ],
             [
              1,
              "#f0f921"
             ]
            ],
            "type": "histogram2d"
           }
          ],
          "histogram2dcontour": [
           {
            "colorbar": {
             "outlinewidth": 0,
             "ticks": ""
            },
            "colorscale": [
             [
              0,
              "#0d0887"
             ],
             [
              0.1111111111111111,
              "#46039f"
             ],
             [
              0.2222222222222222,
              "#7201a8"
             ],
             [
              0.3333333333333333,
              "#9c179e"
             ],
             [
              0.4444444444444444,
              "#bd3786"
             ],
             [
              0.5555555555555556,
              "#d8576b"
             ],
             [
              0.6666666666666666,
              "#ed7953"
             ],
             [
              0.7777777777777778,
              "#fb9f3a"
             ],
             [
              0.8888888888888888,
              "#fdca26"
             ],
             [
              1,
              "#f0f921"
             ]
            ],
            "type": "histogram2dcontour"
           }
          ],
          "mesh3d": [
           {
            "colorbar": {
             "outlinewidth": 0,
             "ticks": ""
            },
            "type": "mesh3d"
           }
          ],
          "parcoords": [
           {
            "line": {
             "colorbar": {
              "outlinewidth": 0,
              "ticks": ""
             }
            },
            "type": "parcoords"
           }
          ],
          "pie": [
           {
            "automargin": true,
            "type": "pie"
           }
          ],
          "scatter": [
           {
            "marker": {
             "colorbar": {
              "outlinewidth": 0,
              "ticks": ""
             }
            },
            "type": "scatter"
           }
          ],
          "scatter3d": [
           {
            "line": {
             "colorbar": {
              "outlinewidth": 0,
              "ticks": ""
             }
            },
            "marker": {
             "colorbar": {
              "outlinewidth": 0,
              "ticks": ""
             }
            },
            "type": "scatter3d"
           }
          ],
          "scattercarpet": [
           {
            "marker": {
             "colorbar": {
              "outlinewidth": 0,
              "ticks": ""
             }
            },
            "type": "scattercarpet"
           }
          ],
          "scattergeo": [
           {
            "marker": {
             "colorbar": {
              "outlinewidth": 0,
              "ticks": ""
             }
            },
            "type": "scattergeo"
           }
          ],
          "scattergl": [
           {
            "marker": {
             "colorbar": {
              "outlinewidth": 0,
              "ticks": ""
             }
            },
            "type": "scattergl"
           }
          ],
          "scattermapbox": [
           {
            "marker": {
             "colorbar": {
              "outlinewidth": 0,
              "ticks": ""
             }
            },
            "type": "scattermapbox"
           }
          ],
          "scatterpolar": [
           {
            "marker": {
             "colorbar": {
              "outlinewidth": 0,
              "ticks": ""
             }
            },
            "type": "scatterpolar"
           }
          ],
          "scatterpolargl": [
           {
            "marker": {
             "colorbar": {
              "outlinewidth": 0,
              "ticks": ""
             }
            },
            "type": "scatterpolargl"
           }
          ],
          "scatterternary": [
           {
            "marker": {
             "colorbar": {
              "outlinewidth": 0,
              "ticks": ""
             }
            },
            "type": "scatterternary"
           }
          ],
          "surface": [
           {
            "colorbar": {
             "outlinewidth": 0,
             "ticks": ""
            },
            "colorscale": [
             [
              0,
              "#0d0887"
             ],
             [
              0.1111111111111111,
              "#46039f"
             ],
             [
              0.2222222222222222,
              "#7201a8"
             ],
             [
              0.3333333333333333,
              "#9c179e"
             ],
             [
              0.4444444444444444,
              "#bd3786"
             ],
             [
              0.5555555555555556,
              "#d8576b"
             ],
             [
              0.6666666666666666,
              "#ed7953"
             ],
             [
              0.7777777777777778,
              "#fb9f3a"
             ],
             [
              0.8888888888888888,
              "#fdca26"
             ],
             [
              1,
              "#f0f921"
             ]
            ],
            "type": "surface"
           }
          ],
          "table": [
           {
            "cells": {
             "fill": {
              "color": "#EBF0F8"
             },
             "line": {
              "color": "white"
             }
            },
            "header": {
             "fill": {
              "color": "#C8D4E3"
             },
             "line": {
              "color": "white"
             }
            },
            "type": "table"
           }
          ]
         },
         "layout": {
          "annotationdefaults": {
           "arrowcolor": "#2a3f5f",
           "arrowhead": 0,
           "arrowwidth": 1
          },
          "coloraxis": {
           "colorbar": {
            "outlinewidth": 0,
            "ticks": ""
           }
          },
          "colorscale": {
           "diverging": [
            [
             0,
             "#8e0152"
            ],
            [
             0.1,
             "#c51b7d"
            ],
            [
             0.2,
             "#de77ae"
            ],
            [
             0.3,
             "#f1b6da"
            ],
            [
             0.4,
             "#fde0ef"
            ],
            [
             0.5,
             "#f7f7f7"
            ],
            [
             0.6,
             "#e6f5d0"
            ],
            [
             0.7,
             "#b8e186"
            ],
            [
             0.8,
             "#7fbc41"
            ],
            [
             0.9,
             "#4d9221"
            ],
            [
             1,
             "#276419"
            ]
           ],
           "sequential": [
            [
             0,
             "#0d0887"
            ],
            [
             0.1111111111111111,
             "#46039f"
            ],
            [
             0.2222222222222222,
             "#7201a8"
            ],
            [
             0.3333333333333333,
             "#9c179e"
            ],
            [
             0.4444444444444444,
             "#bd3786"
            ],
            [
             0.5555555555555556,
             "#d8576b"
            ],
            [
             0.6666666666666666,
             "#ed7953"
            ],
            [
             0.7777777777777778,
             "#fb9f3a"
            ],
            [
             0.8888888888888888,
             "#fdca26"
            ],
            [
             1,
             "#f0f921"
            ]
           ],
           "sequentialminus": [
            [
             0,
             "#0d0887"
            ],
            [
             0.1111111111111111,
             "#46039f"
            ],
            [
             0.2222222222222222,
             "#7201a8"
            ],
            [
             0.3333333333333333,
             "#9c179e"
            ],
            [
             0.4444444444444444,
             "#bd3786"
            ],
            [
             0.5555555555555556,
             "#d8576b"
            ],
            [
             0.6666666666666666,
             "#ed7953"
            ],
            [
             0.7777777777777778,
             "#fb9f3a"
            ],
            [
             0.8888888888888888,
             "#fdca26"
            ],
            [
             1,
             "#f0f921"
            ]
           ]
          },
          "colorway": [
           "#636efa",
           "#EF553B",
           "#00cc96",
           "#ab63fa",
           "#FFA15A",
           "#19d3f3",
           "#FF6692",
           "#B6E880",
           "#FF97FF",
           "#FECB52"
          ],
          "font": {
           "color": "#2a3f5f"
          },
          "geo": {
           "bgcolor": "white",
           "lakecolor": "white",
           "landcolor": "#E5ECF6",
           "showlakes": true,
           "showland": true,
           "subunitcolor": "white"
          },
          "hoverlabel": {
           "align": "left"
          },
          "hovermode": "closest",
          "mapbox": {
           "style": "light"
          },
          "paper_bgcolor": "white",
          "plot_bgcolor": "#E5ECF6",
          "polar": {
           "angularaxis": {
            "gridcolor": "white",
            "linecolor": "white",
            "ticks": ""
           },
           "bgcolor": "#E5ECF6",
           "radialaxis": {
            "gridcolor": "white",
            "linecolor": "white",
            "ticks": ""
           }
          },
          "scene": {
           "xaxis": {
            "backgroundcolor": "#E5ECF6",
            "gridcolor": "white",
            "gridwidth": 2,
            "linecolor": "white",
            "showbackground": true,
            "ticks": "",
            "zerolinecolor": "white"
           },
           "yaxis": {
            "backgroundcolor": "#E5ECF6",
            "gridcolor": "white",
            "gridwidth": 2,
            "linecolor": "white",
            "showbackground": true,
            "ticks": "",
            "zerolinecolor": "white"
           },
           "zaxis": {
            "backgroundcolor": "#E5ECF6",
            "gridcolor": "white",
            "gridwidth": 2,
            "linecolor": "white",
            "showbackground": true,
            "ticks": "",
            "zerolinecolor": "white"
           }
          },
          "shapedefaults": {
           "line": {
            "color": "#2a3f5f"
           }
          },
          "ternary": {
           "aaxis": {
            "gridcolor": "white",
            "linecolor": "white",
            "ticks": ""
           },
           "baxis": {
            "gridcolor": "white",
            "linecolor": "white",
            "ticks": ""
           },
           "bgcolor": "#E5ECF6",
           "caxis": {
            "gridcolor": "white",
            "linecolor": "white",
            "ticks": ""
           }
          },
          "title": {
           "x": 0.05
          },
          "xaxis": {
           "automargin": true,
           "gridcolor": "white",
           "linecolor": "white",
           "ticks": "",
           "title": {
            "standoff": 15
           },
           "zerolinecolor": "white",
           "zerolinewidth": 2
          },
          "yaxis": {
           "automargin": true,
           "gridcolor": "white",
           "linecolor": "white",
           "ticks": "",
           "title": {
            "standoff": 15
           },
           "zerolinecolor": "white",
           "zerolinewidth": 2
          }
         }
        },
        "title": {
         "text": "pollution index vs affected"
        },
        "xaxis": {
         "title": {
          "text": "pollution index"
         }
        },
        "yaxis": {
         "title": {
          "text": "Total # of Affected"
         }
        }
       }
      },
      "text/html": [
       "<div>\n",
       "        \n",
       "        \n",
       "            <div id=\"a44faf9a-47ba-4abf-b572-b04214a38f5f\" class=\"plotly-graph-div\" style=\"height:525px; width:100%;\"></div>\n",
       "            <script type=\"text/javascript\">\n",
       "                require([\"plotly\"], function(Plotly) {\n",
       "                    window.PLOTLYENV=window.PLOTLYENV || {};\n",
       "                    \n",
       "                if (document.getElementById(\"a44faf9a-47ba-4abf-b572-b04214a38f5f\")) {\n",
       "                    Plotly.newPlot(\n",
       "                        'a44faf9a-47ba-4abf-b572-b04214a38f5f',\n",
       "                        [{\"marker\": {\"color\": [12456.0, 206.0, 148.0, 7303.0, 1161.0, 8733.0, 327.0, 98.0, 38292.0, 19666.0, 886.0, 135905.0, 84106.0, 2039.0, 124.0, 731.0, 158086.0, 5135.0, 4568.0, 15723.0, 720.0, 1050.0, 141591.0, 612.0, 1471.0, 9304.0, 3054.0, 132.0, 7768.0, 15049.0, 59151.0, 1245.0, 9692.0, 735.0, 4145.0, 7601.0, 1051.0, 569.0, 23267.0, 121.0, 116.0, 159797.0, 23851.0, 78023.0, 82289.0, 8857.0, 2460.0, 78541.0, 21905.0, 441.0, 7619.0, 11728.0, 509.0, 24104.0, 370680.0, 11344.0, 2435.0, 48947.0, 11275.0, 7774.0, 1469.0, 18594.0, 25937.0, 16793.0, 38103.0, 334.0, 231139.0, 411821.0, 22473.0, 939.0, 57592.0, 2903.0, 31969.0, 13933.0, 3793.0, 984.0, 324.0, 803.0, 38956.0, 183038.0, 268619.0, 9086.0, 236259.0, 1515.0, 16651.0, 8373.0, 1699176.0, 24803.0, 1057.0, 32876.0, 31292.0, 2244.0, 181524.0, 1647.0, 88989.0, 45970.0, 4001.0, 1471.0, 7150.0, 1504.0, 30776.0, 16591.0, 11680.0, 8401.0, 1840.0, 35088.0, 1805.0, 6692.0]}, \"mode\": \"markers\", \"type\": \"scatter\", \"x\": [93.4490653025136, 92.53704183746515, 92.44535560502578, 89.19684409860831, 88.36626926220396, 87.6297194464311, 86.4720630435544, 86.32945870423184, 86.21459292694892, 85.64919087791333, 84.77333887605965, 84.13382022619263, 80.77382552559084, 80.23085214953849, 79.50276113877284, 79.19275098710024, 78.86749713922603, 78.8322248702557, 78.11891160501666, 77.9034453414783, 77.78229411739787, 77.77298699838136, 77.44633034157863, 77.06766067457312, 76.5969449877496, 75.14845486067591, 75.06562281276653, 74.60838982698444, 74.59742637121617, 74.281244879218, 74.25446100187605, 73.76440958699955, 71.42876331615305, 71.08706965440389, 70.6496736051879, 70.64057201324914, 69.52655107746425, 68.91667721774489, 68.69142825796946, 68.42257957559681, 68.30736547075179, 67.35227940728504, 66.56102687866961, 66.10374316116359, 65.78315558351777, 65.74630623264024, 65.3313246278034, 65.08901814669828, 65.0818874366921, 63.350516503536866, 63.17563099128312, 63.08894420543304, 62.93123090734661, 62.828611655965396, 62.787206277971, 62.48445159817128, 62.33095896911351, 61.06373599931371, 60.31774750963411, 60.23288872033907, 59.13778736747811, 58.42430912610898, 57.30304198925632, 57.246400589869864, 57.000902915210155, 55.876747320266645, 55.63246872384282, 54.97914191505707, 54.456332121834365, 53.55117567817274, 52.94032924469109, 52.54868665163863, 51.15343561721097, 50.66675626674629, 48.28648665291069, 46.96997788091093, 45.140026283353, 44.843633115038394, 43.633298950604846, 43.563271166427185, 40.55618269915485, 40.229909766210376, 39.98796832770541, 39.659241169581776, 39.59446345790974, 37.74093477351215, 36.87564709387704, 33.9922098264066, 33.7346729068835, 33.48362076876569, 30.890736044245557, 30.45654037245389, 29.026594694080554, 28.79537737772181, 27.829093441335264, 27.405370482646862, 24.27653820148749, 24.06167077939277, 23.461158152093162, 23.39717981244885, 22.393362581397653, 22.18991596829216, 21.325683421383356, 20.346436797282948, 19.805667599554752, 18.08990024875911, 16.20970055264105, 11.547657810205465], \"y\": [12456.0, 206.0, 148.0, 7303.0, 1161.0, 8733.0, 327.0, 98.0, 38292.0, 19666.0, 886.0, 135905.0, 84106.0, 2039.0, 124.0, 731.0, 158086.0, 5135.0, 4568.0, 15723.0, 720.0, 1050.0, 141591.0, 612.0, 1471.0, 9304.0, 3054.0, 132.0, 7768.0, 15049.0, 59151.0, 1245.0, 9692.0, 735.0, 4145.0, 7601.0, 1051.0, 569.0, 23267.0, 121.0, 116.0, 159797.0, 23851.0, 78023.0, 82289.0, 8857.0, 2460.0, 78541.0, 21905.0, 441.0, 7619.0, 11728.0, 509.0, 24104.0, 370680.0, 11344.0, 2435.0, 48947.0, 11275.0, 7774.0, 1469.0, 18594.0, 25937.0, 16793.0, 38103.0, 334.0, 231139.0, 411821.0, 22473.0, 939.0, 57592.0, 2903.0, 31969.0, 13933.0, 3793.0, 984.0, 324.0, 803.0, 38956.0, 183038.0, 268619.0, 9086.0, 236259.0, 1515.0, 16651.0, 8373.0, 1699176.0, 24803.0, 1057.0, 32876.0, 31292.0, 2244.0, 181524.0, 1647.0, 88989.0, 45970.0, 4001.0, 1471.0, 7150.0, 1504.0, 30776.0, 16591.0, 11680.0, 8401.0, 1840.0, 35088.0, 1805.0, 6692.0]}],\n",
       "                        {\"template\": {\"data\": {\"bar\": [{\"error_x\": {\"color\": \"#2a3f5f\"}, \"error_y\": {\"color\": \"#2a3f5f\"}, \"marker\": {\"line\": {\"color\": \"#E5ECF6\", \"width\": 0.5}}, \"type\": \"bar\"}], \"barpolar\": [{\"marker\": {\"line\": {\"color\": \"#E5ECF6\", \"width\": 0.5}}, \"type\": \"barpolar\"}], \"carpet\": [{\"aaxis\": {\"endlinecolor\": \"#2a3f5f\", \"gridcolor\": \"white\", \"linecolor\": \"white\", \"minorgridcolor\": \"white\", \"startlinecolor\": \"#2a3f5f\"}, \"baxis\": {\"endlinecolor\": \"#2a3f5f\", \"gridcolor\": \"white\", \"linecolor\": \"white\", \"minorgridcolor\": \"white\", \"startlinecolor\": \"#2a3f5f\"}, \"type\": \"carpet\"}], \"choropleth\": [{\"colorbar\": {\"outlinewidth\": 0, \"ticks\": \"\"}, \"type\": \"choropleth\"}], \"contour\": [{\"colorbar\": {\"outlinewidth\": 0, \"ticks\": \"\"}, \"colorscale\": [[0.0, \"#0d0887\"], [0.1111111111111111, \"#46039f\"], [0.2222222222222222, \"#7201a8\"], [0.3333333333333333, \"#9c179e\"], [0.4444444444444444, \"#bd3786\"], [0.5555555555555556, \"#d8576b\"], [0.6666666666666666, \"#ed7953\"], [0.7777777777777778, \"#fb9f3a\"], [0.8888888888888888, \"#fdca26\"], [1.0, \"#f0f921\"]], \"type\": \"contour\"}], \"contourcarpet\": [{\"colorbar\": {\"outlinewidth\": 0, \"ticks\": \"\"}, \"type\": \"contourcarpet\"}], \"heatmap\": [{\"colorbar\": {\"outlinewidth\": 0, \"ticks\": \"\"}, \"colorscale\": [[0.0, \"#0d0887\"], [0.1111111111111111, \"#46039f\"], [0.2222222222222222, \"#7201a8\"], [0.3333333333333333, \"#9c179e\"], [0.4444444444444444, \"#bd3786\"], [0.5555555555555556, \"#d8576b\"], [0.6666666666666666, \"#ed7953\"], [0.7777777777777778, \"#fb9f3a\"], [0.8888888888888888, \"#fdca26\"], [1.0, \"#f0f921\"]], \"type\": \"heatmap\"}], \"heatmapgl\": [{\"colorbar\": {\"outlinewidth\": 0, \"ticks\": \"\"}, \"colorscale\": [[0.0, \"#0d0887\"], [0.1111111111111111, \"#46039f\"], [0.2222222222222222, \"#7201a8\"], [0.3333333333333333, \"#9c179e\"], [0.4444444444444444, \"#bd3786\"], [0.5555555555555556, \"#d8576b\"], [0.6666666666666666, \"#ed7953\"], [0.7777777777777778, \"#fb9f3a\"], [0.8888888888888888, \"#fdca26\"], [1.0, \"#f0f921\"]], \"type\": \"heatmapgl\"}], \"histogram\": [{\"marker\": {\"colorbar\": {\"outlinewidth\": 0, \"ticks\": \"\"}}, \"type\": \"histogram\"}], \"histogram2d\": [{\"colorbar\": {\"outlinewidth\": 0, \"ticks\": \"\"}, \"colorscale\": [[0.0, \"#0d0887\"], [0.1111111111111111, \"#46039f\"], [0.2222222222222222, \"#7201a8\"], [0.3333333333333333, \"#9c179e\"], [0.4444444444444444, \"#bd3786\"], [0.5555555555555556, \"#d8576b\"], [0.6666666666666666, \"#ed7953\"], [0.7777777777777778, \"#fb9f3a\"], [0.8888888888888888, \"#fdca26\"], [1.0, \"#f0f921\"]], \"type\": \"histogram2d\"}], \"histogram2dcontour\": [{\"colorbar\": {\"outlinewidth\": 0, \"ticks\": \"\"}, \"colorscale\": [[0.0, \"#0d0887\"], [0.1111111111111111, \"#46039f\"], [0.2222222222222222, \"#7201a8\"], [0.3333333333333333, \"#9c179e\"], [0.4444444444444444, \"#bd3786\"], [0.5555555555555556, \"#d8576b\"], [0.6666666666666666, \"#ed7953\"], [0.7777777777777778, \"#fb9f3a\"], [0.8888888888888888, \"#fdca26\"], [1.0, \"#f0f921\"]], \"type\": \"histogram2dcontour\"}], \"mesh3d\": [{\"colorbar\": {\"outlinewidth\": 0, \"ticks\": \"\"}, \"type\": \"mesh3d\"}], \"parcoords\": [{\"line\": {\"colorbar\": {\"outlinewidth\": 0, \"ticks\": \"\"}}, \"type\": \"parcoords\"}], \"pie\": [{\"automargin\": true, \"type\": \"pie\"}], \"scatter\": [{\"marker\": {\"colorbar\": {\"outlinewidth\": 0, \"ticks\": \"\"}}, \"type\": \"scatter\"}], \"scatter3d\": [{\"line\": {\"colorbar\": {\"outlinewidth\": 0, \"ticks\": \"\"}}, \"marker\": {\"colorbar\": {\"outlinewidth\": 0, \"ticks\": \"\"}}, \"type\": \"scatter3d\"}], \"scattercarpet\": [{\"marker\": {\"colorbar\": {\"outlinewidth\": 0, \"ticks\": \"\"}}, \"type\": \"scattercarpet\"}], \"scattergeo\": [{\"marker\": {\"colorbar\": {\"outlinewidth\": 0, \"ticks\": \"\"}}, \"type\": \"scattergeo\"}], \"scattergl\": [{\"marker\": {\"colorbar\": {\"outlinewidth\": 0, \"ticks\": \"\"}}, \"type\": \"scattergl\"}], \"scattermapbox\": [{\"marker\": {\"colorbar\": {\"outlinewidth\": 0, \"ticks\": \"\"}}, \"type\": \"scattermapbox\"}], \"scatterpolar\": [{\"marker\": {\"colorbar\": {\"outlinewidth\": 0, \"ticks\": \"\"}}, \"type\": \"scatterpolar\"}], \"scatterpolargl\": [{\"marker\": {\"colorbar\": {\"outlinewidth\": 0, \"ticks\": \"\"}}, \"type\": \"scatterpolargl\"}], \"scatterternary\": [{\"marker\": {\"colorbar\": {\"outlinewidth\": 0, \"ticks\": \"\"}}, \"type\": \"scatterternary\"}], \"surface\": [{\"colorbar\": {\"outlinewidth\": 0, \"ticks\": \"\"}, \"colorscale\": [[0.0, \"#0d0887\"], [0.1111111111111111, \"#46039f\"], [0.2222222222222222, \"#7201a8\"], [0.3333333333333333, \"#9c179e\"], [0.4444444444444444, \"#bd3786\"], [0.5555555555555556, \"#d8576b\"], [0.6666666666666666, \"#ed7953\"], [0.7777777777777778, \"#fb9f3a\"], [0.8888888888888888, \"#fdca26\"], [1.0, \"#f0f921\"]], \"type\": \"surface\"}], \"table\": [{\"cells\": {\"fill\": {\"color\": \"#EBF0F8\"}, \"line\": {\"color\": \"white\"}}, \"header\": {\"fill\": {\"color\": \"#C8D4E3\"}, \"line\": {\"color\": \"white\"}}, \"type\": \"table\"}]}, \"layout\": {\"annotationdefaults\": {\"arrowcolor\": \"#2a3f5f\", \"arrowhead\": 0, \"arrowwidth\": 1}, \"coloraxis\": {\"colorbar\": {\"outlinewidth\": 0, \"ticks\": \"\"}}, \"colorscale\": {\"diverging\": [[0, \"#8e0152\"], [0.1, \"#c51b7d\"], [0.2, \"#de77ae\"], [0.3, \"#f1b6da\"], [0.4, \"#fde0ef\"], [0.5, \"#f7f7f7\"], [0.6, \"#e6f5d0\"], [0.7, \"#b8e186\"], [0.8, \"#7fbc41\"], [0.9, \"#4d9221\"], [1, \"#276419\"]], \"sequential\": [[0.0, \"#0d0887\"], [0.1111111111111111, \"#46039f\"], [0.2222222222222222, \"#7201a8\"], [0.3333333333333333, \"#9c179e\"], [0.4444444444444444, \"#bd3786\"], [0.5555555555555556, \"#d8576b\"], [0.6666666666666666, \"#ed7953\"], [0.7777777777777778, \"#fb9f3a\"], [0.8888888888888888, \"#fdca26\"], [1.0, \"#f0f921\"]], \"sequentialminus\": [[0.0, \"#0d0887\"], [0.1111111111111111, \"#46039f\"], [0.2222222222222222, \"#7201a8\"], [0.3333333333333333, \"#9c179e\"], [0.4444444444444444, \"#bd3786\"], [0.5555555555555556, \"#d8576b\"], [0.6666666666666666, \"#ed7953\"], [0.7777777777777778, \"#fb9f3a\"], [0.8888888888888888, \"#fdca26\"], [1.0, \"#f0f921\"]]}, \"colorway\": [\"#636efa\", \"#EF553B\", \"#00cc96\", \"#ab63fa\", \"#FFA15A\", \"#19d3f3\", \"#FF6692\", \"#B6E880\", \"#FF97FF\", \"#FECB52\"], \"font\": {\"color\": \"#2a3f5f\"}, \"geo\": {\"bgcolor\": \"white\", \"lakecolor\": \"white\", \"landcolor\": \"#E5ECF6\", \"showlakes\": true, \"showland\": true, \"subunitcolor\": \"white\"}, \"hoverlabel\": {\"align\": \"left\"}, \"hovermode\": \"closest\", \"mapbox\": {\"style\": \"light\"}, \"paper_bgcolor\": \"white\", \"plot_bgcolor\": \"#E5ECF6\", \"polar\": {\"angularaxis\": {\"gridcolor\": \"white\", \"linecolor\": \"white\", \"ticks\": \"\"}, \"bgcolor\": \"#E5ECF6\", \"radialaxis\": {\"gridcolor\": \"white\", \"linecolor\": \"white\", \"ticks\": \"\"}}, \"scene\": {\"xaxis\": {\"backgroundcolor\": \"#E5ECF6\", \"gridcolor\": \"white\", \"gridwidth\": 2, \"linecolor\": \"white\", \"showbackground\": true, \"ticks\": \"\", \"zerolinecolor\": \"white\"}, \"yaxis\": {\"backgroundcolor\": \"#E5ECF6\", \"gridcolor\": \"white\", \"gridwidth\": 2, \"linecolor\": \"white\", \"showbackground\": true, \"ticks\": \"\", \"zerolinecolor\": \"white\"}, \"zaxis\": {\"backgroundcolor\": \"#E5ECF6\", \"gridcolor\": \"white\", \"gridwidth\": 2, \"linecolor\": \"white\", \"showbackground\": true, \"ticks\": \"\", \"zerolinecolor\": \"white\"}}, \"shapedefaults\": {\"line\": {\"color\": \"#2a3f5f\"}}, \"ternary\": {\"aaxis\": {\"gridcolor\": \"white\", \"linecolor\": \"white\", \"ticks\": \"\"}, \"baxis\": {\"gridcolor\": \"white\", \"linecolor\": \"white\", \"ticks\": \"\"}, \"bgcolor\": \"#E5ECF6\", \"caxis\": {\"gridcolor\": \"white\", \"linecolor\": \"white\", \"ticks\": \"\"}}, \"title\": {\"x\": 0.05}, \"xaxis\": {\"automargin\": true, \"gridcolor\": \"white\", \"linecolor\": \"white\", \"ticks\": \"\", \"title\": {\"standoff\": 15}, \"zerolinecolor\": \"white\", \"zerolinewidth\": 2}, \"yaxis\": {\"automargin\": true, \"gridcolor\": \"white\", \"linecolor\": \"white\", \"ticks\": \"\", \"title\": {\"standoff\": 15}, \"zerolinecolor\": \"white\", \"zerolinewidth\": 2}}}, \"title\": {\"text\": \"pollution index vs affected\"}, \"xaxis\": {\"title\": {\"text\": \"pollution index\"}}, \"yaxis\": {\"title\": {\"text\": \"Total # of Affected\"}}},\n",
       "                        {\"responsive\": true}\n",
       "                    ).then(function(){\n",
       "                            \n",
       "var gd = document.getElementById('a44faf9a-47ba-4abf-b572-b04214a38f5f');\n",
       "var x = new MutationObserver(function (mutations, observer) {{\n",
       "        var display = window.getComputedStyle(gd).display;\n",
       "        if (!display || display === 'none') {{\n",
       "            console.log([gd, 'removed!']);\n",
       "            Plotly.purge(gd);\n",
       "            observer.disconnect();\n",
       "        }}\n",
       "}});\n",
       "\n",
       "// Listen for the removal of the full notebook cells\n",
       "var notebookContainer = gd.closest('#notebook-container');\n",
       "if (notebookContainer) {{\n",
       "    x.observe(notebookContainer, {childList: true});\n",
       "}}\n",
       "\n",
       "// Listen for the clearing of the current output cell\n",
       "var outputEl = gd.closest('.output');\n",
       "if (outputEl) {{\n",
       "    x.observe(outputEl, {childList: true});\n",
       "}}\n",
       "\n",
       "                        })\n",
       "                };\n",
       "                });\n",
       "            </script>\n",
       "        </div>"
      ]
     },
     "metadata": {},
     "output_type": "display_data"
    },
    {
     "name": "stdout",
     "output_type": "stream",
     "text": [
      "Pearsons correlation: -0.115\n",
      "Samples are uncorrelated (fail to reject H0) p=0.236\n",
      "Spearmans correlation: -0.231\n",
      "Samples are correlated (reject H0) p=0.016\n",
      "Kendall correlation coefficient: -0.153\n",
      "Samples are correlated (reject H0) p=0.019\n"
     ]
    }
   ],
   "source": [
    "df = pd.read_csv('affected+pollution.csv')\n",
    "\n",
    "correl(df)"
   ]
  },
  {
   "cell_type": "code",
   "execution_count": null,
   "metadata": {},
   "outputs": [],
   "source": []
  }
 ],
 "metadata": {
  "kernelspec": {
   "display_name": "Python [conda env:.conda-DAND] *",
   "language": "python",
   "name": "conda-env-.conda-DAND-py"
  },
  "language_info": {
   "codemirror_mode": {
    "name": "ipython",
    "version": 3
   },
   "file_extension": ".py",
   "mimetype": "text/x-python",
   "name": "python",
   "nbconvert_exporter": "python",
   "pygments_lexer": "ipython3",
   "version": "3.8.2"
  }
 },
 "nbformat": 4,
 "nbformat_minor": 4
}
