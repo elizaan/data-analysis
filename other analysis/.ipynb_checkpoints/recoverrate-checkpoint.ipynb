{
 "cells": [
  {
   "cell_type": "code",
   "execution_count": 2,
   "metadata": {},
   "outputs": [
    {
     "name": "stderr",
     "output_type": "stream",
     "text": [
      "C:\\Users\\USER\\.conda\\envs\\DAND\\lib\\site-packages\\sklearn\\utils\\deprecation.py:144: FutureWarning: The sklearn.ensemble.forest module is  deprecated in version 0.22 and will be removed in version 0.24. The corresponding classes / functions should instead be imported from sklearn.ensemble. Anything that cannot be imported from sklearn.ensemble is now part of the private API.\n",
      "  warnings.warn(message, FutureWarning)\n"
     ]
    }
   ],
   "source": [
    "import numpy as np\n",
    "import pandas as pd\n",
    "import scipy\n",
    "import statsmodels.api as st\n",
    "import matplotlib.pylab as plt\n",
    "%matplotlib inline\n",
    "from matplotlib.pylab import rcParams\n",
    "rcParams['figure.figsize'] = 10, 6\n",
    "import seaborn as sns\n",
    "import sklearn\n",
    "from sklearn.ensemble.forest import RandomForestRegressor\n",
    "from statsmodels.tsa.stattools import adfuller\n",
    "from statsmodels.graphics.tsaplots import plot_acf, plot_pacf\n",
    "from statsmodels.tsa.stattools import acf, pacf\n",
    "from statsmodels.tsa.arima_model import ARIMA\n",
    "import operator \n",
    "import psycopg2\n",
    "import math\n",
    "import requests\n",
    "import json\n",
    "from flask import jsonify\n",
    "import csv\n",
    "from csv import writer\n",
    "from statistics import mean\n",
    "from plotly.subplots import make_subplots\n",
    "import plotly.graph_objects as go"
   ]
  },
  {
   "cell_type": "markdown",
   "metadata": {},
   "source": [
    "SELECTING AREA OF COUNTRY"
   ]
  },
  {
   "cell_type": "code",
   "execution_count": 3,
   "metadata": {},
   "outputs": [],
   "source": [
    "def getRegion(regID):\n",
    "    try:\n",
    "        \n",
    "        connection = psycopg2.connect(user = \"teamcoronosis\",\n",
    "                                  password = \"p1jGQwEMANAGZ5b72xWh\",\n",
    "                                  host = \"coronosis.cfzyz28p01p7.ap-south-1.rds.amazonaws.com\",\n",
    "                                  port = \"5432\",\n",
    "                                  database = \"postgres\")\n",
    "        cursor = connection.cursor()\n",
    "\n",
    "       \n",
    "    # Print PostgreSQL Connection properties\n",
    "        print ( connection.get_dsn_parameters(),\"\\n\")\n",
    "\n",
    "    # Print PostgreSQL version\n",
    "        cursor.execute(\"SELECT version();\")\n",
    "        record = cursor.fetchone()\n",
    "        print(\"You are connected to - \", record,\"\\n\")\n",
    "    \n",
    "        postgres_select_query = \"select area from regions where alpha2 = %s\"\n",
    "       \n",
    "        cursor.execute(postgres_select_query, (regID,))\n",
    "        \n",
    "        reg = cursor.fetchall()\n",
    "        for r in reg :\n",
    "            print(r[0])\n",
    "            return r[0]\n",
    "        #print(reg)\n",
    "\n",
    "       # connection.commit()\n",
    "       # count = cursor.rowcount\n",
    "       # print (count, \"Record inserted successfully into worldprediction table\")\n",
    "\n",
    "    except (Exception, psycopg2.Error) as error :\n",
    "        if(connection):\n",
    "            print(\"Error fetching data from PostgreSQL table\", error)\n",
    "        \n",
    "            cursor.close()\n",
    "            connection.close()\n",
    "            print(\"PostgreSQL connection is closed\")\n",
    "            \n",
    "    finally:\n",
    "        if(connection):\n",
    "            cursor.close()\n",
    "            connection.close()\n",
    "            print(\"PostgreSQL connection is closed\")\n",
    "    \n",
    "    #return reg[0]"
   ]
  },
  {
   "cell_type": "markdown",
   "metadata": {},
   "source": [
    "COUNTRY TIMELINE"
   ]
  },
  {
   "cell_type": "code",
   "execution_count": 4,
   "metadata": {},
   "outputs": [],
   "source": [
    "url = 'http://coronavirus-tracker-api.herokuapp.com/all'\n",
    "url_iso2 = 'https://restcountries.eu/rest/v2/'\n",
    "\n",
    "\n",
    "\n",
    "response_iso2 = requests.get(url_iso2)\n",
    "lst_iso2 = json.loads(response_iso2.text)\n",
    "\n",
    "response = requests.get(url)\n",
    "lst = json.loads(response.text)\n",
    "\n",
    "dict_pop = {}\n",
    "dict_iso3 = {}\n",
    "dict_affected = {}\n",
    "dict_deaths = {}\n",
    "dict_recovered = {}\n",
    "\n",
    "for i in lst_iso2:\n",
    "    dict_pop[i['alpha2Code']] = i['population']\n",
    "    dict_iso3[i['alpha2Code']] = i['alpha3Code']\n",
    "    dict_affected[i['alpha2Code']] = {}\n",
    "    dict_deaths[i['alpha2Code']] = {}\n",
    "    dict_recovered[i['alpha2Code']] = {}\n",
    "      \n",
    "\n",
    "## INITIALIZATION ##\n",
    "\n",
    "for i in lst['confirmed']['locations']:\n",
    "    code = i['country_code']\n",
    "    if code in dict_iso3:\n",
    "        for j in i['history']:\n",
    "            dict_affected[code][j] = 0\n",
    "\n",
    "for i in lst['recovered']['locations']:\n",
    "    code = i['country_code']\n",
    "    if code in dict_iso3:\n",
    "        for j in i['history']:\n",
    "            dict_recovered[code][j] = 0\n",
    "\n",
    "for i in lst['deaths']['locations']:\n",
    "    code = i['country_code']\n",
    "    if code in dict_iso3:\n",
    "        for j in i['history']:\n",
    "            dict_deaths[code][j] = 0         \n",
    "\n",
    "\n",
    "## Summing up ##\n",
    "\n",
    "for i in lst['deaths']['locations']:\n",
    "    name = i['country']\n",
    "    code = i['country_code']\n",
    "    if code in dict_iso3:\n",
    "        for j in i['history']:\n",
    "            dict_deaths[code][j] = dict_deaths[code][j] + i['history'][j] \n",
    "\n",
    "for i in lst['recovered']['locations']:\n",
    "    name = i['country']\n",
    "    code = i['country_code']\n",
    "    if code in dict_iso3:\n",
    "        for j in i['history']:\n",
    "            dict_recovered[code][j] = dict_recovered[code][j] + i['history'][j] \n",
    "\n",
    "for i in lst['confirmed']['locations']:\n",
    "    name = i['country']\n",
    "    code = i['country_code']\n",
    "    if code in dict_iso3:\n",
    "        for j in i['history']:\n",
    "            dict_affected[code][j] = dict_affected[code][j] + i['history'][j]                         \n",
    "\n",
    "\n",
    "\n",
    "with open('country_model_new.csv', 'w') as csv_file:\n",
    "    csv_writer = writer(csv_file)\n",
    "    headers = ['Country_name', 'Country_code_iso2', 'Country_code_iso3', 'date', 'Tot_affected', 'Tot_dead', 'Tot_recov', 'Population','Rec/affected','Rec/population']\n",
    "    csv_writer.writerow(headers)\n",
    "    for i in lst['confirmed']['locations']:\n",
    "        name = i['country']\n",
    "        code = i['country_code']\n",
    "        if code in dict_iso3:\n",
    "            for j in i['history']:\n",
    "                if dict_affected[code][j]!=0:\n",
    "                    entry = [name, code, dict_iso3[code], j, dict_affected[code][j], dict_deaths[code][j], dict_recovered[code][j], dict_pop[code],dict_recovered[code][j]/dict_affected[code][j],(dict_recovered[code][j]/dict_pop[code])*1000000]\n",
    "                    csv_writer.writerow(entry)\n",
    "\n",
    "                    \n",
    "                    \n",
    "                    \n",
    "                    "
   ]
  },
  {
   "cell_type": "markdown",
   "metadata": {},
   "source": [
    "WORLD TIMELINE"
   ]
  },
  {
   "cell_type": "code",
   "execution_count": 6,
   "metadata": {},
   "outputs": [
    {
     "name": "stdout",
     "output_type": "stream",
     "text": [
      "200\n",
      "[{'updated_at': '2020-01-22T16:00:00.000Z', 'date': '2020-01-21', 'deaths': 17, 'confirmed': 555, 'recovered': 28, 'new_confirmed': 555, 'new_recovered': 28, 'new_deaths': 17, 'active': 510}, {'updated_at': '2020-01-23T16:00:00.000Z', 'date': '2020-01-22', 'deaths': 35, 'confirmed': 1208, 'recovered': 58, 'new_confirmed': 99, 'new_recovered': 2, 'new_deaths': 1, 'active': 1115}, {'updated_at': '2020-01-24T16:00:00.000Z', 'date': '2020-01-23', 'deaths': 44, 'confirmed': 1594, 'recovered': 66, 'new_confirmed': 288, 'new_recovered': 6, 'new_deaths': 8, 'active': 1484}, {'updated_at': '2020-01-25T16:00:00.000Z', 'date': '2020-01-24', 'deaths': 68, 'confirmed': 2379, 'recovered': 75, 'new_confirmed': 497, 'new_recovered': 3, 'new_deaths': 16, 'active': 2236}, {'updated_at': '2020-01-26T15:00:00.000Z', 'date': '2020-01-25', 'deaths': 98, 'confirmed': 3556, 'recovered': 91, 'new_confirmed': 680, 'new_recovered': 13, 'new_deaths': 14, 'active': 3367}, {'updated_at': '2020-01-27T22:59:00.000Z', 'date': '2020-01-26', 'deaths': 138, 'confirmed': 5044, 'recovered': 113, 'new_confirmed': 808, 'new_recovered': 9, 'new_deaths': 26, 'active': 4793}, {'updated_at': '2020-01-28T22:00:00.000Z', 'date': '2020-01-27', 'deaths': 213, 'confirmed': 8504, 'recovered': 168, 'new_confirmed': 2652, 'new_recovered': 46, 'new_deaths': 49, 'active': 8123}, {'updated_at': '2020-01-29T18:30:00.000Z', 'date': '2020-01-28', 'deaths': 264, 'confirmed': 11743, 'recovered': 233, 'new_confirmed': 587, 'new_recovered': 19, 'new_deaths': 2, 'active': 11246}, {'updated_at': '2020-01-30T15:00:00.000Z', 'date': '2020-01-29', 'deaths': 304, 'confirmed': 14400, 'recovered': 269, 'new_confirmed': 2070, 'new_recovered': 17, 'new_deaths': 38, 'active': 13827}, {'updated_at': '2020-01-31T22:59:00.000Z', 'date': '2020-01-30', 'deaths': 384, 'confirmed': 18160, 'recovered': 365, 'new_confirmed': 1690, 'new_recovered': 79, 'new_deaths': 42, 'active': 17411}, {'updated_at': '2020-02-01T18:43:00.000Z', 'date': '2020-01-31', 'deaths': 472, 'confirmed': 22008, 'recovered': 511, 'new_confirmed': 2113, 'new_recovered': 62, 'new_deaths': 46, 'active': 21025}, {'updated_at': '2020-02-01T22:43:02.000Z', 'date': '2020-02-01', 'deaths': 259, 'confirmed': 12049, 'recovered': 283, 'new_confirmed': 1, 'new_recovered': 0, 'new_deaths': 0, 'active': 11507}, {'updated_at': '2020-02-02T21:33:07.000Z', 'date': '2020-02-02', 'deaths': 362, 'confirmed': 16694, 'recovered': 465, 'new_confirmed': 4749, 'new_recovered': 188, 'new_deaths': 103, 'active': 15867}, {'updated_at': '2020-02-03T20:43:02.000Z', 'date': '2020-02-03', 'deaths': 425, 'confirmed': 19750, 'recovered': 615, 'new_confirmed': 3094, 'new_recovered': 151, 'new_deaths': 64, 'active': 18710}, {'updated_at': '2020-02-04T15:43:03.000Z', 'date': '2020-02-04', 'deaths': 491, 'confirmed': 23833, 'recovered': 851, 'new_confirmed': 4011, 'new_recovered': 229, 'new_deaths': 66, 'active': 22491}, {'updated_at': '2020-02-05T15:33:03.000Z', 'date': '2020-02-05', 'deaths': 563, 'confirmed': 27516, 'recovered': 1115, 'new_confirmed': 3744, 'new_recovered': 272, 'new_deaths': 72, 'active': 25838}, {'updated_at': '2020-02-06T14:03:04.000Z', 'date': '2020-02-06', 'deaths': 633, 'confirmed': 30695, 'recovered': 1482, 'new_confirmed': 3182, 'new_recovered': 363, 'new_deaths': 70, 'active': 28580}, {'updated_at': '2020-02-07T17:33:02.000Z', 'date': '2020-02-07', 'deaths': 719, 'confirmed': 34245, 'recovered': 2004, 'new_confirmed': 3533, 'new_recovered': 524, 'new_deaths': 85, 'active': 31522}, {'updated_at': '2020-02-08T11:53:01.000Z', 'date': '2020-02-08', 'deaths': 805, 'confirmed': 36944, 'recovered': 2612, 'new_confirmed': 2729, 'new_recovered': 605, 'new_deaths': 87, 'active': 33527}, {'updated_at': '2020-02-09T19:33:03.000Z', 'date': '2020-02-09', 'deaths': 905, 'confirmed': 39981, 'recovered': 3231, 'new_confirmed': 3027, 'new_recovered': 628, 'new_deaths': 100, 'active': 35845}, {'updated_at': '2020-02-10T22:03:09.000Z', 'date': '2020-02-10', 'deaths': 1012, 'confirmed': 42500, 'recovered': 3929, 'new_confirmed': 2541, 'new_recovered': 702, 'new_deaths': 107, 'active': 37559}, {'updated_at': '2020-02-11T18:33:03.000Z', 'date': '2020-02-11', 'deaths': 1112, 'confirmed': 44582, 'recovered': 4679, 'new_confirmed': 2040, 'new_recovered': 737, 'new_deaths': 100, 'active': 38791}, {'updated_at': '2020-02-12T18:53:02.000Z', 'date': '2020-02-12', 'deaths': 1118, 'confirmed': 44908, 'recovered': 5124, 'new_confirmed': 379, 'new_recovered': 467, 'new_deaths': 5, 'active': 38666}, {'updated_at': '2020-02-13T17:53:02.000Z', 'date': '2020-02-13', 'deaths': 1370, 'confirmed': 60098, 'recovered': 6275, 'new_confirmed': 15148, 'new_recovered': 1145, 'new_deaths': 253, 'active': 52453}, {'updated_at': '2020-02-14T22:53:02.000Z', 'date': '2020-02-14', 'deaths': 1522, 'confirmed': 66473, 'recovered': 8005, 'new_confirmed': 6474, 'new_recovered': 1763, 'new_deaths': 152, 'active': 56946}, {'updated_at': '2020-02-15T22:53:02.000Z', 'date': '2020-02-15', 'deaths': 1665, 'confirmed': 68618, 'recovered': 9355, 'new_confirmed': 2078, 'new_recovered': 1337, 'new_deaths': 143, 'active': 57598}, {'updated_at': '2020-02-16T19:43:02.000Z', 'date': '2020-02-16', 'deaths': 1768, 'confirmed': 70751, 'recovered': 10825, 'new_confirmed': 2124, 'new_recovered': 1470, 'new_deaths': 104, 'active': 58158}, {'updated_at': '2020-02-17T22:43:01.000Z', 'date': '2020-02-17', 'deaths': 1866, 'confirmed': 72688, 'recovered': 12537, 'new_confirmed': 1935, 'new_recovered': 1718, 'new_deaths': 98, 'active': 58285}, {'updated_at': '2020-02-18T16:23:04.000Z', 'date': '2020-02-18', 'deaths': 2004, 'confirmed': 74435, 'recovered': 14285, 'new_confirmed': 1790, 'new_recovered': 1769, 'new_deaths': 139, 'active': 58146}, {'updated_at': '2020-02-19T22:43:02.000Z', 'date': '2020-02-19', 'deaths': 2120, 'confirmed': 74834, 'recovered': 16031, 'new_confirmed': 424, 'new_recovered': 1768, 'new_deaths': 115, 'active': 56683}, {'updated_at': '2020-02-20T16:33:02.000Z', 'date': '2020-02-20', 'deaths': 2243, 'confirmed': 75304, 'recovered': 18050, 'new_confirmed': 545, 'new_recovered': 2056, 'new_deaths': 123, 'active': 55011}, {'updated_at': '2020-02-21T22:33:06.000Z', 'date': '2020-02-21', 'deaths': 2247, 'confirmed': 76141, 'recovered': 18845, 'new_confirmed': 644, 'new_recovered': 713, 'new_deaths': 4, 'active': 55049}, {'updated_at': '2020-02-22T22:43:02.000Z', 'date': '2020-02-22', 'deaths': 2453, 'confirmed': 77718, 'recovered': 22758, 'new_confirmed': 1756, 'new_recovered': 3996, 'new_deaths': 207, 'active': 52507}, {'updated_at': '2020-02-23T22:43:02.000Z', 'date': '2020-02-23', 'deaths': 2464, 'confirmed': 78121, 'recovered': 23303, 'new_confirmed': 329, 'new_recovered': 509, 'new_deaths': 10, 'active': 52354}, {'updated_at': '2020-02-24T22:43:01.000Z', 'date': '2020-02-24', 'deaths': 2624, 'confirmed': 78657, 'recovered': 25095, 'new_confirmed': 585, 'new_recovered': 1834, 'new_deaths': 160, 'active': 50938}, {'updated_at': '2020-02-25T22:43:03.000Z', 'date': '2020-02-25', 'deaths': 2704, 'confirmed': 79635, 'recovered': 27853, 'new_confirmed': 845, 'new_recovered': 2678, 'new_deaths': 79, 'active': 49078}, {'updated_at': '2020-02-26T22:53:02.000Z', 'date': '2020-02-26', 'deaths': 2765, 'confirmed': 80579, 'recovered': 30304, 'new_confirmed': 968, 'new_recovered': 2469, 'new_deaths': 61, 'active': 47510}, {'updated_at': '2020-02-27T22:33:02.000Z', 'date': '2020-02-27', 'deaths': 2808, 'confirmed': 81795, 'recovered': 33147, 'new_confirmed': 1359, 'new_recovered': 2893, 'new_deaths': 44, 'active': 45840}, {'updated_at': '2020-02-28T20:03:02.000Z', 'date': '2020-02-28', 'deaths': 2865, 'confirmed': 83208, 'recovered': 36583, 'new_confirmed': 1367, 'new_recovered': 3434, 'new_deaths': 56, 'active': 43760}, {'updated_at': '2020-02-29T22:13:06.000Z', 'date': '2020-02-29', 'deaths': 2934, 'confirmed': 85217, 'recovered': 39745, 'new_confirmed': 1891, 'new_recovered': 3071, 'new_deaths': 69, 'active': 42538}, {'updated_at': '2020-03-01T22:43:03.000Z', 'date': '2020-03-01', 'deaths': 2989, 'confirmed': 87549, 'recovered': 42675, 'new_confirmed': 2357, 'new_recovered': 2934, 'new_deaths': 55, 'active': 41885}, {'updated_at': '2020-03-02T22:53:02.000Z', 'date': '2020-03-02', 'deaths': 3078, 'confirmed': 89450, 'recovered': 45545, 'new_confirmed': 1938, 'new_recovered': 2886, 'new_deaths': 89, 'active': 40827}, {'updated_at': '2020-03-03T22:53:03.000Z', 'date': '2020-03-03', 'deaths': 3152, 'confirmed': 91910, 'recovered': 48161, 'new_confirmed': 2534, 'new_recovered': 2627, 'new_deaths': 75, 'active': 40597}, {'updated_at': '2020-03-04T20:13:07.000Z', 'date': '2020-03-04', 'deaths': 3245, 'confirmed': 94071, 'recovered': 51010, 'new_confirmed': 2277, 'new_recovered': 2942, 'new_deaths': 94, 'active': 39816}, {'updated_at': '2020-03-05T22:53:02.000Z', 'date': '2020-03-05', 'deaths': 3339, 'confirmed': 96973, 'recovered': 53744, 'new_confirmed': 2758, 'new_recovered': 2626, 'new_deaths': 94, 'active': 39890}, {'updated_at': '2020-03-06T19:43:03.000Z', 'date': '2020-03-06', 'deaths': 3453, 'confirmed': 100872, 'recovered': 55800, 'new_confirmed': 3911, 'new_recovered': 2039, 'new_deaths': 112, 'active': 41619}, {'updated_at': '2020-03-07T19:43:03.000Z', 'date': '2020-03-07', 'deaths': 3551, 'confirmed': 104783, 'recovered': 58293, 'new_confirmed': 4030, 'new_recovered': 2493, 'new_deaths': 98, 'active': 42939}, {'updated_at': '2020-03-08T21:03:11.000Z', 'date': '2020-03-08', 'deaths': 3796, 'confirmed': 108774, 'recovered': 60609, 'new_confirmed': 3978, 'new_recovered': 2353, 'new_deaths': 245, 'active': 44369}, {'updated_at': '2020-03-09T22:33:02.000Z', 'date': '2020-03-09', 'deaths': 3987, 'confirmed': 112077, 'recovered': 62322, 'new_confirmed': 3768, 'new_recovered': 1817, 'new_deaths': 193, 'active': 45768}, {'updated_at': '2020-03-10T22:53:02.000Z', 'date': '2020-03-10', 'deaths': 4252, 'confirmed': 117569, 'recovered': 64270, 'new_confirmed': 4975, 'new_recovered': 1832, 'new_deaths': 271, 'active': 49047}, {'updated_at': '2020-03-11T22:53:02.000Z', 'date': '2020-03-11', 'deaths': 4613, 'confirmed': 125252, 'recovered': 66688, 'new_confirmed': 7530, 'new_recovered': 2402, 'new_deaths': 360, 'active': 53951}, {'updated_at': '2020-03-12T22:44:32.000Z', 'date': '2020-03-12', 'deaths': 3810, 'confirmed': 109467, 'recovered': 66720, 'new_confirmed': 2459, 'new_recovered': 1313, 'new_deaths': 103, 'active': 38937}, {'updated_at': '2020-03-13T22:53:03.000Z', 'date': '2020-03-13', 'deaths': 5397, 'confirmed': 144527, 'recovered': 69930, 'new_confirmed': 16857, 'new_recovered': 1929, 'new_deaths': 682, 'active': 69200}, {'updated_at': '2020-03-14T22:33:02.000Z', 'date': '2020-03-14', 'deaths': 6178, 'confirmed': 158781, 'recovered': 72648, 'new_confirmed': 14664, 'new_recovered': 2757, 'new_deaths': 783, 'active': 79955}, {'updated_at': '2020-03-15T17:20:19.000Z', 'date': '2020-03-15', 'deaths': 4585, 'confirmed': 139751, 'recovered': 73151, 'new_confirmed': 7562, 'new_recovered': 3028, 'new_deaths': 253, 'active': 62015}, {'updated_at': '2020-03-16T22:53:02.000Z', 'date': '2020-03-16', 'deaths': 7103, 'confirmed': 178565, 'recovered': 77757, 'new_confirmed': 14129, 'new_recovered': 2062, 'new_deaths': 691, 'active': 93705}, {'updated_at': '2020-03-17T22:33:02.000Z', 'date': '2020-03-17', 'deaths': 7890, 'confirmed': 195637, 'recovered': 80480, 'new_confirmed': 15629, 'new_recovered': 2757, 'new_deaths': 779, 'active': 107267}, {'updated_at': '2020-03-18T18:53:03.000Z', 'date': '2020-03-18', 'deaths': 8719, 'confirmed': 213506, 'recovered': 82971, 'new_confirmed': 17735, 'new_recovered': 2473, 'new_deaths': 828, 'active': 121816}, {'updated_at': '2020-03-19T20:13:15.000Z', 'date': '2020-03-19', 'deaths': 9847, 'confirmed': 241390, 'recovered': 84623, 'new_confirmed': 27799, 'new_recovered': 1661, 'new_deaths': 1136, 'active': 146920}, {'updated_at': '2020-03-20T22:13:09.000Z', 'date': '2020-03-20', 'deaths': 11289, 'confirmed': 271122, 'recovered': 87058, 'new_confirmed': 29458, 'new_recovered': 2471, 'new_deaths': 1433, 'active': 172775}, {'updated_at': '2020-03-21T22:43:02.000Z', 'date': '2020-03-21', 'deaths': 12961, 'confirmed': 303509, 'recovered': 91346, 'new_confirmed': 32361, 'new_recovered': 4275, 'new_deaths': 1677, 'active': 199202}, {'updated_at': '2020-03-22T22:43:03.000Z', 'date': '2020-03-22', 'deaths': 14621, 'confirmed': 334762, 'recovered': 97494, 'new_confirmed': 31430, 'new_recovered': 6215, 'new_deaths': 1662, 'active': 222649}, {'updated_at': '2020-03-23T22:23:20.000Z', 'date': '2020-03-23', 'deaths': 16489, 'confirmed': 377575, 'recovered': 100391, 'new_confirmed': 42501, 'new_recovered': 3035, 'new_deaths': 1867, 'active': 260695}, {'updated_at': '2020-03-24T22:41:50.000Z', 'date': '2020-03-24', 'deaths': 18615, 'confirmed': 417964, 'recovered': 107705, 'new_confirmed': 40404, 'new_recovered': 7367, 'new_deaths': 2126, 'active': 291644}, {'updated_at': '2020-03-25T22:37:49.000Z', 'date': '2020-03-25', 'deaths': 21171, 'confirmed': 466882, 'recovered': 113183, 'new_confirmed': 48918, 'new_recovered': 5478, 'new_deaths': 2556, 'active': 332528}, {'updated_at': '2020-03-26T22:53:24.000Z', 'date': '2020-03-26', 'deaths': 23958, 'confirmed': 528724, 'recovered': 121536, 'new_confirmed': 61842, 'new_recovered': 8409, 'new_deaths': 2790, 'active': 383230}, {'updated_at': '2020-03-27T22:27:48.000Z', 'date': '2020-03-27', 'deaths': 27186, 'confirmed': 592394, 'recovered': 130300, 'new_confirmed': 63670, 'new_recovered': 8764, 'new_deaths': 3228, 'active': 434908}, {'updated_at': '2020-03-28T22:11:06.000Z', 'date': '2020-03-28', 'deaths': 30640, 'confirmed': 659795, 'recovered': 138799, 'new_confirmed': 67401, 'new_recovered': 8499, 'new_deaths': 3454, 'active': 490356}, {'updated_at': '2020-03-29T21:14:06.000Z', 'date': '2020-03-29', 'deaths': 33913, 'confirmed': 719190, 'recovered': 148460, 'new_confirmed': 59395, 'new_recovered': 9661, 'new_deaths': 3273, 'active': 536817}, {'updated_at': '2020-03-30T20:58:55.000Z', 'date': '2020-03-30', 'deaths': 37570, 'confirmed': 781427, 'recovered': 163944, 'new_confirmed': 62237, 'new_recovered': 15484, 'new_deaths': 3657, 'active': 579913}, {'updated_at': '2020-03-31T21:49:27.000Z', 'date': '2020-03-31', 'deaths': 42094, 'confirmed': 856527, 'recovered': 177407, 'new_confirmed': 75100, 'new_recovered': 13469, 'new_deaths': 4524, 'active': 637026}, {'updated_at': '2020-04-01T20:04:58.000Z', 'date': '2020-04-01', 'deaths': 46793, 'confirmed': 931610, 'recovered': 192546, 'new_confirmed': 75083, 'new_recovered': 15408, 'new_deaths': 4699, 'active': 692271}, {'updated_at': '2020-04-02T21:32:01.000Z', 'date': '2020-04-02', 'deaths': 52967, 'confirmed': 1012130, 'recovered': 209616, 'new_confirmed': 80520, 'new_recovered': 17070, 'new_deaths': 6174, 'active': 749547}, {'updated_at': '2020-04-03T20:52:45.000Z', 'date': '2020-04-03', 'deaths': 58771, 'confirmed': 1094856, 'recovered': 225146, 'new_confirmed': 82726, 'new_recovered': 15560, 'new_deaths': 5804, 'active': 810939}, {'updated_at': '2020-04-04T21:41:02.000Z', 'date': '2020-04-04', 'deaths': 64590, 'confirmed': 1196311, 'recovered': 245496, 'new_confirmed': 101455, 'new_recovered': 20351, 'new_deaths': 5820, 'active': 886225}, {'updated_at': '2020-04-05T21:13:44.000Z', 'date': '2020-04-05', 'deaths': 69358, 'confirmed': 1270991, 'recovered': 259345, 'new_confirmed': 74680, 'new_recovered': 13855, 'new_deaths': 4770, 'active': 942288}, {'updated_at': '2020-04-06T21:28:35.000Z', 'date': '2020-04-06', 'deaths': 74549, 'confirmed': 1343959, 'recovered': 275849, 'new_confirmed': 72968, 'new_recovered': 16507, 'new_deaths': 5192, 'active': 993561}, {'updated_at': '2020-04-07T21:11:31.000Z', 'date': '2020-04-07', 'deaths': 81846, 'confirmed': 1424922, 'recovered': 299369, 'new_confirmed': 80963, 'new_recovered': 23520, 'new_deaths': 7297, 'active': 1043707}, {'updated_at': '2020-04-08T20:59:00.000Z', 'date': '2020-04-08', 'deaths': 88316, 'confirmed': 1509914, 'recovered': 327968, 'new_confirmed': 84992, 'new_recovered': 28599, 'new_deaths': 6470, 'active': 1093630}, {'updated_at': '2020-04-09T21:09:19.000Z', 'date': '2020-04-09', 'deaths': 95433, 'confirmed': 1594159, 'recovered': 353280, 'new_confirmed': 84245, 'new_recovered': 25344, 'new_deaths': 7117, 'active': 1145446}, {'updated_at': '2020-04-10T21:01:43.000Z', 'date': '2020-04-10', 'deaths': 102496, 'confirmed': 1690454, 'recovered': 375378, 'new_confirmed': 96295, 'new_recovered': 22098, 'new_deaths': 7063, 'active': 1212580}, {'updated_at': '2020-04-11T20:52:46.000Z', 'date': '2020-04-11', 'deaths': 108608, 'confirmed': 1770204, 'recovered': 401374, 'new_confirmed': 79750, 'new_recovered': 25996, 'new_deaths': 6112, 'active': 1260222}, {'updated_at': '2020-04-12T21:25:04.000Z', 'date': '2020-04-12', 'deaths': 114059, 'confirmed': 1845341, 'recovered': 420985, 'new_confirmed': 75151, 'new_recovered': 19611, 'new_deaths': 5451, 'active': 1310297}, {'updated_at': '2020-04-13T21:15:42.000Z', 'date': '2020-04-13', 'deaths': 119457, 'confirmed': 1915946, 'recovered': 447918, 'new_confirmed': 70605, 'new_recovered': 27255, 'new_deaths': 5398, 'active': 1348571}, {'updated_at': '2020-04-14T21:41:11.000Z', 'date': '2020-04-14', 'deaths': 125957, 'confirmed': 1974713, 'recovered': 473492, 'new_confirmed': 65281, 'new_recovered': 25574, 'new_deaths': 6502, 'active': 1375264}, {'updated_at': '2020-04-15T21:04:26.000Z', 'date': '2020-04-15', 'deaths': 134150, 'confirmed': 2054499, 'recovered': 510249, 'new_confirmed': 79786, 'new_recovered': 36757, 'new_deaths': 8193, 'active': 1410100}, {'updated_at': '2020-04-16T21:38:19.000Z', 'date': '2020-04-16', 'deaths': 143771, 'confirmed': 2151018, 'recovered': 541319, 'new_confirmed': 96519, 'new_recovered': 31071, 'new_deaths': 9621, 'active': 1465928}, {'updated_at': '2020-04-17T21:38:48.000Z', 'date': '2020-04-17', 'deaths': 153789, 'confirmed': 2238500, 'recovered': 567541, 'new_confirmed': 87482, 'new_recovered': 27071, 'new_deaths': 10018, 'active': 1517170}, {'updated_at': '2020-04-18T20:40:18.000Z', 'date': '2020-04-18', 'deaths': 159476, 'confirmed': 2316012, 'recovered': 591508, 'new_confirmed': 77513, 'new_recovered': 23967, 'new_deaths': 5687, 'active': 1565028}, {'updated_at': '2020-04-19T21:49:05.000Z', 'date': '2020-04-19', 'deaths': 165009, 'confirmed': 2399600, 'recovered': 623088, 'new_confirmed': 83588, 'new_recovered': 31580, 'new_deaths': 5533, 'active': 1611503}, {'updated_at': '2020-04-20T21:44:50.000Z', 'date': '2020-04-20', 'deaths': 169951, 'confirmed': 2470460, 'recovered': 644923, 'new_confirmed': 70860, 'new_recovered': 21835, 'new_deaths': 4942, 'active': 1655586}, {'updated_at': '2020-04-21T21:39:09.000Z', 'date': '2020-04-21', 'deaths': 176547, 'confirmed': 2547476, 'recovered': 679004, 'new_confirmed': 77016, 'new_recovered': 34329, 'new_deaths': 6596, 'active': 1691925}, {'updated_at': '2020-04-22T21:38:57.000Z', 'date': '2020-04-22', 'deaths': 182991, 'confirmed': 2621587, 'recovered': 708879, 'new_confirmed': 76283, 'new_recovered': 29875, 'new_deaths': 6444, 'active': 1729717}, {'updated_at': '2020-04-23T08:58:50.000Z', 'date': '2020-04-23', 'deaths': 190822, 'confirmed': 2707035, 'recovered': 737647, 'new_confirmed': 85448, 'new_recovered': 28768, 'new_deaths': 7831, 'active': 1778566}, {'updated_at': '2020-04-24T04:54:42.000Z', 'date': '2020-04-24', 'deaths': 197115, 'confirmed': 2808856, 'recovered': 792581, 'new_confirmed': 101821, 'new_recovered': 54938, 'new_deaths': 6293, 'active': 1819160}, {'updated_at': '2020-04-25T00:31:18.000Z', 'date': '2020-04-25', 'deaths': 202812, 'confirmed': 2895027, 'recovered': 815845, 'new_confirmed': 86171, 'new_recovered': 23264, 'new_deaths': 5697, 'active': 1876370}, {'updated_at': '2020-04-26T08:31:22.000Z', 'date': '2020-04-26', 'deaths': 206510, 'confirmed': 2969756, 'recovered': 864902, 'new_confirmed': 74730, 'new_recovered': 49057, 'new_deaths': 3698, 'active': 1898344}, {'updated_at': '2020-04-27T05:20:17.000Z', 'date': '2020-04-27', 'deaths': 211133, 'confirmed': 3040045, 'recovered': 893130, 'new_confirmed': 70289, 'new_recovered': 28228, 'new_deaths': 4623, 'active': 1935782}, {'updated_at': '2020-04-28T00:32:29.000Z', 'date': '2020-04-28', 'deaths': 217119, 'confirmed': 3114674, 'recovered': 927833, 'new_confirmed': 75151, 'new_recovered': 34706, 'new_deaths': 5986, 'active': 1969722}, {'updated_at': '2020-04-29T00:32:27.000Z', 'date': '2020-04-29', 'deaths': 227603, 'confirmed': 3192161, 'recovered': 971883, 'new_confirmed': 79999, 'new_recovered': 44060, 'new_deaths': 10484, 'active': 1992675}, {'updated_at': '2020-04-30T00:32:28.000Z', 'date': '2020-04-30', 'deaths': 233343, 'confirmed': 3254831, 'recovered': 1013756, 'new_confirmed': 86134, 'new_recovered': 62755, 'new_deaths': 5740, 'active': 2007732}, {'updated_at': '2020-05-01T00:32:27.000Z', 'date': '2020-05-01', 'deaths': 238605, 'confirmed': 3341746, 'recovered': 1052304, 'new_confirmed': 86915, 'new_recovered': 38549, 'new_deaths': 5268, 'active': 2050837}, {'updated_at': '2020-05-02T00:32:28.000Z', 'date': '2020-05-02', 'deaths': 243763, 'confirmed': 3425295, 'recovered': 1092018, 'new_confirmed': 83716, 'new_recovered': 40179, 'new_deaths': 5158, 'active': 2089514}, {'updated_at': '2020-05-03T00:32:28.000Z', 'date': '2020-05-03', 'deaths': 247425, 'confirmed': 3504649, 'recovered': 1124090, 'new_confirmed': 79354, 'new_recovered': 32072, 'new_deaths': 3662, 'active': 2133134}, {'updated_at': '2020-05-04T00:32:34.000Z', 'date': '2020-05-04', 'deaths': 251488, 'confirmed': 3580956, 'recovered': 1161525, 'new_confirmed': 76308, 'new_recovered': 37435, 'new_deaths': 4063, 'active': 2167943}, {'updated_at': '2020-05-05T00:32:31.000Z', 'date': '2020-05-05', 'deaths': 257190, 'confirmed': 3660582, 'recovered': 1197521, 'new_confirmed': 79626, 'new_recovered': 35996, 'new_deaths': 5702, 'active': 2205871}, {'updated_at': '2020-05-06T00:32:28.000Z', 'date': '2020-05-06', 'deaths': 263782, 'confirmed': 3753229, 'recovered': 1244054, 'new_confirmed': 92647, 'new_recovered': 46533, 'new_deaths': 6592, 'active': 2245393}, {'updated_at': '2020-05-07T00:32:32.000Z', 'date': '2020-05-07', 'deaths': 269517, 'confirmed': 3843585, 'recovered': 1283296, 'new_confirmed': 91939, 'new_recovered': 39243, 'new_deaths': 5735, 'active': 2290772}, {'updated_at': '2020-05-08T00:32:35.000Z', 'date': '2020-05-08', 'deaths': 274848, 'confirmed': 3935930, 'recovered': 1320548, 'new_confirmed': 93825, 'new_recovered': 37252, 'new_deaths': 5331, 'active': 2340534}, {'updated_at': '2020-05-09T00:32:30.000Z', 'date': '2020-05-09', 'deaths': 279260, 'confirmed': 4021873, 'recovered': 1374061, 'new_confirmed': 85943, 'new_recovered': 53513, 'new_deaths': 4412, 'active': 2368552}, {'updated_at': '2020-05-10T00:32:30.000Z', 'date': '2020-05-10', 'deaths': 282658, 'confirmed': 4099553, 'recovered': 1407341, 'new_confirmed': 77689, 'new_recovered': 33280, 'new_deaths': 3398, 'active': 2409554}, {'updated_at': '2020-05-11T01:32:27.000Z', 'date': '2020-05-11', 'deaths': 286279, 'confirmed': 4175344, 'recovered': 1454528, 'new_confirmed': 75848, 'new_recovered': 47187, 'new_deaths': 3621, 'active': 2434537}, {'updated_at': '2020-05-12T01:32:26.000Z', 'date': '2020-05-12', 'deaths': 291912, 'confirmed': 4259760, 'recovered': 1491708, 'new_confirmed': 84436, 'new_recovered': 39626, 'new_deaths': 5639, 'active': 2476140}, {'updated_at': '2020-05-14T12:35:54.648Z', 'date': '2020-05-14', 'deaths': 298559, 'confirmed': 4430152, 'recovered': 1666517, 'active': 2465076, 'new_confirmed': 170392, 'new_recovered': 174809, 'new_deaths': 6647, 'is_in_progress': True}]\n"
     ]
    },
    {
     "ename": "ValueError",
     "evalue": "dict contains fields not in fieldnames: 'is_in_progress'",
     "output_type": "error",
     "traceback": [
      "\u001b[1;31m---------------------------------------------------------------------------\u001b[0m",
      "\u001b[1;31mValueError\u001b[0m                                Traceback (most recent call last)",
      "\u001b[1;32m<ipython-input-6-d48115e0fab3>\u001b[0m in \u001b[0;36m<module>\u001b[1;34m\u001b[0m\n\u001b[0;32m     32\u001b[0m             \u001b[1;31m#print(line['CFR1'],line['CFR2'])\u001b[0m\u001b[1;33m\u001b[0m\u001b[1;33m\u001b[0m\u001b[1;33m\u001b[0m\u001b[0m\n\u001b[0;32m     33\u001b[0m             \u001b[1;31m#print(line)\u001b[0m\u001b[1;33m\u001b[0m\u001b[1;33m\u001b[0m\u001b[1;33m\u001b[0m\u001b[0m\n\u001b[1;32m---> 34\u001b[1;33m             \u001b[0mcsv_writer\u001b[0m\u001b[1;33m.\u001b[0m\u001b[0mwriterow\u001b[0m\u001b[1;33m(\u001b[0m\u001b[0mline\u001b[0m\u001b[1;33m)\u001b[0m\u001b[1;33m\u001b[0m\u001b[1;33m\u001b[0m\u001b[0m\n\u001b[0m",
      "\u001b[1;32m~\\.conda\\envs\\DAND\\lib\\csv.py\u001b[0m in \u001b[0;36mwriterow\u001b[1;34m(self, rowdict)\u001b[0m\n\u001b[0;32m    152\u001b[0m \u001b[1;33m\u001b[0m\u001b[0m\n\u001b[0;32m    153\u001b[0m     \u001b[1;32mdef\u001b[0m \u001b[0mwriterow\u001b[0m\u001b[1;33m(\u001b[0m\u001b[0mself\u001b[0m\u001b[1;33m,\u001b[0m \u001b[0mrowdict\u001b[0m\u001b[1;33m)\u001b[0m\u001b[1;33m:\u001b[0m\u001b[1;33m\u001b[0m\u001b[1;33m\u001b[0m\u001b[0m\n\u001b[1;32m--> 154\u001b[1;33m         \u001b[1;32mreturn\u001b[0m \u001b[0mself\u001b[0m\u001b[1;33m.\u001b[0m\u001b[0mwriter\u001b[0m\u001b[1;33m.\u001b[0m\u001b[0mwriterow\u001b[0m\u001b[1;33m(\u001b[0m\u001b[0mself\u001b[0m\u001b[1;33m.\u001b[0m\u001b[0m_dict_to_list\u001b[0m\u001b[1;33m(\u001b[0m\u001b[0mrowdict\u001b[0m\u001b[1;33m)\u001b[0m\u001b[1;33m)\u001b[0m\u001b[1;33m\u001b[0m\u001b[1;33m\u001b[0m\u001b[0m\n\u001b[0m\u001b[0;32m    155\u001b[0m \u001b[1;33m\u001b[0m\u001b[0m\n\u001b[0;32m    156\u001b[0m     \u001b[1;32mdef\u001b[0m \u001b[0mwriterows\u001b[0m\u001b[1;33m(\u001b[0m\u001b[0mself\u001b[0m\u001b[1;33m,\u001b[0m \u001b[0mrowdicts\u001b[0m\u001b[1;33m)\u001b[0m\u001b[1;33m:\u001b[0m\u001b[1;33m\u001b[0m\u001b[1;33m\u001b[0m\u001b[0m\n",
      "\u001b[1;32m~\\.conda\\envs\\DAND\\lib\\csv.py\u001b[0m in \u001b[0;36m_dict_to_list\u001b[1;34m(self, rowdict)\u001b[0m\n\u001b[0;32m    147\u001b[0m             \u001b[0mwrong_fields\u001b[0m \u001b[1;33m=\u001b[0m \u001b[0mrowdict\u001b[0m\u001b[1;33m.\u001b[0m\u001b[0mkeys\u001b[0m\u001b[1;33m(\u001b[0m\u001b[1;33m)\u001b[0m \u001b[1;33m-\u001b[0m \u001b[0mself\u001b[0m\u001b[1;33m.\u001b[0m\u001b[0mfieldnames\u001b[0m\u001b[1;33m\u001b[0m\u001b[1;33m\u001b[0m\u001b[0m\n\u001b[0;32m    148\u001b[0m             \u001b[1;32mif\u001b[0m \u001b[0mwrong_fields\u001b[0m\u001b[1;33m:\u001b[0m\u001b[1;33m\u001b[0m\u001b[1;33m\u001b[0m\u001b[0m\n\u001b[1;32m--> 149\u001b[1;33m                 raise ValueError(\"dict contains fields not in fieldnames: \"\n\u001b[0m\u001b[0;32m    150\u001b[0m                                  + \", \".join([repr(x) for x in wrong_fields]))\n\u001b[0;32m    151\u001b[0m         \u001b[1;32mreturn\u001b[0m \u001b[1;33m(\u001b[0m\u001b[0mrowdict\u001b[0m\u001b[1;33m.\u001b[0m\u001b[0mget\u001b[0m\u001b[1;33m(\u001b[0m\u001b[0mkey\u001b[0m\u001b[1;33m,\u001b[0m \u001b[0mself\u001b[0m\u001b[1;33m.\u001b[0m\u001b[0mrestval\u001b[0m\u001b[1;33m)\u001b[0m \u001b[1;32mfor\u001b[0m \u001b[0mkey\u001b[0m \u001b[1;32min\u001b[0m \u001b[0mself\u001b[0m\u001b[1;33m.\u001b[0m\u001b[0mfieldnames\u001b[0m\u001b[1;33m)\u001b[0m\u001b[1;33m\u001b[0m\u001b[1;33m\u001b[0m\u001b[0m\n",
      "\u001b[1;31mValueError\u001b[0m: dict contains fields not in fieldnames: 'is_in_progress'"
     ]
    }
   ],
   "source": [
    "response = requests.get(\"https://corona-api.com/timeline?fbclid=IwAR1jTS9DQOC-myWVIJb20qYGVbpEu0r-T587oow4kx8Z2CQO7-aXHfPM5BY\")\n",
    "print(response.status_code)\n",
    "\n",
    "def jprint(obj):\n",
    "    # create a formatted string of the Python JSON object\n",
    "    text = json.dumps(obj, sort_keys=True, indent=4)\n",
    "    print(text)\n",
    "\n",
    "Datas = response.json()['data']\n",
    "#del Datas[0]\n",
    "#jprint(Datas)\n",
    "Datas.sort(key = operator.itemgetter('date'))\n",
    "print(Datas)\n",
    "\n",
    "with open('world_Data.csv','w') as new_file:\n",
    "        fieldnames = ['date','deaths','confirmed','recovered','CFR_1','CFR_2','wRec/affected','wRec/population', 'wRec/Area']\n",
    "        \n",
    "        csv_writer = csv.DictWriter(new_file, fieldnames= fieldnames)\n",
    "        csv_writer.writeheader()\n",
    "        \n",
    "        for line in Datas:\n",
    "            line['CFR_1'] = int(line['deaths']) / (int(line['recovered']) + int(line['deaths']))\n",
    "            line['CFR_2'] = int(line['deaths']) / int(line['confirmed'])\n",
    "            line['wRec/affected'] = line['recovered']/line['confirmed']\n",
    "            line['wRec/population'] = ((line['recovered']/7594000000) * 1000000)\n",
    "            line['wRec/Area'] = ((line['recovered']/132025199.412) * 100)\n",
    "            del line['updated_at']\n",
    "            del line['new_confirmed']\n",
    "            del line['new_recovered']\n",
    "            del line['new_deaths']\n",
    "            del line['active']\n",
    "            #print(line['CFR1'],line['CFR2'])\n",
    "            #print(line)\n",
    "            csv_writer.writerow(line)"
   ]
  },
  {
   "cell_type": "code",
   "execution_count": 7,
   "metadata": {},
   "outputs": [
    {
     "data": {
      "text/html": [
       "<div>\n",
       "<style scoped>\n",
       "    .dataframe tbody tr th:only-of-type {\n",
       "        vertical-align: middle;\n",
       "    }\n",
       "\n",
       "    .dataframe tbody tr th {\n",
       "        vertical-align: top;\n",
       "    }\n",
       "\n",
       "    .dataframe thead th {\n",
       "        text-align: right;\n",
       "    }\n",
       "</style>\n",
       "<table border=\"1\" class=\"dataframe\">\n",
       "  <thead>\n",
       "    <tr style=\"text-align: right;\">\n",
       "      <th></th>\n",
       "      <th>date</th>\n",
       "      <th>deaths</th>\n",
       "      <th>confirmed</th>\n",
       "      <th>recovered</th>\n",
       "      <th>CFR_1</th>\n",
       "      <th>CFR_2</th>\n",
       "      <th>wRec/affected</th>\n",
       "      <th>wRec/population</th>\n",
       "      <th>wRec/Area</th>\n",
       "    </tr>\n",
       "  </thead>\n",
       "  <tbody>\n",
       "    <tr>\n",
       "      <th>0</th>\n",
       "      <td>2020-01-21</td>\n",
       "      <td>17</td>\n",
       "      <td>555</td>\n",
       "      <td>28</td>\n",
       "      <td>0.377778</td>\n",
       "      <td>0.030631</td>\n",
       "      <td>0.050450</td>\n",
       "      <td>0.003687</td>\n",
       "      <td>0.000021</td>\n",
       "    </tr>\n",
       "    <tr>\n",
       "      <th>1</th>\n",
       "      <td>2020-01-22</td>\n",
       "      <td>35</td>\n",
       "      <td>1208</td>\n",
       "      <td>58</td>\n",
       "      <td>0.376344</td>\n",
       "      <td>0.028974</td>\n",
       "      <td>0.048013</td>\n",
       "      <td>0.007638</td>\n",
       "      <td>0.000044</td>\n",
       "    </tr>\n",
       "    <tr>\n",
       "      <th>2</th>\n",
       "      <td>2020-01-23</td>\n",
       "      <td>44</td>\n",
       "      <td>1594</td>\n",
       "      <td>66</td>\n",
       "      <td>0.400000</td>\n",
       "      <td>0.027604</td>\n",
       "      <td>0.041405</td>\n",
       "      <td>0.008691</td>\n",
       "      <td>0.000050</td>\n",
       "    </tr>\n",
       "    <tr>\n",
       "      <th>3</th>\n",
       "      <td>2020-01-24</td>\n",
       "      <td>68</td>\n",
       "      <td>2379</td>\n",
       "      <td>75</td>\n",
       "      <td>0.475524</td>\n",
       "      <td>0.028583</td>\n",
       "      <td>0.031526</td>\n",
       "      <td>0.009876</td>\n",
       "      <td>0.000057</td>\n",
       "    </tr>\n",
       "    <tr>\n",
       "      <th>4</th>\n",
       "      <td>2020-01-25</td>\n",
       "      <td>98</td>\n",
       "      <td>3556</td>\n",
       "      <td>91</td>\n",
       "      <td>0.518519</td>\n",
       "      <td>0.027559</td>\n",
       "      <td>0.025591</td>\n",
       "      <td>0.011983</td>\n",
       "      <td>0.000069</td>\n",
       "    </tr>\n",
       "  </tbody>\n",
       "</table>\n",
       "</div>"
      ],
      "text/plain": [
       "         date  deaths  confirmed  recovered     CFR_1     CFR_2  \\\n",
       "0  2020-01-21      17        555         28  0.377778  0.030631   \n",
       "1  2020-01-22      35       1208         58  0.376344  0.028974   \n",
       "2  2020-01-23      44       1594         66  0.400000  0.027604   \n",
       "3  2020-01-24      68       2379         75  0.475524  0.028583   \n",
       "4  2020-01-25      98       3556         91  0.518519  0.027559   \n",
       "\n",
       "   wRec/affected  wRec/population  wRec/Area  \n",
       "0       0.050450         0.003687   0.000021  \n",
       "1       0.048013         0.007638   0.000044  \n",
       "2       0.041405         0.008691   0.000050  \n",
       "3       0.031526         0.009876   0.000057  \n",
       "4       0.025591         0.011983   0.000069  "
      ]
     },
     "execution_count": 7,
     "metadata": {},
     "output_type": "execute_result"
    }
   ],
   "source": [
    "worldset = pd.read_csv('world_Data.csv')\n",
    "worldset.head()"
   ]
  },
  {
   "cell_type": "code",
   "execution_count": 8,
   "metadata": {},
   "outputs": [
    {
     "data": {
      "text/html": [
       "<div>\n",
       "<style scoped>\n",
       "    .dataframe tbody tr th:only-of-type {\n",
       "        vertical-align: middle;\n",
       "    }\n",
       "\n",
       "    .dataframe tbody tr th {\n",
       "        vertical-align: top;\n",
       "    }\n",
       "\n",
       "    .dataframe thead th {\n",
       "        text-align: right;\n",
       "    }\n",
       "</style>\n",
       "<table border=\"1\" class=\"dataframe\">\n",
       "  <thead>\n",
       "    <tr style=\"text-align: right;\">\n",
       "      <th></th>\n",
       "      <th>Country_name</th>\n",
       "      <th>Country_code_iso2</th>\n",
       "      <th>Country_code_iso3</th>\n",
       "      <th>date</th>\n",
       "      <th>Tot_affected</th>\n",
       "      <th>Tot_dead</th>\n",
       "      <th>Tot_recov</th>\n",
       "      <th>Population</th>\n",
       "      <th>Rec/affected</th>\n",
       "      <th>Rec/population</th>\n",
       "    </tr>\n",
       "  </thead>\n",
       "  <tbody>\n",
       "    <tr>\n",
       "      <th>0</th>\n",
       "      <td>Afghanistan</td>\n",
       "      <td>AF</td>\n",
       "      <td>AFG</td>\n",
       "      <td>2/24/20</td>\n",
       "      <td>1</td>\n",
       "      <td>0</td>\n",
       "      <td>0</td>\n",
       "      <td>27657145</td>\n",
       "      <td>0.0</td>\n",
       "      <td>0.0</td>\n",
       "    </tr>\n",
       "    <tr>\n",
       "      <th>1</th>\n",
       "      <td>Afghanistan</td>\n",
       "      <td>AF</td>\n",
       "      <td>AFG</td>\n",
       "      <td>2/25/20</td>\n",
       "      <td>1</td>\n",
       "      <td>0</td>\n",
       "      <td>0</td>\n",
       "      <td>27657145</td>\n",
       "      <td>0.0</td>\n",
       "      <td>0.0</td>\n",
       "    </tr>\n",
       "    <tr>\n",
       "      <th>2</th>\n",
       "      <td>Afghanistan</td>\n",
       "      <td>AF</td>\n",
       "      <td>AFG</td>\n",
       "      <td>2/26/20</td>\n",
       "      <td>1</td>\n",
       "      <td>0</td>\n",
       "      <td>0</td>\n",
       "      <td>27657145</td>\n",
       "      <td>0.0</td>\n",
       "      <td>0.0</td>\n",
       "    </tr>\n",
       "    <tr>\n",
       "      <th>3</th>\n",
       "      <td>Afghanistan</td>\n",
       "      <td>AF</td>\n",
       "      <td>AFG</td>\n",
       "      <td>2/27/20</td>\n",
       "      <td>1</td>\n",
       "      <td>0</td>\n",
       "      <td>0</td>\n",
       "      <td>27657145</td>\n",
       "      <td>0.0</td>\n",
       "      <td>0.0</td>\n",
       "    </tr>\n",
       "    <tr>\n",
       "      <th>4</th>\n",
       "      <td>Afghanistan</td>\n",
       "      <td>AF</td>\n",
       "      <td>AFG</td>\n",
       "      <td>2/28/20</td>\n",
       "      <td>1</td>\n",
       "      <td>0</td>\n",
       "      <td>0</td>\n",
       "      <td>27657145</td>\n",
       "      <td>0.0</td>\n",
       "      <td>0.0</td>\n",
       "    </tr>\n",
       "  </tbody>\n",
       "</table>\n",
       "</div>"
      ],
      "text/plain": [
       "  Country_name Country_code_iso2 Country_code_iso3     date  Tot_affected  \\\n",
       "0  Afghanistan                AF               AFG  2/24/20             1   \n",
       "1  Afghanistan                AF               AFG  2/25/20             1   \n",
       "2  Afghanistan                AF               AFG  2/26/20             1   \n",
       "3  Afghanistan                AF               AFG  2/27/20             1   \n",
       "4  Afghanistan                AF               AFG  2/28/20             1   \n",
       "\n",
       "   Tot_dead  Tot_recov  Population  Rec/affected  Rec/population  \n",
       "0         0          0    27657145           0.0             0.0  \n",
       "1         0          0    27657145           0.0             0.0  \n",
       "2         0          0    27657145           0.0             0.0  \n",
       "3         0          0    27657145           0.0             0.0  \n",
       "4         0          0    27657145           0.0             0.0  "
      ]
     },
     "execution_count": 8,
     "metadata": {},
     "output_type": "execute_result"
    }
   ],
   "source": [
    "countryset = pd.read_csv('country_model_new.csv')\n",
    "countryset.head()\n",
    "                         "
   ]
  },
  {
   "cell_type": "markdown",
   "metadata": {},
   "source": [
    "ONLY PREFERED COUNTRIES"
   ]
  },
  {
   "cell_type": "code",
   "execution_count": 21,
   "metadata": {},
   "outputs": [
    {
     "ename": "KeyError",
     "evalue": "\"None of [Index(['BD', 'IN'], dtype='object', name='Country_name')] are in the [index]\"",
     "output_type": "error",
     "traceback": [
      "\u001b[1;31m---------------------------------------------------------------------------\u001b[0m",
      "\u001b[1;31mKeyError\u001b[0m                                  Traceback (most recent call last)",
      "\u001b[1;32m<ipython-input-21-1ebff60aac7a>\u001b[0m in \u001b[0;36m<module>\u001b[1;34m\u001b[0m\n\u001b[0;32m      1\u001b[0m \u001b[1;31m##Bdset = countryset.loc[countryset['Country_code_iso2'] == 'BD' ]\u001b[0m\u001b[1;33m\u001b[0m\u001b[1;33m\u001b[0m\u001b[1;33m\u001b[0m\u001b[0m\n\u001b[0;32m      2\u001b[0m \u001b[0mcountryset\u001b[0m\u001b[1;33m.\u001b[0m\u001b[0mset_index\u001b[0m\u001b[1;33m(\u001b[0m\u001b[1;34m\"Country_name\"\u001b[0m\u001b[1;33m,\u001b[0m \u001b[0minplace\u001b[0m\u001b[1;33m=\u001b[0m\u001b[1;32mTrue\u001b[0m\u001b[1;33m)\u001b[0m\u001b[1;33m\u001b[0m\u001b[1;33m\u001b[0m\u001b[0m\n\u001b[1;32m----> 3\u001b[1;33m \u001b[0mBdset\u001b[0m \u001b[1;33m=\u001b[0m \u001b[0mcountryset\u001b[0m\u001b[1;33m.\u001b[0m\u001b[0mloc\u001b[0m\u001b[1;33m[\u001b[0m\u001b[1;33m[\u001b[0m\u001b[1;34m'BD'\u001b[0m\u001b[1;33m,\u001b[0m\u001b[1;34m'IN'\u001b[0m\u001b[1;33m]\u001b[0m\u001b[1;33m]\u001b[0m\u001b[1;33m\u001b[0m\u001b[1;33m\u001b[0m\u001b[0m\n\u001b[0m\u001b[0;32m      4\u001b[0m \u001b[0mBdset\u001b[0m\u001b[1;33m.\u001b[0m\u001b[0mhead\u001b[0m\u001b[1;33m(\u001b[0m\u001b[1;33m)\u001b[0m\u001b[1;33m\u001b[0m\u001b[1;33m\u001b[0m\u001b[0m\n",
      "\u001b[1;32m~\\.conda\\envs\\DAND\\lib\\site-packages\\pandas\\core\\indexing.py\u001b[0m in \u001b[0;36m__getitem__\u001b[1;34m(self, key)\u001b[0m\n\u001b[0;32m   1766\u001b[0m \u001b[1;33m\u001b[0m\u001b[0m\n\u001b[0;32m   1767\u001b[0m             \u001b[0mmaybe_callable\u001b[0m \u001b[1;33m=\u001b[0m \u001b[0mcom\u001b[0m\u001b[1;33m.\u001b[0m\u001b[0mapply_if_callable\u001b[0m\u001b[1;33m(\u001b[0m\u001b[0mkey\u001b[0m\u001b[1;33m,\u001b[0m \u001b[0mself\u001b[0m\u001b[1;33m.\u001b[0m\u001b[0mobj\u001b[0m\u001b[1;33m)\u001b[0m\u001b[1;33m\u001b[0m\u001b[1;33m\u001b[0m\u001b[0m\n\u001b[1;32m-> 1768\u001b[1;33m             \u001b[1;32mreturn\u001b[0m \u001b[0mself\u001b[0m\u001b[1;33m.\u001b[0m\u001b[0m_getitem_axis\u001b[0m\u001b[1;33m(\u001b[0m\u001b[0mmaybe_callable\u001b[0m\u001b[1;33m,\u001b[0m \u001b[0maxis\u001b[0m\u001b[1;33m=\u001b[0m\u001b[0maxis\u001b[0m\u001b[1;33m)\u001b[0m\u001b[1;33m\u001b[0m\u001b[1;33m\u001b[0m\u001b[0m\n\u001b[0m\u001b[0;32m   1769\u001b[0m \u001b[1;33m\u001b[0m\u001b[0m\n\u001b[0;32m   1770\u001b[0m     \u001b[1;32mdef\u001b[0m \u001b[0m_is_scalar_access\u001b[0m\u001b[1;33m(\u001b[0m\u001b[0mself\u001b[0m\u001b[1;33m,\u001b[0m \u001b[0mkey\u001b[0m\u001b[1;33m:\u001b[0m \u001b[0mTuple\u001b[0m\u001b[1;33m)\u001b[0m\u001b[1;33m:\u001b[0m\u001b[1;33m\u001b[0m\u001b[1;33m\u001b[0m\u001b[0m\n",
      "\u001b[1;32m~\\.conda\\envs\\DAND\\lib\\site-packages\\pandas\\core\\indexing.py\u001b[0m in \u001b[0;36m_getitem_axis\u001b[1;34m(self, key, axis)\u001b[0m\n\u001b[0;32m   1952\u001b[0m                     \u001b[1;32mraise\u001b[0m \u001b[0mValueError\u001b[0m\u001b[1;33m(\u001b[0m\u001b[1;34m\"Cannot index with multidimensional key\"\u001b[0m\u001b[1;33m)\u001b[0m\u001b[1;33m\u001b[0m\u001b[1;33m\u001b[0m\u001b[0m\n\u001b[0;32m   1953\u001b[0m \u001b[1;33m\u001b[0m\u001b[0m\n\u001b[1;32m-> 1954\u001b[1;33m                 \u001b[1;32mreturn\u001b[0m \u001b[0mself\u001b[0m\u001b[1;33m.\u001b[0m\u001b[0m_getitem_iterable\u001b[0m\u001b[1;33m(\u001b[0m\u001b[0mkey\u001b[0m\u001b[1;33m,\u001b[0m \u001b[0maxis\u001b[0m\u001b[1;33m=\u001b[0m\u001b[0maxis\u001b[0m\u001b[1;33m)\u001b[0m\u001b[1;33m\u001b[0m\u001b[1;33m\u001b[0m\u001b[0m\n\u001b[0m\u001b[0;32m   1955\u001b[0m \u001b[1;33m\u001b[0m\u001b[0m\n\u001b[0;32m   1956\u001b[0m             \u001b[1;31m# nested tuple slicing\u001b[0m\u001b[1;33m\u001b[0m\u001b[1;33m\u001b[0m\u001b[1;33m\u001b[0m\u001b[0m\n",
      "\u001b[1;32m~\\.conda\\envs\\DAND\\lib\\site-packages\\pandas\\core\\indexing.py\u001b[0m in \u001b[0;36m_getitem_iterable\u001b[1;34m(self, key, axis)\u001b[0m\n\u001b[0;32m   1593\u001b[0m         \u001b[1;32melse\u001b[0m\u001b[1;33m:\u001b[0m\u001b[1;33m\u001b[0m\u001b[1;33m\u001b[0m\u001b[0m\n\u001b[0;32m   1594\u001b[0m             \u001b[1;31m# A collection of keys\u001b[0m\u001b[1;33m\u001b[0m\u001b[1;33m\u001b[0m\u001b[1;33m\u001b[0m\u001b[0m\n\u001b[1;32m-> 1595\u001b[1;33m             \u001b[0mkeyarr\u001b[0m\u001b[1;33m,\u001b[0m \u001b[0mindexer\u001b[0m \u001b[1;33m=\u001b[0m \u001b[0mself\u001b[0m\u001b[1;33m.\u001b[0m\u001b[0m_get_listlike_indexer\u001b[0m\u001b[1;33m(\u001b[0m\u001b[0mkey\u001b[0m\u001b[1;33m,\u001b[0m \u001b[0maxis\u001b[0m\u001b[1;33m,\u001b[0m \u001b[0mraise_missing\u001b[0m\u001b[1;33m=\u001b[0m\u001b[1;32mFalse\u001b[0m\u001b[1;33m)\u001b[0m\u001b[1;33m\u001b[0m\u001b[1;33m\u001b[0m\u001b[0m\n\u001b[0m\u001b[0;32m   1596\u001b[0m             return self.obj._reindex_with_indexers(\n\u001b[0;32m   1597\u001b[0m                 \u001b[1;33m{\u001b[0m\u001b[0maxis\u001b[0m\u001b[1;33m:\u001b[0m \u001b[1;33m[\u001b[0m\u001b[0mkeyarr\u001b[0m\u001b[1;33m,\u001b[0m \u001b[0mindexer\u001b[0m\u001b[1;33m]\u001b[0m\u001b[1;33m}\u001b[0m\u001b[1;33m,\u001b[0m \u001b[0mcopy\u001b[0m\u001b[1;33m=\u001b[0m\u001b[1;32mTrue\u001b[0m\u001b[1;33m,\u001b[0m \u001b[0mallow_dups\u001b[0m\u001b[1;33m=\u001b[0m\u001b[1;32mTrue\u001b[0m\u001b[1;33m\u001b[0m\u001b[1;33m\u001b[0m\u001b[0m\n",
      "\u001b[1;32m~\\.conda\\envs\\DAND\\lib\\site-packages\\pandas\\core\\indexing.py\u001b[0m in \u001b[0;36m_get_listlike_indexer\u001b[1;34m(self, key, axis, raise_missing)\u001b[0m\n\u001b[0;32m   1550\u001b[0m             \u001b[0mkeyarr\u001b[0m\u001b[1;33m,\u001b[0m \u001b[0mindexer\u001b[0m\u001b[1;33m,\u001b[0m \u001b[0mnew_indexer\u001b[0m \u001b[1;33m=\u001b[0m \u001b[0max\u001b[0m\u001b[1;33m.\u001b[0m\u001b[0m_reindex_non_unique\u001b[0m\u001b[1;33m(\u001b[0m\u001b[0mkeyarr\u001b[0m\u001b[1;33m)\u001b[0m\u001b[1;33m\u001b[0m\u001b[1;33m\u001b[0m\u001b[0m\n\u001b[0;32m   1551\u001b[0m \u001b[1;33m\u001b[0m\u001b[0m\n\u001b[1;32m-> 1552\u001b[1;33m         self._validate_read_indexer(\n\u001b[0m\u001b[0;32m   1553\u001b[0m             \u001b[0mkeyarr\u001b[0m\u001b[1;33m,\u001b[0m \u001b[0mindexer\u001b[0m\u001b[1;33m,\u001b[0m \u001b[0mo\u001b[0m\u001b[1;33m.\u001b[0m\u001b[0m_get_axis_number\u001b[0m\u001b[1;33m(\u001b[0m\u001b[0maxis\u001b[0m\u001b[1;33m)\u001b[0m\u001b[1;33m,\u001b[0m \u001b[0mraise_missing\u001b[0m\u001b[1;33m=\u001b[0m\u001b[0mraise_missing\u001b[0m\u001b[1;33m\u001b[0m\u001b[1;33m\u001b[0m\u001b[0m\n\u001b[0;32m   1554\u001b[0m         )\n",
      "\u001b[1;32m~\\.conda\\envs\\DAND\\lib\\site-packages\\pandas\\core\\indexing.py\u001b[0m in \u001b[0;36m_validate_read_indexer\u001b[1;34m(self, key, indexer, axis, raise_missing)\u001b[0m\n\u001b[0;32m   1638\u001b[0m             \u001b[1;32mif\u001b[0m \u001b[0mmissing\u001b[0m \u001b[1;33m==\u001b[0m \u001b[0mlen\u001b[0m\u001b[1;33m(\u001b[0m\u001b[0mindexer\u001b[0m\u001b[1;33m)\u001b[0m\u001b[1;33m:\u001b[0m\u001b[1;33m\u001b[0m\u001b[1;33m\u001b[0m\u001b[0m\n\u001b[0;32m   1639\u001b[0m                 \u001b[0maxis_name\u001b[0m \u001b[1;33m=\u001b[0m \u001b[0mself\u001b[0m\u001b[1;33m.\u001b[0m\u001b[0mobj\u001b[0m\u001b[1;33m.\u001b[0m\u001b[0m_get_axis_name\u001b[0m\u001b[1;33m(\u001b[0m\u001b[0maxis\u001b[0m\u001b[1;33m)\u001b[0m\u001b[1;33m\u001b[0m\u001b[1;33m\u001b[0m\u001b[0m\n\u001b[1;32m-> 1640\u001b[1;33m                 \u001b[1;32mraise\u001b[0m \u001b[0mKeyError\u001b[0m\u001b[1;33m(\u001b[0m\u001b[1;34mf\"None of [{key}] are in the [{axis_name}]\"\u001b[0m\u001b[1;33m)\u001b[0m\u001b[1;33m\u001b[0m\u001b[1;33m\u001b[0m\u001b[0m\n\u001b[0m\u001b[0;32m   1641\u001b[0m \u001b[1;33m\u001b[0m\u001b[0m\n\u001b[0;32m   1642\u001b[0m             \u001b[1;31m# We (temporarily) allow for some missing keys with .loc, except in\u001b[0m\u001b[1;33m\u001b[0m\u001b[1;33m\u001b[0m\u001b[1;33m\u001b[0m\u001b[0m\n",
      "\u001b[1;31mKeyError\u001b[0m: \"None of [Index(['BD', 'IN'], dtype='object', name='Country_name')] are in the [index]\""
     ]
    }
   ],
   "source": [
    "##Bdset = countryset.loc[countryset['Country_code_iso2'] == 'BD' ]\n",
    "countryset.set_index(\"Country_name\", inplace=True)\n",
    "Bdset = countryset.loc[['BD','IN']] \n",
    "Bdset.head()"
   ]
  },
  {
   "cell_type": "code",
   "execution_count": 15,
   "metadata": {},
   "outputs": [
    {
     "data": {
      "text/plain": [
       "105"
      ]
     },
     "execution_count": 15,
     "metadata": {},
     "output_type": "execute_result"
    }
   ],
   "source": [
    "len(Bdset)"
   ]
  },
  {
   "cell_type": "code",
   "execution_count": 15,
   "metadata": {},
   "outputs": [
    {
     "name": "stdout",
     "output_type": "stream",
     "text": [
      "{'user': 'teamcoronosis', 'dbname': 'postgres', 'host': 'coronosis.cfzyz28p01p7.ap-south-1.rds.amazonaws.com', 'port': '5432', 'tty': '', 'options': '', 'sslmode': 'prefer', 'sslcompression': '0', 'krbsrvname': 'postgres', 'target_session_attrs': 'any'} \n",
      "\n",
      "You are connected to -  ('PostgreSQL 11.5 on x86_64-pc-linux-gnu, compiled by gcc (GCC) 4.8.3 20140911 (Red Hat 4.8.3-9), 64-bit',) \n",
      "\n",
      "130170\n",
      "PostgreSQL connection is closed\n"
     ]
    }
   ],
   "source": [
    "connection = psycopg2.connect(user = \"teamcoronosis\",\n",
    "                                  password = \"p1jGQwEMANAGZ5b72xWh\",\n",
    "                                  host = \"coronosis.cfzyz28p01p7.ap-south-1.rds.amazonaws.com\",\n",
    "                                  port = \"5432\",\n",
    "                                  database = \"postgres\")\n",
    "cursor = connection.cursor()\n",
    "\n",
    "area = getRegion('BD')\n",
    "\n",
    "if(connection):\n",
    "    cursor.close()\n",
    "    connection.close()\n",
    "    print(\"PostgreSQL connection is closed\")\n"
   ]
  },
  {
   "cell_type": "code",
   "execution_count": 103,
   "metadata": {},
   "outputs": [
    {
     "data": {
      "text/html": [
       "<div>\n",
       "<style scoped>\n",
       "    .dataframe tbody tr th:only-of-type {\n",
       "        vertical-align: middle;\n",
       "    }\n",
       "\n",
       "    .dataframe tbody tr th {\n",
       "        vertical-align: top;\n",
       "    }\n",
       "\n",
       "    .dataframe thead th {\n",
       "        text-align: right;\n",
       "    }\n",
       "</style>\n",
       "<table border=\"1\" class=\"dataframe\">\n",
       "  <thead>\n",
       "    <tr style=\"text-align: right;\">\n",
       "      <th></th>\n",
       "      <th>Country_name</th>\n",
       "      <th>Country_code_iso2</th>\n",
       "      <th>Country_code_iso3</th>\n",
       "      <th>date</th>\n",
       "      <th>Tot_affected</th>\n",
       "      <th>Tot_dead</th>\n",
       "      <th>Tot_recov</th>\n",
       "      <th>Population</th>\n",
       "      <th>Rec/affected</th>\n",
       "      <th>Rec/population</th>\n",
       "      <th>Rec/Area</th>\n",
       "    </tr>\n",
       "  </thead>\n",
       "  <tbody>\n",
       "    <tr>\n",
       "      <th>1685</th>\n",
       "      <td>Bangladesh</td>\n",
       "      <td>BD</td>\n",
       "      <td>BGD</td>\n",
       "      <td>2020-03-08</td>\n",
       "      <td>3</td>\n",
       "      <td>0</td>\n",
       "      <td>0</td>\n",
       "      <td>161006790</td>\n",
       "      <td>0.0</td>\n",
       "      <td>0.0</td>\n",
       "      <td>0.0</td>\n",
       "    </tr>\n",
       "    <tr>\n",
       "      <th>1686</th>\n",
       "      <td>Bangladesh</td>\n",
       "      <td>BD</td>\n",
       "      <td>BGD</td>\n",
       "      <td>2020-03-09</td>\n",
       "      <td>3</td>\n",
       "      <td>0</td>\n",
       "      <td>0</td>\n",
       "      <td>161006790</td>\n",
       "      <td>0.0</td>\n",
       "      <td>0.0</td>\n",
       "      <td>0.0</td>\n",
       "    </tr>\n",
       "    <tr>\n",
       "      <th>1687</th>\n",
       "      <td>Bangladesh</td>\n",
       "      <td>BD</td>\n",
       "      <td>BGD</td>\n",
       "      <td>2020-03-10</td>\n",
       "      <td>3</td>\n",
       "      <td>0</td>\n",
       "      <td>0</td>\n",
       "      <td>161006790</td>\n",
       "      <td>0.0</td>\n",
       "      <td>0.0</td>\n",
       "      <td>0.0</td>\n",
       "    </tr>\n",
       "    <tr>\n",
       "      <th>1688</th>\n",
       "      <td>Bangladesh</td>\n",
       "      <td>BD</td>\n",
       "      <td>BGD</td>\n",
       "      <td>2020-03-11</td>\n",
       "      <td>3</td>\n",
       "      <td>0</td>\n",
       "      <td>0</td>\n",
       "      <td>161006790</td>\n",
       "      <td>0.0</td>\n",
       "      <td>0.0</td>\n",
       "      <td>0.0</td>\n",
       "    </tr>\n",
       "    <tr>\n",
       "      <th>1689</th>\n",
       "      <td>Bangladesh</td>\n",
       "      <td>BD</td>\n",
       "      <td>BGD</td>\n",
       "      <td>2020-03-12</td>\n",
       "      <td>3</td>\n",
       "      <td>0</td>\n",
       "      <td>0</td>\n",
       "      <td>161006790</td>\n",
       "      <td>0.0</td>\n",
       "      <td>0.0</td>\n",
       "      <td>0.0</td>\n",
       "    </tr>\n",
       "  </tbody>\n",
       "</table>\n",
       "</div>"
      ],
      "text/plain": [
       "     Country_name Country_code_iso2 Country_code_iso3       date  \\\n",
       "1685   Bangladesh                BD               BGD 2020-03-08   \n",
       "1686   Bangladesh                BD               BGD 2020-03-09   \n",
       "1687   Bangladesh                BD               BGD 2020-03-10   \n",
       "1688   Bangladesh                BD               BGD 2020-03-11   \n",
       "1689   Bangladesh                BD               BGD 2020-03-12   \n",
       "\n",
       "      Tot_affected  Tot_dead  Tot_recov  Population  Rec/affected  \\\n",
       "1685             3         0          0   161006790           0.0   \n",
       "1686             3         0          0   161006790           0.0   \n",
       "1687             3         0          0   161006790           0.0   \n",
       "1688             3         0          0   161006790           0.0   \n",
       "1689             3         0          0   161006790           0.0   \n",
       "\n",
       "      Rec/population  Rec/Area  \n",
       "1685             0.0       0.0  \n",
       "1686             0.0       0.0  \n",
       "1687             0.0       0.0  \n",
       "1688             0.0       0.0  \n",
       "1689             0.0       0.0  "
      ]
     },
     "execution_count": 103,
     "metadata": {},
     "output_type": "execute_result"
    }
   ],
   "source": [
    "Bdset= Bdset.copy()\n",
    "\n",
    "\n",
    "Bdset['Rec/Area'] = (Bdset.iloc[:,6:7]/area) * 100\n",
    "\n",
    "Bdset.head()"
   ]
  },
  {
   "cell_type": "code",
   "execution_count": 104,
   "metadata": {},
   "outputs": [
    {
     "data": {
      "text/plain": [
       "65"
      ]
     },
     "execution_count": 104,
     "metadata": {},
     "output_type": "execute_result"
    }
   ],
   "source": [
    "len(Bdset)\n"
   ]
  },
  {
   "cell_type": "code",
   "execution_count": 105,
   "metadata": {},
   "outputs": [
    {
     "data": {
      "text/plain": [
       "112"
      ]
     },
     "execution_count": 105,
     "metadata": {},
     "output_type": "execute_result"
    }
   ],
   "source": [
    "len(worldset)"
   ]
  },
  {
   "cell_type": "code",
   "execution_count": 106,
   "metadata": {},
   "outputs": [
    {
     "data": {
      "text/html": [
       "<div>\n",
       "<style scoped>\n",
       "    .dataframe tbody tr th:only-of-type {\n",
       "        vertical-align: middle;\n",
       "    }\n",
       "\n",
       "    .dataframe tbody tr th {\n",
       "        vertical-align: top;\n",
       "    }\n",
       "\n",
       "    .dataframe thead th {\n",
       "        text-align: right;\n",
       "    }\n",
       "</style>\n",
       "<table border=\"1\" class=\"dataframe\">\n",
       "  <thead>\n",
       "    <tr style=\"text-align: right;\">\n",
       "      <th></th>\n",
       "      <th>Country_name</th>\n",
       "      <th>Country_code_iso2</th>\n",
       "      <th>Country_code_iso3</th>\n",
       "      <th>date</th>\n",
       "      <th>Tot_affected</th>\n",
       "      <th>Tot_dead</th>\n",
       "      <th>Tot_recov</th>\n",
       "      <th>Population</th>\n",
       "      <th>Rec/affected</th>\n",
       "      <th>Rec/population</th>\n",
       "      <th>Rec/Area</th>\n",
       "      <th>deaths</th>\n",
       "      <th>confirmed</th>\n",
       "      <th>recovered</th>\n",
       "      <th>CFR_1</th>\n",
       "      <th>CFR_2</th>\n",
       "      <th>wRec/affected</th>\n",
       "      <th>wRec/population</th>\n",
       "      <th>wRec/Area</th>\n",
       "    </tr>\n",
       "  </thead>\n",
       "  <tbody>\n",
       "    <tr>\n",
       "      <th>0</th>\n",
       "      <td>Bangladesh</td>\n",
       "      <td>BD</td>\n",
       "      <td>BGD</td>\n",
       "      <td>2020-03-08</td>\n",
       "      <td>3</td>\n",
       "      <td>0</td>\n",
       "      <td>0</td>\n",
       "      <td>161006790</td>\n",
       "      <td>0.0</td>\n",
       "      <td>0.0</td>\n",
       "      <td>0.0</td>\n",
       "      <td>3796</td>\n",
       "      <td>108774</td>\n",
       "      <td>60609</td>\n",
       "      <td>0.058940</td>\n",
       "      <td>0.034898</td>\n",
       "      <td>0.557201</td>\n",
       "      <td>7.981169</td>\n",
       "      <td>0.045907</td>\n",
       "    </tr>\n",
       "    <tr>\n",
       "      <th>1</th>\n",
       "      <td>Bangladesh</td>\n",
       "      <td>BD</td>\n",
       "      <td>BGD</td>\n",
       "      <td>2020-03-09</td>\n",
       "      <td>3</td>\n",
       "      <td>0</td>\n",
       "      <td>0</td>\n",
       "      <td>161006790</td>\n",
       "      <td>0.0</td>\n",
       "      <td>0.0</td>\n",
       "      <td>0.0</td>\n",
       "      <td>3987</td>\n",
       "      <td>112077</td>\n",
       "      <td>62322</td>\n",
       "      <td>0.060128</td>\n",
       "      <td>0.035574</td>\n",
       "      <td>0.556064</td>\n",
       "      <td>8.206742</td>\n",
       "      <td>0.047205</td>\n",
       "    </tr>\n",
       "    <tr>\n",
       "      <th>2</th>\n",
       "      <td>Bangladesh</td>\n",
       "      <td>BD</td>\n",
       "      <td>BGD</td>\n",
       "      <td>2020-03-10</td>\n",
       "      <td>3</td>\n",
       "      <td>0</td>\n",
       "      <td>0</td>\n",
       "      <td>161006790</td>\n",
       "      <td>0.0</td>\n",
       "      <td>0.0</td>\n",
       "      <td>0.0</td>\n",
       "      <td>4252</td>\n",
       "      <td>117569</td>\n",
       "      <td>64270</td>\n",
       "      <td>0.062053</td>\n",
       "      <td>0.036166</td>\n",
       "      <td>0.546658</td>\n",
       "      <td>8.463260</td>\n",
       "      <td>0.048680</td>\n",
       "    </tr>\n",
       "    <tr>\n",
       "      <th>3</th>\n",
       "      <td>Bangladesh</td>\n",
       "      <td>BD</td>\n",
       "      <td>BGD</td>\n",
       "      <td>2020-03-11</td>\n",
       "      <td>3</td>\n",
       "      <td>0</td>\n",
       "      <td>0</td>\n",
       "      <td>161006790</td>\n",
       "      <td>0.0</td>\n",
       "      <td>0.0</td>\n",
       "      <td>0.0</td>\n",
       "      <td>4613</td>\n",
       "      <td>125252</td>\n",
       "      <td>66688</td>\n",
       "      <td>0.064698</td>\n",
       "      <td>0.036830</td>\n",
       "      <td>0.532431</td>\n",
       "      <td>8.781670</td>\n",
       "      <td>0.050512</td>\n",
       "    </tr>\n",
       "    <tr>\n",
       "      <th>4</th>\n",
       "      <td>Bangladesh</td>\n",
       "      <td>BD</td>\n",
       "      <td>BGD</td>\n",
       "      <td>2020-03-12</td>\n",
       "      <td>3</td>\n",
       "      <td>0</td>\n",
       "      <td>0</td>\n",
       "      <td>161006790</td>\n",
       "      <td>0.0</td>\n",
       "      <td>0.0</td>\n",
       "      <td>0.0</td>\n",
       "      <td>3810</td>\n",
       "      <td>109467</td>\n",
       "      <td>66720</td>\n",
       "      <td>0.054020</td>\n",
       "      <td>0.034805</td>\n",
       "      <td>0.609499</td>\n",
       "      <td>8.785884</td>\n",
       "      <td>0.050536</td>\n",
       "    </tr>\n",
       "  </tbody>\n",
       "</table>\n",
       "</div>"
      ],
      "text/plain": [
       "  Country_name Country_code_iso2 Country_code_iso3       date  Tot_affected  \\\n",
       "0   Bangladesh                BD               BGD 2020-03-08             3   \n",
       "1   Bangladesh                BD               BGD 2020-03-09             3   \n",
       "2   Bangladesh                BD               BGD 2020-03-10             3   \n",
       "3   Bangladesh                BD               BGD 2020-03-11             3   \n",
       "4   Bangladesh                BD               BGD 2020-03-12             3   \n",
       "\n",
       "   Tot_dead  Tot_recov  Population  Rec/affected  Rec/population  Rec/Area  \\\n",
       "0         0          0   161006790           0.0             0.0       0.0   \n",
       "1         0          0   161006790           0.0             0.0       0.0   \n",
       "2         0          0   161006790           0.0             0.0       0.0   \n",
       "3         0          0   161006790           0.0             0.0       0.0   \n",
       "4         0          0   161006790           0.0             0.0       0.0   \n",
       "\n",
       "   deaths  confirmed  recovered     CFR_1     CFR_2  wRec/affected  \\\n",
       "0    3796     108774      60609  0.058940  0.034898       0.557201   \n",
       "1    3987     112077      62322  0.060128  0.035574       0.556064   \n",
       "2    4252     117569      64270  0.062053  0.036166       0.546658   \n",
       "3    4613     125252      66688  0.064698  0.036830       0.532431   \n",
       "4    3810     109467      66720  0.054020  0.034805       0.609499   \n",
       "\n",
       "   wRec/population  wRec/Area  \n",
       "0         7.981169   0.045907  \n",
       "1         8.206742   0.047205  \n",
       "2         8.463260   0.048680  \n",
       "3         8.781670   0.050512  \n",
       "4         8.785884   0.050536  "
      ]
     },
     "execution_count": 106,
     "metadata": {},
     "output_type": "execute_result"
    }
   ],
   "source": [
    "Bdset['date']= pd.to_datetime(Bdset['date'],infer_datetime_format=True)\n",
    "worldset['date'] = pd.to_datetime(worldset['date'],infer_datetime_format=True)\n",
    "\n",
    "result = pd.merge(Bdset,\n",
    "                  worldset,\n",
    "                 on='date', how='left')\n",
    "result.head()"
   ]
  },
  {
   "cell_type": "code",
   "execution_count": 107,
   "metadata": {},
   "outputs": [
    {
     "data": {
      "text/plain": [
       "65"
      ]
     },
     "execution_count": 107,
     "metadata": {},
     "output_type": "execute_result"
    }
   ],
   "source": [
    "len(result)"
   ]
  },
  {
   "cell_type": "code",
   "execution_count": 108,
   "metadata": {},
   "outputs": [
    {
     "data": {
      "text/plain": [
       "\"fig, axes = plt.subplots(3, 1, sharex=True)\\naxes[0].plot(result['date'], result['wRec/affected'], color='green')\\naxes[0].plot(result['date'], result['Rec/affected'], color='orange')\\naxes[0].set_title('time vs recovered/affected')\\naxes[0].legend(['Global','Bangladesh'], prop={'size': 12}, bbox_to_anchor=(0.5, 1.02), ncol=6, fancybox=True, shadow=True)\\n\\naxes[1].plot(result['date'], result['Rec/population'], color='orange')\\naxes[1].plot(result['date'], result['wRec/population'], color='green')\\naxes[1].set_title('time vs recovered/population')\\n\\naxes[2].plot(result['date'], result['Rec/Area'], color='orange')\\naxes[2].plot(result['date'], result['wRec/Area'], color='green')\\naxes[2].set_title('time vs recovered/area')\\n#plot_acf(df.value.diff().diff().dropna(), ax=axes[2, 1])\\n\\nplt.show()\""
      ]
     },
     "execution_count": 108,
     "metadata": {},
     "output_type": "execute_result"
    }
   ],
   "source": [
    "\"\"\"fig, axes = plt.subplots(3, 1, sharex=True)\n",
    "axes[0].plot(result['date'], result['wRec/affected'], color='green')\n",
    "axes[0].plot(result['date'], result['Rec/affected'], color='orange')\n",
    "axes[0].set_title('time vs recovered/affected')\n",
    "axes[0].legend(['Global','Bangladesh'], prop={'size': 12}, bbox_to_anchor=(0.5, 1.02), ncol=6, fancybox=True, shadow=True)\n",
    "\n",
    "axes[1].plot(result['date'], result['Rec/population'], color='orange')\n",
    "axes[1].plot(result['date'], result['wRec/population'], color='green')\n",
    "axes[1].set_title('time vs recovered/population')\n",
    "\n",
    "axes[2].plot(result['date'], result['Rec/Area'], color='orange')\n",
    "axes[2].plot(result['date'], result['wRec/Area'], color='green')\n",
    "axes[2].set_title('time vs recovered/area')\n",
    "#plot_acf(df.value.diff().diff().dropna(), ax=axes[2, 1])\n",
    "\n",
    "plt.show()\"\"\""
   ]
  },
  {
   "cell_type": "code",
   "execution_count": 109,
   "metadata": {},
   "outputs": [
    {
     "data": {
      "application/vnd.plotly.v1+json": {
       "config": {
        "plotlyServerURL": "https://plot.ly"
       },
       "data": [
        {
         "line": {
          "color": "green",
          "width": 2
         },
         "mode": "lines+markers",
         "name": "Global",
         "type": "scatter",
         "x": [
          "2020-03-08T00:00:00",
          "2020-03-09T00:00:00",
          "2020-03-10T00:00:00",
          "2020-03-11T00:00:00",
          "2020-03-12T00:00:00",
          "2020-03-13T00:00:00",
          "2020-03-14T00:00:00",
          "2020-03-15T00:00:00",
          "2020-03-16T00:00:00",
          "2020-03-17T00:00:00",
          "2020-03-18T00:00:00",
          "2020-03-19T00:00:00",
          "2020-03-20T00:00:00",
          "2020-03-21T00:00:00",
          "2020-03-22T00:00:00",
          "2020-03-23T00:00:00",
          "2020-03-24T00:00:00",
          "2020-03-25T00:00:00",
          "2020-03-26T00:00:00",
          "2020-03-27T00:00:00",
          "2020-03-28T00:00:00",
          "2020-03-29T00:00:00",
          "2020-03-30T00:00:00",
          "2020-03-31T00:00:00",
          "2020-04-01T00:00:00",
          "2020-04-02T00:00:00",
          "2020-04-03T00:00:00",
          "2020-04-04T00:00:00",
          "2020-04-05T00:00:00",
          "2020-04-06T00:00:00",
          "2020-04-07T00:00:00",
          "2020-04-08T00:00:00",
          "2020-04-09T00:00:00",
          "2020-04-10T00:00:00",
          "2020-04-11T00:00:00",
          "2020-04-12T00:00:00",
          "2020-04-13T00:00:00",
          "2020-04-14T00:00:00",
          "2020-04-15T00:00:00",
          "2020-04-16T00:00:00",
          "2020-04-17T00:00:00",
          "2020-04-18T00:00:00",
          "2020-04-19T00:00:00",
          "2020-04-20T00:00:00",
          "2020-04-21T00:00:00",
          "2020-04-22T00:00:00",
          "2020-04-23T00:00:00",
          "2020-04-24T00:00:00",
          "2020-04-25T00:00:00",
          "2020-04-26T00:00:00",
          "2020-04-27T00:00:00",
          "2020-04-28T00:00:00",
          "2020-04-29T00:00:00",
          "2020-04-30T00:00:00",
          "2020-05-01T00:00:00",
          "2020-05-02T00:00:00",
          "2020-05-03T00:00:00",
          "2020-05-04T00:00:00",
          "2020-05-05T00:00:00",
          "2020-05-06T00:00:00",
          "2020-05-07T00:00:00",
          "2020-05-08T00:00:00",
          "2020-05-09T00:00:00",
          "2020-05-10T00:00:00",
          "2020-05-11T00:00:00"
         ],
         "xaxis": "x",
         "y": [
          0.5572011693970985,
          0.5560641344789743,
          0.5466577073888526,
          0.5324306198703413,
          0.609498753048864,
          0.4838542279297294,
          0.4575358512668392,
          0.523438114932988,
          0.4354548763755495,
          0.4113741265711496,
          0.3886120296385113,
          0.3505654749575376,
          0.3211026770236277,
          0.3009663634356807,
          0.2912337720529809,
          0.2658835992849103,
          0.2576896574824626,
          0.2424231390372728,
          0.2298666222830815,
          0.21995496240677656,
          0.21036685637205496,
          0.2064266744532043,
          0.2098007875335764,
          0.2071236516770633,
          0.2066809072465946,
          0.20710383053560316,
          0.2056398284340589,
          0.20521085236196945,
          0.20404943858768476,
          0.20525105304551705,
          0.21009500870924866,
          0.21720972187819967,
          0.221609011397232,
          0.22205750644501415,
          0.22673883913944384,
          0.2281339871600967,
          0.2337842507043518,
          0.2397776284452475,
          0.24835689868916944,
          0.251657122348581,
          0.2535362966272057,
          0.2553993675335016,
          0.2596632772128688,
          0.2610538118407098,
          0.2665399006703105,
          0.2704007152919205,
          0.2724925979900518,
          0.2821721725855651,
          0.28180911611532466,
          0.29123672113129834,
          0.2937884143162354,
          0.2978908868151209,
          0.3044592675620058,
          0.3114619468722032,
          0.3148964643033911,
          0.31880991272284576,
          0.3207425337030898,
          0.32436170676210485,
          0.32713950950969,
          0.3314623221764513,
          0.3338799584242316,
          0.3355110482147802,
          0.34164703858127793,
          0.34329132956690644,
          0.34836123682264264
         ],
         "yaxis": "y"
        },
        {
         "line": {
          "color": "orange",
          "width": 2
         },
         "mode": "lines+markers",
         "name": "Bangladesh",
         "type": "scatter",
         "x": [
          "2020-03-08T00:00:00",
          "2020-03-09T00:00:00",
          "2020-03-10T00:00:00",
          "2020-03-11T00:00:00",
          "2020-03-12T00:00:00",
          "2020-03-13T00:00:00",
          "2020-03-14T00:00:00",
          "2020-03-15T00:00:00",
          "2020-03-16T00:00:00",
          "2020-03-17T00:00:00",
          "2020-03-18T00:00:00",
          "2020-03-19T00:00:00",
          "2020-03-20T00:00:00",
          "2020-03-21T00:00:00",
          "2020-03-22T00:00:00",
          "2020-03-23T00:00:00",
          "2020-03-24T00:00:00",
          "2020-03-25T00:00:00",
          "2020-03-26T00:00:00",
          "2020-03-27T00:00:00",
          "2020-03-28T00:00:00",
          "2020-03-29T00:00:00",
          "2020-03-30T00:00:00",
          "2020-03-31T00:00:00",
          "2020-04-01T00:00:00",
          "2020-04-02T00:00:00",
          "2020-04-03T00:00:00",
          "2020-04-04T00:00:00",
          "2020-04-05T00:00:00",
          "2020-04-06T00:00:00",
          "2020-04-07T00:00:00",
          "2020-04-08T00:00:00",
          "2020-04-09T00:00:00",
          "2020-04-10T00:00:00",
          "2020-04-11T00:00:00",
          "2020-04-12T00:00:00",
          "2020-04-13T00:00:00",
          "2020-04-14T00:00:00",
          "2020-04-15T00:00:00",
          "2020-04-16T00:00:00",
          "2020-04-17T00:00:00",
          "2020-04-18T00:00:00",
          "2020-04-19T00:00:00",
          "2020-04-20T00:00:00",
          "2020-04-21T00:00:00",
          "2020-04-22T00:00:00",
          "2020-04-23T00:00:00",
          "2020-04-24T00:00:00",
          "2020-04-25T00:00:00",
          "2020-04-26T00:00:00",
          "2020-04-27T00:00:00",
          "2020-04-28T00:00:00",
          "2020-04-29T00:00:00",
          "2020-04-30T00:00:00",
          "2020-05-01T00:00:00",
          "2020-05-02T00:00:00",
          "2020-05-03T00:00:00",
          "2020-05-04T00:00:00",
          "2020-05-05T00:00:00",
          "2020-05-06T00:00:00",
          "2020-05-07T00:00:00",
          "2020-05-08T00:00:00",
          "2020-05-09T00:00:00",
          "2020-05-10T00:00:00",
          "2020-05-11T00:00:00"
         ],
         "xaxis": "x",
         "y": [
          0,
          0,
          0,
          0,
          0,
          0,
          0,
          0,
          0.25,
          0.3,
          0.21428571428571427,
          0.17647058823529413,
          0.15,
          0.12,
          0.1111111111111111,
          0.09090909090909093,
          0.1282051282051282,
          0.1794871794871795,
          0.25,
          0.22916666666666666,
          0.3125,
          0.3125,
          0.3877551020408163,
          0.4901960784313725,
          0.462962962962963,
          0.44642857142857145,
          0.4262295081967213,
          0.42857142857142855,
          0.375,
          0.2682926829268293,
          0.201219512195122,
          0.15137614678899086,
          0.1,
          0.07783018867924528,
          0.07468879668049792,
          0.06280193236714976,
          0.052303860523038606,
          0.04150197628458498,
          0.039805036555645816,
          0.0311704834605598,
          0.031556039173014146,
          0.030783582089552237,
          0.030537459283387625,
          0.02883310719131615,
          0.0257244234180958,
          0.024390243902439025,
          0.025800286669851888,
          0.023885689912561316,
          0.022609043617446974,
          0.02252584933530281,
          0.02215457466599019,
          0.021510368307025688,
          0.021117837533436577,
          0.02086865788443981,
          0.02112163146394756,
          0.020136518771331057,
          0.11242728714965626,
          0.11919550428867201,
          0.12837405069082258,
          0.11972011263759705,
          0.15372233400402416,
          0.15996649916247907,
          0.17530864197530865,
          0.18080098246571605,
          0.1849467847810847
         ],
         "yaxis": "y"
        },
        {
         "line": {
          "color": "green",
          "width": 2
         },
         "mode": "lines+markers",
         "name": "Global",
         "type": "scatter",
         "x": [
          "2020-03-08T00:00:00",
          "2020-03-09T00:00:00",
          "2020-03-10T00:00:00",
          "2020-03-11T00:00:00",
          "2020-03-12T00:00:00",
          "2020-03-13T00:00:00",
          "2020-03-14T00:00:00",
          "2020-03-15T00:00:00",
          "2020-03-16T00:00:00",
          "2020-03-17T00:00:00",
          "2020-03-18T00:00:00",
          "2020-03-19T00:00:00",
          "2020-03-20T00:00:00",
          "2020-03-21T00:00:00",
          "2020-03-22T00:00:00",
          "2020-03-23T00:00:00",
          "2020-03-24T00:00:00",
          "2020-03-25T00:00:00",
          "2020-03-26T00:00:00",
          "2020-03-27T00:00:00",
          "2020-03-28T00:00:00",
          "2020-03-29T00:00:00",
          "2020-03-30T00:00:00",
          "2020-03-31T00:00:00",
          "2020-04-01T00:00:00",
          "2020-04-02T00:00:00",
          "2020-04-03T00:00:00",
          "2020-04-04T00:00:00",
          "2020-04-05T00:00:00",
          "2020-04-06T00:00:00",
          "2020-04-07T00:00:00",
          "2020-04-08T00:00:00",
          "2020-04-09T00:00:00",
          "2020-04-10T00:00:00",
          "2020-04-11T00:00:00",
          "2020-04-12T00:00:00",
          "2020-04-13T00:00:00",
          "2020-04-14T00:00:00",
          "2020-04-15T00:00:00",
          "2020-04-16T00:00:00",
          "2020-04-17T00:00:00",
          "2020-04-18T00:00:00",
          "2020-04-19T00:00:00",
          "2020-04-20T00:00:00",
          "2020-04-21T00:00:00",
          "2020-04-22T00:00:00",
          "2020-04-23T00:00:00",
          "2020-04-24T00:00:00",
          "2020-04-25T00:00:00",
          "2020-04-26T00:00:00",
          "2020-04-27T00:00:00",
          "2020-04-28T00:00:00",
          "2020-04-29T00:00:00",
          "2020-04-30T00:00:00",
          "2020-05-01T00:00:00",
          "2020-05-02T00:00:00",
          "2020-05-03T00:00:00",
          "2020-05-04T00:00:00",
          "2020-05-05T00:00:00",
          "2020-05-06T00:00:00",
          "2020-05-07T00:00:00",
          "2020-05-08T00:00:00",
          "2020-05-09T00:00:00",
          "2020-05-10T00:00:00",
          "2020-05-11T00:00:00"
         ],
         "xaxis": "x2",
         "y": [
          7.981169344219119,
          8.206742164867,
          8.463260468791152,
          8.781669739267844,
          8.785883592309718,
          9.20858572557282,
          9.566499868317091,
          9.632736370819067,
          10.239267843033977,
          10.59784040031604,
          10.92586252304451,
          11.143402686331317,
          11.464050566236505,
          12.028706873847776,
          12.83829338951804,
          13.219778772715301,
          14.182907558598895,
          14.904266526204898,
          16.004213853041875,
          17.158282854885435,
          18.27745588622597,
          19.54964445614959,
          21.588622596786934,
          23.361469581248354,
          25.355017118777987,
          27.60284435080327,
          29.647879905188304,
          32.3276270740058,
          34.151303660784826,
          36.324598367131955,
          39.421780352910204,
          43.18777982617856,
          46.52093758230182,
          49.430866473531744,
          52.854095338425076,
          55.43652883855675,
          58.9831445878325,
          62.35080326573611,
          67.19107189886753,
          71.2824598367132,
          74.73544903871478,
          77.89149328417172,
          82.05003950487226,
          84.92533579141428,
          89.41322096391887,
          93.34724782723202,
          97.13550171187781,
          104.36937055570186,
          107.43284171714512,
          113.89281011324732,
          117.60995522781143,
          122.1797471688175,
          127.98037924677378,
          133.49433763497498,
          138.57045035554384,
          143.80010534632603,
          148.02343955754543,
          152.95298920200156,
          157.6930471424809,
          163.82064787990518,
          168.98814853831973,
          173.89360021069263,
          180.94034764287602,
          185.32275480642613,
          191.5364761653937
         ],
         "yaxis": "y2"
        },
        {
         "line": {
          "color": "orange",
          "width": 2
         },
         "mode": "lines+markers",
         "name": "Bangladesh",
         "type": "scatter",
         "x": [
          "2020-03-08T00:00:00",
          "2020-03-09T00:00:00",
          "2020-03-10T00:00:00",
          "2020-03-11T00:00:00",
          "2020-03-12T00:00:00",
          "2020-03-13T00:00:00",
          "2020-03-14T00:00:00",
          "2020-03-15T00:00:00",
          "2020-03-16T00:00:00",
          "2020-03-17T00:00:00",
          "2020-03-18T00:00:00",
          "2020-03-19T00:00:00",
          "2020-03-20T00:00:00",
          "2020-03-21T00:00:00",
          "2020-03-22T00:00:00",
          "2020-03-23T00:00:00",
          "2020-03-24T00:00:00",
          "2020-03-25T00:00:00",
          "2020-03-26T00:00:00",
          "2020-03-27T00:00:00",
          "2020-03-28T00:00:00",
          "2020-03-29T00:00:00",
          "2020-03-30T00:00:00",
          "2020-03-31T00:00:00",
          "2020-04-01T00:00:00",
          "2020-04-02T00:00:00",
          "2020-04-03T00:00:00",
          "2020-04-04T00:00:00",
          "2020-04-05T00:00:00",
          "2020-04-06T00:00:00",
          "2020-04-07T00:00:00",
          "2020-04-08T00:00:00",
          "2020-04-09T00:00:00",
          "2020-04-10T00:00:00",
          "2020-04-11T00:00:00",
          "2020-04-12T00:00:00",
          "2020-04-13T00:00:00",
          "2020-04-14T00:00:00",
          "2020-04-15T00:00:00",
          "2020-04-16T00:00:00",
          "2020-04-17T00:00:00",
          "2020-04-18T00:00:00",
          "2020-04-19T00:00:00",
          "2020-04-20T00:00:00",
          "2020-04-21T00:00:00",
          "2020-04-22T00:00:00",
          "2020-04-23T00:00:00",
          "2020-04-24T00:00:00",
          "2020-04-25T00:00:00",
          "2020-04-26T00:00:00",
          "2020-04-27T00:00:00",
          "2020-04-28T00:00:00",
          "2020-04-29T00:00:00",
          "2020-04-30T00:00:00",
          "2020-05-01T00:00:00",
          "2020-05-02T00:00:00",
          "2020-05-03T00:00:00",
          "2020-05-04T00:00:00",
          "2020-05-05T00:00:00",
          "2020-05-06T00:00:00",
          "2020-05-07T00:00:00",
          "2020-05-08T00:00:00",
          "2020-05-09T00:00:00",
          "2020-05-10T00:00:00",
          "2020-05-11T00:00:00"
         ],
         "xaxis": "x2",
         "y": [
          0,
          0,
          0,
          0,
          0,
          0,
          0,
          0,
          0.012421836371000257,
          0.018632754556500385,
          0.018632754556500385,
          0.018632754556500385,
          0.018632754556500385,
          0.018632754556500385,
          0.018632754556500385,
          0.018632754556500385,
          0.03105459092750064,
          0.04347642729850089,
          0.06832010004050139,
          0.06832010004050139,
          0.0931637727825019,
          0.0931637727825019,
          0.11800744552450243,
          0.15527295463750318,
          0.15527295463750318,
          0.15527295463750318,
          0.1614838728230033,
          0.1863275455650038,
          0.20496030012150415,
          0.20496030012150415,
          0.20496030012150415,
          0.20496030012150415,
          0.20496030012150415,
          0.20496030012150415,
          0.22359305467800455,
          0.24222580923450496,
          0.2608585637910053,
          0.2608585637910053,
          0.30433499108950623,
          0.30433499108950623,
          0.36023325475900736,
          0.4099206002430084,
          0.4658188639125096,
          0.5279280457675107,
          0.5403498821385111,
          0.5714044730660117,
          0.6707791640340137,
          0.6956228367760142,
          0.7018337549615143,
          0.7577320186310155,
          0.8136302823005167,
          0.8633176277845176,
          0.9316377278250192,
          0.9937469096800204,
          1.0806997642770222,
          1.0993325188335226,
          6.602206031186634,
          7.509000086269653,
          8.713918214256678,
          8.713918214256678,
          11.862853734305244,
          13.049139107735767,
          14.993156499797307,
          16.458933191575333,
          18.024084574321368
         ],
         "yaxis": "y2"
        },
        {
         "line": {
          "color": "green",
          "width": 2
         },
         "mode": "lines+markers",
         "name": "Global",
         "type": "scatter",
         "x": [
          "2020-03-08T00:00:00",
          "2020-03-09T00:00:00",
          "2020-03-10T00:00:00",
          "2020-03-11T00:00:00",
          "2020-03-12T00:00:00",
          "2020-03-13T00:00:00",
          "2020-03-14T00:00:00",
          "2020-03-15T00:00:00",
          "2020-03-16T00:00:00",
          "2020-03-17T00:00:00",
          "2020-03-18T00:00:00",
          "2020-03-19T00:00:00",
          "2020-03-20T00:00:00",
          "2020-03-21T00:00:00",
          "2020-03-22T00:00:00",
          "2020-03-23T00:00:00",
          "2020-03-24T00:00:00",
          "2020-03-25T00:00:00",
          "2020-03-26T00:00:00",
          "2020-03-27T00:00:00",
          "2020-03-28T00:00:00",
          "2020-03-29T00:00:00",
          "2020-03-30T00:00:00",
          "2020-03-31T00:00:00",
          "2020-04-01T00:00:00",
          "2020-04-02T00:00:00",
          "2020-04-03T00:00:00",
          "2020-04-04T00:00:00",
          "2020-04-05T00:00:00",
          "2020-04-06T00:00:00",
          "2020-04-07T00:00:00",
          "2020-04-08T00:00:00",
          "2020-04-09T00:00:00",
          "2020-04-10T00:00:00",
          "2020-04-11T00:00:00",
          "2020-04-12T00:00:00",
          "2020-04-13T00:00:00",
          "2020-04-14T00:00:00",
          "2020-04-15T00:00:00",
          "2020-04-16T00:00:00",
          "2020-04-17T00:00:00",
          "2020-04-18T00:00:00",
          "2020-04-19T00:00:00",
          "2020-04-20T00:00:00",
          "2020-04-21T00:00:00",
          "2020-04-22T00:00:00",
          "2020-04-23T00:00:00",
          "2020-04-24T00:00:00",
          "2020-04-25T00:00:00",
          "2020-04-26T00:00:00",
          "2020-04-27T00:00:00",
          "2020-04-28T00:00:00",
          "2020-04-29T00:00:00",
          "2020-04-30T00:00:00",
          "2020-05-01T00:00:00",
          "2020-05-02T00:00:00",
          "2020-05-03T00:00:00",
          "2020-05-04T00:00:00",
          "2020-05-05T00:00:00",
          "2020-05-06T00:00:00",
          "2020-05-07T00:00:00",
          "2020-05-08T00:00:00",
          "2020-05-09T00:00:00",
          "2020-05-10T00:00:00",
          "2020-05-11T00:00:00"
         ],
         "xaxis": "x3",
         "y": [
          0.04590714520404742,
          0.047204624781907685,
          0.048680100682475004,
          0.050511569228456406,
          0.05053580702559098,
          0.05296716105065314,
          0.05502585894477119,
          0.0554068468184803,
          0.058895574743538334,
          0.060958059793458676,
          0.06284482081415332,
          0.0640960970912258,
          0.06594044196693495,
          0.06918830678296814,
          0.07384499355744854,
          0.07603927162928814,
          0.08157912313685968,
          0.08572833103383487,
          0.0920551535171197,
          0.0986932802073517,
          0.105130687640063,
          0.11244823008122358,
          0.12417629416971655,
          0.13437358988292894,
          0.14584034022106476,
          0.15876969013004014,
          0.17053259605191404,
          0.18594632016718352,
          0.19643598430833173,
          0.20893662818048933,
          0.2267514090744027,
          0.2484131828322695,
          0.2675852803657192,
          0.2843229941494648,
          0.30401317459666605,
          0.3188671570843588,
          0.3392670505289068,
          0.3586375950263957,
          0.38647849219125857,
          0.41001187834661096,
          0.4298732382360751,
          0.4480265908587121,
          0.4719462669058968,
          0.4884847762944426,
          0.5142987876739266,
          0.5369270435925346,
          0.5587168232165185,
          0.6003255465849809,
          0.6179464251018176,
          0.6551037255402832,
          0.6764844923376211,
          0.7027696258989082,
          0.7361344685169731,
          0.7678503834987263,
          0.7970478398719649,
          0.8271284609782945,
          0.8514207931564233,
          0.879775228648075,
          0.9070397206998312,
          0.942285264889307,
          0.9720083784879016,
          1.00022420407719,
          1.0407566177666452,
          1.065963926786604,
          1.101704830955018
         ],
         "yaxis": "y3"
        },
        {
         "line": {
          "color": "orange",
          "width": 2
         },
         "mode": "lines+markers",
         "name": "Bangladesh",
         "type": "scatter",
         "x": [
          "2020-03-08T00:00:00",
          "2020-03-09T00:00:00",
          "2020-03-10T00:00:00",
          "2020-03-11T00:00:00",
          "2020-03-12T00:00:00",
          "2020-03-13T00:00:00",
          "2020-03-14T00:00:00",
          "2020-03-15T00:00:00",
          "2020-03-16T00:00:00",
          "2020-03-17T00:00:00",
          "2020-03-18T00:00:00",
          "2020-03-19T00:00:00",
          "2020-03-20T00:00:00",
          "2020-03-21T00:00:00",
          "2020-03-22T00:00:00",
          "2020-03-23T00:00:00",
          "2020-03-24T00:00:00",
          "2020-03-25T00:00:00",
          "2020-03-26T00:00:00",
          "2020-03-27T00:00:00",
          "2020-03-28T00:00:00",
          "2020-03-29T00:00:00",
          "2020-03-30T00:00:00",
          "2020-03-31T00:00:00",
          "2020-04-01T00:00:00",
          "2020-04-02T00:00:00",
          "2020-04-03T00:00:00",
          "2020-04-04T00:00:00",
          "2020-04-05T00:00:00",
          "2020-04-06T00:00:00",
          "2020-04-07T00:00:00",
          "2020-04-08T00:00:00",
          "2020-04-09T00:00:00",
          "2020-04-10T00:00:00",
          "2020-04-11T00:00:00",
          "2020-04-12T00:00:00",
          "2020-04-13T00:00:00",
          "2020-04-14T00:00:00",
          "2020-04-15T00:00:00",
          "2020-04-16T00:00:00",
          "2020-04-17T00:00:00",
          "2020-04-18T00:00:00",
          "2020-04-19T00:00:00",
          "2020-04-20T00:00:00",
          "2020-04-21T00:00:00",
          "2020-04-22T00:00:00",
          "2020-04-23T00:00:00",
          "2020-04-24T00:00:00",
          "2020-04-25T00:00:00",
          "2020-04-26T00:00:00",
          "2020-04-27T00:00:00",
          "2020-04-28T00:00:00",
          "2020-04-29T00:00:00",
          "2020-04-30T00:00:00",
          "2020-05-01T00:00:00",
          "2020-05-02T00:00:00",
          "2020-05-03T00:00:00",
          "2020-05-04T00:00:00",
          "2020-05-05T00:00:00",
          "2020-05-06T00:00:00",
          "2020-05-07T00:00:00",
          "2020-05-08T00:00:00",
          "2020-05-09T00:00:00",
          "2020-05-10T00:00:00",
          "2020-05-11T00:00:00"
         ],
         "xaxis": "x3",
         "y": [
          0,
          0,
          0,
          0,
          0,
          0,
          0,
          0,
          0.0015364523315664132,
          0.0023046784973496195,
          0.0023046784973496195,
          0.0023046784973496195,
          0.0023046784973496195,
          0.0023046784973496195,
          0.0023046784973496195,
          0.0023046784973496195,
          0.003841130828916033,
          0.005377583160482446,
          0.008450487823615273,
          0.008450487823615273,
          0.011523392486748099,
          0.011523392486748099,
          0.014596297149880923,
          0.019205654144580166,
          0.019205654144580166,
          0.019205654144580166,
          0.01997388031036337,
          0.023046784973496198,
          0.02535146347084582,
          0.02535146347084582,
          0.02535146347084582,
          0.02535146347084582,
          0.02535146347084582,
          0.02535146347084582,
          0.027656141968195436,
          0.029960820465545056,
          0.03226549896289468,
          0.03226549896289468,
          0.03764308212337712,
          0.03764308212337712,
          0.04455711761542598,
          0.05070292694169164,
          0.057616962433740496,
          0.06529922409157256,
          0.06683567642313896,
          0.07067680725205501,
          0.08296842590458631,
          0.08604133056771913,
          0.08680955673350234,
          0.0937235922255512,
          0.10063762771760007,
          0.10678343704386571,
          0.11523392486748099,
          0.12291618652531305,
          0.13367135284627793,
          0.13597603134362757,
          0.8166244142275486,
          0.9287854344318968,
          1.0778213105938388,
          1.0778213105938388,
          1.4673119766459246,
          1.6140431743105172,
          1.8544979642006607,
          2.0357993393254974,
          2.2293923331028656
         ],
         "yaxis": "y3"
        }
       ],
       "layout": {
        "annotations": [
         {
          "font": {
           "size": 16
          },
          "showarrow": false,
          "text": "date vs recovered/affected",
          "x": 0.5,
          "xanchor": "center",
          "xref": "paper",
          "y": 1,
          "yanchor": "bottom",
          "yref": "paper"
         },
         {
          "font": {
           "size": 16
          },
          "showarrow": false,
          "text": "date vs recovered/population",
          "x": 0.5,
          "xanchor": "center",
          "xref": "paper",
          "y": 0.6111111111111112,
          "yanchor": "bottom",
          "yref": "paper"
         },
         {
          "font": {
           "size": 16
          },
          "showarrow": false,
          "text": "date vs recovered/area",
          "x": 0.5,
          "xanchor": "center",
          "xref": "paper",
          "y": 0.22222222222222224,
          "yanchor": "bottom",
          "yref": "paper"
         }
        ],
        "height": 1000,
        "template": {
         "data": {
          "bar": [
           {
            "error_x": {
             "color": "#2a3f5f"
            },
            "error_y": {
             "color": "#2a3f5f"
            },
            "marker": {
             "line": {
              "color": "#E5ECF6",
              "width": 0.5
             }
            },
            "type": "bar"
           }
          ],
          "barpolar": [
           {
            "marker": {
             "line": {
              "color": "#E5ECF6",
              "width": 0.5
             }
            },
            "type": "barpolar"
           }
          ],
          "carpet": [
           {
            "aaxis": {
             "endlinecolor": "#2a3f5f",
             "gridcolor": "white",
             "linecolor": "white",
             "minorgridcolor": "white",
             "startlinecolor": "#2a3f5f"
            },
            "baxis": {
             "endlinecolor": "#2a3f5f",
             "gridcolor": "white",
             "linecolor": "white",
             "minorgridcolor": "white",
             "startlinecolor": "#2a3f5f"
            },
            "type": "carpet"
           }
          ],
          "choropleth": [
           {
            "colorbar": {
             "outlinewidth": 0,
             "ticks": ""
            },
            "type": "choropleth"
           }
          ],
          "contour": [
           {
            "colorbar": {
             "outlinewidth": 0,
             "ticks": ""
            },
            "colorscale": [
             [
              0,
              "#0d0887"
             ],
             [
              0.1111111111111111,
              "#46039f"
             ],
             [
              0.2222222222222222,
              "#7201a8"
             ],
             [
              0.3333333333333333,
              "#9c179e"
             ],
             [
              0.4444444444444444,
              "#bd3786"
             ],
             [
              0.5555555555555556,
              "#d8576b"
             ],
             [
              0.6666666666666666,
              "#ed7953"
             ],
             [
              0.7777777777777778,
              "#fb9f3a"
             ],
             [
              0.8888888888888888,
              "#fdca26"
             ],
             [
              1,
              "#f0f921"
             ]
            ],
            "type": "contour"
           }
          ],
          "contourcarpet": [
           {
            "colorbar": {
             "outlinewidth": 0,
             "ticks": ""
            },
            "type": "contourcarpet"
           }
          ],
          "heatmap": [
           {
            "colorbar": {
             "outlinewidth": 0,
             "ticks": ""
            },
            "colorscale": [
             [
              0,
              "#0d0887"
             ],
             [
              0.1111111111111111,
              "#46039f"
             ],
             [
              0.2222222222222222,
              "#7201a8"
             ],
             [
              0.3333333333333333,
              "#9c179e"
             ],
             [
              0.4444444444444444,
              "#bd3786"
             ],
             [
              0.5555555555555556,
              "#d8576b"
             ],
             [
              0.6666666666666666,
              "#ed7953"
             ],
             [
              0.7777777777777778,
              "#fb9f3a"
             ],
             [
              0.8888888888888888,
              "#fdca26"
             ],
             [
              1,
              "#f0f921"
             ]
            ],
            "type": "heatmap"
           }
          ],
          "heatmapgl": [
           {
            "colorbar": {
             "outlinewidth": 0,
             "ticks": ""
            },
            "colorscale": [
             [
              0,
              "#0d0887"
             ],
             [
              0.1111111111111111,
              "#46039f"
             ],
             [
              0.2222222222222222,
              "#7201a8"
             ],
             [
              0.3333333333333333,
              "#9c179e"
             ],
             [
              0.4444444444444444,
              "#bd3786"
             ],
             [
              0.5555555555555556,
              "#d8576b"
             ],
             [
              0.6666666666666666,
              "#ed7953"
             ],
             [
              0.7777777777777778,
              "#fb9f3a"
             ],
             [
              0.8888888888888888,
              "#fdca26"
             ],
             [
              1,
              "#f0f921"
             ]
            ],
            "type": "heatmapgl"
           }
          ],
          "histogram": [
           {
            "marker": {
             "colorbar": {
              "outlinewidth": 0,
              "ticks": ""
             }
            },
            "type": "histogram"
           }
          ],
          "histogram2d": [
           {
            "colorbar": {
             "outlinewidth": 0,
             "ticks": ""
            },
            "colorscale": [
             [
              0,
              "#0d0887"
             ],
             [
              0.1111111111111111,
              "#46039f"
             ],
             [
              0.2222222222222222,
              "#7201a8"
             ],
             [
              0.3333333333333333,
              "#9c179e"
             ],
             [
              0.4444444444444444,
              "#bd3786"
             ],
             [
              0.5555555555555556,
              "#d8576b"
             ],
             [
              0.6666666666666666,
              "#ed7953"
             ],
             [
              0.7777777777777778,
              "#fb9f3a"
             ],
             [
              0.8888888888888888,
              "#fdca26"
             ],
             [
              1,
              "#f0f921"
             ]
            ],
            "type": "histogram2d"
           }
          ],
          "histogram2dcontour": [
           {
            "colorbar": {
             "outlinewidth": 0,
             "ticks": ""
            },
            "colorscale": [
             [
              0,
              "#0d0887"
             ],
             [
              0.1111111111111111,
              "#46039f"
             ],
             [
              0.2222222222222222,
              "#7201a8"
             ],
             [
              0.3333333333333333,
              "#9c179e"
             ],
             [
              0.4444444444444444,
              "#bd3786"
             ],
             [
              0.5555555555555556,
              "#d8576b"
             ],
             [
              0.6666666666666666,
              "#ed7953"
             ],
             [
              0.7777777777777778,
              "#fb9f3a"
             ],
             [
              0.8888888888888888,
              "#fdca26"
             ],
             [
              1,
              "#f0f921"
             ]
            ],
            "type": "histogram2dcontour"
           }
          ],
          "mesh3d": [
           {
            "colorbar": {
             "outlinewidth": 0,
             "ticks": ""
            },
            "type": "mesh3d"
           }
          ],
          "parcoords": [
           {
            "line": {
             "colorbar": {
              "outlinewidth": 0,
              "ticks": ""
             }
            },
            "type": "parcoords"
           }
          ],
          "pie": [
           {
            "automargin": true,
            "type": "pie"
           }
          ],
          "scatter": [
           {
            "marker": {
             "colorbar": {
              "outlinewidth": 0,
              "ticks": ""
             }
            },
            "type": "scatter"
           }
          ],
          "scatter3d": [
           {
            "line": {
             "colorbar": {
              "outlinewidth": 0,
              "ticks": ""
             }
            },
            "marker": {
             "colorbar": {
              "outlinewidth": 0,
              "ticks": ""
             }
            },
            "type": "scatter3d"
           }
          ],
          "scattercarpet": [
           {
            "marker": {
             "colorbar": {
              "outlinewidth": 0,
              "ticks": ""
             }
            },
            "type": "scattercarpet"
           }
          ],
          "scattergeo": [
           {
            "marker": {
             "colorbar": {
              "outlinewidth": 0,
              "ticks": ""
             }
            },
            "type": "scattergeo"
           }
          ],
          "scattergl": [
           {
            "marker": {
             "colorbar": {
              "outlinewidth": 0,
              "ticks": ""
             }
            },
            "type": "scattergl"
           }
          ],
          "scattermapbox": [
           {
            "marker": {
             "colorbar": {
              "outlinewidth": 0,
              "ticks": ""
             }
            },
            "type": "scattermapbox"
           }
          ],
          "scatterpolar": [
           {
            "marker": {
             "colorbar": {
              "outlinewidth": 0,
              "ticks": ""
             }
            },
            "type": "scatterpolar"
           }
          ],
          "scatterpolargl": [
           {
            "marker": {
             "colorbar": {
              "outlinewidth": 0,
              "ticks": ""
             }
            },
            "type": "scatterpolargl"
           }
          ],
          "scatterternary": [
           {
            "marker": {
             "colorbar": {
              "outlinewidth": 0,
              "ticks": ""
             }
            },
            "type": "scatterternary"
           }
          ],
          "surface": [
           {
            "colorbar": {
             "outlinewidth": 0,
             "ticks": ""
            },
            "colorscale": [
             [
              0,
              "#0d0887"
             ],
             [
              0.1111111111111111,
              "#46039f"
             ],
             [
              0.2222222222222222,
              "#7201a8"
             ],
             [
              0.3333333333333333,
              "#9c179e"
             ],
             [
              0.4444444444444444,
              "#bd3786"
             ],
             [
              0.5555555555555556,
              "#d8576b"
             ],
             [
              0.6666666666666666,
              "#ed7953"
             ],
             [
              0.7777777777777778,
              "#fb9f3a"
             ],
             [
              0.8888888888888888,
              "#fdca26"
             ],
             [
              1,
              "#f0f921"
             ]
            ],
            "type": "surface"
           }
          ],
          "table": [
           {
            "cells": {
             "fill": {
              "color": "#EBF0F8"
             },
             "line": {
              "color": "white"
             }
            },
            "header": {
             "fill": {
              "color": "#C8D4E3"
             },
             "line": {
              "color": "white"
             }
            },
            "type": "table"
           }
          ]
         },
         "layout": {
          "annotationdefaults": {
           "arrowcolor": "#2a3f5f",
           "arrowhead": 0,
           "arrowwidth": 1
          },
          "coloraxis": {
           "colorbar": {
            "outlinewidth": 0,
            "ticks": ""
           }
          },
          "colorscale": {
           "diverging": [
            [
             0,
             "#8e0152"
            ],
            [
             0.1,
             "#c51b7d"
            ],
            [
             0.2,
             "#de77ae"
            ],
            [
             0.3,
             "#f1b6da"
            ],
            [
             0.4,
             "#fde0ef"
            ],
            [
             0.5,
             "#f7f7f7"
            ],
            [
             0.6,
             "#e6f5d0"
            ],
            [
             0.7,
             "#b8e186"
            ],
            [
             0.8,
             "#7fbc41"
            ],
            [
             0.9,
             "#4d9221"
            ],
            [
             1,
             "#276419"
            ]
           ],
           "sequential": [
            [
             0,
             "#0d0887"
            ],
            [
             0.1111111111111111,
             "#46039f"
            ],
            [
             0.2222222222222222,
             "#7201a8"
            ],
            [
             0.3333333333333333,
             "#9c179e"
            ],
            [
             0.4444444444444444,
             "#bd3786"
            ],
            [
             0.5555555555555556,
             "#d8576b"
            ],
            [
             0.6666666666666666,
             "#ed7953"
            ],
            [
             0.7777777777777778,
             "#fb9f3a"
            ],
            [
             0.8888888888888888,
             "#fdca26"
            ],
            [
             1,
             "#f0f921"
            ]
           ],
           "sequentialminus": [
            [
             0,
             "#0d0887"
            ],
            [
             0.1111111111111111,
             "#46039f"
            ],
            [
             0.2222222222222222,
             "#7201a8"
            ],
            [
             0.3333333333333333,
             "#9c179e"
            ],
            [
             0.4444444444444444,
             "#bd3786"
            ],
            [
             0.5555555555555556,
             "#d8576b"
            ],
            [
             0.6666666666666666,
             "#ed7953"
            ],
            [
             0.7777777777777778,
             "#fb9f3a"
            ],
            [
             0.8888888888888888,
             "#fdca26"
            ],
            [
             1,
             "#f0f921"
            ]
           ]
          },
          "colorway": [
           "#636efa",
           "#EF553B",
           "#00cc96",
           "#ab63fa",
           "#FFA15A",
           "#19d3f3",
           "#FF6692",
           "#B6E880",
           "#FF97FF",
           "#FECB52"
          ],
          "font": {
           "color": "#2a3f5f"
          },
          "geo": {
           "bgcolor": "white",
           "lakecolor": "white",
           "landcolor": "#E5ECF6",
           "showlakes": true,
           "showland": true,
           "subunitcolor": "white"
          },
          "hoverlabel": {
           "align": "left"
          },
          "hovermode": "closest",
          "mapbox": {
           "style": "light"
          },
          "paper_bgcolor": "white",
          "plot_bgcolor": "#E5ECF6",
          "polar": {
           "angularaxis": {
            "gridcolor": "white",
            "linecolor": "white",
            "ticks": ""
           },
           "bgcolor": "#E5ECF6",
           "radialaxis": {
            "gridcolor": "white",
            "linecolor": "white",
            "ticks": ""
           }
          },
          "scene": {
           "xaxis": {
            "backgroundcolor": "#E5ECF6",
            "gridcolor": "white",
            "gridwidth": 2,
            "linecolor": "white",
            "showbackground": true,
            "ticks": "",
            "zerolinecolor": "white"
           },
           "yaxis": {
            "backgroundcolor": "#E5ECF6",
            "gridcolor": "white",
            "gridwidth": 2,
            "linecolor": "white",
            "showbackground": true,
            "ticks": "",
            "zerolinecolor": "white"
           },
           "zaxis": {
            "backgroundcolor": "#E5ECF6",
            "gridcolor": "white",
            "gridwidth": 2,
            "linecolor": "white",
            "showbackground": true,
            "ticks": "",
            "zerolinecolor": "white"
           }
          },
          "shapedefaults": {
           "line": {
            "color": "#2a3f5f"
           }
          },
          "ternary": {
           "aaxis": {
            "gridcolor": "white",
            "linecolor": "white",
            "ticks": ""
           },
           "baxis": {
            "gridcolor": "white",
            "linecolor": "white",
            "ticks": ""
           },
           "bgcolor": "#E5ECF6",
           "caxis": {
            "gridcolor": "white",
            "linecolor": "white",
            "ticks": ""
           }
          },
          "title": {
           "x": 0.05
          },
          "xaxis": {
           "automargin": true,
           "gridcolor": "white",
           "linecolor": "white",
           "ticks": "",
           "title": {
            "standoff": 15
           },
           "zerolinecolor": "white",
           "zerolinewidth": 2
          },
          "yaxis": {
           "automargin": true,
           "gridcolor": "white",
           "linecolor": "white",
           "ticks": "",
           "title": {
            "standoff": 15
           },
           "zerolinecolor": "white",
           "zerolinewidth": 2
          }
         }
        },
        "title": {
         "text": "Multiple Subplots with Titles"
        },
        "width": 1000,
        "xaxis": {
         "anchor": "y",
         "domain": [
          0,
          1
         ],
         "title": {
          "text": "Date"
         }
        },
        "xaxis2": {
         "anchor": "y2",
         "domain": [
          0,
          1
         ]
        },
        "xaxis3": {
         "anchor": "y3",
         "domain": [
          0,
          1
         ]
        },
        "yaxis": {
         "anchor": "x",
         "domain": [
          0.7777777777777778,
          1
         ],
         "title": {
          "text": "Recovery rate"
         }
        },
        "yaxis2": {
         "anchor": "x2",
         "domain": [
          0.3888888888888889,
          0.6111111111111112
         ]
        },
        "yaxis3": {
         "anchor": "x3",
         "domain": [
          0,
          0.22222222222222224
         ]
        }
       }
      },
      "text/html": [
       "<div>\n",
       "        \n",
       "        \n",
       "            <div id=\"99bf4d18-c047-4a0c-a00a-60d4b2fbcc42\" class=\"plotly-graph-div\" style=\"height:1000px; width:1000px;\"></div>\n",
       "            <script type=\"text/javascript\">\n",
       "                require([\"plotly\"], function(Plotly) {\n",
       "                    window.PLOTLYENV=window.PLOTLYENV || {};\n",
       "                    \n",
       "                if (document.getElementById(\"99bf4d18-c047-4a0c-a00a-60d4b2fbcc42\")) {\n",
       "                    Plotly.newPlot(\n",
       "                        '99bf4d18-c047-4a0c-a00a-60d4b2fbcc42',\n",
       "                        [{\"line\": {\"color\": \"green\", \"width\": 2}, \"mode\": \"lines+markers\", \"name\": \"Global\", \"type\": \"scatter\", \"x\": [\"2020-03-08T00:00:00\", \"2020-03-09T00:00:00\", \"2020-03-10T00:00:00\", \"2020-03-11T00:00:00\", \"2020-03-12T00:00:00\", \"2020-03-13T00:00:00\", \"2020-03-14T00:00:00\", \"2020-03-15T00:00:00\", \"2020-03-16T00:00:00\", \"2020-03-17T00:00:00\", \"2020-03-18T00:00:00\", \"2020-03-19T00:00:00\", \"2020-03-20T00:00:00\", \"2020-03-21T00:00:00\", \"2020-03-22T00:00:00\", \"2020-03-23T00:00:00\", \"2020-03-24T00:00:00\", \"2020-03-25T00:00:00\", \"2020-03-26T00:00:00\", \"2020-03-27T00:00:00\", \"2020-03-28T00:00:00\", \"2020-03-29T00:00:00\", \"2020-03-30T00:00:00\", \"2020-03-31T00:00:00\", \"2020-04-01T00:00:00\", \"2020-04-02T00:00:00\", \"2020-04-03T00:00:00\", \"2020-04-04T00:00:00\", \"2020-04-05T00:00:00\", \"2020-04-06T00:00:00\", \"2020-04-07T00:00:00\", \"2020-04-08T00:00:00\", \"2020-04-09T00:00:00\", \"2020-04-10T00:00:00\", \"2020-04-11T00:00:00\", \"2020-04-12T00:00:00\", \"2020-04-13T00:00:00\", \"2020-04-14T00:00:00\", \"2020-04-15T00:00:00\", \"2020-04-16T00:00:00\", \"2020-04-17T00:00:00\", \"2020-04-18T00:00:00\", \"2020-04-19T00:00:00\", \"2020-04-20T00:00:00\", \"2020-04-21T00:00:00\", \"2020-04-22T00:00:00\", \"2020-04-23T00:00:00\", \"2020-04-24T00:00:00\", \"2020-04-25T00:00:00\", \"2020-04-26T00:00:00\", \"2020-04-27T00:00:00\", \"2020-04-28T00:00:00\", \"2020-04-29T00:00:00\", \"2020-04-30T00:00:00\", \"2020-05-01T00:00:00\", \"2020-05-02T00:00:00\", \"2020-05-03T00:00:00\", \"2020-05-04T00:00:00\", \"2020-05-05T00:00:00\", \"2020-05-06T00:00:00\", \"2020-05-07T00:00:00\", \"2020-05-08T00:00:00\", \"2020-05-09T00:00:00\", \"2020-05-10T00:00:00\", \"2020-05-11T00:00:00\"], \"xaxis\": \"x\", \"y\": [0.5572011693970985, 0.5560641344789743, 0.5466577073888526, 0.5324306198703413, 0.609498753048864, 0.4838542279297294, 0.4575358512668392, 0.523438114932988, 0.4354548763755495, 0.4113741265711496, 0.3886120296385113, 0.3505654749575376, 0.3211026770236277, 0.3009663634356807, 0.2912337720529809, 0.2658835992849103, 0.2576896574824626, 0.2424231390372728, 0.2298666222830815, 0.21995496240677656, 0.21036685637205496, 0.2064266744532043, 0.2098007875335764, 0.2071236516770633, 0.2066809072465946, 0.20710383053560316, 0.2056398284340589, 0.20521085236196945, 0.20404943858768476, 0.20525105304551705, 0.21009500870924866, 0.21720972187819967, 0.221609011397232, 0.22205750644501415, 0.22673883913944384, 0.2281339871600967, 0.2337842507043518, 0.2397776284452475, 0.24835689868916944, 0.251657122348581, 0.2535362966272057, 0.2553993675335016, 0.2596632772128688, 0.2610538118407098, 0.2665399006703105, 0.2704007152919205, 0.2724925979900518, 0.2821721725855651, 0.28180911611532466, 0.29123672113129834, 0.2937884143162354, 0.2978908868151209, 0.3044592675620058, 0.3114619468722032, 0.3148964643033911, 0.31880991272284576, 0.3207425337030898, 0.32436170676210485, 0.32713950950969, 0.3314623221764513, 0.3338799584242316, 0.3355110482147802, 0.34164703858127793, 0.34329132956690644, 0.34836123682264264], \"yaxis\": \"y\"}, {\"line\": {\"color\": \"orange\", \"width\": 2}, \"mode\": \"lines+markers\", \"name\": \"Bangladesh\", \"type\": \"scatter\", \"x\": [\"2020-03-08T00:00:00\", \"2020-03-09T00:00:00\", \"2020-03-10T00:00:00\", \"2020-03-11T00:00:00\", \"2020-03-12T00:00:00\", \"2020-03-13T00:00:00\", \"2020-03-14T00:00:00\", \"2020-03-15T00:00:00\", \"2020-03-16T00:00:00\", \"2020-03-17T00:00:00\", \"2020-03-18T00:00:00\", \"2020-03-19T00:00:00\", \"2020-03-20T00:00:00\", \"2020-03-21T00:00:00\", \"2020-03-22T00:00:00\", \"2020-03-23T00:00:00\", \"2020-03-24T00:00:00\", \"2020-03-25T00:00:00\", \"2020-03-26T00:00:00\", \"2020-03-27T00:00:00\", \"2020-03-28T00:00:00\", \"2020-03-29T00:00:00\", \"2020-03-30T00:00:00\", \"2020-03-31T00:00:00\", \"2020-04-01T00:00:00\", \"2020-04-02T00:00:00\", \"2020-04-03T00:00:00\", \"2020-04-04T00:00:00\", \"2020-04-05T00:00:00\", \"2020-04-06T00:00:00\", \"2020-04-07T00:00:00\", \"2020-04-08T00:00:00\", \"2020-04-09T00:00:00\", \"2020-04-10T00:00:00\", \"2020-04-11T00:00:00\", \"2020-04-12T00:00:00\", \"2020-04-13T00:00:00\", \"2020-04-14T00:00:00\", \"2020-04-15T00:00:00\", \"2020-04-16T00:00:00\", \"2020-04-17T00:00:00\", \"2020-04-18T00:00:00\", \"2020-04-19T00:00:00\", \"2020-04-20T00:00:00\", \"2020-04-21T00:00:00\", \"2020-04-22T00:00:00\", \"2020-04-23T00:00:00\", \"2020-04-24T00:00:00\", \"2020-04-25T00:00:00\", \"2020-04-26T00:00:00\", \"2020-04-27T00:00:00\", \"2020-04-28T00:00:00\", \"2020-04-29T00:00:00\", \"2020-04-30T00:00:00\", \"2020-05-01T00:00:00\", \"2020-05-02T00:00:00\", \"2020-05-03T00:00:00\", \"2020-05-04T00:00:00\", \"2020-05-05T00:00:00\", \"2020-05-06T00:00:00\", \"2020-05-07T00:00:00\", \"2020-05-08T00:00:00\", \"2020-05-09T00:00:00\", \"2020-05-10T00:00:00\", \"2020-05-11T00:00:00\"], \"xaxis\": \"x\", \"y\": [0.0, 0.0, 0.0, 0.0, 0.0, 0.0, 0.0, 0.0, 0.25, 0.3, 0.21428571428571427, 0.17647058823529413, 0.15, 0.12, 0.1111111111111111, 0.09090909090909093, 0.1282051282051282, 0.1794871794871795, 0.25, 0.22916666666666666, 0.3125, 0.3125, 0.3877551020408163, 0.4901960784313725, 0.462962962962963, 0.44642857142857145, 0.4262295081967213, 0.42857142857142855, 0.375, 0.2682926829268293, 0.201219512195122, 0.15137614678899086, 0.1, 0.07783018867924528, 0.07468879668049792, 0.06280193236714976, 0.052303860523038606, 0.04150197628458498, 0.039805036555645816, 0.0311704834605598, 0.031556039173014146, 0.030783582089552237, 0.030537459283387625, 0.02883310719131615, 0.0257244234180958, 0.024390243902439025, 0.025800286669851888, 0.023885689912561316, 0.022609043617446974, 0.02252584933530281, 0.02215457466599019, 0.021510368307025688, 0.021117837533436577, 0.02086865788443981, 0.02112163146394756, 0.020136518771331057, 0.11242728714965626, 0.11919550428867201, 0.12837405069082258, 0.11972011263759705, 0.15372233400402416, 0.15996649916247907, 0.17530864197530865, 0.18080098246571605, 0.1849467847810847], \"yaxis\": \"y\"}, {\"line\": {\"color\": \"green\", \"width\": 2}, \"mode\": \"lines+markers\", \"name\": \"Global\", \"type\": \"scatter\", \"x\": [\"2020-03-08T00:00:00\", \"2020-03-09T00:00:00\", \"2020-03-10T00:00:00\", \"2020-03-11T00:00:00\", \"2020-03-12T00:00:00\", \"2020-03-13T00:00:00\", \"2020-03-14T00:00:00\", \"2020-03-15T00:00:00\", \"2020-03-16T00:00:00\", \"2020-03-17T00:00:00\", \"2020-03-18T00:00:00\", \"2020-03-19T00:00:00\", \"2020-03-20T00:00:00\", \"2020-03-21T00:00:00\", \"2020-03-22T00:00:00\", \"2020-03-23T00:00:00\", \"2020-03-24T00:00:00\", \"2020-03-25T00:00:00\", \"2020-03-26T00:00:00\", \"2020-03-27T00:00:00\", \"2020-03-28T00:00:00\", \"2020-03-29T00:00:00\", \"2020-03-30T00:00:00\", \"2020-03-31T00:00:00\", \"2020-04-01T00:00:00\", \"2020-04-02T00:00:00\", \"2020-04-03T00:00:00\", \"2020-04-04T00:00:00\", \"2020-04-05T00:00:00\", \"2020-04-06T00:00:00\", \"2020-04-07T00:00:00\", \"2020-04-08T00:00:00\", \"2020-04-09T00:00:00\", \"2020-04-10T00:00:00\", \"2020-04-11T00:00:00\", \"2020-04-12T00:00:00\", \"2020-04-13T00:00:00\", \"2020-04-14T00:00:00\", \"2020-04-15T00:00:00\", \"2020-04-16T00:00:00\", \"2020-04-17T00:00:00\", \"2020-04-18T00:00:00\", \"2020-04-19T00:00:00\", \"2020-04-20T00:00:00\", \"2020-04-21T00:00:00\", \"2020-04-22T00:00:00\", \"2020-04-23T00:00:00\", \"2020-04-24T00:00:00\", \"2020-04-25T00:00:00\", \"2020-04-26T00:00:00\", \"2020-04-27T00:00:00\", \"2020-04-28T00:00:00\", \"2020-04-29T00:00:00\", \"2020-04-30T00:00:00\", \"2020-05-01T00:00:00\", \"2020-05-02T00:00:00\", \"2020-05-03T00:00:00\", \"2020-05-04T00:00:00\", \"2020-05-05T00:00:00\", \"2020-05-06T00:00:00\", \"2020-05-07T00:00:00\", \"2020-05-08T00:00:00\", \"2020-05-09T00:00:00\", \"2020-05-10T00:00:00\", \"2020-05-11T00:00:00\"], \"xaxis\": \"x2\", \"y\": [7.981169344219119, 8.206742164867, 8.463260468791152, 8.781669739267844, 8.785883592309718, 9.20858572557282, 9.566499868317091, 9.632736370819067, 10.239267843033977, 10.59784040031604, 10.92586252304451, 11.143402686331317, 11.464050566236505, 12.028706873847776, 12.83829338951804, 13.219778772715301, 14.182907558598895, 14.904266526204898, 16.004213853041875, 17.158282854885435, 18.27745588622597, 19.54964445614959, 21.588622596786934, 23.361469581248354, 25.355017118777987, 27.60284435080327, 29.647879905188304, 32.3276270740058, 34.151303660784826, 36.324598367131955, 39.421780352910204, 43.18777982617856, 46.52093758230182, 49.430866473531744, 52.854095338425076, 55.43652883855675, 58.9831445878325, 62.35080326573611, 67.19107189886753, 71.2824598367132, 74.73544903871478, 77.89149328417172, 82.05003950487226, 84.92533579141428, 89.41322096391887, 93.34724782723202, 97.13550171187781, 104.36937055570186, 107.43284171714512, 113.89281011324732, 117.60995522781143, 122.1797471688175, 127.98037924677378, 133.49433763497498, 138.57045035554384, 143.80010534632603, 148.02343955754543, 152.95298920200156, 157.6930471424809, 163.82064787990518, 168.98814853831973, 173.89360021069263, 180.94034764287602, 185.32275480642613, 191.5364761653937], \"yaxis\": \"y2\"}, {\"line\": {\"color\": \"orange\", \"width\": 2}, \"mode\": \"lines+markers\", \"name\": \"Bangladesh\", \"type\": \"scatter\", \"x\": [\"2020-03-08T00:00:00\", \"2020-03-09T00:00:00\", \"2020-03-10T00:00:00\", \"2020-03-11T00:00:00\", \"2020-03-12T00:00:00\", \"2020-03-13T00:00:00\", \"2020-03-14T00:00:00\", \"2020-03-15T00:00:00\", \"2020-03-16T00:00:00\", \"2020-03-17T00:00:00\", \"2020-03-18T00:00:00\", \"2020-03-19T00:00:00\", \"2020-03-20T00:00:00\", \"2020-03-21T00:00:00\", \"2020-03-22T00:00:00\", \"2020-03-23T00:00:00\", \"2020-03-24T00:00:00\", \"2020-03-25T00:00:00\", \"2020-03-26T00:00:00\", \"2020-03-27T00:00:00\", \"2020-03-28T00:00:00\", \"2020-03-29T00:00:00\", \"2020-03-30T00:00:00\", \"2020-03-31T00:00:00\", \"2020-04-01T00:00:00\", \"2020-04-02T00:00:00\", \"2020-04-03T00:00:00\", \"2020-04-04T00:00:00\", \"2020-04-05T00:00:00\", \"2020-04-06T00:00:00\", \"2020-04-07T00:00:00\", \"2020-04-08T00:00:00\", \"2020-04-09T00:00:00\", \"2020-04-10T00:00:00\", \"2020-04-11T00:00:00\", \"2020-04-12T00:00:00\", \"2020-04-13T00:00:00\", \"2020-04-14T00:00:00\", \"2020-04-15T00:00:00\", \"2020-04-16T00:00:00\", \"2020-04-17T00:00:00\", \"2020-04-18T00:00:00\", \"2020-04-19T00:00:00\", \"2020-04-20T00:00:00\", \"2020-04-21T00:00:00\", \"2020-04-22T00:00:00\", \"2020-04-23T00:00:00\", \"2020-04-24T00:00:00\", \"2020-04-25T00:00:00\", \"2020-04-26T00:00:00\", \"2020-04-27T00:00:00\", \"2020-04-28T00:00:00\", \"2020-04-29T00:00:00\", \"2020-04-30T00:00:00\", \"2020-05-01T00:00:00\", \"2020-05-02T00:00:00\", \"2020-05-03T00:00:00\", \"2020-05-04T00:00:00\", \"2020-05-05T00:00:00\", \"2020-05-06T00:00:00\", \"2020-05-07T00:00:00\", \"2020-05-08T00:00:00\", \"2020-05-09T00:00:00\", \"2020-05-10T00:00:00\", \"2020-05-11T00:00:00\"], \"xaxis\": \"x2\", \"y\": [0.0, 0.0, 0.0, 0.0, 0.0, 0.0, 0.0, 0.0, 0.012421836371000257, 0.018632754556500385, 0.018632754556500385, 0.018632754556500385, 0.018632754556500385, 0.018632754556500385, 0.018632754556500385, 0.018632754556500385, 0.03105459092750064, 0.04347642729850089, 0.06832010004050139, 0.06832010004050139, 0.0931637727825019, 0.0931637727825019, 0.11800744552450243, 0.15527295463750318, 0.15527295463750318, 0.15527295463750318, 0.1614838728230033, 0.1863275455650038, 0.20496030012150415, 0.20496030012150415, 0.20496030012150415, 0.20496030012150415, 0.20496030012150415, 0.20496030012150415, 0.22359305467800455, 0.24222580923450496, 0.2608585637910053, 0.2608585637910053, 0.30433499108950623, 0.30433499108950623, 0.36023325475900736, 0.4099206002430084, 0.4658188639125096, 0.5279280457675107, 0.5403498821385111, 0.5714044730660117, 0.6707791640340137, 0.6956228367760142, 0.7018337549615143, 0.7577320186310155, 0.8136302823005167, 0.8633176277845176, 0.9316377278250192, 0.9937469096800204, 1.0806997642770222, 1.0993325188335226, 6.602206031186634, 7.509000086269653, 8.713918214256678, 8.713918214256678, 11.862853734305244, 13.049139107735767, 14.993156499797307, 16.458933191575333, 18.024084574321368], \"yaxis\": \"y2\"}, {\"line\": {\"color\": \"green\", \"width\": 2}, \"mode\": \"lines+markers\", \"name\": \"Global\", \"type\": \"scatter\", \"x\": [\"2020-03-08T00:00:00\", \"2020-03-09T00:00:00\", \"2020-03-10T00:00:00\", \"2020-03-11T00:00:00\", \"2020-03-12T00:00:00\", \"2020-03-13T00:00:00\", \"2020-03-14T00:00:00\", \"2020-03-15T00:00:00\", \"2020-03-16T00:00:00\", \"2020-03-17T00:00:00\", \"2020-03-18T00:00:00\", \"2020-03-19T00:00:00\", \"2020-03-20T00:00:00\", \"2020-03-21T00:00:00\", \"2020-03-22T00:00:00\", \"2020-03-23T00:00:00\", \"2020-03-24T00:00:00\", \"2020-03-25T00:00:00\", \"2020-03-26T00:00:00\", \"2020-03-27T00:00:00\", \"2020-03-28T00:00:00\", \"2020-03-29T00:00:00\", \"2020-03-30T00:00:00\", \"2020-03-31T00:00:00\", \"2020-04-01T00:00:00\", \"2020-04-02T00:00:00\", \"2020-04-03T00:00:00\", \"2020-04-04T00:00:00\", \"2020-04-05T00:00:00\", \"2020-04-06T00:00:00\", \"2020-04-07T00:00:00\", \"2020-04-08T00:00:00\", \"2020-04-09T00:00:00\", \"2020-04-10T00:00:00\", \"2020-04-11T00:00:00\", \"2020-04-12T00:00:00\", \"2020-04-13T00:00:00\", \"2020-04-14T00:00:00\", \"2020-04-15T00:00:00\", \"2020-04-16T00:00:00\", \"2020-04-17T00:00:00\", \"2020-04-18T00:00:00\", \"2020-04-19T00:00:00\", \"2020-04-20T00:00:00\", \"2020-04-21T00:00:00\", \"2020-04-22T00:00:00\", \"2020-04-23T00:00:00\", \"2020-04-24T00:00:00\", \"2020-04-25T00:00:00\", \"2020-04-26T00:00:00\", \"2020-04-27T00:00:00\", \"2020-04-28T00:00:00\", \"2020-04-29T00:00:00\", \"2020-04-30T00:00:00\", \"2020-05-01T00:00:00\", \"2020-05-02T00:00:00\", \"2020-05-03T00:00:00\", \"2020-05-04T00:00:00\", \"2020-05-05T00:00:00\", \"2020-05-06T00:00:00\", \"2020-05-07T00:00:00\", \"2020-05-08T00:00:00\", \"2020-05-09T00:00:00\", \"2020-05-10T00:00:00\", \"2020-05-11T00:00:00\"], \"xaxis\": \"x3\", \"y\": [0.04590714520404742, 0.047204624781907685, 0.048680100682475004, 0.050511569228456406, 0.05053580702559098, 0.05296716105065314, 0.05502585894477119, 0.0554068468184803, 0.058895574743538334, 0.060958059793458676, 0.06284482081415332, 0.0640960970912258, 0.06594044196693495, 0.06918830678296814, 0.07384499355744854, 0.07603927162928814, 0.08157912313685968, 0.08572833103383487, 0.0920551535171197, 0.0986932802073517, 0.105130687640063, 0.11244823008122358, 0.12417629416971655, 0.13437358988292894, 0.14584034022106476, 0.15876969013004014, 0.17053259605191404, 0.18594632016718352, 0.19643598430833173, 0.20893662818048933, 0.2267514090744027, 0.2484131828322695, 0.2675852803657192, 0.2843229941494648, 0.30401317459666605, 0.3188671570843588, 0.3392670505289068, 0.3586375950263957, 0.38647849219125857, 0.41001187834661096, 0.4298732382360751, 0.4480265908587121, 0.4719462669058968, 0.4884847762944426, 0.5142987876739266, 0.5369270435925346, 0.5587168232165185, 0.6003255465849809, 0.6179464251018176, 0.6551037255402832, 0.6764844923376211, 0.7027696258989082, 0.7361344685169731, 0.7678503834987263, 0.7970478398719649, 0.8271284609782945, 0.8514207931564233, 0.879775228648075, 0.9070397206998312, 0.942285264889307, 0.9720083784879016, 1.00022420407719, 1.0407566177666452, 1.065963926786604, 1.101704830955018], \"yaxis\": \"y3\"}, {\"line\": {\"color\": \"orange\", \"width\": 2}, \"mode\": \"lines+markers\", \"name\": \"Bangladesh\", \"type\": \"scatter\", \"x\": [\"2020-03-08T00:00:00\", \"2020-03-09T00:00:00\", \"2020-03-10T00:00:00\", \"2020-03-11T00:00:00\", \"2020-03-12T00:00:00\", \"2020-03-13T00:00:00\", \"2020-03-14T00:00:00\", \"2020-03-15T00:00:00\", \"2020-03-16T00:00:00\", \"2020-03-17T00:00:00\", \"2020-03-18T00:00:00\", \"2020-03-19T00:00:00\", \"2020-03-20T00:00:00\", \"2020-03-21T00:00:00\", \"2020-03-22T00:00:00\", \"2020-03-23T00:00:00\", \"2020-03-24T00:00:00\", \"2020-03-25T00:00:00\", \"2020-03-26T00:00:00\", \"2020-03-27T00:00:00\", \"2020-03-28T00:00:00\", \"2020-03-29T00:00:00\", \"2020-03-30T00:00:00\", \"2020-03-31T00:00:00\", \"2020-04-01T00:00:00\", \"2020-04-02T00:00:00\", \"2020-04-03T00:00:00\", \"2020-04-04T00:00:00\", \"2020-04-05T00:00:00\", \"2020-04-06T00:00:00\", \"2020-04-07T00:00:00\", \"2020-04-08T00:00:00\", \"2020-04-09T00:00:00\", \"2020-04-10T00:00:00\", \"2020-04-11T00:00:00\", \"2020-04-12T00:00:00\", \"2020-04-13T00:00:00\", \"2020-04-14T00:00:00\", \"2020-04-15T00:00:00\", \"2020-04-16T00:00:00\", \"2020-04-17T00:00:00\", \"2020-04-18T00:00:00\", \"2020-04-19T00:00:00\", \"2020-04-20T00:00:00\", \"2020-04-21T00:00:00\", \"2020-04-22T00:00:00\", \"2020-04-23T00:00:00\", \"2020-04-24T00:00:00\", \"2020-04-25T00:00:00\", \"2020-04-26T00:00:00\", \"2020-04-27T00:00:00\", \"2020-04-28T00:00:00\", \"2020-04-29T00:00:00\", \"2020-04-30T00:00:00\", \"2020-05-01T00:00:00\", \"2020-05-02T00:00:00\", \"2020-05-03T00:00:00\", \"2020-05-04T00:00:00\", \"2020-05-05T00:00:00\", \"2020-05-06T00:00:00\", \"2020-05-07T00:00:00\", \"2020-05-08T00:00:00\", \"2020-05-09T00:00:00\", \"2020-05-10T00:00:00\", \"2020-05-11T00:00:00\"], \"xaxis\": \"x3\", \"y\": [0.0, 0.0, 0.0, 0.0, 0.0, 0.0, 0.0, 0.0, 0.0015364523315664132, 0.0023046784973496195, 0.0023046784973496195, 0.0023046784973496195, 0.0023046784973496195, 0.0023046784973496195, 0.0023046784973496195, 0.0023046784973496195, 0.003841130828916033, 0.005377583160482446, 0.008450487823615273, 0.008450487823615273, 0.011523392486748099, 0.011523392486748099, 0.014596297149880923, 0.019205654144580166, 0.019205654144580166, 0.019205654144580166, 0.01997388031036337, 0.023046784973496198, 0.02535146347084582, 0.02535146347084582, 0.02535146347084582, 0.02535146347084582, 0.02535146347084582, 0.02535146347084582, 0.027656141968195436, 0.029960820465545056, 0.03226549896289468, 0.03226549896289468, 0.03764308212337712, 0.03764308212337712, 0.04455711761542598, 0.05070292694169164, 0.057616962433740496, 0.06529922409157256, 0.06683567642313896, 0.07067680725205501, 0.08296842590458631, 0.08604133056771913, 0.08680955673350234, 0.0937235922255512, 0.10063762771760007, 0.10678343704386571, 0.11523392486748099, 0.12291618652531305, 0.13367135284627793, 0.13597603134362757, 0.8166244142275486, 0.9287854344318968, 1.0778213105938388, 1.0778213105938388, 1.4673119766459246, 1.6140431743105172, 1.8544979642006607, 2.0357993393254974, 2.2293923331028656], \"yaxis\": \"y3\"}],\n",
       "                        {\"annotations\": [{\"font\": {\"size\": 16}, \"showarrow\": false, \"text\": \"date vs recovered/affected\", \"x\": 0.5, \"xanchor\": \"center\", \"xref\": \"paper\", \"y\": 1.0, \"yanchor\": \"bottom\", \"yref\": \"paper\"}, {\"font\": {\"size\": 16}, \"showarrow\": false, \"text\": \"date vs recovered/population\", \"x\": 0.5, \"xanchor\": \"center\", \"xref\": \"paper\", \"y\": 0.6111111111111112, \"yanchor\": \"bottom\", \"yref\": \"paper\"}, {\"font\": {\"size\": 16}, \"showarrow\": false, \"text\": \"date vs recovered/area\", \"x\": 0.5, \"xanchor\": \"center\", \"xref\": \"paper\", \"y\": 0.22222222222222224, \"yanchor\": \"bottom\", \"yref\": \"paper\"}], \"height\": 1000, \"template\": {\"data\": {\"bar\": [{\"error_x\": {\"color\": \"#2a3f5f\"}, \"error_y\": {\"color\": \"#2a3f5f\"}, \"marker\": {\"line\": {\"color\": \"#E5ECF6\", \"width\": 0.5}}, \"type\": \"bar\"}], \"barpolar\": [{\"marker\": {\"line\": {\"color\": \"#E5ECF6\", \"width\": 0.5}}, \"type\": \"barpolar\"}], \"carpet\": [{\"aaxis\": {\"endlinecolor\": \"#2a3f5f\", \"gridcolor\": \"white\", \"linecolor\": \"white\", \"minorgridcolor\": \"white\", \"startlinecolor\": \"#2a3f5f\"}, \"baxis\": {\"endlinecolor\": \"#2a3f5f\", \"gridcolor\": \"white\", \"linecolor\": \"white\", \"minorgridcolor\": \"white\", \"startlinecolor\": \"#2a3f5f\"}, \"type\": \"carpet\"}], \"choropleth\": [{\"colorbar\": {\"outlinewidth\": 0, \"ticks\": \"\"}, \"type\": \"choropleth\"}], \"contour\": [{\"colorbar\": {\"outlinewidth\": 0, \"ticks\": \"\"}, \"colorscale\": [[0.0, \"#0d0887\"], [0.1111111111111111, \"#46039f\"], [0.2222222222222222, \"#7201a8\"], [0.3333333333333333, \"#9c179e\"], [0.4444444444444444, \"#bd3786\"], [0.5555555555555556, \"#d8576b\"], [0.6666666666666666, \"#ed7953\"], [0.7777777777777778, \"#fb9f3a\"], [0.8888888888888888, \"#fdca26\"], [1.0, \"#f0f921\"]], \"type\": \"contour\"}], \"contourcarpet\": [{\"colorbar\": {\"outlinewidth\": 0, \"ticks\": \"\"}, \"type\": \"contourcarpet\"}], \"heatmap\": [{\"colorbar\": {\"outlinewidth\": 0, \"ticks\": \"\"}, \"colorscale\": [[0.0, \"#0d0887\"], [0.1111111111111111, \"#46039f\"], [0.2222222222222222, \"#7201a8\"], [0.3333333333333333, \"#9c179e\"], [0.4444444444444444, \"#bd3786\"], [0.5555555555555556, \"#d8576b\"], [0.6666666666666666, \"#ed7953\"], [0.7777777777777778, \"#fb9f3a\"], [0.8888888888888888, \"#fdca26\"], [1.0, \"#f0f921\"]], \"type\": \"heatmap\"}], \"heatmapgl\": [{\"colorbar\": {\"outlinewidth\": 0, \"ticks\": \"\"}, \"colorscale\": [[0.0, \"#0d0887\"], [0.1111111111111111, \"#46039f\"], [0.2222222222222222, \"#7201a8\"], [0.3333333333333333, \"#9c179e\"], [0.4444444444444444, \"#bd3786\"], [0.5555555555555556, \"#d8576b\"], [0.6666666666666666, \"#ed7953\"], [0.7777777777777778, \"#fb9f3a\"], [0.8888888888888888, \"#fdca26\"], [1.0, \"#f0f921\"]], \"type\": \"heatmapgl\"}], \"histogram\": [{\"marker\": {\"colorbar\": {\"outlinewidth\": 0, \"ticks\": \"\"}}, \"type\": \"histogram\"}], \"histogram2d\": [{\"colorbar\": {\"outlinewidth\": 0, \"ticks\": \"\"}, \"colorscale\": [[0.0, \"#0d0887\"], [0.1111111111111111, \"#46039f\"], [0.2222222222222222, \"#7201a8\"], [0.3333333333333333, \"#9c179e\"], [0.4444444444444444, \"#bd3786\"], [0.5555555555555556, \"#d8576b\"], [0.6666666666666666, \"#ed7953\"], [0.7777777777777778, \"#fb9f3a\"], [0.8888888888888888, \"#fdca26\"], [1.0, \"#f0f921\"]], \"type\": \"histogram2d\"}], \"histogram2dcontour\": [{\"colorbar\": {\"outlinewidth\": 0, \"ticks\": \"\"}, \"colorscale\": [[0.0, \"#0d0887\"], [0.1111111111111111, \"#46039f\"], [0.2222222222222222, \"#7201a8\"], [0.3333333333333333, \"#9c179e\"], [0.4444444444444444, \"#bd3786\"], [0.5555555555555556, \"#d8576b\"], [0.6666666666666666, \"#ed7953\"], [0.7777777777777778, \"#fb9f3a\"], [0.8888888888888888, \"#fdca26\"], [1.0, \"#f0f921\"]], \"type\": \"histogram2dcontour\"}], \"mesh3d\": [{\"colorbar\": {\"outlinewidth\": 0, \"ticks\": \"\"}, \"type\": \"mesh3d\"}], \"parcoords\": [{\"line\": {\"colorbar\": {\"outlinewidth\": 0, \"ticks\": \"\"}}, \"type\": \"parcoords\"}], \"pie\": [{\"automargin\": true, \"type\": \"pie\"}], \"scatter\": [{\"marker\": {\"colorbar\": {\"outlinewidth\": 0, \"ticks\": \"\"}}, \"type\": \"scatter\"}], \"scatter3d\": [{\"line\": {\"colorbar\": {\"outlinewidth\": 0, \"ticks\": \"\"}}, \"marker\": {\"colorbar\": {\"outlinewidth\": 0, \"ticks\": \"\"}}, \"type\": \"scatter3d\"}], \"scattercarpet\": [{\"marker\": {\"colorbar\": {\"outlinewidth\": 0, \"ticks\": \"\"}}, \"type\": \"scattercarpet\"}], \"scattergeo\": [{\"marker\": {\"colorbar\": {\"outlinewidth\": 0, \"ticks\": \"\"}}, \"type\": \"scattergeo\"}], \"scattergl\": [{\"marker\": {\"colorbar\": {\"outlinewidth\": 0, \"ticks\": \"\"}}, \"type\": \"scattergl\"}], \"scattermapbox\": [{\"marker\": {\"colorbar\": {\"outlinewidth\": 0, \"ticks\": \"\"}}, \"type\": \"scattermapbox\"}], \"scatterpolar\": [{\"marker\": {\"colorbar\": {\"outlinewidth\": 0, \"ticks\": \"\"}}, \"type\": \"scatterpolar\"}], \"scatterpolargl\": [{\"marker\": {\"colorbar\": {\"outlinewidth\": 0, \"ticks\": \"\"}}, \"type\": \"scatterpolargl\"}], \"scatterternary\": [{\"marker\": {\"colorbar\": {\"outlinewidth\": 0, \"ticks\": \"\"}}, \"type\": \"scatterternary\"}], \"surface\": [{\"colorbar\": {\"outlinewidth\": 0, \"ticks\": \"\"}, \"colorscale\": [[0.0, \"#0d0887\"], [0.1111111111111111, \"#46039f\"], [0.2222222222222222, \"#7201a8\"], [0.3333333333333333, \"#9c179e\"], [0.4444444444444444, \"#bd3786\"], [0.5555555555555556, \"#d8576b\"], [0.6666666666666666, \"#ed7953\"], [0.7777777777777778, \"#fb9f3a\"], [0.8888888888888888, \"#fdca26\"], [1.0, \"#f0f921\"]], \"type\": \"surface\"}], \"table\": [{\"cells\": {\"fill\": {\"color\": \"#EBF0F8\"}, \"line\": {\"color\": \"white\"}}, \"header\": {\"fill\": {\"color\": \"#C8D4E3\"}, \"line\": {\"color\": \"white\"}}, \"type\": \"table\"}]}, \"layout\": {\"annotationdefaults\": {\"arrowcolor\": \"#2a3f5f\", \"arrowhead\": 0, \"arrowwidth\": 1}, \"coloraxis\": {\"colorbar\": {\"outlinewidth\": 0, \"ticks\": \"\"}}, \"colorscale\": {\"diverging\": [[0, \"#8e0152\"], [0.1, \"#c51b7d\"], [0.2, \"#de77ae\"], [0.3, \"#f1b6da\"], [0.4, \"#fde0ef\"], [0.5, \"#f7f7f7\"], [0.6, \"#e6f5d0\"], [0.7, \"#b8e186\"], [0.8, \"#7fbc41\"], [0.9, \"#4d9221\"], [1, \"#276419\"]], \"sequential\": [[0.0, \"#0d0887\"], [0.1111111111111111, \"#46039f\"], [0.2222222222222222, \"#7201a8\"], [0.3333333333333333, \"#9c179e\"], [0.4444444444444444, \"#bd3786\"], [0.5555555555555556, \"#d8576b\"], [0.6666666666666666, \"#ed7953\"], [0.7777777777777778, \"#fb9f3a\"], [0.8888888888888888, \"#fdca26\"], [1.0, \"#f0f921\"]], \"sequentialminus\": [[0.0, \"#0d0887\"], [0.1111111111111111, \"#46039f\"], [0.2222222222222222, \"#7201a8\"], [0.3333333333333333, \"#9c179e\"], [0.4444444444444444, \"#bd3786\"], [0.5555555555555556, \"#d8576b\"], [0.6666666666666666, \"#ed7953\"], [0.7777777777777778, \"#fb9f3a\"], [0.8888888888888888, \"#fdca26\"], [1.0, \"#f0f921\"]]}, \"colorway\": [\"#636efa\", \"#EF553B\", \"#00cc96\", \"#ab63fa\", \"#FFA15A\", \"#19d3f3\", \"#FF6692\", \"#B6E880\", \"#FF97FF\", \"#FECB52\"], \"font\": {\"color\": \"#2a3f5f\"}, \"geo\": {\"bgcolor\": \"white\", \"lakecolor\": \"white\", \"landcolor\": \"#E5ECF6\", \"showlakes\": true, \"showland\": true, \"subunitcolor\": \"white\"}, \"hoverlabel\": {\"align\": \"left\"}, \"hovermode\": \"closest\", \"mapbox\": {\"style\": \"light\"}, \"paper_bgcolor\": \"white\", \"plot_bgcolor\": \"#E5ECF6\", \"polar\": {\"angularaxis\": {\"gridcolor\": \"white\", \"linecolor\": \"white\", \"ticks\": \"\"}, \"bgcolor\": \"#E5ECF6\", \"radialaxis\": {\"gridcolor\": \"white\", \"linecolor\": \"white\", \"ticks\": \"\"}}, \"scene\": {\"xaxis\": {\"backgroundcolor\": \"#E5ECF6\", \"gridcolor\": \"white\", \"gridwidth\": 2, \"linecolor\": \"white\", \"showbackground\": true, \"ticks\": \"\", \"zerolinecolor\": \"white\"}, \"yaxis\": {\"backgroundcolor\": \"#E5ECF6\", \"gridcolor\": \"white\", \"gridwidth\": 2, \"linecolor\": \"white\", \"showbackground\": true, \"ticks\": \"\", \"zerolinecolor\": \"white\"}, \"zaxis\": {\"backgroundcolor\": \"#E5ECF6\", \"gridcolor\": \"white\", \"gridwidth\": 2, \"linecolor\": \"white\", \"showbackground\": true, \"ticks\": \"\", \"zerolinecolor\": \"white\"}}, \"shapedefaults\": {\"line\": {\"color\": \"#2a3f5f\"}}, \"ternary\": {\"aaxis\": {\"gridcolor\": \"white\", \"linecolor\": \"white\", \"ticks\": \"\"}, \"baxis\": {\"gridcolor\": \"white\", \"linecolor\": \"white\", \"ticks\": \"\"}, \"bgcolor\": \"#E5ECF6\", \"caxis\": {\"gridcolor\": \"white\", \"linecolor\": \"white\", \"ticks\": \"\"}}, \"title\": {\"x\": 0.05}, \"xaxis\": {\"automargin\": true, \"gridcolor\": \"white\", \"linecolor\": \"white\", \"ticks\": \"\", \"title\": {\"standoff\": 15}, \"zerolinecolor\": \"white\", \"zerolinewidth\": 2}, \"yaxis\": {\"automargin\": true, \"gridcolor\": \"white\", \"linecolor\": \"white\", \"ticks\": \"\", \"title\": {\"standoff\": 15}, \"zerolinecolor\": \"white\", \"zerolinewidth\": 2}}}, \"title\": {\"text\": \"Multiple Subplots with Titles\"}, \"width\": 1000, \"xaxis\": {\"anchor\": \"y\", \"domain\": [0.0, 1.0], \"title\": {\"text\": \"Date\"}}, \"xaxis2\": {\"anchor\": \"y2\", \"domain\": [0.0, 1.0]}, \"xaxis3\": {\"anchor\": \"y3\", \"domain\": [0.0, 1.0]}, \"yaxis\": {\"anchor\": \"x\", \"domain\": [0.7777777777777778, 1.0], \"title\": {\"text\": \"Recovery rate\"}}, \"yaxis2\": {\"anchor\": \"x2\", \"domain\": [0.3888888888888889, 0.6111111111111112]}, \"yaxis3\": {\"anchor\": \"x3\", \"domain\": [0.0, 0.22222222222222224]}},\n",
       "                        {\"responsive\": true}\n",
       "                    ).then(function(){\n",
       "                            \n",
       "var gd = document.getElementById('99bf4d18-c047-4a0c-a00a-60d4b2fbcc42');\n",
       "var x = new MutationObserver(function (mutations, observer) {{\n",
       "        var display = window.getComputedStyle(gd).display;\n",
       "        if (!display || display === 'none') {{\n",
       "            console.log([gd, 'removed!']);\n",
       "            Plotly.purge(gd);\n",
       "            observer.disconnect();\n",
       "        }}\n",
       "}});\n",
       "\n",
       "// Listen for the removal of the full notebook cells\n",
       "var notebookContainer = gd.closest('#notebook-container');\n",
       "if (notebookContainer) {{\n",
       "    x.observe(notebookContainer, {childList: true});\n",
       "}}\n",
       "\n",
       "// Listen for the clearing of the current output cell\n",
       "var outputEl = gd.closest('.output');\n",
       "if (outputEl) {{\n",
       "    x.observe(outputEl, {childList: true});\n",
       "}}\n",
       "\n",
       "                        })\n",
       "                };\n",
       "                });\n",
       "            </script>\n",
       "        </div>"
      ]
     },
     "metadata": {},
     "output_type": "display_data"
    }
   ],
   "source": [
    "\n",
    "\n",
    "fig = make_subplots(rows= 3, cols = 1,subplot_titles=(\"date vs recovered/affected\", \"date vs recovered/population\", \"date vs recovered/area\"))\n",
    "\n",
    "fig.update_layout(height=1000, width=1000,\n",
    "                  title_text=\"Multiple Subplots with Titles\",xaxis=dict(title='Date'),yaxis=dict(title='Recovery rate'))\n",
    "fig.add_trace(go.Scatter(x=result['date'], y=result['wRec/affected'] ,\n",
    "                    mode='lines+markers',\n",
    "                    name='Global',line=dict(color='green', width=2)), row=1, col=1)\n",
    "\n",
    "fig.add_trace(go.Scatter(x=result['date'], y=result['Rec/affected'] ,\n",
    "                    mode='lines+markers',\n",
    "                    name='Bangladesh',line=dict(color='orange', width=2) ), row=1, col=1)\n",
    "\n",
    "\n",
    "fig.add_trace(go.Scatter(x=result['date'], y=result['wRec/population'] ,\n",
    "                    mode='lines+markers',\n",
    "                    name='Global',line=dict(color='green', width=2) ), row=2, col=1)\n",
    "\n",
    "fig.add_trace(go.Scatter(x=result['date'], y=result['Rec/population'] ,\n",
    "                    mode='lines+markers',\n",
    "                    name='Bangladesh',line=dict(color='orange', width=2) ), row=2, col=1)\n",
    "\n",
    "\n",
    "fig.add_trace(go.Scatter(x=result['date'], y=result['wRec/Area'] ,\n",
    "                    mode='lines+markers',\n",
    "                    name='Global',line=dict(color='green', width=2) ), row=3, col=1)\n",
    "\n",
    "fig.add_trace(go.Scatter(x=result['date'], y=result['Rec/Area'] ,\n",
    "                    mode='lines+markers',\n",
    "                    name='Bangladesh',line=dict(color='orange', width=2) ), row=3, col=1)\n",
    "\n",
    "\n",
    "\n",
    "fig.show()"
   ]
  },
  {
   "cell_type": "markdown",
   "metadata": {},
   "source": [
    "# FOR ALL COUNTRIES"
   ]
  },
  {
   "cell_type": "code",
   "execution_count": 22,
   "metadata": {},
   "outputs": [],
   "source": [
    "def datasets1(iso2):\n",
    "    dset = countryset.loc[countryset['Country_code_iso2'] == '%s'% (iso2)]\n",
    "    dset.head()\n",
    "    \n",
    "    \n",
    "    print(iso2)\n",
    "    area = getRegion(iso2)\n",
    "    \n",
    "    \n",
    "        \n",
    "        \n",
    "    dset = dset.copy()\n",
    "\n",
    "\n",
    "    dset['Rec/Area'] = (dset.iloc[:,6:7]/area) * 100\n",
    "\n",
    "    dset.head()\n",
    "    \n",
    "    dset['date']= pd.to_datetime(Bdset['date'],infer_datetime_format=True)\n",
    "    \n",
    "    return dset\n",
    "    "
   ]
  },
  {
   "cell_type": "code",
   "execution_count": null,
   "metadata": {},
   "outputs": [],
   "source": [
    "def datasetss():\n",
    "    Bdset = datasets1('BD')\n",
    "    ukset = datasets1('GB')\n",
    "    usset = datasets1('US')\n",
    "    Chset = datasets1('CN')\n",
    "    indset = datasets1('IN')\n",
    "    idset = datasets1('ID')\n",
    "    itset = datasets1('IT')\n",
    "    ruset = datasets1('RU')\n",
    "    spset = datasets1('ES')\n",
    "    brset = datasets1('BR')\n",
    "    \n",
    "    \n",
    "    worldset['date'] = pd.to_datetime(worldset['date'],infer_datetime_format=True)\n",
    "    dfs = [Bdset,ukset,usset,Chset,indset,idset,itset,ruset,spset,brset]\n",
    "    result = pd.concat(dfs, join='outer', axis=1).fillna(nan_value)\n",
    "\n",
    "    #result = pd.merge(Bdset, worldset,on='date', how='left')\n",
    "    result.head()\n",
    "    \"\"\"\"\n",
    "    fig = make_subplots(rows= 3, cols = 1,subplot_titles=(\"date vs recovered/affected\", \"date vs recovered/population\", \"date vs recovered/area\"))\n",
    "\n",
    "    fig.update_layout(height=1000, width=1000,\n",
    "                  title_text=\"Multiple Subplots with Titles\",xaxis=dict(title='Date'),yaxis=dict(title='Recovery rate'))\n",
    "    fig.add_trace(go.Scatter(x=result['date'], y=result['wRec/affected'] ,\n",
    "                    mode='lines+markers',\n",
    "                    name='Global',line=dict(color='green', width=2)), row=1, col=1)\n",
    "\n",
    "    fig.add_trace(go.Scatter(x=result['date'], y=result['Rec/affected'] ,\n",
    "                    mode='lines+markers',\n",
    "                    name= '%s'%(Bdset.iloc[0,0]),line=dict(color='orange', width=2) ), row=1, col=1)\n",
    "\n",
    "\n",
    "    fig.add_trace(go.Scatter(x=result['date'], y=result['wRec/population'] ,\n",
    "                    mode='lines+markers',\n",
    "                    name='Global',line=dict(color='green', width=2) ), row=2, col=1)\n",
    "\n",
    "    fig.add_trace(go.Scatter(x=result['date'], y=result['Rec/population'] ,\n",
    "                    mode='lines+markers',\n",
    "                    name= '%s'%(iso2),line=dict(color='orange', width=2) ), row=2, col=1)\n",
    "\n",
    "\n",
    "    fig.add_trace(go.Scatter(x=result['date'], y=result['wRec/Area'] ,\n",
    "                    mode='lines+markers',\n",
    "                    name='Global',line=dict(color='green', width=2) ), row=3, col=1)\n",
    "\n",
    "    fig.add_trace(go.Scatter(x=result['date'], y=result['Rec/Area'] ,\n",
    "                    mode='lines+markers',\n",
    "                    name='%s'%(iso2),line=dict(color='orange', width=2) ), row=3, col=1)\n",
    "\n",
    "\n",
    "\n",
    "    fig.show()\n",
    "    \"\"\"\""
   ]
  },
  {
   "cell_type": "code",
   "execution_count": 116,
   "metadata": {},
   "outputs": [],
   "source": [
    "def datasetss(iso2):\n",
    "    Bdset = countryset.loc[countryset['Country_code_iso2'] == '%s'% (iso2)]\n",
    "    Bdset.head()\n",
    "    \n",
    "    \n",
    "    print(iso2)\n",
    "    area = getRegion(iso2)\n",
    "    \n",
    "    \n",
    "        \n",
    "        \n",
    "    Bdset= Bdset.copy()\n",
    "\n",
    "\n",
    "    Bdset['Rec/Area'] = (Bdset.iloc[:,6:7]/area) * 100\n",
    "\n",
    "    Bdset.head()\n",
    "    \n",
    "    Bdset['date']= pd.to_datetime(Bdset['date'],infer_datetime_format=True)\n",
    "    worldset['date'] = pd.to_datetime(worldset['date'],infer_datetime_format=True)\n",
    "\n",
    "    result = pd.merge(Bdset, worldset,on='date', how='left')\n",
    "    result.head()\n",
    "    \n",
    "    fig = make_subplots(rows= 3, cols = 1,subplot_titles=(\"date vs recovered/affected\", \"date vs recovered/population\", \"date vs recovered/area\"))\n",
    "\n",
    "    fig.update_layout(height=1000, width=1000,\n",
    "                  title_text=\"Multiple Subplots with Titles\",xaxis=dict(title='Date'),yaxis=dict(title='Recovery rate'))\n",
    "    fig.add_trace(go.Scatter(x=result['date'], y=result['wRec/affected'] ,\n",
    "                    mode='lines+markers',\n",
    "                    name='Global',line=dict(color='green', width=2)), row=1, col=1)\n",
    "\n",
    "    fig.add_trace(go.Scatter(x=result['date'], y=result['Rec/affected'] ,\n",
    "                    mode='lines+markers',\n",
    "                    name= '%s'%(Bdset.iloc[0,0]),line=dict(color='orange', width=2) ), row=1, col=1)\n",
    "\n",
    "\n",
    "    fig.add_trace(go.Scatter(x=result['date'], y=result['wRec/population'] ,\n",
    "                    mode='lines+markers',\n",
    "                    name='Global',line=dict(color='green', width=2) ), row=2, col=1)\n",
    "\n",
    "    fig.add_trace(go.Scatter(x=result['date'], y=result['Rec/population'] ,\n",
    "                    mode='lines+markers',\n",
    "                    name= '%s'%(iso2),line=dict(color='orange', width=2) ), row=2, col=1)\n",
    "\n",
    "\n",
    "    fig.add_trace(go.Scatter(x=result['date'], y=result['wRec/Area'] ,\n",
    "                    mode='lines+markers',\n",
    "                    name='Global',line=dict(color='green', width=2) ), row=3, col=1)\n",
    "\n",
    "    fig.add_trace(go.Scatter(x=result['date'], y=result['Rec/Area'] ,\n",
    "                    mode='lines+markers',\n",
    "                    name='%s'%(iso2),line=dict(color='orange', width=2) ), row=3, col=1)\n",
    "\n",
    "\n",
    "\n",
    "    fig.show()"
   ]
  },
  {
   "cell_type": "code",
   "execution_count": 117,
   "metadata": {},
   "outputs": [
    {
     "name": "stdout",
     "output_type": "stream",
     "text": [
      "BD\n",
      "{'user': 'teamcoronosis', 'dbname': 'postgres', 'host': 'coronosis.cfzyz28p01p7.ap-south-1.rds.amazonaws.com', 'port': '5432', 'tty': '', 'options': '', 'sslmode': 'prefer', 'sslcompression': '0', 'krbsrvname': 'postgres', 'target_session_attrs': 'any'} \n",
      "\n",
      "You are connected to -  ('PostgreSQL 11.5 on x86_64-pc-linux-gnu, compiled by gcc (GCC) 4.8.3 20140911 (Red Hat 4.8.3-9), 64-bit',) \n",
      "\n",
      "130170\n",
      "PostgreSQL connection is closed\n"
     ]
    },
    {
     "data": {
      "application/vnd.plotly.v1+json": {
       "config": {
        "plotlyServerURL": "https://plot.ly"
       },
       "data": [
        {
         "line": {
          "color": "green",
          "width": 2
         },
         "mode": "lines+markers",
         "name": "Global",
         "type": "scatter",
         "x": [
          "2020-03-08T00:00:00",
          "2020-03-09T00:00:00",
          "2020-03-10T00:00:00",
          "2020-03-11T00:00:00",
          "2020-03-12T00:00:00",
          "2020-03-13T00:00:00",
          "2020-03-14T00:00:00",
          "2020-03-15T00:00:00",
          "2020-03-16T00:00:00",
          "2020-03-17T00:00:00",
          "2020-03-18T00:00:00",
          "2020-03-19T00:00:00",
          "2020-03-20T00:00:00",
          "2020-03-21T00:00:00",
          "2020-03-22T00:00:00",
          "2020-03-23T00:00:00",
          "2020-03-24T00:00:00",
          "2020-03-25T00:00:00",
          "2020-03-26T00:00:00",
          "2020-03-27T00:00:00",
          "2020-03-28T00:00:00",
          "2020-03-29T00:00:00",
          "2020-03-30T00:00:00",
          "2020-03-31T00:00:00",
          "2020-04-01T00:00:00",
          "2020-04-02T00:00:00",
          "2020-04-03T00:00:00",
          "2020-04-04T00:00:00",
          "2020-04-05T00:00:00",
          "2020-04-06T00:00:00",
          "2020-04-07T00:00:00",
          "2020-04-08T00:00:00",
          "2020-04-09T00:00:00",
          "2020-04-10T00:00:00",
          "2020-04-11T00:00:00",
          "2020-04-12T00:00:00",
          "2020-04-13T00:00:00",
          "2020-04-14T00:00:00",
          "2020-04-15T00:00:00",
          "2020-04-16T00:00:00",
          "2020-04-17T00:00:00",
          "2020-04-18T00:00:00",
          "2020-04-19T00:00:00",
          "2020-04-20T00:00:00",
          "2020-04-21T00:00:00",
          "2020-04-22T00:00:00",
          "2020-04-23T00:00:00",
          "2020-04-24T00:00:00",
          "2020-04-25T00:00:00",
          "2020-04-26T00:00:00",
          "2020-04-27T00:00:00",
          "2020-04-28T00:00:00",
          "2020-04-29T00:00:00",
          "2020-04-30T00:00:00",
          "2020-05-01T00:00:00",
          "2020-05-02T00:00:00",
          "2020-05-03T00:00:00",
          "2020-05-04T00:00:00",
          "2020-05-05T00:00:00",
          "2020-05-06T00:00:00",
          "2020-05-07T00:00:00",
          "2020-05-08T00:00:00",
          "2020-05-09T00:00:00",
          "2020-05-10T00:00:00",
          "2020-05-11T00:00:00"
         ],
         "xaxis": "x",
         "y": [
          0.5572011693970985,
          0.5560641344789743,
          0.5466577073888526,
          0.5324306198703413,
          0.609498753048864,
          0.4838542279297294,
          0.4575358512668392,
          0.523438114932988,
          0.4354548763755495,
          0.4113741265711496,
          0.3886120296385113,
          0.3505654749575376,
          0.3211026770236277,
          0.3009663634356807,
          0.2912337720529809,
          0.2658835992849103,
          0.2576896574824626,
          0.2424231390372728,
          0.2298666222830815,
          0.21995496240677656,
          0.21036685637205496,
          0.2064266744532043,
          0.2098007875335764,
          0.2071236516770633,
          0.2066809072465946,
          0.20710383053560316,
          0.2056398284340589,
          0.20521085236196945,
          0.20404943858768476,
          0.20525105304551705,
          0.21009500870924866,
          0.21720972187819967,
          0.221609011397232,
          0.22205750644501415,
          0.22673883913944384,
          0.2281339871600967,
          0.2337842507043518,
          0.2397776284452475,
          0.24835689868916944,
          0.251657122348581,
          0.2535362966272057,
          0.2553993675335016,
          0.2596632772128688,
          0.2610538118407098,
          0.2665399006703105,
          0.2704007152919205,
          0.2724925979900518,
          0.2821721725855651,
          0.28180911611532466,
          0.29123672113129834,
          0.2937884143162354,
          0.2978908868151209,
          0.3044592675620058,
          0.3114619468722032,
          0.3148964643033911,
          0.31880991272284576,
          0.3207425337030898,
          0.32436170676210485,
          0.32713950950969,
          0.3314623221764513,
          0.3338799584242316,
          0.3355110482147802,
          0.34164703858127793,
          0.34329132956690644,
          0.34836123682264264
         ],
         "yaxis": "y"
        },
        {
         "line": {
          "color": "orange",
          "width": 2
         },
         "mode": "lines+markers",
         "name": "Bangladesh",
         "type": "scatter",
         "x": [
          "2020-03-08T00:00:00",
          "2020-03-09T00:00:00",
          "2020-03-10T00:00:00",
          "2020-03-11T00:00:00",
          "2020-03-12T00:00:00",
          "2020-03-13T00:00:00",
          "2020-03-14T00:00:00",
          "2020-03-15T00:00:00",
          "2020-03-16T00:00:00",
          "2020-03-17T00:00:00",
          "2020-03-18T00:00:00",
          "2020-03-19T00:00:00",
          "2020-03-20T00:00:00",
          "2020-03-21T00:00:00",
          "2020-03-22T00:00:00",
          "2020-03-23T00:00:00",
          "2020-03-24T00:00:00",
          "2020-03-25T00:00:00",
          "2020-03-26T00:00:00",
          "2020-03-27T00:00:00",
          "2020-03-28T00:00:00",
          "2020-03-29T00:00:00",
          "2020-03-30T00:00:00",
          "2020-03-31T00:00:00",
          "2020-04-01T00:00:00",
          "2020-04-02T00:00:00",
          "2020-04-03T00:00:00",
          "2020-04-04T00:00:00",
          "2020-04-05T00:00:00",
          "2020-04-06T00:00:00",
          "2020-04-07T00:00:00",
          "2020-04-08T00:00:00",
          "2020-04-09T00:00:00",
          "2020-04-10T00:00:00",
          "2020-04-11T00:00:00",
          "2020-04-12T00:00:00",
          "2020-04-13T00:00:00",
          "2020-04-14T00:00:00",
          "2020-04-15T00:00:00",
          "2020-04-16T00:00:00",
          "2020-04-17T00:00:00",
          "2020-04-18T00:00:00",
          "2020-04-19T00:00:00",
          "2020-04-20T00:00:00",
          "2020-04-21T00:00:00",
          "2020-04-22T00:00:00",
          "2020-04-23T00:00:00",
          "2020-04-24T00:00:00",
          "2020-04-25T00:00:00",
          "2020-04-26T00:00:00",
          "2020-04-27T00:00:00",
          "2020-04-28T00:00:00",
          "2020-04-29T00:00:00",
          "2020-04-30T00:00:00",
          "2020-05-01T00:00:00",
          "2020-05-02T00:00:00",
          "2020-05-03T00:00:00",
          "2020-05-04T00:00:00",
          "2020-05-05T00:00:00",
          "2020-05-06T00:00:00",
          "2020-05-07T00:00:00",
          "2020-05-08T00:00:00",
          "2020-05-09T00:00:00",
          "2020-05-10T00:00:00",
          "2020-05-11T00:00:00"
         ],
         "xaxis": "x",
         "y": [
          0,
          0,
          0,
          0,
          0,
          0,
          0,
          0,
          0.25,
          0.3,
          0.21428571428571427,
          0.17647058823529413,
          0.15,
          0.12,
          0.1111111111111111,
          0.09090909090909093,
          0.1282051282051282,
          0.1794871794871795,
          0.25,
          0.22916666666666666,
          0.3125,
          0.3125,
          0.3877551020408163,
          0.4901960784313725,
          0.462962962962963,
          0.44642857142857145,
          0.4262295081967213,
          0.42857142857142855,
          0.375,
          0.2682926829268293,
          0.201219512195122,
          0.15137614678899086,
          0.1,
          0.07783018867924528,
          0.07468879668049792,
          0.06280193236714976,
          0.052303860523038606,
          0.04150197628458498,
          0.039805036555645816,
          0.0311704834605598,
          0.031556039173014146,
          0.030783582089552237,
          0.030537459283387625,
          0.02883310719131615,
          0.0257244234180958,
          0.024390243902439025,
          0.025800286669851888,
          0.023885689912561316,
          0.022609043617446974,
          0.02252584933530281,
          0.02215457466599019,
          0.021510368307025688,
          0.021117837533436577,
          0.02086865788443981,
          0.02112163146394756,
          0.020136518771331057,
          0.11242728714965626,
          0.11919550428867201,
          0.12837405069082258,
          0.11972011263759705,
          0.15372233400402416,
          0.15996649916247907,
          0.17530864197530865,
          0.18080098246571605,
          0.1849467847810847
         ],
         "yaxis": "y"
        },
        {
         "line": {
          "color": "green",
          "width": 2
         },
         "mode": "lines+markers",
         "name": "Global",
         "type": "scatter",
         "x": [
          "2020-03-08T00:00:00",
          "2020-03-09T00:00:00",
          "2020-03-10T00:00:00",
          "2020-03-11T00:00:00",
          "2020-03-12T00:00:00",
          "2020-03-13T00:00:00",
          "2020-03-14T00:00:00",
          "2020-03-15T00:00:00",
          "2020-03-16T00:00:00",
          "2020-03-17T00:00:00",
          "2020-03-18T00:00:00",
          "2020-03-19T00:00:00",
          "2020-03-20T00:00:00",
          "2020-03-21T00:00:00",
          "2020-03-22T00:00:00",
          "2020-03-23T00:00:00",
          "2020-03-24T00:00:00",
          "2020-03-25T00:00:00",
          "2020-03-26T00:00:00",
          "2020-03-27T00:00:00",
          "2020-03-28T00:00:00",
          "2020-03-29T00:00:00",
          "2020-03-30T00:00:00",
          "2020-03-31T00:00:00",
          "2020-04-01T00:00:00",
          "2020-04-02T00:00:00",
          "2020-04-03T00:00:00",
          "2020-04-04T00:00:00",
          "2020-04-05T00:00:00",
          "2020-04-06T00:00:00",
          "2020-04-07T00:00:00",
          "2020-04-08T00:00:00",
          "2020-04-09T00:00:00",
          "2020-04-10T00:00:00",
          "2020-04-11T00:00:00",
          "2020-04-12T00:00:00",
          "2020-04-13T00:00:00",
          "2020-04-14T00:00:00",
          "2020-04-15T00:00:00",
          "2020-04-16T00:00:00",
          "2020-04-17T00:00:00",
          "2020-04-18T00:00:00",
          "2020-04-19T00:00:00",
          "2020-04-20T00:00:00",
          "2020-04-21T00:00:00",
          "2020-04-22T00:00:00",
          "2020-04-23T00:00:00",
          "2020-04-24T00:00:00",
          "2020-04-25T00:00:00",
          "2020-04-26T00:00:00",
          "2020-04-27T00:00:00",
          "2020-04-28T00:00:00",
          "2020-04-29T00:00:00",
          "2020-04-30T00:00:00",
          "2020-05-01T00:00:00",
          "2020-05-02T00:00:00",
          "2020-05-03T00:00:00",
          "2020-05-04T00:00:00",
          "2020-05-05T00:00:00",
          "2020-05-06T00:00:00",
          "2020-05-07T00:00:00",
          "2020-05-08T00:00:00",
          "2020-05-09T00:00:00",
          "2020-05-10T00:00:00",
          "2020-05-11T00:00:00"
         ],
         "xaxis": "x2",
         "y": [
          7.981169344219119,
          8.206742164867,
          8.463260468791152,
          8.781669739267844,
          8.785883592309718,
          9.20858572557282,
          9.566499868317091,
          9.632736370819067,
          10.239267843033977,
          10.59784040031604,
          10.92586252304451,
          11.143402686331317,
          11.464050566236505,
          12.028706873847776,
          12.83829338951804,
          13.219778772715301,
          14.182907558598895,
          14.904266526204898,
          16.004213853041875,
          17.158282854885435,
          18.27745588622597,
          19.54964445614959,
          21.588622596786934,
          23.361469581248354,
          25.355017118777987,
          27.60284435080327,
          29.647879905188304,
          32.3276270740058,
          34.151303660784826,
          36.324598367131955,
          39.421780352910204,
          43.18777982617856,
          46.52093758230182,
          49.430866473531744,
          52.854095338425076,
          55.43652883855675,
          58.9831445878325,
          62.35080326573611,
          67.19107189886753,
          71.2824598367132,
          74.73544903871478,
          77.89149328417172,
          82.05003950487226,
          84.92533579141428,
          89.41322096391887,
          93.34724782723202,
          97.13550171187781,
          104.36937055570186,
          107.43284171714512,
          113.89281011324732,
          117.60995522781143,
          122.1797471688175,
          127.98037924677378,
          133.49433763497498,
          138.57045035554384,
          143.80010534632603,
          148.02343955754543,
          152.95298920200156,
          157.6930471424809,
          163.82064787990518,
          168.98814853831973,
          173.89360021069263,
          180.94034764287602,
          185.32275480642613,
          191.5364761653937
         ],
         "yaxis": "y2"
        },
        {
         "line": {
          "color": "orange",
          "width": 2
         },
         "mode": "lines+markers",
         "name": "BD",
         "type": "scatter",
         "x": [
          "2020-03-08T00:00:00",
          "2020-03-09T00:00:00",
          "2020-03-10T00:00:00",
          "2020-03-11T00:00:00",
          "2020-03-12T00:00:00",
          "2020-03-13T00:00:00",
          "2020-03-14T00:00:00",
          "2020-03-15T00:00:00",
          "2020-03-16T00:00:00",
          "2020-03-17T00:00:00",
          "2020-03-18T00:00:00",
          "2020-03-19T00:00:00",
          "2020-03-20T00:00:00",
          "2020-03-21T00:00:00",
          "2020-03-22T00:00:00",
          "2020-03-23T00:00:00",
          "2020-03-24T00:00:00",
          "2020-03-25T00:00:00",
          "2020-03-26T00:00:00",
          "2020-03-27T00:00:00",
          "2020-03-28T00:00:00",
          "2020-03-29T00:00:00",
          "2020-03-30T00:00:00",
          "2020-03-31T00:00:00",
          "2020-04-01T00:00:00",
          "2020-04-02T00:00:00",
          "2020-04-03T00:00:00",
          "2020-04-04T00:00:00",
          "2020-04-05T00:00:00",
          "2020-04-06T00:00:00",
          "2020-04-07T00:00:00",
          "2020-04-08T00:00:00",
          "2020-04-09T00:00:00",
          "2020-04-10T00:00:00",
          "2020-04-11T00:00:00",
          "2020-04-12T00:00:00",
          "2020-04-13T00:00:00",
          "2020-04-14T00:00:00",
          "2020-04-15T00:00:00",
          "2020-04-16T00:00:00",
          "2020-04-17T00:00:00",
          "2020-04-18T00:00:00",
          "2020-04-19T00:00:00",
          "2020-04-20T00:00:00",
          "2020-04-21T00:00:00",
          "2020-04-22T00:00:00",
          "2020-04-23T00:00:00",
          "2020-04-24T00:00:00",
          "2020-04-25T00:00:00",
          "2020-04-26T00:00:00",
          "2020-04-27T00:00:00",
          "2020-04-28T00:00:00",
          "2020-04-29T00:00:00",
          "2020-04-30T00:00:00",
          "2020-05-01T00:00:00",
          "2020-05-02T00:00:00",
          "2020-05-03T00:00:00",
          "2020-05-04T00:00:00",
          "2020-05-05T00:00:00",
          "2020-05-06T00:00:00",
          "2020-05-07T00:00:00",
          "2020-05-08T00:00:00",
          "2020-05-09T00:00:00",
          "2020-05-10T00:00:00",
          "2020-05-11T00:00:00"
         ],
         "xaxis": "x2",
         "y": [
          0,
          0,
          0,
          0,
          0,
          0,
          0,
          0,
          0.012421836371000257,
          0.018632754556500385,
          0.018632754556500385,
          0.018632754556500385,
          0.018632754556500385,
          0.018632754556500385,
          0.018632754556500385,
          0.018632754556500385,
          0.03105459092750064,
          0.04347642729850089,
          0.06832010004050139,
          0.06832010004050139,
          0.0931637727825019,
          0.0931637727825019,
          0.11800744552450243,
          0.15527295463750318,
          0.15527295463750318,
          0.15527295463750318,
          0.1614838728230033,
          0.1863275455650038,
          0.20496030012150415,
          0.20496030012150415,
          0.20496030012150415,
          0.20496030012150415,
          0.20496030012150415,
          0.20496030012150415,
          0.22359305467800455,
          0.24222580923450496,
          0.2608585637910053,
          0.2608585637910053,
          0.30433499108950623,
          0.30433499108950623,
          0.36023325475900736,
          0.4099206002430084,
          0.4658188639125096,
          0.5279280457675107,
          0.5403498821385111,
          0.5714044730660117,
          0.6707791640340137,
          0.6956228367760142,
          0.7018337549615143,
          0.7577320186310155,
          0.8136302823005167,
          0.8633176277845176,
          0.9316377278250192,
          0.9937469096800204,
          1.0806997642770222,
          1.0993325188335226,
          6.602206031186634,
          7.509000086269653,
          8.713918214256678,
          8.713918214256678,
          11.862853734305244,
          13.049139107735767,
          14.993156499797307,
          16.458933191575333,
          18.024084574321368
         ],
         "yaxis": "y2"
        },
        {
         "line": {
          "color": "green",
          "width": 2
         },
         "mode": "lines+markers",
         "name": "Global",
         "type": "scatter",
         "x": [
          "2020-03-08T00:00:00",
          "2020-03-09T00:00:00",
          "2020-03-10T00:00:00",
          "2020-03-11T00:00:00",
          "2020-03-12T00:00:00",
          "2020-03-13T00:00:00",
          "2020-03-14T00:00:00",
          "2020-03-15T00:00:00",
          "2020-03-16T00:00:00",
          "2020-03-17T00:00:00",
          "2020-03-18T00:00:00",
          "2020-03-19T00:00:00",
          "2020-03-20T00:00:00",
          "2020-03-21T00:00:00",
          "2020-03-22T00:00:00",
          "2020-03-23T00:00:00",
          "2020-03-24T00:00:00",
          "2020-03-25T00:00:00",
          "2020-03-26T00:00:00",
          "2020-03-27T00:00:00",
          "2020-03-28T00:00:00",
          "2020-03-29T00:00:00",
          "2020-03-30T00:00:00",
          "2020-03-31T00:00:00",
          "2020-04-01T00:00:00",
          "2020-04-02T00:00:00",
          "2020-04-03T00:00:00",
          "2020-04-04T00:00:00",
          "2020-04-05T00:00:00",
          "2020-04-06T00:00:00",
          "2020-04-07T00:00:00",
          "2020-04-08T00:00:00",
          "2020-04-09T00:00:00",
          "2020-04-10T00:00:00",
          "2020-04-11T00:00:00",
          "2020-04-12T00:00:00",
          "2020-04-13T00:00:00",
          "2020-04-14T00:00:00",
          "2020-04-15T00:00:00",
          "2020-04-16T00:00:00",
          "2020-04-17T00:00:00",
          "2020-04-18T00:00:00",
          "2020-04-19T00:00:00",
          "2020-04-20T00:00:00",
          "2020-04-21T00:00:00",
          "2020-04-22T00:00:00",
          "2020-04-23T00:00:00",
          "2020-04-24T00:00:00",
          "2020-04-25T00:00:00",
          "2020-04-26T00:00:00",
          "2020-04-27T00:00:00",
          "2020-04-28T00:00:00",
          "2020-04-29T00:00:00",
          "2020-04-30T00:00:00",
          "2020-05-01T00:00:00",
          "2020-05-02T00:00:00",
          "2020-05-03T00:00:00",
          "2020-05-04T00:00:00",
          "2020-05-05T00:00:00",
          "2020-05-06T00:00:00",
          "2020-05-07T00:00:00",
          "2020-05-08T00:00:00",
          "2020-05-09T00:00:00",
          "2020-05-10T00:00:00",
          "2020-05-11T00:00:00"
         ],
         "xaxis": "x3",
         "y": [
          0.04590714520404742,
          0.047204624781907685,
          0.048680100682475004,
          0.050511569228456406,
          0.05053580702559098,
          0.05296716105065314,
          0.05502585894477119,
          0.0554068468184803,
          0.058895574743538334,
          0.060958059793458676,
          0.06284482081415332,
          0.0640960970912258,
          0.06594044196693495,
          0.06918830678296814,
          0.07384499355744854,
          0.07603927162928814,
          0.08157912313685968,
          0.08572833103383487,
          0.0920551535171197,
          0.0986932802073517,
          0.105130687640063,
          0.11244823008122358,
          0.12417629416971655,
          0.13437358988292894,
          0.14584034022106476,
          0.15876969013004014,
          0.17053259605191404,
          0.18594632016718352,
          0.19643598430833173,
          0.20893662818048933,
          0.2267514090744027,
          0.2484131828322695,
          0.2675852803657192,
          0.2843229941494648,
          0.30401317459666605,
          0.3188671570843588,
          0.3392670505289068,
          0.3586375950263957,
          0.38647849219125857,
          0.41001187834661096,
          0.4298732382360751,
          0.4480265908587121,
          0.4719462669058968,
          0.4884847762944426,
          0.5142987876739266,
          0.5369270435925346,
          0.5587168232165185,
          0.6003255465849809,
          0.6179464251018176,
          0.6551037255402832,
          0.6764844923376211,
          0.7027696258989082,
          0.7361344685169731,
          0.7678503834987263,
          0.7970478398719649,
          0.8271284609782945,
          0.8514207931564233,
          0.879775228648075,
          0.9070397206998312,
          0.942285264889307,
          0.9720083784879016,
          1.00022420407719,
          1.0407566177666452,
          1.065963926786604,
          1.101704830955018
         ],
         "yaxis": "y3"
        },
        {
         "line": {
          "color": "orange",
          "width": 2
         },
         "mode": "lines+markers",
         "name": "BD",
         "type": "scatter",
         "x": [
          "2020-03-08T00:00:00",
          "2020-03-09T00:00:00",
          "2020-03-10T00:00:00",
          "2020-03-11T00:00:00",
          "2020-03-12T00:00:00",
          "2020-03-13T00:00:00",
          "2020-03-14T00:00:00",
          "2020-03-15T00:00:00",
          "2020-03-16T00:00:00",
          "2020-03-17T00:00:00",
          "2020-03-18T00:00:00",
          "2020-03-19T00:00:00",
          "2020-03-20T00:00:00",
          "2020-03-21T00:00:00",
          "2020-03-22T00:00:00",
          "2020-03-23T00:00:00",
          "2020-03-24T00:00:00",
          "2020-03-25T00:00:00",
          "2020-03-26T00:00:00",
          "2020-03-27T00:00:00",
          "2020-03-28T00:00:00",
          "2020-03-29T00:00:00",
          "2020-03-30T00:00:00",
          "2020-03-31T00:00:00",
          "2020-04-01T00:00:00",
          "2020-04-02T00:00:00",
          "2020-04-03T00:00:00",
          "2020-04-04T00:00:00",
          "2020-04-05T00:00:00",
          "2020-04-06T00:00:00",
          "2020-04-07T00:00:00",
          "2020-04-08T00:00:00",
          "2020-04-09T00:00:00",
          "2020-04-10T00:00:00",
          "2020-04-11T00:00:00",
          "2020-04-12T00:00:00",
          "2020-04-13T00:00:00",
          "2020-04-14T00:00:00",
          "2020-04-15T00:00:00",
          "2020-04-16T00:00:00",
          "2020-04-17T00:00:00",
          "2020-04-18T00:00:00",
          "2020-04-19T00:00:00",
          "2020-04-20T00:00:00",
          "2020-04-21T00:00:00",
          "2020-04-22T00:00:00",
          "2020-04-23T00:00:00",
          "2020-04-24T00:00:00",
          "2020-04-25T00:00:00",
          "2020-04-26T00:00:00",
          "2020-04-27T00:00:00",
          "2020-04-28T00:00:00",
          "2020-04-29T00:00:00",
          "2020-04-30T00:00:00",
          "2020-05-01T00:00:00",
          "2020-05-02T00:00:00",
          "2020-05-03T00:00:00",
          "2020-05-04T00:00:00",
          "2020-05-05T00:00:00",
          "2020-05-06T00:00:00",
          "2020-05-07T00:00:00",
          "2020-05-08T00:00:00",
          "2020-05-09T00:00:00",
          "2020-05-10T00:00:00",
          "2020-05-11T00:00:00"
         ],
         "xaxis": "x3",
         "y": [
          0,
          0,
          0,
          0,
          0,
          0,
          0,
          0,
          0.0015364523315664132,
          0.0023046784973496195,
          0.0023046784973496195,
          0.0023046784973496195,
          0.0023046784973496195,
          0.0023046784973496195,
          0.0023046784973496195,
          0.0023046784973496195,
          0.003841130828916033,
          0.005377583160482446,
          0.008450487823615273,
          0.008450487823615273,
          0.011523392486748099,
          0.011523392486748099,
          0.014596297149880923,
          0.019205654144580166,
          0.019205654144580166,
          0.019205654144580166,
          0.01997388031036337,
          0.023046784973496198,
          0.02535146347084582,
          0.02535146347084582,
          0.02535146347084582,
          0.02535146347084582,
          0.02535146347084582,
          0.02535146347084582,
          0.027656141968195436,
          0.029960820465545056,
          0.03226549896289468,
          0.03226549896289468,
          0.03764308212337712,
          0.03764308212337712,
          0.04455711761542598,
          0.05070292694169164,
          0.057616962433740496,
          0.06529922409157256,
          0.06683567642313896,
          0.07067680725205501,
          0.08296842590458631,
          0.08604133056771913,
          0.08680955673350234,
          0.0937235922255512,
          0.10063762771760007,
          0.10678343704386571,
          0.11523392486748099,
          0.12291618652531305,
          0.13367135284627793,
          0.13597603134362757,
          0.8166244142275486,
          0.9287854344318968,
          1.0778213105938388,
          1.0778213105938388,
          1.4673119766459246,
          1.6140431743105172,
          1.8544979642006607,
          2.0357993393254974,
          2.2293923331028656
         ],
         "yaxis": "y3"
        }
       ],
       "layout": {
        "annotations": [
         {
          "font": {
           "size": 16
          },
          "showarrow": false,
          "text": "date vs recovered/affected",
          "x": 0.5,
          "xanchor": "center",
          "xref": "paper",
          "y": 1,
          "yanchor": "bottom",
          "yref": "paper"
         },
         {
          "font": {
           "size": 16
          },
          "showarrow": false,
          "text": "date vs recovered/population",
          "x": 0.5,
          "xanchor": "center",
          "xref": "paper",
          "y": 0.6111111111111112,
          "yanchor": "bottom",
          "yref": "paper"
         },
         {
          "font": {
           "size": 16
          },
          "showarrow": false,
          "text": "date vs recovered/area",
          "x": 0.5,
          "xanchor": "center",
          "xref": "paper",
          "y": 0.22222222222222224,
          "yanchor": "bottom",
          "yref": "paper"
         }
        ],
        "height": 1000,
        "template": {
         "data": {
          "bar": [
           {
            "error_x": {
             "color": "#2a3f5f"
            },
            "error_y": {
             "color": "#2a3f5f"
            },
            "marker": {
             "line": {
              "color": "#E5ECF6",
              "width": 0.5
             }
            },
            "type": "bar"
           }
          ],
          "barpolar": [
           {
            "marker": {
             "line": {
              "color": "#E5ECF6",
              "width": 0.5
             }
            },
            "type": "barpolar"
           }
          ],
          "carpet": [
           {
            "aaxis": {
             "endlinecolor": "#2a3f5f",
             "gridcolor": "white",
             "linecolor": "white",
             "minorgridcolor": "white",
             "startlinecolor": "#2a3f5f"
            },
            "baxis": {
             "endlinecolor": "#2a3f5f",
             "gridcolor": "white",
             "linecolor": "white",
             "minorgridcolor": "white",
             "startlinecolor": "#2a3f5f"
            },
            "type": "carpet"
           }
          ],
          "choropleth": [
           {
            "colorbar": {
             "outlinewidth": 0,
             "ticks": ""
            },
            "type": "choropleth"
           }
          ],
          "contour": [
           {
            "colorbar": {
             "outlinewidth": 0,
             "ticks": ""
            },
            "colorscale": [
             [
              0,
              "#0d0887"
             ],
             [
              0.1111111111111111,
              "#46039f"
             ],
             [
              0.2222222222222222,
              "#7201a8"
             ],
             [
              0.3333333333333333,
              "#9c179e"
             ],
             [
              0.4444444444444444,
              "#bd3786"
             ],
             [
              0.5555555555555556,
              "#d8576b"
             ],
             [
              0.6666666666666666,
              "#ed7953"
             ],
             [
              0.7777777777777778,
              "#fb9f3a"
             ],
             [
              0.8888888888888888,
              "#fdca26"
             ],
             [
              1,
              "#f0f921"
             ]
            ],
            "type": "contour"
           }
          ],
          "contourcarpet": [
           {
            "colorbar": {
             "outlinewidth": 0,
             "ticks": ""
            },
            "type": "contourcarpet"
           }
          ],
          "heatmap": [
           {
            "colorbar": {
             "outlinewidth": 0,
             "ticks": ""
            },
            "colorscale": [
             [
              0,
              "#0d0887"
             ],
             [
              0.1111111111111111,
              "#46039f"
             ],
             [
              0.2222222222222222,
              "#7201a8"
             ],
             [
              0.3333333333333333,
              "#9c179e"
             ],
             [
              0.4444444444444444,
              "#bd3786"
             ],
             [
              0.5555555555555556,
              "#d8576b"
             ],
             [
              0.6666666666666666,
              "#ed7953"
             ],
             [
              0.7777777777777778,
              "#fb9f3a"
             ],
             [
              0.8888888888888888,
              "#fdca26"
             ],
             [
              1,
              "#f0f921"
             ]
            ],
            "type": "heatmap"
           }
          ],
          "heatmapgl": [
           {
            "colorbar": {
             "outlinewidth": 0,
             "ticks": ""
            },
            "colorscale": [
             [
              0,
              "#0d0887"
             ],
             [
              0.1111111111111111,
              "#46039f"
             ],
             [
              0.2222222222222222,
              "#7201a8"
             ],
             [
              0.3333333333333333,
              "#9c179e"
             ],
             [
              0.4444444444444444,
              "#bd3786"
             ],
             [
              0.5555555555555556,
              "#d8576b"
             ],
             [
              0.6666666666666666,
              "#ed7953"
             ],
             [
              0.7777777777777778,
              "#fb9f3a"
             ],
             [
              0.8888888888888888,
              "#fdca26"
             ],
             [
              1,
              "#f0f921"
             ]
            ],
            "type": "heatmapgl"
           }
          ],
          "histogram": [
           {
            "marker": {
             "colorbar": {
              "outlinewidth": 0,
              "ticks": ""
             }
            },
            "type": "histogram"
           }
          ],
          "histogram2d": [
           {
            "colorbar": {
             "outlinewidth": 0,
             "ticks": ""
            },
            "colorscale": [
             [
              0,
              "#0d0887"
             ],
             [
              0.1111111111111111,
              "#46039f"
             ],
             [
              0.2222222222222222,
              "#7201a8"
             ],
             [
              0.3333333333333333,
              "#9c179e"
             ],
             [
              0.4444444444444444,
              "#bd3786"
             ],
             [
              0.5555555555555556,
              "#d8576b"
             ],
             [
              0.6666666666666666,
              "#ed7953"
             ],
             [
              0.7777777777777778,
              "#fb9f3a"
             ],
             [
              0.8888888888888888,
              "#fdca26"
             ],
             [
              1,
              "#f0f921"
             ]
            ],
            "type": "histogram2d"
           }
          ],
          "histogram2dcontour": [
           {
            "colorbar": {
             "outlinewidth": 0,
             "ticks": ""
            },
            "colorscale": [
             [
              0,
              "#0d0887"
             ],
             [
              0.1111111111111111,
              "#46039f"
             ],
             [
              0.2222222222222222,
              "#7201a8"
             ],
             [
              0.3333333333333333,
              "#9c179e"
             ],
             [
              0.4444444444444444,
              "#bd3786"
             ],
             [
              0.5555555555555556,
              "#d8576b"
             ],
             [
              0.6666666666666666,
              "#ed7953"
             ],
             [
              0.7777777777777778,
              "#fb9f3a"
             ],
             [
              0.8888888888888888,
              "#fdca26"
             ],
             [
              1,
              "#f0f921"
             ]
            ],
            "type": "histogram2dcontour"
           }
          ],
          "mesh3d": [
           {
            "colorbar": {
             "outlinewidth": 0,
             "ticks": ""
            },
            "type": "mesh3d"
           }
          ],
          "parcoords": [
           {
            "line": {
             "colorbar": {
              "outlinewidth": 0,
              "ticks": ""
             }
            },
            "type": "parcoords"
           }
          ],
          "pie": [
           {
            "automargin": true,
            "type": "pie"
           }
          ],
          "scatter": [
           {
            "marker": {
             "colorbar": {
              "outlinewidth": 0,
              "ticks": ""
             }
            },
            "type": "scatter"
           }
          ],
          "scatter3d": [
           {
            "line": {
             "colorbar": {
              "outlinewidth": 0,
              "ticks": ""
             }
            },
            "marker": {
             "colorbar": {
              "outlinewidth": 0,
              "ticks": ""
             }
            },
            "type": "scatter3d"
           }
          ],
          "scattercarpet": [
           {
            "marker": {
             "colorbar": {
              "outlinewidth": 0,
              "ticks": ""
             }
            },
            "type": "scattercarpet"
           }
          ],
          "scattergeo": [
           {
            "marker": {
             "colorbar": {
              "outlinewidth": 0,
              "ticks": ""
             }
            },
            "type": "scattergeo"
           }
          ],
          "scattergl": [
           {
            "marker": {
             "colorbar": {
              "outlinewidth": 0,
              "ticks": ""
             }
            },
            "type": "scattergl"
           }
          ],
          "scattermapbox": [
           {
            "marker": {
             "colorbar": {
              "outlinewidth": 0,
              "ticks": ""
             }
            },
            "type": "scattermapbox"
           }
          ],
          "scatterpolar": [
           {
            "marker": {
             "colorbar": {
              "outlinewidth": 0,
              "ticks": ""
             }
            },
            "type": "scatterpolar"
           }
          ],
          "scatterpolargl": [
           {
            "marker": {
             "colorbar": {
              "outlinewidth": 0,
              "ticks": ""
             }
            },
            "type": "scatterpolargl"
           }
          ],
          "scatterternary": [
           {
            "marker": {
             "colorbar": {
              "outlinewidth": 0,
              "ticks": ""
             }
            },
            "type": "scatterternary"
           }
          ],
          "surface": [
           {
            "colorbar": {
             "outlinewidth": 0,
             "ticks": ""
            },
            "colorscale": [
             [
              0,
              "#0d0887"
             ],
             [
              0.1111111111111111,
              "#46039f"
             ],
             [
              0.2222222222222222,
              "#7201a8"
             ],
             [
              0.3333333333333333,
              "#9c179e"
             ],
             [
              0.4444444444444444,
              "#bd3786"
             ],
             [
              0.5555555555555556,
              "#d8576b"
             ],
             [
              0.6666666666666666,
              "#ed7953"
             ],
             [
              0.7777777777777778,
              "#fb9f3a"
             ],
             [
              0.8888888888888888,
              "#fdca26"
             ],
             [
              1,
              "#f0f921"
             ]
            ],
            "type": "surface"
           }
          ],
          "table": [
           {
            "cells": {
             "fill": {
              "color": "#EBF0F8"
             },
             "line": {
              "color": "white"
             }
            },
            "header": {
             "fill": {
              "color": "#C8D4E3"
             },
             "line": {
              "color": "white"
             }
            },
            "type": "table"
           }
          ]
         },
         "layout": {
          "annotationdefaults": {
           "arrowcolor": "#2a3f5f",
           "arrowhead": 0,
           "arrowwidth": 1
          },
          "coloraxis": {
           "colorbar": {
            "outlinewidth": 0,
            "ticks": ""
           }
          },
          "colorscale": {
           "diverging": [
            [
             0,
             "#8e0152"
            ],
            [
             0.1,
             "#c51b7d"
            ],
            [
             0.2,
             "#de77ae"
            ],
            [
             0.3,
             "#f1b6da"
            ],
            [
             0.4,
             "#fde0ef"
            ],
            [
             0.5,
             "#f7f7f7"
            ],
            [
             0.6,
             "#e6f5d0"
            ],
            [
             0.7,
             "#b8e186"
            ],
            [
             0.8,
             "#7fbc41"
            ],
            [
             0.9,
             "#4d9221"
            ],
            [
             1,
             "#276419"
            ]
           ],
           "sequential": [
            [
             0,
             "#0d0887"
            ],
            [
             0.1111111111111111,
             "#46039f"
            ],
            [
             0.2222222222222222,
             "#7201a8"
            ],
            [
             0.3333333333333333,
             "#9c179e"
            ],
            [
             0.4444444444444444,
             "#bd3786"
            ],
            [
             0.5555555555555556,
             "#d8576b"
            ],
            [
             0.6666666666666666,
             "#ed7953"
            ],
            [
             0.7777777777777778,
             "#fb9f3a"
            ],
            [
             0.8888888888888888,
             "#fdca26"
            ],
            [
             1,
             "#f0f921"
            ]
           ],
           "sequentialminus": [
            [
             0,
             "#0d0887"
            ],
            [
             0.1111111111111111,
             "#46039f"
            ],
            [
             0.2222222222222222,
             "#7201a8"
            ],
            [
             0.3333333333333333,
             "#9c179e"
            ],
            [
             0.4444444444444444,
             "#bd3786"
            ],
            [
             0.5555555555555556,
             "#d8576b"
            ],
            [
             0.6666666666666666,
             "#ed7953"
            ],
            [
             0.7777777777777778,
             "#fb9f3a"
            ],
            [
             0.8888888888888888,
             "#fdca26"
            ],
            [
             1,
             "#f0f921"
            ]
           ]
          },
          "colorway": [
           "#636efa",
           "#EF553B",
           "#00cc96",
           "#ab63fa",
           "#FFA15A",
           "#19d3f3",
           "#FF6692",
           "#B6E880",
           "#FF97FF",
           "#FECB52"
          ],
          "font": {
           "color": "#2a3f5f"
          },
          "geo": {
           "bgcolor": "white",
           "lakecolor": "white",
           "landcolor": "#E5ECF6",
           "showlakes": true,
           "showland": true,
           "subunitcolor": "white"
          },
          "hoverlabel": {
           "align": "left"
          },
          "hovermode": "closest",
          "mapbox": {
           "style": "light"
          },
          "paper_bgcolor": "white",
          "plot_bgcolor": "#E5ECF6",
          "polar": {
           "angularaxis": {
            "gridcolor": "white",
            "linecolor": "white",
            "ticks": ""
           },
           "bgcolor": "#E5ECF6",
           "radialaxis": {
            "gridcolor": "white",
            "linecolor": "white",
            "ticks": ""
           }
          },
          "scene": {
           "xaxis": {
            "backgroundcolor": "#E5ECF6",
            "gridcolor": "white",
            "gridwidth": 2,
            "linecolor": "white",
            "showbackground": true,
            "ticks": "",
            "zerolinecolor": "white"
           },
           "yaxis": {
            "backgroundcolor": "#E5ECF6",
            "gridcolor": "white",
            "gridwidth": 2,
            "linecolor": "white",
            "showbackground": true,
            "ticks": "",
            "zerolinecolor": "white"
           },
           "zaxis": {
            "backgroundcolor": "#E5ECF6",
            "gridcolor": "white",
            "gridwidth": 2,
            "linecolor": "white",
            "showbackground": true,
            "ticks": "",
            "zerolinecolor": "white"
           }
          },
          "shapedefaults": {
           "line": {
            "color": "#2a3f5f"
           }
          },
          "ternary": {
           "aaxis": {
            "gridcolor": "white",
            "linecolor": "white",
            "ticks": ""
           },
           "baxis": {
            "gridcolor": "white",
            "linecolor": "white",
            "ticks": ""
           },
           "bgcolor": "#E5ECF6",
           "caxis": {
            "gridcolor": "white",
            "linecolor": "white",
            "ticks": ""
           }
          },
          "title": {
           "x": 0.05
          },
          "xaxis": {
           "automargin": true,
           "gridcolor": "white",
           "linecolor": "white",
           "ticks": "",
           "title": {
            "standoff": 15
           },
           "zerolinecolor": "white",
           "zerolinewidth": 2
          },
          "yaxis": {
           "automargin": true,
           "gridcolor": "white",
           "linecolor": "white",
           "ticks": "",
           "title": {
            "standoff": 15
           },
           "zerolinecolor": "white",
           "zerolinewidth": 2
          }
         }
        },
        "title": {
         "text": "Multiple Subplots with Titles"
        },
        "width": 1000,
        "xaxis": {
         "anchor": "y",
         "domain": [
          0,
          1
         ],
         "title": {
          "text": "Date"
         }
        },
        "xaxis2": {
         "anchor": "y2",
         "domain": [
          0,
          1
         ]
        },
        "xaxis3": {
         "anchor": "y3",
         "domain": [
          0,
          1
         ]
        },
        "yaxis": {
         "anchor": "x",
         "domain": [
          0.7777777777777778,
          1
         ],
         "title": {
          "text": "Recovery rate"
         }
        },
        "yaxis2": {
         "anchor": "x2",
         "domain": [
          0.3888888888888889,
          0.6111111111111112
         ]
        },
        "yaxis3": {
         "anchor": "x3",
         "domain": [
          0,
          0.22222222222222224
         ]
        }
       }
      },
      "text/html": [
       "<div>\n",
       "        \n",
       "        \n",
       "            <div id=\"fbc5ca53-bbd3-46d4-8002-1079112740eb\" class=\"plotly-graph-div\" style=\"height:1000px; width:1000px;\"></div>\n",
       "            <script type=\"text/javascript\">\n",
       "                require([\"plotly\"], function(Plotly) {\n",
       "                    window.PLOTLYENV=window.PLOTLYENV || {};\n",
       "                    \n",
       "                if (document.getElementById(\"fbc5ca53-bbd3-46d4-8002-1079112740eb\")) {\n",
       "                    Plotly.newPlot(\n",
       "                        'fbc5ca53-bbd3-46d4-8002-1079112740eb',\n",
       "                        [{\"line\": {\"color\": \"green\", \"width\": 2}, \"mode\": \"lines+markers\", \"name\": \"Global\", \"type\": \"scatter\", \"x\": [\"2020-03-08T00:00:00\", \"2020-03-09T00:00:00\", \"2020-03-10T00:00:00\", \"2020-03-11T00:00:00\", \"2020-03-12T00:00:00\", \"2020-03-13T00:00:00\", \"2020-03-14T00:00:00\", \"2020-03-15T00:00:00\", \"2020-03-16T00:00:00\", \"2020-03-17T00:00:00\", \"2020-03-18T00:00:00\", \"2020-03-19T00:00:00\", \"2020-03-20T00:00:00\", \"2020-03-21T00:00:00\", \"2020-03-22T00:00:00\", \"2020-03-23T00:00:00\", \"2020-03-24T00:00:00\", \"2020-03-25T00:00:00\", \"2020-03-26T00:00:00\", \"2020-03-27T00:00:00\", \"2020-03-28T00:00:00\", \"2020-03-29T00:00:00\", \"2020-03-30T00:00:00\", \"2020-03-31T00:00:00\", \"2020-04-01T00:00:00\", \"2020-04-02T00:00:00\", \"2020-04-03T00:00:00\", \"2020-04-04T00:00:00\", \"2020-04-05T00:00:00\", \"2020-04-06T00:00:00\", \"2020-04-07T00:00:00\", \"2020-04-08T00:00:00\", \"2020-04-09T00:00:00\", \"2020-04-10T00:00:00\", \"2020-04-11T00:00:00\", \"2020-04-12T00:00:00\", \"2020-04-13T00:00:00\", \"2020-04-14T00:00:00\", \"2020-04-15T00:00:00\", \"2020-04-16T00:00:00\", \"2020-04-17T00:00:00\", \"2020-04-18T00:00:00\", \"2020-04-19T00:00:00\", \"2020-04-20T00:00:00\", \"2020-04-21T00:00:00\", \"2020-04-22T00:00:00\", \"2020-04-23T00:00:00\", \"2020-04-24T00:00:00\", \"2020-04-25T00:00:00\", \"2020-04-26T00:00:00\", \"2020-04-27T00:00:00\", \"2020-04-28T00:00:00\", \"2020-04-29T00:00:00\", \"2020-04-30T00:00:00\", \"2020-05-01T00:00:00\", \"2020-05-02T00:00:00\", \"2020-05-03T00:00:00\", \"2020-05-04T00:00:00\", \"2020-05-05T00:00:00\", \"2020-05-06T00:00:00\", \"2020-05-07T00:00:00\", \"2020-05-08T00:00:00\", \"2020-05-09T00:00:00\", \"2020-05-10T00:00:00\", \"2020-05-11T00:00:00\"], \"xaxis\": \"x\", \"y\": [0.5572011693970985, 0.5560641344789743, 0.5466577073888526, 0.5324306198703413, 0.609498753048864, 0.4838542279297294, 0.4575358512668392, 0.523438114932988, 0.4354548763755495, 0.4113741265711496, 0.3886120296385113, 0.3505654749575376, 0.3211026770236277, 0.3009663634356807, 0.2912337720529809, 0.2658835992849103, 0.2576896574824626, 0.2424231390372728, 0.2298666222830815, 0.21995496240677656, 0.21036685637205496, 0.2064266744532043, 0.2098007875335764, 0.2071236516770633, 0.2066809072465946, 0.20710383053560316, 0.2056398284340589, 0.20521085236196945, 0.20404943858768476, 0.20525105304551705, 0.21009500870924866, 0.21720972187819967, 0.221609011397232, 0.22205750644501415, 0.22673883913944384, 0.2281339871600967, 0.2337842507043518, 0.2397776284452475, 0.24835689868916944, 0.251657122348581, 0.2535362966272057, 0.2553993675335016, 0.2596632772128688, 0.2610538118407098, 0.2665399006703105, 0.2704007152919205, 0.2724925979900518, 0.2821721725855651, 0.28180911611532466, 0.29123672113129834, 0.2937884143162354, 0.2978908868151209, 0.3044592675620058, 0.3114619468722032, 0.3148964643033911, 0.31880991272284576, 0.3207425337030898, 0.32436170676210485, 0.32713950950969, 0.3314623221764513, 0.3338799584242316, 0.3355110482147802, 0.34164703858127793, 0.34329132956690644, 0.34836123682264264], \"yaxis\": \"y\"}, {\"line\": {\"color\": \"orange\", \"width\": 2}, \"mode\": \"lines+markers\", \"name\": \"Bangladesh\", \"type\": \"scatter\", \"x\": [\"2020-03-08T00:00:00\", \"2020-03-09T00:00:00\", \"2020-03-10T00:00:00\", \"2020-03-11T00:00:00\", \"2020-03-12T00:00:00\", \"2020-03-13T00:00:00\", \"2020-03-14T00:00:00\", \"2020-03-15T00:00:00\", \"2020-03-16T00:00:00\", \"2020-03-17T00:00:00\", \"2020-03-18T00:00:00\", \"2020-03-19T00:00:00\", \"2020-03-20T00:00:00\", \"2020-03-21T00:00:00\", \"2020-03-22T00:00:00\", \"2020-03-23T00:00:00\", \"2020-03-24T00:00:00\", \"2020-03-25T00:00:00\", \"2020-03-26T00:00:00\", \"2020-03-27T00:00:00\", \"2020-03-28T00:00:00\", \"2020-03-29T00:00:00\", \"2020-03-30T00:00:00\", \"2020-03-31T00:00:00\", \"2020-04-01T00:00:00\", \"2020-04-02T00:00:00\", \"2020-04-03T00:00:00\", \"2020-04-04T00:00:00\", \"2020-04-05T00:00:00\", \"2020-04-06T00:00:00\", \"2020-04-07T00:00:00\", \"2020-04-08T00:00:00\", \"2020-04-09T00:00:00\", \"2020-04-10T00:00:00\", \"2020-04-11T00:00:00\", \"2020-04-12T00:00:00\", \"2020-04-13T00:00:00\", \"2020-04-14T00:00:00\", \"2020-04-15T00:00:00\", \"2020-04-16T00:00:00\", \"2020-04-17T00:00:00\", \"2020-04-18T00:00:00\", \"2020-04-19T00:00:00\", \"2020-04-20T00:00:00\", \"2020-04-21T00:00:00\", \"2020-04-22T00:00:00\", \"2020-04-23T00:00:00\", \"2020-04-24T00:00:00\", \"2020-04-25T00:00:00\", \"2020-04-26T00:00:00\", \"2020-04-27T00:00:00\", \"2020-04-28T00:00:00\", \"2020-04-29T00:00:00\", \"2020-04-30T00:00:00\", \"2020-05-01T00:00:00\", \"2020-05-02T00:00:00\", \"2020-05-03T00:00:00\", \"2020-05-04T00:00:00\", \"2020-05-05T00:00:00\", \"2020-05-06T00:00:00\", \"2020-05-07T00:00:00\", \"2020-05-08T00:00:00\", \"2020-05-09T00:00:00\", \"2020-05-10T00:00:00\", \"2020-05-11T00:00:00\"], \"xaxis\": \"x\", \"y\": [0.0, 0.0, 0.0, 0.0, 0.0, 0.0, 0.0, 0.0, 0.25, 0.3, 0.21428571428571427, 0.17647058823529413, 0.15, 0.12, 0.1111111111111111, 0.09090909090909093, 0.1282051282051282, 0.1794871794871795, 0.25, 0.22916666666666666, 0.3125, 0.3125, 0.3877551020408163, 0.4901960784313725, 0.462962962962963, 0.44642857142857145, 0.4262295081967213, 0.42857142857142855, 0.375, 0.2682926829268293, 0.201219512195122, 0.15137614678899086, 0.1, 0.07783018867924528, 0.07468879668049792, 0.06280193236714976, 0.052303860523038606, 0.04150197628458498, 0.039805036555645816, 0.0311704834605598, 0.031556039173014146, 0.030783582089552237, 0.030537459283387625, 0.02883310719131615, 0.0257244234180958, 0.024390243902439025, 0.025800286669851888, 0.023885689912561316, 0.022609043617446974, 0.02252584933530281, 0.02215457466599019, 0.021510368307025688, 0.021117837533436577, 0.02086865788443981, 0.02112163146394756, 0.020136518771331057, 0.11242728714965626, 0.11919550428867201, 0.12837405069082258, 0.11972011263759705, 0.15372233400402416, 0.15996649916247907, 0.17530864197530865, 0.18080098246571605, 0.1849467847810847], \"yaxis\": \"y\"}, {\"line\": {\"color\": \"green\", \"width\": 2}, \"mode\": \"lines+markers\", \"name\": \"Global\", \"type\": \"scatter\", \"x\": [\"2020-03-08T00:00:00\", \"2020-03-09T00:00:00\", \"2020-03-10T00:00:00\", \"2020-03-11T00:00:00\", \"2020-03-12T00:00:00\", \"2020-03-13T00:00:00\", \"2020-03-14T00:00:00\", \"2020-03-15T00:00:00\", \"2020-03-16T00:00:00\", \"2020-03-17T00:00:00\", \"2020-03-18T00:00:00\", \"2020-03-19T00:00:00\", \"2020-03-20T00:00:00\", \"2020-03-21T00:00:00\", \"2020-03-22T00:00:00\", \"2020-03-23T00:00:00\", \"2020-03-24T00:00:00\", \"2020-03-25T00:00:00\", \"2020-03-26T00:00:00\", \"2020-03-27T00:00:00\", \"2020-03-28T00:00:00\", \"2020-03-29T00:00:00\", \"2020-03-30T00:00:00\", \"2020-03-31T00:00:00\", \"2020-04-01T00:00:00\", \"2020-04-02T00:00:00\", \"2020-04-03T00:00:00\", \"2020-04-04T00:00:00\", \"2020-04-05T00:00:00\", \"2020-04-06T00:00:00\", \"2020-04-07T00:00:00\", \"2020-04-08T00:00:00\", \"2020-04-09T00:00:00\", \"2020-04-10T00:00:00\", \"2020-04-11T00:00:00\", \"2020-04-12T00:00:00\", \"2020-04-13T00:00:00\", \"2020-04-14T00:00:00\", \"2020-04-15T00:00:00\", \"2020-04-16T00:00:00\", \"2020-04-17T00:00:00\", \"2020-04-18T00:00:00\", \"2020-04-19T00:00:00\", \"2020-04-20T00:00:00\", \"2020-04-21T00:00:00\", \"2020-04-22T00:00:00\", \"2020-04-23T00:00:00\", \"2020-04-24T00:00:00\", \"2020-04-25T00:00:00\", \"2020-04-26T00:00:00\", \"2020-04-27T00:00:00\", \"2020-04-28T00:00:00\", \"2020-04-29T00:00:00\", \"2020-04-30T00:00:00\", \"2020-05-01T00:00:00\", \"2020-05-02T00:00:00\", \"2020-05-03T00:00:00\", \"2020-05-04T00:00:00\", \"2020-05-05T00:00:00\", \"2020-05-06T00:00:00\", \"2020-05-07T00:00:00\", \"2020-05-08T00:00:00\", \"2020-05-09T00:00:00\", \"2020-05-10T00:00:00\", \"2020-05-11T00:00:00\"], \"xaxis\": \"x2\", \"y\": [7.981169344219119, 8.206742164867, 8.463260468791152, 8.781669739267844, 8.785883592309718, 9.20858572557282, 9.566499868317091, 9.632736370819067, 10.239267843033977, 10.59784040031604, 10.92586252304451, 11.143402686331317, 11.464050566236505, 12.028706873847776, 12.83829338951804, 13.219778772715301, 14.182907558598895, 14.904266526204898, 16.004213853041875, 17.158282854885435, 18.27745588622597, 19.54964445614959, 21.588622596786934, 23.361469581248354, 25.355017118777987, 27.60284435080327, 29.647879905188304, 32.3276270740058, 34.151303660784826, 36.324598367131955, 39.421780352910204, 43.18777982617856, 46.52093758230182, 49.430866473531744, 52.854095338425076, 55.43652883855675, 58.9831445878325, 62.35080326573611, 67.19107189886753, 71.2824598367132, 74.73544903871478, 77.89149328417172, 82.05003950487226, 84.92533579141428, 89.41322096391887, 93.34724782723202, 97.13550171187781, 104.36937055570186, 107.43284171714512, 113.89281011324732, 117.60995522781143, 122.1797471688175, 127.98037924677378, 133.49433763497498, 138.57045035554384, 143.80010534632603, 148.02343955754543, 152.95298920200156, 157.6930471424809, 163.82064787990518, 168.98814853831973, 173.89360021069263, 180.94034764287602, 185.32275480642613, 191.5364761653937], \"yaxis\": \"y2\"}, {\"line\": {\"color\": \"orange\", \"width\": 2}, \"mode\": \"lines+markers\", \"name\": \"BD\", \"type\": \"scatter\", \"x\": [\"2020-03-08T00:00:00\", \"2020-03-09T00:00:00\", \"2020-03-10T00:00:00\", \"2020-03-11T00:00:00\", \"2020-03-12T00:00:00\", \"2020-03-13T00:00:00\", \"2020-03-14T00:00:00\", \"2020-03-15T00:00:00\", \"2020-03-16T00:00:00\", \"2020-03-17T00:00:00\", \"2020-03-18T00:00:00\", \"2020-03-19T00:00:00\", \"2020-03-20T00:00:00\", \"2020-03-21T00:00:00\", \"2020-03-22T00:00:00\", \"2020-03-23T00:00:00\", \"2020-03-24T00:00:00\", \"2020-03-25T00:00:00\", \"2020-03-26T00:00:00\", \"2020-03-27T00:00:00\", \"2020-03-28T00:00:00\", \"2020-03-29T00:00:00\", \"2020-03-30T00:00:00\", \"2020-03-31T00:00:00\", \"2020-04-01T00:00:00\", \"2020-04-02T00:00:00\", \"2020-04-03T00:00:00\", \"2020-04-04T00:00:00\", \"2020-04-05T00:00:00\", \"2020-04-06T00:00:00\", \"2020-04-07T00:00:00\", \"2020-04-08T00:00:00\", \"2020-04-09T00:00:00\", \"2020-04-10T00:00:00\", \"2020-04-11T00:00:00\", \"2020-04-12T00:00:00\", \"2020-04-13T00:00:00\", \"2020-04-14T00:00:00\", \"2020-04-15T00:00:00\", \"2020-04-16T00:00:00\", \"2020-04-17T00:00:00\", \"2020-04-18T00:00:00\", \"2020-04-19T00:00:00\", \"2020-04-20T00:00:00\", \"2020-04-21T00:00:00\", \"2020-04-22T00:00:00\", \"2020-04-23T00:00:00\", \"2020-04-24T00:00:00\", \"2020-04-25T00:00:00\", \"2020-04-26T00:00:00\", \"2020-04-27T00:00:00\", \"2020-04-28T00:00:00\", \"2020-04-29T00:00:00\", \"2020-04-30T00:00:00\", \"2020-05-01T00:00:00\", \"2020-05-02T00:00:00\", \"2020-05-03T00:00:00\", \"2020-05-04T00:00:00\", \"2020-05-05T00:00:00\", \"2020-05-06T00:00:00\", \"2020-05-07T00:00:00\", \"2020-05-08T00:00:00\", \"2020-05-09T00:00:00\", \"2020-05-10T00:00:00\", \"2020-05-11T00:00:00\"], \"xaxis\": \"x2\", \"y\": [0.0, 0.0, 0.0, 0.0, 0.0, 0.0, 0.0, 0.0, 0.012421836371000257, 0.018632754556500385, 0.018632754556500385, 0.018632754556500385, 0.018632754556500385, 0.018632754556500385, 0.018632754556500385, 0.018632754556500385, 0.03105459092750064, 0.04347642729850089, 0.06832010004050139, 0.06832010004050139, 0.0931637727825019, 0.0931637727825019, 0.11800744552450243, 0.15527295463750318, 0.15527295463750318, 0.15527295463750318, 0.1614838728230033, 0.1863275455650038, 0.20496030012150415, 0.20496030012150415, 0.20496030012150415, 0.20496030012150415, 0.20496030012150415, 0.20496030012150415, 0.22359305467800455, 0.24222580923450496, 0.2608585637910053, 0.2608585637910053, 0.30433499108950623, 0.30433499108950623, 0.36023325475900736, 0.4099206002430084, 0.4658188639125096, 0.5279280457675107, 0.5403498821385111, 0.5714044730660117, 0.6707791640340137, 0.6956228367760142, 0.7018337549615143, 0.7577320186310155, 0.8136302823005167, 0.8633176277845176, 0.9316377278250192, 0.9937469096800204, 1.0806997642770222, 1.0993325188335226, 6.602206031186634, 7.509000086269653, 8.713918214256678, 8.713918214256678, 11.862853734305244, 13.049139107735767, 14.993156499797307, 16.458933191575333, 18.024084574321368], \"yaxis\": \"y2\"}, {\"line\": {\"color\": \"green\", \"width\": 2}, \"mode\": \"lines+markers\", \"name\": \"Global\", \"type\": \"scatter\", \"x\": [\"2020-03-08T00:00:00\", \"2020-03-09T00:00:00\", \"2020-03-10T00:00:00\", \"2020-03-11T00:00:00\", \"2020-03-12T00:00:00\", \"2020-03-13T00:00:00\", \"2020-03-14T00:00:00\", \"2020-03-15T00:00:00\", \"2020-03-16T00:00:00\", \"2020-03-17T00:00:00\", \"2020-03-18T00:00:00\", \"2020-03-19T00:00:00\", \"2020-03-20T00:00:00\", \"2020-03-21T00:00:00\", \"2020-03-22T00:00:00\", \"2020-03-23T00:00:00\", \"2020-03-24T00:00:00\", \"2020-03-25T00:00:00\", \"2020-03-26T00:00:00\", \"2020-03-27T00:00:00\", \"2020-03-28T00:00:00\", \"2020-03-29T00:00:00\", \"2020-03-30T00:00:00\", \"2020-03-31T00:00:00\", \"2020-04-01T00:00:00\", \"2020-04-02T00:00:00\", \"2020-04-03T00:00:00\", \"2020-04-04T00:00:00\", \"2020-04-05T00:00:00\", \"2020-04-06T00:00:00\", \"2020-04-07T00:00:00\", \"2020-04-08T00:00:00\", \"2020-04-09T00:00:00\", \"2020-04-10T00:00:00\", \"2020-04-11T00:00:00\", \"2020-04-12T00:00:00\", \"2020-04-13T00:00:00\", \"2020-04-14T00:00:00\", \"2020-04-15T00:00:00\", \"2020-04-16T00:00:00\", \"2020-04-17T00:00:00\", \"2020-04-18T00:00:00\", \"2020-04-19T00:00:00\", \"2020-04-20T00:00:00\", \"2020-04-21T00:00:00\", \"2020-04-22T00:00:00\", \"2020-04-23T00:00:00\", \"2020-04-24T00:00:00\", \"2020-04-25T00:00:00\", \"2020-04-26T00:00:00\", \"2020-04-27T00:00:00\", \"2020-04-28T00:00:00\", \"2020-04-29T00:00:00\", \"2020-04-30T00:00:00\", \"2020-05-01T00:00:00\", \"2020-05-02T00:00:00\", \"2020-05-03T00:00:00\", \"2020-05-04T00:00:00\", \"2020-05-05T00:00:00\", \"2020-05-06T00:00:00\", \"2020-05-07T00:00:00\", \"2020-05-08T00:00:00\", \"2020-05-09T00:00:00\", \"2020-05-10T00:00:00\", \"2020-05-11T00:00:00\"], \"xaxis\": \"x3\", \"y\": [0.04590714520404742, 0.047204624781907685, 0.048680100682475004, 0.050511569228456406, 0.05053580702559098, 0.05296716105065314, 0.05502585894477119, 0.0554068468184803, 0.058895574743538334, 0.060958059793458676, 0.06284482081415332, 0.0640960970912258, 0.06594044196693495, 0.06918830678296814, 0.07384499355744854, 0.07603927162928814, 0.08157912313685968, 0.08572833103383487, 0.0920551535171197, 0.0986932802073517, 0.105130687640063, 0.11244823008122358, 0.12417629416971655, 0.13437358988292894, 0.14584034022106476, 0.15876969013004014, 0.17053259605191404, 0.18594632016718352, 0.19643598430833173, 0.20893662818048933, 0.2267514090744027, 0.2484131828322695, 0.2675852803657192, 0.2843229941494648, 0.30401317459666605, 0.3188671570843588, 0.3392670505289068, 0.3586375950263957, 0.38647849219125857, 0.41001187834661096, 0.4298732382360751, 0.4480265908587121, 0.4719462669058968, 0.4884847762944426, 0.5142987876739266, 0.5369270435925346, 0.5587168232165185, 0.6003255465849809, 0.6179464251018176, 0.6551037255402832, 0.6764844923376211, 0.7027696258989082, 0.7361344685169731, 0.7678503834987263, 0.7970478398719649, 0.8271284609782945, 0.8514207931564233, 0.879775228648075, 0.9070397206998312, 0.942285264889307, 0.9720083784879016, 1.00022420407719, 1.0407566177666452, 1.065963926786604, 1.101704830955018], \"yaxis\": \"y3\"}, {\"line\": {\"color\": \"orange\", \"width\": 2}, \"mode\": \"lines+markers\", \"name\": \"BD\", \"type\": \"scatter\", \"x\": [\"2020-03-08T00:00:00\", \"2020-03-09T00:00:00\", \"2020-03-10T00:00:00\", \"2020-03-11T00:00:00\", \"2020-03-12T00:00:00\", \"2020-03-13T00:00:00\", \"2020-03-14T00:00:00\", \"2020-03-15T00:00:00\", \"2020-03-16T00:00:00\", \"2020-03-17T00:00:00\", \"2020-03-18T00:00:00\", \"2020-03-19T00:00:00\", \"2020-03-20T00:00:00\", \"2020-03-21T00:00:00\", \"2020-03-22T00:00:00\", \"2020-03-23T00:00:00\", \"2020-03-24T00:00:00\", \"2020-03-25T00:00:00\", \"2020-03-26T00:00:00\", \"2020-03-27T00:00:00\", \"2020-03-28T00:00:00\", \"2020-03-29T00:00:00\", \"2020-03-30T00:00:00\", \"2020-03-31T00:00:00\", \"2020-04-01T00:00:00\", \"2020-04-02T00:00:00\", \"2020-04-03T00:00:00\", \"2020-04-04T00:00:00\", \"2020-04-05T00:00:00\", \"2020-04-06T00:00:00\", \"2020-04-07T00:00:00\", \"2020-04-08T00:00:00\", \"2020-04-09T00:00:00\", \"2020-04-10T00:00:00\", \"2020-04-11T00:00:00\", \"2020-04-12T00:00:00\", \"2020-04-13T00:00:00\", \"2020-04-14T00:00:00\", \"2020-04-15T00:00:00\", \"2020-04-16T00:00:00\", \"2020-04-17T00:00:00\", \"2020-04-18T00:00:00\", \"2020-04-19T00:00:00\", \"2020-04-20T00:00:00\", \"2020-04-21T00:00:00\", \"2020-04-22T00:00:00\", \"2020-04-23T00:00:00\", \"2020-04-24T00:00:00\", \"2020-04-25T00:00:00\", \"2020-04-26T00:00:00\", \"2020-04-27T00:00:00\", \"2020-04-28T00:00:00\", \"2020-04-29T00:00:00\", \"2020-04-30T00:00:00\", \"2020-05-01T00:00:00\", \"2020-05-02T00:00:00\", \"2020-05-03T00:00:00\", \"2020-05-04T00:00:00\", \"2020-05-05T00:00:00\", \"2020-05-06T00:00:00\", \"2020-05-07T00:00:00\", \"2020-05-08T00:00:00\", \"2020-05-09T00:00:00\", \"2020-05-10T00:00:00\", \"2020-05-11T00:00:00\"], \"xaxis\": \"x3\", \"y\": [0.0, 0.0, 0.0, 0.0, 0.0, 0.0, 0.0, 0.0, 0.0015364523315664132, 0.0023046784973496195, 0.0023046784973496195, 0.0023046784973496195, 0.0023046784973496195, 0.0023046784973496195, 0.0023046784973496195, 0.0023046784973496195, 0.003841130828916033, 0.005377583160482446, 0.008450487823615273, 0.008450487823615273, 0.011523392486748099, 0.011523392486748099, 0.014596297149880923, 0.019205654144580166, 0.019205654144580166, 0.019205654144580166, 0.01997388031036337, 0.023046784973496198, 0.02535146347084582, 0.02535146347084582, 0.02535146347084582, 0.02535146347084582, 0.02535146347084582, 0.02535146347084582, 0.027656141968195436, 0.029960820465545056, 0.03226549896289468, 0.03226549896289468, 0.03764308212337712, 0.03764308212337712, 0.04455711761542598, 0.05070292694169164, 0.057616962433740496, 0.06529922409157256, 0.06683567642313896, 0.07067680725205501, 0.08296842590458631, 0.08604133056771913, 0.08680955673350234, 0.0937235922255512, 0.10063762771760007, 0.10678343704386571, 0.11523392486748099, 0.12291618652531305, 0.13367135284627793, 0.13597603134362757, 0.8166244142275486, 0.9287854344318968, 1.0778213105938388, 1.0778213105938388, 1.4673119766459246, 1.6140431743105172, 1.8544979642006607, 2.0357993393254974, 2.2293923331028656], \"yaxis\": \"y3\"}],\n",
       "                        {\"annotations\": [{\"font\": {\"size\": 16}, \"showarrow\": false, \"text\": \"date vs recovered/affected\", \"x\": 0.5, \"xanchor\": \"center\", \"xref\": \"paper\", \"y\": 1.0, \"yanchor\": \"bottom\", \"yref\": \"paper\"}, {\"font\": {\"size\": 16}, \"showarrow\": false, \"text\": \"date vs recovered/population\", \"x\": 0.5, \"xanchor\": \"center\", \"xref\": \"paper\", \"y\": 0.6111111111111112, \"yanchor\": \"bottom\", \"yref\": \"paper\"}, {\"font\": {\"size\": 16}, \"showarrow\": false, \"text\": \"date vs recovered/area\", \"x\": 0.5, \"xanchor\": \"center\", \"xref\": \"paper\", \"y\": 0.22222222222222224, \"yanchor\": \"bottom\", \"yref\": \"paper\"}], \"height\": 1000, \"template\": {\"data\": {\"bar\": [{\"error_x\": {\"color\": \"#2a3f5f\"}, \"error_y\": {\"color\": \"#2a3f5f\"}, \"marker\": {\"line\": {\"color\": \"#E5ECF6\", \"width\": 0.5}}, \"type\": \"bar\"}], \"barpolar\": [{\"marker\": {\"line\": {\"color\": \"#E5ECF6\", \"width\": 0.5}}, \"type\": \"barpolar\"}], \"carpet\": [{\"aaxis\": {\"endlinecolor\": \"#2a3f5f\", \"gridcolor\": \"white\", \"linecolor\": \"white\", \"minorgridcolor\": \"white\", \"startlinecolor\": \"#2a3f5f\"}, \"baxis\": {\"endlinecolor\": \"#2a3f5f\", \"gridcolor\": \"white\", \"linecolor\": \"white\", \"minorgridcolor\": \"white\", \"startlinecolor\": \"#2a3f5f\"}, \"type\": \"carpet\"}], \"choropleth\": [{\"colorbar\": {\"outlinewidth\": 0, \"ticks\": \"\"}, \"type\": \"choropleth\"}], \"contour\": [{\"colorbar\": {\"outlinewidth\": 0, \"ticks\": \"\"}, \"colorscale\": [[0.0, \"#0d0887\"], [0.1111111111111111, \"#46039f\"], [0.2222222222222222, \"#7201a8\"], [0.3333333333333333, \"#9c179e\"], [0.4444444444444444, \"#bd3786\"], [0.5555555555555556, \"#d8576b\"], [0.6666666666666666, \"#ed7953\"], [0.7777777777777778, \"#fb9f3a\"], [0.8888888888888888, \"#fdca26\"], [1.0, \"#f0f921\"]], \"type\": \"contour\"}], \"contourcarpet\": [{\"colorbar\": {\"outlinewidth\": 0, \"ticks\": \"\"}, \"type\": \"contourcarpet\"}], \"heatmap\": [{\"colorbar\": {\"outlinewidth\": 0, \"ticks\": \"\"}, \"colorscale\": [[0.0, \"#0d0887\"], [0.1111111111111111, \"#46039f\"], [0.2222222222222222, \"#7201a8\"], [0.3333333333333333, \"#9c179e\"], [0.4444444444444444, \"#bd3786\"], [0.5555555555555556, \"#d8576b\"], [0.6666666666666666, \"#ed7953\"], [0.7777777777777778, \"#fb9f3a\"], [0.8888888888888888, \"#fdca26\"], [1.0, \"#f0f921\"]], \"type\": \"heatmap\"}], \"heatmapgl\": [{\"colorbar\": {\"outlinewidth\": 0, \"ticks\": \"\"}, \"colorscale\": [[0.0, \"#0d0887\"], [0.1111111111111111, \"#46039f\"], [0.2222222222222222, \"#7201a8\"], [0.3333333333333333, \"#9c179e\"], [0.4444444444444444, \"#bd3786\"], [0.5555555555555556, \"#d8576b\"], [0.6666666666666666, \"#ed7953\"], [0.7777777777777778, \"#fb9f3a\"], [0.8888888888888888, \"#fdca26\"], [1.0, \"#f0f921\"]], \"type\": \"heatmapgl\"}], \"histogram\": [{\"marker\": {\"colorbar\": {\"outlinewidth\": 0, \"ticks\": \"\"}}, \"type\": \"histogram\"}], \"histogram2d\": [{\"colorbar\": {\"outlinewidth\": 0, \"ticks\": \"\"}, \"colorscale\": [[0.0, \"#0d0887\"], [0.1111111111111111, \"#46039f\"], [0.2222222222222222, \"#7201a8\"], [0.3333333333333333, \"#9c179e\"], [0.4444444444444444, \"#bd3786\"], [0.5555555555555556, \"#d8576b\"], [0.6666666666666666, \"#ed7953\"], [0.7777777777777778, \"#fb9f3a\"], [0.8888888888888888, \"#fdca26\"], [1.0, \"#f0f921\"]], \"type\": \"histogram2d\"}], \"histogram2dcontour\": [{\"colorbar\": {\"outlinewidth\": 0, \"ticks\": \"\"}, \"colorscale\": [[0.0, \"#0d0887\"], [0.1111111111111111, \"#46039f\"], [0.2222222222222222, \"#7201a8\"], [0.3333333333333333, \"#9c179e\"], [0.4444444444444444, \"#bd3786\"], [0.5555555555555556, \"#d8576b\"], [0.6666666666666666, \"#ed7953\"], [0.7777777777777778, \"#fb9f3a\"], [0.8888888888888888, \"#fdca26\"], [1.0, \"#f0f921\"]], \"type\": \"histogram2dcontour\"}], \"mesh3d\": [{\"colorbar\": {\"outlinewidth\": 0, \"ticks\": \"\"}, \"type\": \"mesh3d\"}], \"parcoords\": [{\"line\": {\"colorbar\": {\"outlinewidth\": 0, \"ticks\": \"\"}}, \"type\": \"parcoords\"}], \"pie\": [{\"automargin\": true, \"type\": \"pie\"}], \"scatter\": [{\"marker\": {\"colorbar\": {\"outlinewidth\": 0, \"ticks\": \"\"}}, \"type\": \"scatter\"}], \"scatter3d\": [{\"line\": {\"colorbar\": {\"outlinewidth\": 0, \"ticks\": \"\"}}, \"marker\": {\"colorbar\": {\"outlinewidth\": 0, \"ticks\": \"\"}}, \"type\": \"scatter3d\"}], \"scattercarpet\": [{\"marker\": {\"colorbar\": {\"outlinewidth\": 0, \"ticks\": \"\"}}, \"type\": \"scattercarpet\"}], \"scattergeo\": [{\"marker\": {\"colorbar\": {\"outlinewidth\": 0, \"ticks\": \"\"}}, \"type\": \"scattergeo\"}], \"scattergl\": [{\"marker\": {\"colorbar\": {\"outlinewidth\": 0, \"ticks\": \"\"}}, \"type\": \"scattergl\"}], \"scattermapbox\": [{\"marker\": {\"colorbar\": {\"outlinewidth\": 0, \"ticks\": \"\"}}, \"type\": \"scattermapbox\"}], \"scatterpolar\": [{\"marker\": {\"colorbar\": {\"outlinewidth\": 0, \"ticks\": \"\"}}, \"type\": \"scatterpolar\"}], \"scatterpolargl\": [{\"marker\": {\"colorbar\": {\"outlinewidth\": 0, \"ticks\": \"\"}}, \"type\": \"scatterpolargl\"}], \"scatterternary\": [{\"marker\": {\"colorbar\": {\"outlinewidth\": 0, \"ticks\": \"\"}}, \"type\": \"scatterternary\"}], \"surface\": [{\"colorbar\": {\"outlinewidth\": 0, \"ticks\": \"\"}, \"colorscale\": [[0.0, \"#0d0887\"], [0.1111111111111111, \"#46039f\"], [0.2222222222222222, \"#7201a8\"], [0.3333333333333333, \"#9c179e\"], [0.4444444444444444, \"#bd3786\"], [0.5555555555555556, \"#d8576b\"], [0.6666666666666666, \"#ed7953\"], [0.7777777777777778, \"#fb9f3a\"], [0.8888888888888888, \"#fdca26\"], [1.0, \"#f0f921\"]], \"type\": \"surface\"}], \"table\": [{\"cells\": {\"fill\": {\"color\": \"#EBF0F8\"}, \"line\": {\"color\": \"white\"}}, \"header\": {\"fill\": {\"color\": \"#C8D4E3\"}, \"line\": {\"color\": \"white\"}}, \"type\": \"table\"}]}, \"layout\": {\"annotationdefaults\": {\"arrowcolor\": \"#2a3f5f\", \"arrowhead\": 0, \"arrowwidth\": 1}, \"coloraxis\": {\"colorbar\": {\"outlinewidth\": 0, \"ticks\": \"\"}}, \"colorscale\": {\"diverging\": [[0, \"#8e0152\"], [0.1, \"#c51b7d\"], [0.2, \"#de77ae\"], [0.3, \"#f1b6da\"], [0.4, \"#fde0ef\"], [0.5, \"#f7f7f7\"], [0.6, \"#e6f5d0\"], [0.7, \"#b8e186\"], [0.8, \"#7fbc41\"], [0.9, \"#4d9221\"], [1, \"#276419\"]], \"sequential\": [[0.0, \"#0d0887\"], [0.1111111111111111, \"#46039f\"], [0.2222222222222222, \"#7201a8\"], [0.3333333333333333, \"#9c179e\"], [0.4444444444444444, \"#bd3786\"], [0.5555555555555556, \"#d8576b\"], [0.6666666666666666, \"#ed7953\"], [0.7777777777777778, \"#fb9f3a\"], [0.8888888888888888, \"#fdca26\"], [1.0, \"#f0f921\"]], \"sequentialminus\": [[0.0, \"#0d0887\"], [0.1111111111111111, \"#46039f\"], [0.2222222222222222, \"#7201a8\"], [0.3333333333333333, \"#9c179e\"], [0.4444444444444444, \"#bd3786\"], [0.5555555555555556, \"#d8576b\"], [0.6666666666666666, \"#ed7953\"], [0.7777777777777778, \"#fb9f3a\"], [0.8888888888888888, \"#fdca26\"], [1.0, \"#f0f921\"]]}, \"colorway\": [\"#636efa\", \"#EF553B\", \"#00cc96\", \"#ab63fa\", \"#FFA15A\", \"#19d3f3\", \"#FF6692\", \"#B6E880\", \"#FF97FF\", \"#FECB52\"], \"font\": {\"color\": \"#2a3f5f\"}, \"geo\": {\"bgcolor\": \"white\", \"lakecolor\": \"white\", \"landcolor\": \"#E5ECF6\", \"showlakes\": true, \"showland\": true, \"subunitcolor\": \"white\"}, \"hoverlabel\": {\"align\": \"left\"}, \"hovermode\": \"closest\", \"mapbox\": {\"style\": \"light\"}, \"paper_bgcolor\": \"white\", \"plot_bgcolor\": \"#E5ECF6\", \"polar\": {\"angularaxis\": {\"gridcolor\": \"white\", \"linecolor\": \"white\", \"ticks\": \"\"}, \"bgcolor\": \"#E5ECF6\", \"radialaxis\": {\"gridcolor\": \"white\", \"linecolor\": \"white\", \"ticks\": \"\"}}, \"scene\": {\"xaxis\": {\"backgroundcolor\": \"#E5ECF6\", \"gridcolor\": \"white\", \"gridwidth\": 2, \"linecolor\": \"white\", \"showbackground\": true, \"ticks\": \"\", \"zerolinecolor\": \"white\"}, \"yaxis\": {\"backgroundcolor\": \"#E5ECF6\", \"gridcolor\": \"white\", \"gridwidth\": 2, \"linecolor\": \"white\", \"showbackground\": true, \"ticks\": \"\", \"zerolinecolor\": \"white\"}, \"zaxis\": {\"backgroundcolor\": \"#E5ECF6\", \"gridcolor\": \"white\", \"gridwidth\": 2, \"linecolor\": \"white\", \"showbackground\": true, \"ticks\": \"\", \"zerolinecolor\": \"white\"}}, \"shapedefaults\": {\"line\": {\"color\": \"#2a3f5f\"}}, \"ternary\": {\"aaxis\": {\"gridcolor\": \"white\", \"linecolor\": \"white\", \"ticks\": \"\"}, \"baxis\": {\"gridcolor\": \"white\", \"linecolor\": \"white\", \"ticks\": \"\"}, \"bgcolor\": \"#E5ECF6\", \"caxis\": {\"gridcolor\": \"white\", \"linecolor\": \"white\", \"ticks\": \"\"}}, \"title\": {\"x\": 0.05}, \"xaxis\": {\"automargin\": true, \"gridcolor\": \"white\", \"linecolor\": \"white\", \"ticks\": \"\", \"title\": {\"standoff\": 15}, \"zerolinecolor\": \"white\", \"zerolinewidth\": 2}, \"yaxis\": {\"automargin\": true, \"gridcolor\": \"white\", \"linecolor\": \"white\", \"ticks\": \"\", \"title\": {\"standoff\": 15}, \"zerolinecolor\": \"white\", \"zerolinewidth\": 2}}}, \"title\": {\"text\": \"Multiple Subplots with Titles\"}, \"width\": 1000, \"xaxis\": {\"anchor\": \"y\", \"domain\": [0.0, 1.0], \"title\": {\"text\": \"Date\"}}, \"xaxis2\": {\"anchor\": \"y2\", \"domain\": [0.0, 1.0]}, \"xaxis3\": {\"anchor\": \"y3\", \"domain\": [0.0, 1.0]}, \"yaxis\": {\"anchor\": \"x\", \"domain\": [0.7777777777777778, 1.0], \"title\": {\"text\": \"Recovery rate\"}}, \"yaxis2\": {\"anchor\": \"x2\", \"domain\": [0.3888888888888889, 0.6111111111111112]}, \"yaxis3\": {\"anchor\": \"x3\", \"domain\": [0.0, 0.22222222222222224]}},\n",
       "                        {\"responsive\": true}\n",
       "                    ).then(function(){\n",
       "                            \n",
       "var gd = document.getElementById('fbc5ca53-bbd3-46d4-8002-1079112740eb');\n",
       "var x = new MutationObserver(function (mutations, observer) {{\n",
       "        var display = window.getComputedStyle(gd).display;\n",
       "        if (!display || display === 'none') {{\n",
       "            console.log([gd, 'removed!']);\n",
       "            Plotly.purge(gd);\n",
       "            observer.disconnect();\n",
       "        }}\n",
       "}});\n",
       "\n",
       "// Listen for the removal of the full notebook cells\n",
       "var notebookContainer = gd.closest('#notebook-container');\n",
       "if (notebookContainer) {{\n",
       "    x.observe(notebookContainer, {childList: true});\n",
       "}}\n",
       "\n",
       "// Listen for the clearing of the current output cell\n",
       "var outputEl = gd.closest('.output');\n",
       "if (outputEl) {{\n",
       "    x.observe(outputEl, {childList: true});\n",
       "}}\n",
       "\n",
       "                        })\n",
       "                };\n",
       "                });\n",
       "            </script>\n",
       "        </div>"
      ]
     },
     "metadata": {},
     "output_type": "display_data"
    }
   ],
   "source": [
    "datasetss('BD')"
   ]
  },
  {
   "cell_type": "code",
   "execution_count": null,
   "metadata": {},
   "outputs": [],
   "source": []
  }
 ],
 "metadata": {
  "kernelspec": {
   "display_name": "Python [conda env:.conda-DAND] *",
   "language": "python",
   "name": "conda-env-.conda-DAND-py"
  },
  "language_info": {
   "codemirror_mode": {
    "name": "ipython",
    "version": 3
   },
   "file_extension": ".py",
   "mimetype": "text/x-python",
   "name": "python",
   "nbconvert_exporter": "python",
   "pygments_lexer": "ipython3",
   "version": "3.8.2"
  }
 },
 "nbformat": 4,
 "nbformat_minor": 4
}
