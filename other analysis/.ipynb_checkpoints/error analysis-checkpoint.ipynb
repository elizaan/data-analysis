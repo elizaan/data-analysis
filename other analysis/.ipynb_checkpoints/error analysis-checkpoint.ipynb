{
 "cells": [
  {
   "cell_type": "code",
   "execution_count": 4,
   "metadata": {},
   "outputs": [
    {
     "name": "stdout",
     "output_type": "stream",
     "text": [
      "306 299 379\n",
      "roort mean squared percentage error\n",
      "0.031371278525494456\n",
      "367.71871554687135\n",
      "395.6030648847864\n",
      "here\n",
      "264.83870967741933\n",
      "281.16129032258067\n",
      "3.346994535519126\n"
     ]
    }
   ],
   "source": [
    "from sklearn.metrics import mean_squared_error, mean_absolute_error\n",
    "import requests\n",
    "import numpy as np\n",
    "\n",
    "r = requests.get('http://coronosis.live/api/corona/overlapping_curves/BD/affected')\n",
    "\n",
    "current =[]\n",
    "one_day = []\n",
    "two_day = []\n",
    "\n",
    "predictions = r.json()\n",
    "\n",
    "for i in range(len(predictions)):\n",
    "    current.append(predictions[i]['current'])\n",
    "    one_day.append(predictions[i]['one_day'])\n",
    "    two_day.append(predictions[i]['two_day'])\n",
    "\n",
    "print(current[0],one_day[0],two_day[0])\n",
    "\n",
    "array1 = np.array(current)\n",
    "array2 = np.array(one_day)\n",
    "\n",
    "difference_array = np.subtract(array1, array2)\n",
    "percentage_array = np.true_divide(difference_array, array1)\n",
    "squared_array = np.square(percentage_array)\n",
    "print(\"roort mean squared percentage error\")\n",
    "rmspe = np.sqrt(np.mean(percentage_array)) *100\n",
    "\n",
    "# print(mse)\n",
    "# print(np.sqrt(mean_squared_pererror(current, one_day)))\n",
    "# print(np.sqrt(mean_squared_error(current, two_day)))\n",
    "# print('here')\n",
    "\n",
    "# print(mean_absolute_error(current, one_day))\n",
    "# print(mean_absolute_error(current, two_day))\n",
    "print(\"Latest Absolute percentage error\")\n",
    "print((np.abs(current[len(current)-1] - one_day[len(one_day)-1])/current[len(current)-1])*100)"
   ]
  },
  {
   "cell_type": "code",
   "execution_count": null,
   "metadata": {},
   "outputs": [],
   "source": []
  }
 ],
 "metadata": {
  "kernelspec": {
   "display_name": "Python [conda env:.conda-DAND] *",
   "language": "python",
   "name": "conda-env-.conda-DAND-py"
  },
  "language_info": {
   "codemirror_mode": {
    "name": "ipython",
    "version": 3
   },
   "file_extension": ".py",
   "mimetype": "text/x-python",
   "name": "python",
   "nbconvert_exporter": "python",
   "pygments_lexer": "ipython3",
   "version": "3.8.2"
  }
 },
 "nbformat": 4,
 "nbformat_minor": 4
}
