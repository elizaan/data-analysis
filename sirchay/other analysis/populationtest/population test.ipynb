{
 "cells": [
  {
   "cell_type": "code",
   "execution_count": 1,
   "metadata": {},
   "outputs": [
    {
     "name": "stderr",
     "output_type": "stream",
     "text": [
      "C:\\Users\\USER\\.conda\\envs\\DAND\\lib\\site-packages\\sklearn\\utils\\deprecation.py:144: FutureWarning: The sklearn.ensemble.forest module is  deprecated in version 0.22 and will be removed in version 0.24. The corresponding classes / functions should instead be imported from sklearn.ensemble. Anything that cannot be imported from sklearn.ensemble is now part of the private API.\n",
      "  warnings.warn(message, FutureWarning)\n"
     ]
    }
   ],
   "source": [
    "import requests\n",
    "import json\n",
    "from flask import jsonify\n",
    "from csv import writer\n",
    "from statistics import mean\n",
    "import numpy as np\n",
    "import pandas as pd\n",
    "import scipy\n",
    "import statsmodels.api as st\n",
    "import matplotlib.pyplot as plt\n",
    "%matplotlib inline\n",
    "from matplotlib.pylab import rcParams\n",
    "rcParams['figure.figsize'] = 18, 6\n",
    "import seaborn as sns\n",
    "import sklearn\n",
    "from sklearn.ensemble.forest import RandomForestRegressor\n",
    "from statsmodels.tsa.stattools import adfuller\n",
    "from statsmodels.graphics.tsaplots import plot_acf, plot_pacf\n",
    "from statsmodels.tsa.stattools import acf, pacf\n",
    "from statsmodels.tsa.arima_model import ARIMA\n",
    "import operator \n",
    "import psycopg2\n",
    "import math\n",
    "import requests\n",
    "import json\n",
    "from flask import jsonify\n",
    "import csv\n",
    "from csv import writer\n",
    "from statistics import mean\n",
    "from plotly.subplots import make_subplots\n",
    "import plotly.graph_objects as go\n",
    "from numpy import cov\n",
    "from scipy.stats import pearsonr\n",
    "from scipy.stats import spearmanr\n",
    "from scipy.stats import kendalltau\n",
    "from numpy import mean\n",
    "from numpy import std\n",
    "import statistics\n"
   ]
  },
  {
   "cell_type": "markdown",
   "metadata": {},
   "source": [
    "# Making csv containg number of tests"
   ]
  },
  {
   "cell_type": "code",
   "execution_count": 28,
   "metadata": {},
   "outputs": [],
   "source": [
    "\n",
    "\n",
    "\n",
    "url = 'https://disease.sh/v2/countries'\n",
    "\n",
    "response = requests.get(url)\n",
    "lst = json.loads(response.text)\n",
    "\n",
    "dict_name = {}\n",
    "population = {}\n",
    "dict_iso3 = {}\n",
    "dict_noOfTests = {}\n",
    "total_cases = {}\n",
    "total_deaths = {}\n",
    "total_recovered = {}\n",
    "live_cases = {}\n",
    "live_deaths = {}\n",
    "live_recovered = {}\n",
    "active = {}\n",
    "critical = {}\n",
    "casesPerOneMillion = {}\n",
    "deathsPerOneMillion = {}\n",
    "testsPerOneMillion = {}\n",
    "recoveredPerOneMillion = {}\n",
    "criticalPerOneMillion = {}\n",
    "continent = {}\n",
    "\n",
    "\n",
    "with open('country_populationtests.csv','w',encoding=\"utf-8\") as csv_file:\n",
    "    csv_writer = writer(csv_file)\n",
    "    headers = ['Countryname', 'Countrycodeiso2', 'Countrycodeiso3','Continent','Population','Totaltests','Totalaffected','Totaldeaths','Totalrecovered','Active','Critical','Deathrate','Tests per million','Affected per million','Deaths per million','Recovered per million']\n",
    "    csv_writer.writerow(headers)\n",
    "    for i in lst:\n",
    "        name = i['country']\n",
    "        iso2 = i['countryInfo']['iso2']\n",
    "        iso3 = i['countryInfo']['iso3']\n",
    "        noOfTests = i['tests']\n",
    "        population = i['population']\n",
    "        total_cases = i['cases']\n",
    "        total_deaths = i['deaths']\n",
    "        total_recovered =i['recovered']\n",
    "        active = i['active']\n",
    "        critical = i['critical']\n",
    "        casesPerOneMillion = i['casesPerOneMillion']\n",
    "        deathsPerOneMillion = i['deathsPerOneMillion']\n",
    "        testsPerOneMillion = i['testsPerOneMillion']\n",
    "        recoveredPerOneMillion = i['recoveredPerOneMillion']\n",
    "        criticalPerOneMillion = i['criticalPerOneMillion']\n",
    "        continent = i['continent']\n",
    "        \n",
    "        entry = [name, iso2, iso3,continent,population,noOfTests,total_cases,total_deaths,total_recovered,active,critical,(total_deaths/total_cases)*100,testsPerOneMillion,casesPerOneMillion,deathsPerOneMillion,recoveredPerOneMillion]\n",
    "        csv_writer.writerow(entry)\n",
    "    \n",
    "\n",
    "\n"
   ]
  },
  {
   "cell_type": "markdown",
   "metadata": {},
   "source": [
    "# Doing some data cleaning (0 deaths, <100 affected, 0 tests and tests< affected are removed"
   ]
  },
  {
   "cell_type": "code",
   "execution_count": 2,
   "metadata": {},
   "outputs": [],
   "source": [
    "data = pd.read_csv('country_populationtests.csv')"
   ]
  },
  {
   "cell_type": "code",
   "execution_count": 3,
   "metadata": {},
   "outputs": [],
   "source": [
    "finaldata = data[(data.Totaltests>0) & (data.Totalaffected>=100) & (data.Totaldeaths>0) & (data.Totaltests>=data.Totalaffected) ]"
   ]
  },
  {
   "cell_type": "code",
   "execution_count": 4,
   "metadata": {},
   "outputs": [
    {
     "data": {
      "text/html": [
       "<div>\n",
       "<style scoped>\n",
       "    .dataframe tbody tr th:only-of-type {\n",
       "        vertical-align: middle;\n",
       "    }\n",
       "\n",
       "    .dataframe tbody tr th {\n",
       "        vertical-align: top;\n",
       "    }\n",
       "\n",
       "    .dataframe thead th {\n",
       "        text-align: right;\n",
       "    }\n",
       "</style>\n",
       "<table border=\"1\" class=\"dataframe\">\n",
       "  <thead>\n",
       "    <tr style=\"text-align: right;\">\n",
       "      <th></th>\n",
       "      <th>Countryname</th>\n",
       "      <th>Countrycodeiso2</th>\n",
       "      <th>Countrycodeiso3</th>\n",
       "      <th>Continent</th>\n",
       "      <th>Population</th>\n",
       "      <th>Totaltests</th>\n",
       "      <th>Totalaffected</th>\n",
       "      <th>Totaldeaths</th>\n",
       "      <th>Totalrecovered</th>\n",
       "      <th>Active</th>\n",
       "      <th>Critical</th>\n",
       "      <th>Deathrate</th>\n",
       "      <th>Tests per million</th>\n",
       "      <th>Affected per million</th>\n",
       "      <th>Deaths per million</th>\n",
       "      <th>Recovered per million</th>\n",
       "    </tr>\n",
       "  </thead>\n",
       "  <tbody>\n",
       "    <tr>\n",
       "      <th>0</th>\n",
       "      <td>Afghanistan</td>\n",
       "      <td>AF</td>\n",
       "      <td>AFG</td>\n",
       "      <td>Asia</td>\n",
       "      <td>38841361</td>\n",
       "      <td>35923</td>\n",
       "      <td>13659</td>\n",
       "      <td>246</td>\n",
       "      <td>1259</td>\n",
       "      <td>12154</td>\n",
       "      <td>19</td>\n",
       "      <td>1.801010</td>\n",
       "      <td>925</td>\n",
       "      <td>352.0</td>\n",
       "      <td>6.0</td>\n",
       "      <td>32.41</td>\n",
       "    </tr>\n",
       "    <tr>\n",
       "      <th>1</th>\n",
       "      <td>Albania</td>\n",
       "      <td>AL</td>\n",
       "      <td>ALB</td>\n",
       "      <td>Europe</td>\n",
       "      <td>2878069</td>\n",
       "      <td>14269</td>\n",
       "      <td>1099</td>\n",
       "      <td>33</td>\n",
       "      <td>851</td>\n",
       "      <td>215</td>\n",
       "      <td>5</td>\n",
       "      <td>3.002730</td>\n",
       "      <td>4958</td>\n",
       "      <td>382.0</td>\n",
       "      <td>11.0</td>\n",
       "      <td>295.68</td>\n",
       "    </tr>\n",
       "    <tr>\n",
       "      <th>3</th>\n",
       "      <td>Andorra</td>\n",
       "      <td>AD</td>\n",
       "      <td>AND</td>\n",
       "      <td>Europe</td>\n",
       "      <td>77254</td>\n",
       "      <td>3750</td>\n",
       "      <td>764</td>\n",
       "      <td>51</td>\n",
       "      <td>684</td>\n",
       "      <td>29</td>\n",
       "      <td>4</td>\n",
       "      <td>6.675393</td>\n",
       "      <td>48541</td>\n",
       "      <td>9889.0</td>\n",
       "      <td>660.0</td>\n",
       "      <td>8853.91</td>\n",
       "    </tr>\n",
       "    <tr>\n",
       "      <th>7</th>\n",
       "      <td>Argentina</td>\n",
       "      <td>AR</td>\n",
       "      <td>ARG</td>\n",
       "      <td>South America</td>\n",
       "      <td>45157642</td>\n",
       "      <td>150486</td>\n",
       "      <td>14702</td>\n",
       "      <td>510</td>\n",
       "      <td>4788</td>\n",
       "      <td>9404</td>\n",
       "      <td>171</td>\n",
       "      <td>3.468916</td>\n",
       "      <td>3332</td>\n",
       "      <td>326.0</td>\n",
       "      <td>11.0</td>\n",
       "      <td>106.03</td>\n",
       "    </tr>\n",
       "    <tr>\n",
       "      <th>8</th>\n",
       "      <td>Armenia</td>\n",
       "      <td>AM</td>\n",
       "      <td>ARM</td>\n",
       "      <td>Asia</td>\n",
       "      <td>2962755</td>\n",
       "      <td>56042</td>\n",
       "      <td>8676</td>\n",
       "      <td>120</td>\n",
       "      <td>3297</td>\n",
       "      <td>5259</td>\n",
       "      <td>10</td>\n",
       "      <td>1.383126</td>\n",
       "      <td>18916</td>\n",
       "      <td>2928.0</td>\n",
       "      <td>41.0</td>\n",
       "      <td>1112.82</td>\n",
       "    </tr>\n",
       "    <tr>\n",
       "      <th>...</th>\n",
       "      <td>...</td>\n",
       "      <td>...</td>\n",
       "      <td>...</td>\n",
       "      <td>...</td>\n",
       "      <td>...</td>\n",
       "      <td>...</td>\n",
       "      <td>...</td>\n",
       "      <td>...</td>\n",
       "      <td>...</td>\n",
       "      <td>...</td>\n",
       "      <td>...</td>\n",
       "      <td>...</td>\n",
       "      <td>...</td>\n",
       "      <td>...</td>\n",
       "      <td>...</td>\n",
       "      <td>...</td>\n",
       "    </tr>\n",
       "    <tr>\n",
       "      <th>207</th>\n",
       "      <td>Uruguay</td>\n",
       "      <td>UY</td>\n",
       "      <td>URY</td>\n",
       "      <td>South America</td>\n",
       "      <td>3472659</td>\n",
       "      <td>41469</td>\n",
       "      <td>811</td>\n",
       "      <td>22</td>\n",
       "      <td>654</td>\n",
       "      <td>135</td>\n",
       "      <td>5</td>\n",
       "      <td>2.712700</td>\n",
       "      <td>11942</td>\n",
       "      <td>234.0</td>\n",
       "      <td>6.0</td>\n",
       "      <td>188.33</td>\n",
       "    </tr>\n",
       "    <tr>\n",
       "      <th>208</th>\n",
       "      <td>Uzbekistan</td>\n",
       "      <td>UZ</td>\n",
       "      <td>UZB</td>\n",
       "      <td>Asia</td>\n",
       "      <td>33423219</td>\n",
       "      <td>460000</td>\n",
       "      <td>3468</td>\n",
       "      <td>14</td>\n",
       "      <td>2728</td>\n",
       "      <td>726</td>\n",
       "      <td>7</td>\n",
       "      <td>0.403691</td>\n",
       "      <td>13763</td>\n",
       "      <td>104.0</td>\n",
       "      <td>0.4</td>\n",
       "      <td>81.62</td>\n",
       "    </tr>\n",
       "    <tr>\n",
       "      <th>209</th>\n",
       "      <td>Venezuela</td>\n",
       "      <td>VE</td>\n",
       "      <td>VEN</td>\n",
       "      <td>South America</td>\n",
       "      <td>28442842</td>\n",
       "      <td>897695</td>\n",
       "      <td>1327</td>\n",
       "      <td>11</td>\n",
       "      <td>302</td>\n",
       "      <td>1014</td>\n",
       "      <td>4</td>\n",
       "      <td>0.828937</td>\n",
       "      <td>31561</td>\n",
       "      <td>47.0</td>\n",
       "      <td>0.4</td>\n",
       "      <td>10.62</td>\n",
       "    </tr>\n",
       "    <tr>\n",
       "      <th>213</th>\n",
       "      <td>Zambia</td>\n",
       "      <td>ZM</td>\n",
       "      <td>ZMB</td>\n",
       "      <td>Africa</td>\n",
       "      <td>18331278</td>\n",
       "      <td>24275</td>\n",
       "      <td>1057</td>\n",
       "      <td>7</td>\n",
       "      <td>779</td>\n",
       "      <td>271</td>\n",
       "      <td>1</td>\n",
       "      <td>0.662252</td>\n",
       "      <td>1324</td>\n",
       "      <td>58.0</td>\n",
       "      <td>0.4</td>\n",
       "      <td>42.50</td>\n",
       "    </tr>\n",
       "    <tr>\n",
       "      <th>214</th>\n",
       "      <td>Zimbabwe</td>\n",
       "      <td>ZW</td>\n",
       "      <td>ZWE</td>\n",
       "      <td>Africa</td>\n",
       "      <td>14842405</td>\n",
       "      <td>37039</td>\n",
       "      <td>149</td>\n",
       "      <td>4</td>\n",
       "      <td>28</td>\n",
       "      <td>117</td>\n",
       "      <td>0</td>\n",
       "      <td>2.684564</td>\n",
       "      <td>2495</td>\n",
       "      <td>10.0</td>\n",
       "      <td>0.3</td>\n",
       "      <td>1.89</td>\n",
       "    </tr>\n",
       "  </tbody>\n",
       "</table>\n",
       "<p>144 rows × 16 columns</p>\n",
       "</div>"
      ],
      "text/plain": [
       "     Countryname Countrycodeiso2 Countrycodeiso3      Continent  Population  \\\n",
       "0    Afghanistan              AF             AFG           Asia    38841361   \n",
       "1        Albania              AL             ALB         Europe     2878069   \n",
       "3        Andorra              AD             AND         Europe       77254   \n",
       "7      Argentina              AR             ARG  South America    45157642   \n",
       "8        Armenia              AM             ARM           Asia     2962755   \n",
       "..           ...             ...             ...            ...         ...   \n",
       "207      Uruguay              UY             URY  South America     3472659   \n",
       "208   Uzbekistan              UZ             UZB           Asia    33423219   \n",
       "209    Venezuela              VE             VEN  South America    28442842   \n",
       "213       Zambia              ZM             ZMB         Africa    18331278   \n",
       "214     Zimbabwe              ZW             ZWE         Africa    14842405   \n",
       "\n",
       "     Totaltests  Totalaffected  Totaldeaths  Totalrecovered  Active  Critical  \\\n",
       "0         35923          13659          246            1259   12154        19   \n",
       "1         14269           1099           33             851     215         5   \n",
       "3          3750            764           51             684      29         4   \n",
       "7        150486          14702          510            4788    9404       171   \n",
       "8         56042           8676          120            3297    5259        10   \n",
       "..          ...            ...          ...             ...     ...       ...   \n",
       "207       41469            811           22             654     135         5   \n",
       "208      460000           3468           14            2728     726         7   \n",
       "209      897695           1327           11             302    1014         4   \n",
       "213       24275           1057            7             779     271         1   \n",
       "214       37039            149            4              28     117         0   \n",
       "\n",
       "     Deathrate  Tests per million  Affected per million  Deaths per million  \\\n",
       "0     1.801010                925                 352.0                 6.0   \n",
       "1     3.002730               4958                 382.0                11.0   \n",
       "3     6.675393              48541                9889.0               660.0   \n",
       "7     3.468916               3332                 326.0                11.0   \n",
       "8     1.383126              18916                2928.0                41.0   \n",
       "..         ...                ...                   ...                 ...   \n",
       "207   2.712700              11942                 234.0                 6.0   \n",
       "208   0.403691              13763                 104.0                 0.4   \n",
       "209   0.828937              31561                  47.0                 0.4   \n",
       "213   0.662252               1324                  58.0                 0.4   \n",
       "214   2.684564               2495                  10.0                 0.3   \n",
       "\n",
       "     Recovered per million  \n",
       "0                    32.41  \n",
       "1                   295.68  \n",
       "3                  8853.91  \n",
       "7                   106.03  \n",
       "8                  1112.82  \n",
       "..                     ...  \n",
       "207                 188.33  \n",
       "208                  81.62  \n",
       "209                  10.62  \n",
       "213                  42.50  \n",
       "214                   1.89  \n",
       "\n",
       "[144 rows x 16 columns]"
      ]
     },
     "execution_count": 4,
     "metadata": {},
     "output_type": "execute_result"
    }
   ],
   "source": [
    "finaldata"
   ]
  },
  {
   "cell_type": "code",
   "execution_count": 37,
   "metadata": {},
   "outputs": [
    {
     "data": {
      "image/png": "[encoded data removed]",
      "text/plain": [
       "<Figure size 1296x432 with 1 Axes>"
      ]
     },
     "metadata": {},
     "output_type": "display_data"
    }
   ],
   "source": [
    "\n",
    "sns.set()\n",
    "sns.set_context(\"talk\")\n",
    "#fig_dims = (20, 20)\n",
    "#fig, ax = plt.subplots(figsize=fig_dims)\n",
    "#sns.set_ylim(0,1750000,1000)\n",
    "#plt.ylim(-1000,1750000,1000)\n",
    "ax = sns.stripplot(x=\"Totaltests\", y=\"Deathrate\",jitter=0.25,size=8, data=finaldata)"
   ]
  },
  {
   "cell_type": "code",
   "execution_count": 5,
   "metadata": {},
   "outputs": [],
   "source": [
    "header = [\"Countryname\", \"Population\", \"Totaltests\", \"Deathrate\"]\n",
    "finaldata.to_csv('deathrate+tests.csv', columns = header)"
   ]
  },
  {
   "cell_type": "code",
   "execution_count": 14,
   "metadata": {},
   "outputs": [],
   "source": [
    "\n",
    "def correl(bd):\n",
    "    Bd1 = bd.iloc[:,3:4]\n",
    "    Bd2 = bd.iloc[:,4:5]\n",
    "    \n",
    "    \n",
    "    X = [x[0] for x in Bd1.values.tolist()]  #list comprehension\n",
    "    Y = [y[0] for y in Bd2.values.tolist()]\n",
    "    print('data1: mean=%.3f stdv=%.3f' % (mean(X), std(X)))\n",
    "    print('data2: mean=%.3f stdv=%.3f' % (mean(Y), std(Y)))\n",
    "    print('population test: median=%.3f' % statistics.median(X))\n",
    "    print('death rate: median=%.3f' % statistics.median(Y))\n",
    "    \n",
    "    \n",
    "    #print('my function pearson : %.5f' % pearson_def(X,Y))\n",
    "    \n",
    "    covariance = cov(X,Y)\n",
    "    print('covarience value :')\n",
    "    print( covariance)\n",
    "    \n",
    "    fig = go.Figure()\n",
    "    fig.add_trace(go.Scatter(x=X,y=Y,mode='markers',marker_color=Y)) # hover text goes here\n",
    "\n",
    "    fig.update_layout(title='population test vs death rate', xaxis=dict(title='population test'),yaxis=dict(title='death rate'))\n",
    "    \n",
    "    fig.show()\n",
    "    ##pyplot.scatter(Bd1, Bd2)\n",
    "    #pyplot.xlabel(\"temparature\")\n",
    "    #pyplot.ylabel(\"Total Affected\")\n",
    "    #pyplot.show()\n",
    "    alpha = 0.05 #setting my significant level 5 %\n",
    "    corr, r = pearsonr(X,Y)\n",
    "    print('Pearsons correlation: %.3f' % corr)\n",
    "   \n",
    "    \n",
    "    if r > alpha:\n",
    "        print('Samples are uncorrelated (fail to reject H0) p=%.3f' % r)\n",
    "        \n",
    "    else:\n",
    "        print('Samples are correlated (reject H0) p=%.3f' % r)\n",
    "        \n",
    "        \n",
    "    corr, p = spearmanr(X,Y)\n",
    "    print('Spearmans correlation: %.3f' % corr)\n",
    "    \n",
    "    \n",
    "    # interpret the significance\n",
    "    \n",
    "    if p > alpha:\n",
    "        print('Samples are uncorrelated (fail to reject H0) p=%.3f' % p)\n",
    "        \n",
    "    else:\n",
    "        print('Samples are correlated (reject H0) p=%.3f' % p)\n",
    "       \n",
    "        \n",
    "    \n",
    "    coef, q = kendalltau(X,Y)\n",
    "    print('Kendall correlation coefficient: %.3f' % coef)\n",
    "    \n",
    "    # interpret the significance\n",
    "    alpha = 0.05\n",
    "    if q > alpha:\n",
    "        print('Samples are uncorrelated (fail to reject H0) p=%.3f' % q)\n",
    "        \n",
    "    else:\n",
    "        print('Samples are correlated (reject H0) p=%.3f' % q)\n",
    "        \n",
    "\n",
    "    \n"
   ]
  },
  {
   "cell_type": "code",
   "execution_count": 15,
   "metadata": {},
   "outputs": [
    {
     "name": "stdout",
     "output_type": "stream",
     "text": [
      "data1: mean=552133.868 stdv=1738650.625\n",
      "data2: mean=3.587 stdv=3.374\n",
      "population test: median=101344.500\n",
      "death rate: median=2.727\n",
      "covarience value :\n",
      "[[3.04404520e+12 9.29137722e+05]\n",
      " [9.29137722e+05 1.14668089e+01]]\n"
     ]
    },
    {
     "data": {
      "application/vnd.plotly.v1+json": {
       "config": {
        "plotlyServerURL": "https://plot.ly"
       },
       "data": [
        {
         "marker": {
          "color": [
           1.8010103228640455,
           3.0027297543221114,
           6.675392670157068,
           3.468915793769555,
           1.3831258644536653,
           2.9702970297029703,
           1.4359403317998047,
           4.010807565295707,
           1.1625576267789135,
           10.891089108910892,
           0.1435544071202986,
           1.3584165810848658,
           0.5495044647237759,
           16.241539070977076,
           1.3392857142857142,
           6.428571428571428,
           3.4935018480982483,
           6.156941649899397,
           6.0602694193685975,
           1.4184397163120568,
           5.472837022132797,
           1.0256410256410255,
           7.807361002349255,
           0.7142857142857143,
           0.13245033112582782,
           8.035714285714286,
           1.0415057702067565,
           3.240558227548687,
           0.9784735812133072,
           4.587973273942094,
           4.089775561097256,
           1.8046709129511682,
           3.4749455337690627,
           1.2116622491480502,
           4.899508323988614,
           0.6863417982155113,
           2.9520295202952034,
           8.643799745923102,
           3.9806176976723124,
           1.8437225636523267,
           3.604088219472835,
           0.8264462809917356,
           4.634002361275089,
           15.36864077929724,
           0.5758946935417524,
           1.6085790884718498,
           4.6956873330091415,
           0.4464285714285714,
           6.015812994156067,
           8.695652173913043,
           1.8399264029438824,
           0.6191950464396285,
           0.6694560669456067,
           7.333333333333332,
           2.4255024255024256,
           4.1245791245791255,
           0.3703703703703704,
           13.460036448841448,
           0.554016620498615,
           2.870465903130422,
           6.027918781725888,
           5.234270597540021,
           3.1500085135365232,
           6.6127994854478205,
           7.142857142857142,
           1.6718667216106435,
           14.307550549412696,
           1.5817223198594026,
           5.196907031109513,
           1.2328767123287672,
           0.3725332259363673,
           3.5530085959885387,
           0.7703303684879289,
           0.9626955475330928,
           2.255639097744361,
           2.2184300341296934,
           4.23728813559322,
           4.0914560770156445,
           2.741774675972084,
           5.918271488961954,
           0.7163323782234957,
           1.9704433497536944,
           1.4873254009311951,
           0.3304692663582287,
           5.95432300163132,
           1.461038961038961,
           4.728132387706856,
           2.985074626865672,
           1.2360211889346673,
           11.110565110565114,
           3.64741641337386,
           2.7777777777777777,
           2.6186155042779364,
           0.8547008547008548,
           2.898550724637681,
           0.4950495049504951,
           12.858257815548715,
           1.4627659574468086,
           6.701570680628272,
           2.9052159282108807,
           2.8021847542151512,
           0.40733197556008144,
           2.0569126007371774,
           0.672645739910314,
           2.6378699200395683,
           1.1995637949836424,
           2.891119277184915,
           5.663099675363712,
           4.5389764629669616,
           4.329180492080386,
           0.06804392613453795,
           6.574649668106628,
           1.1284160124657203,
           0.2127659574468085,
           2.3592352218908963,
           6.259314456035768,
           0.5601350194457354,
           1.1956838728492272,
           2.1314074335036106,
           0.06792675723567633,
           1.8421052631578945,
           7.331975560081466,
           2.0896032831737346,
           1.0060362173038229,
           9.4946856926804,
           0.6418485237483954,
           0.7168458781362007,
           11.925649742296304,
           6.22486051641365,
           1.5837104072398192,
           1.8530559167750331,
           3.080568720379147,
           6.896551724137932,
           4.481792717086835,
           2.7689365901801133,
           0.7838408200180885,
           14.070023818126847,
           5.836071736656788,
           2.9766340800490987,
           2.7127003699136867,
           0.40369088811995385,
           0.8289374529012812,
           0.6622516556291391,
           2.684563758389262
          ]
         },
         "mode": "markers",
         "type": "scatter",
         "x": [
          35923,
          14269,
          3750,
          150486,
          56042,
          2105,
          1397622,
          434302,
          284669,
          2050,
          304179,
          287067,
          512418,
          836879,
          30817,
          6941,
          22294,
          63596,
          871839,
          18962,
          79389,
          1307,
          1593377,
          10466,
          11570,
          10255,
          546506,
          283346,
          25503,
          65509,
          101108,
          111270,
          430564,
          26021,
          606574,
          25257,
          76930,
          113808,
          135000,
          84650,
          81719,
          101581,
          179400,
          1384633,
          12669,
          53618,
          3952971,
          208328,
          174844,
          3573,
          31427,
          14407,
          1500,
          1559,
          3475,
          14790,
          202930,
          180152,
          60491,
          3483838,
          300545,
          896571,
          211485,
          325795,
          4756,
          565311,
          3755279,
          11460,
          281293,
          180119,
          761727,
          74003,
          282341,
          109521,
          106931,
          80239,
          5154,
          294091,
          72996,
          27684,
          10249,
          3372,
          519944,
          11775,
          3483,
          66664,
          2583,
          114236,
          5200,
          244858,
          40565,
          10167,
          190061,
          10001,
          23951,
          169632,
          348256,
          275852,
          6020,
          58726,
          245352,
          72000,
          520017,
          44876,
          63202,
          28337,
          928797,
          332689,
          873456,
          795838,
          212897,
          421451,
          10000061,
          17200,
          885120,
          4382,
          787465,
          39499,
          239234,
          334691,
          167562,
          79284,
          680175,
          3356,
          3556567,
          60878,
          4994,
          238800,
          390697,
          71750,
          375453,
          18696,
          3115,
          50380,
          1964364,
          2110493,
          4043686,
          16757246,
          337318,
          41469,
          460000,
          897695,
          24275,
          37039
         ],
         "y": [
          1.8010103228640455,
          3.0027297543221114,
          6.675392670157068,
          3.468915793769555,
          1.3831258644536653,
          2.9702970297029703,
          1.4359403317998047,
          4.010807565295707,
          1.1625576267789135,
          10.891089108910892,
          0.1435544071202986,
          1.3584165810848658,
          0.5495044647237759,
          16.241539070977076,
          1.3392857142857142,
          6.428571428571428,
          3.4935018480982483,
          6.156941649899397,
          6.0602694193685975,
          1.4184397163120568,
          5.472837022132797,
          1.0256410256410255,
          7.807361002349255,
          0.7142857142857143,
          0.13245033112582782,
          8.035714285714286,
          1.0415057702067565,
          3.240558227548687,
          0.9784735812133072,
          4.587973273942094,
          4.089775561097256,
          1.8046709129511682,
          3.4749455337690627,
          1.2116622491480502,
          4.899508323988614,
          0.6863417982155113,
          2.9520295202952034,
          8.643799745923102,
          3.9806176976723124,
          1.8437225636523267,
          3.604088219472835,
          0.8264462809917356,
          4.634002361275089,
          15.36864077929724,
          0.5758946935417524,
          1.6085790884718498,
          4.6956873330091415,
          0.4464285714285714,
          6.015812994156067,
          8.695652173913043,
          1.8399264029438824,
          0.6191950464396285,
          0.6694560669456067,
          7.333333333333332,
          2.4255024255024256,
          4.1245791245791255,
          0.3703703703703704,
          13.460036448841448,
          0.554016620498615,
          2.870465903130422,
          6.027918781725888,
          5.234270597540021,
          3.1500085135365232,
          6.6127994854478205,
          7.142857142857142,
          1.6718667216106435,
          14.307550549412696,
          1.5817223198594026,
          5.196907031109513,
          1.2328767123287672,
          0.3725332259363673,
          3.5530085959885387,
          0.7703303684879289,
          0.9626955475330928,
          2.255639097744361,
          2.2184300341296934,
          4.23728813559322,
          4.0914560770156445,
          2.741774675972084,
          5.918271488961954,
          0.7163323782234957,
          1.9704433497536944,
          1.4873254009311951,
          0.3304692663582287,
          5.95432300163132,
          1.461038961038961,
          4.728132387706856,
          2.985074626865672,
          1.2360211889346673,
          11.110565110565114,
          3.64741641337386,
          2.7777777777777777,
          2.6186155042779364,
          0.8547008547008548,
          2.898550724637681,
          0.4950495049504951,
          12.858257815548715,
          1.4627659574468086,
          6.701570680628272,
          2.9052159282108807,
          2.8021847542151512,
          0.40733197556008144,
          2.0569126007371774,
          0.672645739910314,
          2.6378699200395683,
          1.1995637949836424,
          2.891119277184915,
          5.663099675363712,
          4.5389764629669616,
          4.329180492080386,
          0.06804392613453795,
          6.574649668106628,
          1.1284160124657203,
          0.2127659574468085,
          2.3592352218908963,
          6.259314456035768,
          0.5601350194457354,
          1.1956838728492272,
          2.1314074335036106,
          0.06792675723567633,
          1.8421052631578945,
          7.331975560081466,
          2.0896032831737346,
          1.0060362173038229,
          9.4946856926804,
          0.6418485237483954,
          0.7168458781362007,
          11.925649742296304,
          6.22486051641365,
          1.5837104072398192,
          1.8530559167750331,
          3.080568720379147,
          6.896551724137932,
          4.481792717086835,
          2.7689365901801133,
          0.7838408200180885,
          14.070023818126847,
          5.836071736656788,
          2.9766340800490987,
          2.7127003699136867,
          0.40369088811995385,
          0.8289374529012812,
          0.6622516556291391,
          2.684563758389262
         ]
        }
       ],
       "layout": {
        "template": {
         "data": {
          "bar": [
           {
            "error_x": {
             "color": "#2a3f5f"
            },
            "error_y": {
             "color": "#2a3f5f"
            },
            "marker": {
             "line": {
              "color": "#E5ECF6",
              "width": 0.5
             }
            },
            "type": "bar"
           }
          ],
          "barpolar": [
           {
            "marker": {
             "line": {
              "color": "#E5ECF6",
              "width": 0.5
             }
            },
            "type": "barpolar"
           }
          ],
          "carpet": [
           {
            "aaxis": {
             "endlinecolor": "#2a3f5f",
             "gridcolor": "white",
             "linecolor": "white",
             "minorgridcolor": "white",
             "startlinecolor": "#2a3f5f"
            },
            "baxis": {
             "endlinecolor": "#2a3f5f",
             "gridcolor": "white",
             "linecolor": "white",
             "minorgridcolor": "white",
             "startlinecolor": "#2a3f5f"
            },
            "type": "carpet"
           }
          ],
          "choropleth": [
           {
            "colorbar": {
             "outlinewidth": 0,
             "ticks": ""
            },
            "type": "choropleth"
           }
          ],
          "contour": [
           {
            "colorbar": {
             "outlinewidth": 0,
             "ticks": ""
            },
            "colorscale": [
             [
              0,
              "#0d0887"
             ],
             [
              0.1111111111111111,
              "#46039f"
             ],
             [
              0.2222222222222222,
              "#7201a8"
             ],
             [
              0.3333333333333333,
              "#9c179e"
             ],
             [
              0.4444444444444444,
              "#bd3786"
             ],
             [
              0.5555555555555556,
              "#d8576b"
             ],
             [
              0.6666666666666666,
              "#ed7953"
             ],
             [
              0.7777777777777778,
              "#fb9f3a"
             ],
             [
              0.8888888888888888,
              "#fdca26"
             ],
             [
              1,
              "#f0f921"
             ]
            ],
            "type": "contour"
           }
          ],
          "contourcarpet": [
           {
            "colorbar": {
             "outlinewidth": 0,
             "ticks": ""
            },
            "type": "contourcarpet"
           }
          ],
          "heatmap": [
           {
            "colorbar": {
             "outlinewidth": 0,
             "ticks": ""
            },
            "colorscale": [
             [
              0,
              "#0d0887"
             ],
             [
              0.1111111111111111,
              "#46039f"
             ],
             [
              0.2222222222222222,
              "#7201a8"
             ],
             [
              0.3333333333333333,
              "#9c179e"
             ],
             [
              0.4444444444444444,
              "#bd3786"
             ],
             [
              0.5555555555555556,
              "#d8576b"
             ],
             [
              0.6666666666666666,
              "#ed7953"
             ],
             [
              0.7777777777777778,
              "#fb9f3a"
             ],
             [
              0.8888888888888888,
              "#fdca26"
             ],
             [
              1,
              "#f0f921"
             ]
            ],
            "type": "heatmap"
           }
          ],
          "heatmapgl": [
           {
            "colorbar": {
             "outlinewidth": 0,
             "ticks": ""
            },
            "colorscale": [
             [
              0,
              "#0d0887"
             ],
             [
              0.1111111111111111,
              "#46039f"
             ],
             [
              0.2222222222222222,
              "#7201a8"
             ],
             [
              0.3333333333333333,
              "#9c179e"
             ],
             [
              0.4444444444444444,
              "#bd3786"
             ],
             [
              0.5555555555555556,
              "#d8576b"
             ],
             [
              0.6666666666666666,
              "#ed7953"
             ],
             [
              0.7777777777777778,
              "#fb9f3a"
             ],
             [
              0.8888888888888888,
              "#fdca26"
             ],
             [
              1,
              "#f0f921"
             ]
            ],
            "type": "heatmapgl"
           }
          ],
          "histogram": [
           {
            "marker": {
             "colorbar": {
              "outlinewidth": 0,
              "ticks": ""
             }
            },
            "type": "histogram"
           }
          ],
          "histogram2d": [
           {
            "colorbar": {
             "outlinewidth": 0,
             "ticks": ""
            },
            "colorscale": [
             [
              0,
              "#0d0887"
             ],
             [
              0.1111111111111111,
              "#46039f"
             ],
             [
              0.2222222222222222,
              "#7201a8"
             ],
             [
              0.3333333333333333,
              "#9c179e"
             ],
             [
              0.4444444444444444,
              "#bd3786"
             ],
             [
              0.5555555555555556,
              "#d8576b"
             ],
             [
              0.6666666666666666,
              "#ed7953"
             ],
             [
              0.7777777777777778,
              "#fb9f3a"
             ],
             [
              0.8888888888888888,
              "#fdca26"
             ],
             [
              1,
              "#f0f921"
             ]
            ],
            "type": "histogram2d"
           }
          ],
          "histogram2dcontour": [
           {
            "colorbar": {
             "outlinewidth": 0,
             "ticks": ""
            },
            "colorscale": [
             [
              0,
              "#0d0887"
             ],
             [
              0.1111111111111111,
              "#46039f"
             ],
             [
              0.2222222222222222,
              "#7201a8"
             ],
             [
              0.3333333333333333,
              "#9c179e"
             ],
             [
              0.4444444444444444,
              "#bd3786"
             ],
             [
              0.5555555555555556,
              "#d8576b"
             ],
             [
              0.6666666666666666,
              "#ed7953"
             ],
             [
              0.7777777777777778,
              "#fb9f3a"
             ],
             [
              0.8888888888888888,
              "#fdca26"
             ],
             [
              1,
              "#f0f921"
             ]
            ],
            "type": "histogram2dcontour"
           }
          ],
          "mesh3d": [
           {
            "colorbar": {
             "outlinewidth": 0,
             "ticks": ""
            },
            "type": "mesh3d"
           }
          ],
          "parcoords": [
           {
            "line": {
             "colorbar": {
              "outlinewidth": 0,
              "ticks": ""
             }
            },
            "type": "parcoords"
           }
          ],
          "pie": [
           {
            "automargin": true,
            "type": "pie"
           }
          ],
          "scatter": [
           {
            "marker": {
             "colorbar": {
              "outlinewidth": 0,
              "ticks": ""
             }
            },
            "type": "scatter"
           }
          ],
          "scatter3d": [
           {
            "line": {
             "colorbar": {
              "outlinewidth": 0,
              "ticks": ""
             }
            },
            "marker": {
             "colorbar": {
              "outlinewidth": 0,
              "ticks": ""
             }
            },
            "type": "scatter3d"
           }
          ],
          "scattercarpet": [
           {
            "marker": {
             "colorbar": {
              "outlinewidth": 0,
              "ticks": ""
             }
            },
            "type": "scattercarpet"
           }
          ],
          "scattergeo": [
           {
            "marker": {
             "colorbar": {
              "outlinewidth": 0,
              "ticks": ""
             }
            },
            "type": "scattergeo"
           }
          ],
          "scattergl": [
           {
            "marker": {
             "colorbar": {
              "outlinewidth": 0,
              "ticks": ""
             }
            },
            "type": "scattergl"
           }
          ],
          "scattermapbox": [
           {
            "marker": {
             "colorbar": {
              "outlinewidth": 0,
              "ticks": ""
             }
            },
            "type": "scattermapbox"
           }
          ],
          "scatterpolar": [
           {
            "marker": {
             "colorbar": {
              "outlinewidth": 0,
              "ticks": ""
             }
            },
            "type": "scatterpolar"
           }
          ],
          "scatterpolargl": [
           {
            "marker": {
             "colorbar": {
              "outlinewidth": 0,
              "ticks": ""
             }
            },
            "type": "scatterpolargl"
           }
          ],
          "scatterternary": [
           {
            "marker": {
             "colorbar": {
              "outlinewidth": 0,
              "ticks": ""
             }
            },
            "type": "scatterternary"
           }
          ],
          "surface": [
           {
            "colorbar": {
             "outlinewidth": 0,
             "ticks": ""
            },
            "colorscale": [
             [
              0,
              "#0d0887"
             ],
             [
              0.1111111111111111,
              "#46039f"
             ],
             [
              0.2222222222222222,
              "#7201a8"
             ],
             [
              0.3333333333333333,
              "#9c179e"
             ],
             [
              0.4444444444444444,
              "#bd3786"
             ],
             [
              0.5555555555555556,
              "#d8576b"
             ],
             [
              0.6666666666666666,
              "#ed7953"
             ],
             [
              0.7777777777777778,
              "#fb9f3a"
             ],
             [
              0.8888888888888888,
              "#fdca26"
             ],
             [
              1,
              "#f0f921"
             ]
            ],
            "type": "surface"
           }
          ],
          "table": [
           {
            "cells": {
             "fill": {
              "color": "#EBF0F8"
             },
             "line": {
              "color": "white"
             }
            },
            "header": {
             "fill": {
              "color": "#C8D4E3"
             },
             "line": {
              "color": "white"
             }
            },
            "type": "table"
           }
          ]
         },
         "layout": {
          "annotationdefaults": {
           "arrowcolor": "#2a3f5f",
           "arrowhead": 0,
           "arrowwidth": 1
          },
          "coloraxis": {
           "colorbar": {
            "outlinewidth": 0,
            "ticks": ""
           }
          },
          "colorscale": {
           "diverging": [
            [
             0,
             "#8e0152"
            ],
            [
             0.1,
             "#c51b7d"
            ],
            [
             0.2,
             "#de77ae"
            ],
            [
             0.3,
             "#f1b6da"
            ],
            [
             0.4,
             "#fde0ef"
            ],
            [
             0.5,
             "#f7f7f7"
            ],
            [
             0.6,
             "#e6f5d0"
            ],
            [
             0.7,
             "#b8e186"
            ],
            [
             0.8,
             "#7fbc41"
            ],
            [
             0.9,
             "#4d9221"
            ],
            [
             1,
             "#276419"
            ]
           ],
           "sequential": [
            [
             0,
             "#0d0887"
            ],
            [
             0.1111111111111111,
             "#46039f"
            ],
            [
             0.2222222222222222,
             "#7201a8"
            ],
            [
             0.3333333333333333,
             "#9c179e"
            ],
            [
             0.4444444444444444,
             "#bd3786"
            ],
            [
             0.5555555555555556,
             "#d8576b"
            ],
            [
             0.6666666666666666,
             "#ed7953"
            ],
            [
             0.7777777777777778,
             "#fb9f3a"
            ],
            [
             0.8888888888888888,
             "#fdca26"
            ],
            [
             1,
             "#f0f921"
            ]
           ],
           "sequentialminus": [
            [
             0,
             "#0d0887"
            ],
            [
             0.1111111111111111,
             "#46039f"
            ],
            [
             0.2222222222222222,
             "#7201a8"
            ],
            [
             0.3333333333333333,
             "#9c179e"
            ],
            [
             0.4444444444444444,
             "#bd3786"
            ],
            [
             0.5555555555555556,
             "#d8576b"
            ],
            [
             0.6666666666666666,
             "#ed7953"
            ],
            [
             0.7777777777777778,
             "#fb9f3a"
            ],
            [
             0.8888888888888888,
             "#fdca26"
            ],
            [
             1,
             "#f0f921"
            ]
           ]
          },
          "colorway": [
           "#636efa",
           "#EF553B",
           "#00cc96",
           "#ab63fa",
           "#FFA15A",
           "#19d3f3",
           "#FF6692",
           "#B6E880",
           "#FF97FF",
           "#FECB52"
          ],
          "font": {
           "color": "#2a3f5f"
          },
          "geo": {
           "bgcolor": "white",
           "lakecolor": "white",
           "landcolor": "#E5ECF6",
           "showlakes": true,
           "showland": true,
           "subunitcolor": "white"
          },
          "hoverlabel": {
           "align": "left"
          },
          "hovermode": "closest",
          "mapbox": {
           "style": "light"
          },
          "paper_bgcolor": "white",
          "plot_bgcolor": "#E5ECF6",
          "polar": {
           "angularaxis": {
            "gridcolor": "white",
            "linecolor": "white",
            "ticks": ""
           },
           "bgcolor": "#E5ECF6",
           "radialaxis": {
            "gridcolor": "white",
            "linecolor": "white",
            "ticks": ""
           }
          },
          "scene": {
           "xaxis": {
            "backgroundcolor": "#E5ECF6",
            "gridcolor": "white",
            "gridwidth": 2,
            "linecolor": "white",
            "showbackground": true,
            "ticks": "",
            "zerolinecolor": "white"
           },
           "yaxis": {
            "backgroundcolor": "#E5ECF6",
            "gridcolor": "white",
            "gridwidth": 2,
            "linecolor": "white",
            "showbackground": true,
            "ticks": "",
            "zerolinecolor": "white"
           },
           "zaxis": {
            "backgroundcolor": "#E5ECF6",
            "gridcolor": "white",
            "gridwidth": 2,
            "linecolor": "white",
            "showbackground": true,
            "ticks": "",
            "zerolinecolor": "white"
           }
          },
          "shapedefaults": {
           "line": {
            "color": "#2a3f5f"
           }
          },
          "ternary": {
           "aaxis": {
            "gridcolor": "white",
            "linecolor": "white",
            "ticks": ""
           },
           "baxis": {
            "gridcolor": "white",
            "linecolor": "white",
            "ticks": ""
           },
           "bgcolor": "#E5ECF6",
           "caxis": {
            "gridcolor": "white",
            "linecolor": "white",
            "ticks": ""
           }
          },
          "title": {
           "x": 0.05
          },
          "xaxis": {
           "automargin": true,
           "gridcolor": "white",
           "linecolor": "white",
           "ticks": "",
           "title": {
            "standoff": 15
           },
           "zerolinecolor": "white",
           "zerolinewidth": 2
          },
          "yaxis": {
           "automargin": true,
           "gridcolor": "white",
           "linecolor": "white",
           "ticks": "",
           "title": {
            "standoff": 15
           },
           "zerolinecolor": "white",
           "zerolinewidth": 2
          }
         }
        },
        "title": {
         "text": "population test vs death rate"
        },
        "xaxis": {
         "title": {
          "text": "population test"
         }
        },
        "yaxis": {
         "title": {
          "text": "death rate"
         }
        }
       }
      },
      "text/html": [
       "<div>\n",
       "        \n",
       "        \n",
       "            <div id=\"264cd939-241b-4a1e-8a81-04e11f332a0e\" class=\"plotly-graph-div\" style=\"height:525px; width:100%;\"></div>\n",
       "            <script type=\"text/javascript\">\n",
       "                require([\"plotly\"], function(Plotly) {\n",
       "                    window.PLOTLYENV=window.PLOTLYENV || {};\n",
       "                    \n",
       "                if (document.getElementById(\"264cd939-241b-4a1e-8a81-04e11f332a0e\")) {\n",
       "                    Plotly.newPlot(\n",
       "                        '264cd939-241b-4a1e-8a81-04e11f332a0e',\n",
       "                        [{\"marker\": {\"color\": [1.8010103228640455, 3.0027297543221114, 6.675392670157068, 3.468915793769555, 1.3831258644536653, 2.9702970297029703, 1.4359403317998047, 4.010807565295707, 1.1625576267789135, 10.891089108910892, 0.1435544071202986, 1.3584165810848658, 0.5495044647237759, 16.241539070977076, 1.3392857142857142, 6.428571428571428, 3.4935018480982483, 6.156941649899397, 6.0602694193685975, 1.4184397163120568, 5.472837022132797, 1.0256410256410255, 7.807361002349255, 0.7142857142857143, 0.13245033112582782, 8.035714285714286, 1.0415057702067565, 3.240558227548687, 0.9784735812133072, 4.587973273942094, 4.089775561097256, 1.8046709129511682, 3.4749455337690627, 1.2116622491480502, 4.899508323988614, 0.6863417982155113, 2.9520295202952034, 8.643799745923102, 3.9806176976723124, 1.8437225636523267, 3.604088219472835, 0.8264462809917356, 4.634002361275089, 15.36864077929724, 0.5758946935417524, 1.6085790884718498, 4.6956873330091415, 0.4464285714285714, 6.015812994156067, 8.695652173913043, 1.8399264029438824, 0.6191950464396285, 0.6694560669456067, 7.333333333333332, 2.4255024255024256, 4.1245791245791255, 0.3703703703703704, 13.460036448841448, 0.554016620498615, 2.870465903130422, 6.027918781725888, 5.234270597540021, 3.1500085135365232, 6.6127994854478205, 7.142857142857142, 1.6718667216106435, 14.307550549412696, 1.5817223198594026, 5.196907031109513, 1.2328767123287672, 0.3725332259363673, 3.5530085959885387, 0.7703303684879289, 0.9626955475330928, 2.255639097744361, 2.2184300341296934, 4.23728813559322, 4.0914560770156445, 2.741774675972084, 5.918271488961954, 0.7163323782234957, 1.9704433497536944, 1.4873254009311951, 0.3304692663582287, 5.95432300163132, 1.461038961038961, 4.728132387706856, 2.985074626865672, 1.2360211889346673, 11.110565110565114, 3.64741641337386, 2.7777777777777777, 2.6186155042779364, 0.8547008547008548, 2.898550724637681, 0.4950495049504951, 12.858257815548715, 1.4627659574468086, 6.701570680628272, 2.9052159282108807, 2.8021847542151512, 0.40733197556008144, 2.0569126007371774, 0.672645739910314, 2.6378699200395683, 1.1995637949836424, 2.891119277184915, 5.663099675363712, 4.5389764629669616, 4.329180492080386, 0.06804392613453795, 6.574649668106628, 1.1284160124657203, 0.2127659574468085, 2.3592352218908963, 6.259314456035768, 0.5601350194457354, 1.1956838728492272, 2.1314074335036106, 0.06792675723567633, 1.8421052631578945, 7.331975560081466, 2.0896032831737346, 1.0060362173038229, 9.4946856926804, 0.6418485237483954, 0.7168458781362007, 11.925649742296304, 6.22486051641365, 1.5837104072398192, 1.8530559167750331, 3.080568720379147, 6.896551724137932, 4.481792717086835, 2.7689365901801133, 0.7838408200180885, 14.070023818126847, 5.836071736656788, 2.9766340800490987, 2.7127003699136867, 0.40369088811995385, 0.8289374529012812, 0.6622516556291391, 2.684563758389262]}, \"mode\": \"markers\", \"type\": \"scatter\", \"x\": [35923, 14269, 3750, 150486, 56042, 2105, 1397622, 434302, 284669, 2050, 304179, 287067, 512418, 836879, 30817, 6941, 22294, 63596, 871839, 18962, 79389, 1307, 1593377, 10466, 11570, 10255, 546506, 283346, 25503, 65509, 101108, 111270, 430564, 26021, 606574, 25257, 76930, 113808, 135000, 84650, 81719, 101581, 179400, 1384633, 12669, 53618, 3952971, 208328, 174844, 3573, 31427, 14407, 1500, 1559, 3475, 14790, 202930, 180152, 60491, 3483838, 300545, 896571, 211485, 325795, 4756, 565311, 3755279, 11460, 281293, 180119, 761727, 74003, 282341, 109521, 106931, 80239, 5154, 294091, 72996, 27684, 10249, 3372, 519944, 11775, 3483, 66664, 2583, 114236, 5200, 244858, 40565, 10167, 190061, 10001, 23951, 169632, 348256, 275852, 6020, 58726, 245352, 72000, 520017, 44876, 63202, 28337, 928797, 332689, 873456, 795838, 212897, 421451, 10000061, 17200, 885120, 4382, 787465, 39499, 239234, 334691, 167562, 79284, 680175, 3356, 3556567, 60878, 4994, 238800, 390697, 71750, 375453, 18696, 3115, 50380, 1964364, 2110493, 4043686, 16757246, 337318, 41469, 460000, 897695, 24275, 37039], \"y\": [1.8010103228640455, 3.0027297543221114, 6.675392670157068, 3.468915793769555, 1.3831258644536653, 2.9702970297029703, 1.4359403317998047, 4.010807565295707, 1.1625576267789135, 10.891089108910892, 0.1435544071202986, 1.3584165810848658, 0.5495044647237759, 16.241539070977076, 1.3392857142857142, 6.428571428571428, 3.4935018480982483, 6.156941649899397, 6.0602694193685975, 1.4184397163120568, 5.472837022132797, 1.0256410256410255, 7.807361002349255, 0.7142857142857143, 0.13245033112582782, 8.035714285714286, 1.0415057702067565, 3.240558227548687, 0.9784735812133072, 4.587973273942094, 4.089775561097256, 1.8046709129511682, 3.4749455337690627, 1.2116622491480502, 4.899508323988614, 0.6863417982155113, 2.9520295202952034, 8.643799745923102, 3.9806176976723124, 1.8437225636523267, 3.604088219472835, 0.8264462809917356, 4.634002361275089, 15.36864077929724, 0.5758946935417524, 1.6085790884718498, 4.6956873330091415, 0.4464285714285714, 6.015812994156067, 8.695652173913043, 1.8399264029438824, 0.6191950464396285, 0.6694560669456067, 7.333333333333332, 2.4255024255024256, 4.1245791245791255, 0.3703703703703704, 13.460036448841448, 0.554016620498615, 2.870465903130422, 6.027918781725888, 5.234270597540021, 3.1500085135365232, 6.6127994854478205, 7.142857142857142, 1.6718667216106435, 14.307550549412696, 1.5817223198594026, 5.196907031109513, 1.2328767123287672, 0.3725332259363673, 3.5530085959885387, 0.7703303684879289, 0.9626955475330928, 2.255639097744361, 2.2184300341296934, 4.23728813559322, 4.0914560770156445, 2.741774675972084, 5.918271488961954, 0.7163323782234957, 1.9704433497536944, 1.4873254009311951, 0.3304692663582287, 5.95432300163132, 1.461038961038961, 4.728132387706856, 2.985074626865672, 1.2360211889346673, 11.110565110565114, 3.64741641337386, 2.7777777777777777, 2.6186155042779364, 0.8547008547008548, 2.898550724637681, 0.4950495049504951, 12.858257815548715, 1.4627659574468086, 6.701570680628272, 2.9052159282108807, 2.8021847542151512, 0.40733197556008144, 2.0569126007371774, 0.672645739910314, 2.6378699200395683, 1.1995637949836424, 2.891119277184915, 5.663099675363712, 4.5389764629669616, 4.329180492080386, 0.06804392613453795, 6.574649668106628, 1.1284160124657203, 0.2127659574468085, 2.3592352218908963, 6.259314456035768, 0.5601350194457354, 1.1956838728492272, 2.1314074335036106, 0.06792675723567633, 1.8421052631578945, 7.331975560081466, 2.0896032831737346, 1.0060362173038229, 9.4946856926804, 0.6418485237483954, 0.7168458781362007, 11.925649742296304, 6.22486051641365, 1.5837104072398192, 1.8530559167750331, 3.080568720379147, 6.896551724137932, 4.481792717086835, 2.7689365901801133, 0.7838408200180885, 14.070023818126847, 5.836071736656788, 2.9766340800490987, 2.7127003699136867, 0.40369088811995385, 0.8289374529012812, 0.6622516556291391, 2.684563758389262]}],\n",
       "                        {\"template\": {\"data\": {\"bar\": [{\"error_x\": {\"color\": \"#2a3f5f\"}, \"error_y\": {\"color\": \"#2a3f5f\"}, \"marker\": {\"line\": {\"color\": \"#E5ECF6\", \"width\": 0.5}}, \"type\": \"bar\"}], \"barpolar\": [{\"marker\": {\"line\": {\"color\": \"#E5ECF6\", \"width\": 0.5}}, \"type\": \"barpolar\"}], \"carpet\": [{\"aaxis\": {\"endlinecolor\": \"#2a3f5f\", \"gridcolor\": \"white\", \"linecolor\": \"white\", \"minorgridcolor\": \"white\", \"startlinecolor\": \"#2a3f5f\"}, \"baxis\": {\"endlinecolor\": \"#2a3f5f\", \"gridcolor\": \"white\", \"linecolor\": \"white\", \"minorgridcolor\": \"white\", \"startlinecolor\": \"#2a3f5f\"}, \"type\": \"carpet\"}], \"choropleth\": [{\"colorbar\": {\"outlinewidth\": 0, \"ticks\": \"\"}, \"type\": \"choropleth\"}], \"contour\": [{\"colorbar\": {\"outlinewidth\": 0, \"ticks\": \"\"}, \"colorscale\": [[0.0, \"#0d0887\"], [0.1111111111111111, \"#46039f\"], [0.2222222222222222, \"#7201a8\"], [0.3333333333333333, \"#9c179e\"], [0.4444444444444444, \"#bd3786\"], [0.5555555555555556, \"#d8576b\"], [0.6666666666666666, \"#ed7953\"], [0.7777777777777778, \"#fb9f3a\"], [0.8888888888888888, \"#fdca26\"], [1.0, \"#f0f921\"]], \"type\": \"contour\"}], \"contourcarpet\": [{\"colorbar\": {\"outlinewidth\": 0, \"ticks\": \"\"}, \"type\": \"contourcarpet\"}], \"heatmap\": [{\"colorbar\": {\"outlinewidth\": 0, \"ticks\": \"\"}, \"colorscale\": [[0.0, \"#0d0887\"], [0.1111111111111111, \"#46039f\"], [0.2222222222222222, \"#7201a8\"], [0.3333333333333333, \"#9c179e\"], [0.4444444444444444, \"#bd3786\"], [0.5555555555555556, \"#d8576b\"], [0.6666666666666666, \"#ed7953\"], [0.7777777777777778, \"#fb9f3a\"], [0.8888888888888888, \"#fdca26\"], [1.0, \"#f0f921\"]], \"type\": \"heatmap\"}], \"heatmapgl\": [{\"colorbar\": {\"outlinewidth\": 0, \"ticks\": \"\"}, \"colorscale\": [[0.0, \"#0d0887\"], [0.1111111111111111, \"#46039f\"], [0.2222222222222222, \"#7201a8\"], [0.3333333333333333, \"#9c179e\"], [0.4444444444444444, \"#bd3786\"], [0.5555555555555556, \"#d8576b\"], [0.6666666666666666, \"#ed7953\"], [0.7777777777777778, \"#fb9f3a\"], [0.8888888888888888, \"#fdca26\"], [1.0, \"#f0f921\"]], \"type\": \"heatmapgl\"}], \"histogram\": [{\"marker\": {\"colorbar\": {\"outlinewidth\": 0, \"ticks\": \"\"}}, \"type\": \"histogram\"}], \"histogram2d\": [{\"colorbar\": {\"outlinewidth\": 0, \"ticks\": \"\"}, \"colorscale\": [[0.0, \"#0d0887\"], [0.1111111111111111, \"#46039f\"], [0.2222222222222222, \"#7201a8\"], [0.3333333333333333, \"#9c179e\"], [0.4444444444444444, \"#bd3786\"], [0.5555555555555556, \"#d8576b\"], [0.6666666666666666, \"#ed7953\"], [0.7777777777777778, \"#fb9f3a\"], [0.8888888888888888, \"#fdca26\"], [1.0, \"#f0f921\"]], \"type\": \"histogram2d\"}], \"histogram2dcontour\": [{\"colorbar\": {\"outlinewidth\": 0, \"ticks\": \"\"}, \"colorscale\": [[0.0, \"#0d0887\"], [0.1111111111111111, \"#46039f\"], [0.2222222222222222, \"#7201a8\"], [0.3333333333333333, \"#9c179e\"], [0.4444444444444444, \"#bd3786\"], [0.5555555555555556, \"#d8576b\"], [0.6666666666666666, \"#ed7953\"], [0.7777777777777778, \"#fb9f3a\"], [0.8888888888888888, \"#fdca26\"], [1.0, \"#f0f921\"]], \"type\": \"histogram2dcontour\"}], \"mesh3d\": [{\"colorbar\": {\"outlinewidth\": 0, \"ticks\": \"\"}, \"type\": \"mesh3d\"}], \"parcoords\": [{\"line\": {\"colorbar\": {\"outlinewidth\": 0, \"ticks\": \"\"}}, \"type\": \"parcoords\"}], \"pie\": [{\"automargin\": true, \"type\": \"pie\"}], \"scatter\": [{\"marker\": {\"colorbar\": {\"outlinewidth\": 0, \"ticks\": \"\"}}, \"type\": \"scatter\"}], \"scatter3d\": [{\"line\": {\"colorbar\": {\"outlinewidth\": 0, \"ticks\": \"\"}}, \"marker\": {\"colorbar\": {\"outlinewidth\": 0, \"ticks\": \"\"}}, \"type\": \"scatter3d\"}], \"scattercarpet\": [{\"marker\": {\"colorbar\": {\"outlinewidth\": 0, \"ticks\": \"\"}}, \"type\": \"scattercarpet\"}], \"scattergeo\": [{\"marker\": {\"colorbar\": {\"outlinewidth\": 0, \"ticks\": \"\"}}, \"type\": \"scattergeo\"}], \"scattergl\": [{\"marker\": {\"colorbar\": {\"outlinewidth\": 0, \"ticks\": \"\"}}, \"type\": \"scattergl\"}], \"scattermapbox\": [{\"marker\": {\"colorbar\": {\"outlinewidth\": 0, \"ticks\": \"\"}}, \"type\": \"scattermapbox\"}], \"scatterpolar\": [{\"marker\": {\"colorbar\": {\"outlinewidth\": 0, \"ticks\": \"\"}}, \"type\": \"scatterpolar\"}], \"scatterpolargl\": [{\"marker\": {\"colorbar\": {\"outlinewidth\": 0, \"ticks\": \"\"}}, \"type\": \"scatterpolargl\"}], \"scatterternary\": [{\"marker\": {\"colorbar\": {\"outlinewidth\": 0, \"ticks\": \"\"}}, \"type\": \"scatterternary\"}], \"surface\": [{\"colorbar\": {\"outlinewidth\": 0, \"ticks\": \"\"}, \"colorscale\": [[0.0, \"#0d0887\"], [0.1111111111111111, \"#46039f\"], [0.2222222222222222, \"#7201a8\"], [0.3333333333333333, \"#9c179e\"], [0.4444444444444444, \"#bd3786\"], [0.5555555555555556, \"#d8576b\"], [0.6666666666666666, \"#ed7953\"], [0.7777777777777778, \"#fb9f3a\"], [0.8888888888888888, \"#fdca26\"], [1.0, \"#f0f921\"]], \"type\": \"surface\"}], \"table\": [{\"cells\": {\"fill\": {\"color\": \"#EBF0F8\"}, \"line\": {\"color\": \"white\"}}, \"header\": {\"fill\": {\"color\": \"#C8D4E3\"}, \"line\": {\"color\": \"white\"}}, \"type\": \"table\"}]}, \"layout\": {\"annotationdefaults\": {\"arrowcolor\": \"#2a3f5f\", \"arrowhead\": 0, \"arrowwidth\": 1}, \"coloraxis\": {\"colorbar\": {\"outlinewidth\": 0, \"ticks\": \"\"}}, \"colorscale\": {\"diverging\": [[0, \"#8e0152\"], [0.1, \"#c51b7d\"], [0.2, \"#de77ae\"], [0.3, \"#f1b6da\"], [0.4, \"#fde0ef\"], [0.5, \"#f7f7f7\"], [0.6, \"#e6f5d0\"], [0.7, \"#b8e186\"], [0.8, \"#7fbc41\"], [0.9, \"#4d9221\"], [1, \"#276419\"]], \"sequential\": [[0.0, \"#0d0887\"], [0.1111111111111111, \"#46039f\"], [0.2222222222222222, \"#7201a8\"], [0.3333333333333333, \"#9c179e\"], [0.4444444444444444, \"#bd3786\"], [0.5555555555555556, \"#d8576b\"], [0.6666666666666666, \"#ed7953\"], [0.7777777777777778, \"#fb9f3a\"], [0.8888888888888888, \"#fdca26\"], [1.0, \"#f0f921\"]], \"sequentialminus\": [[0.0, \"#0d0887\"], [0.1111111111111111, \"#46039f\"], [0.2222222222222222, \"#7201a8\"], [0.3333333333333333, \"#9c179e\"], [0.4444444444444444, \"#bd3786\"], [0.5555555555555556, \"#d8576b\"], [0.6666666666666666, \"#ed7953\"], [0.7777777777777778, \"#fb9f3a\"], [0.8888888888888888, \"#fdca26\"], [1.0, \"#f0f921\"]]}, \"colorway\": [\"#636efa\", \"#EF553B\", \"#00cc96\", \"#ab63fa\", \"#FFA15A\", \"#19d3f3\", \"#FF6692\", \"#B6E880\", \"#FF97FF\", \"#FECB52\"], \"font\": {\"color\": \"#2a3f5f\"}, \"geo\": {\"bgcolor\": \"white\", \"lakecolor\": \"white\", \"landcolor\": \"#E5ECF6\", \"showlakes\": true, \"showland\": true, \"subunitcolor\": \"white\"}, \"hoverlabel\": {\"align\": \"left\"}, \"hovermode\": \"closest\", \"mapbox\": {\"style\": \"light\"}, \"paper_bgcolor\": \"white\", \"plot_bgcolor\": \"#E5ECF6\", \"polar\": {\"angularaxis\": {\"gridcolor\": \"white\", \"linecolor\": \"white\", \"ticks\": \"\"}, \"bgcolor\": \"#E5ECF6\", \"radialaxis\": {\"gridcolor\": \"white\", \"linecolor\": \"white\", \"ticks\": \"\"}}, \"scene\": {\"xaxis\": {\"backgroundcolor\": \"#E5ECF6\", \"gridcolor\": \"white\", \"gridwidth\": 2, \"linecolor\": \"white\", \"showbackground\": true, \"ticks\": \"\", \"zerolinecolor\": \"white\"}, \"yaxis\": {\"backgroundcolor\": \"#E5ECF6\", \"gridcolor\": \"white\", \"gridwidth\": 2, \"linecolor\": \"white\", \"showbackground\": true, \"ticks\": \"\", \"zerolinecolor\": \"white\"}, \"zaxis\": {\"backgroundcolor\": \"#E5ECF6\", \"gridcolor\": \"white\", \"gridwidth\": 2, \"linecolor\": \"white\", \"showbackground\": true, \"ticks\": \"\", \"zerolinecolor\": \"white\"}}, \"shapedefaults\": {\"line\": {\"color\": \"#2a3f5f\"}}, \"ternary\": {\"aaxis\": {\"gridcolor\": \"white\", \"linecolor\": \"white\", \"ticks\": \"\"}, \"baxis\": {\"gridcolor\": \"white\", \"linecolor\": \"white\", \"ticks\": \"\"}, \"bgcolor\": \"#E5ECF6\", \"caxis\": {\"gridcolor\": \"white\", \"linecolor\": \"white\", \"ticks\": \"\"}}, \"title\": {\"x\": 0.05}, \"xaxis\": {\"automargin\": true, \"gridcolor\": \"white\", \"linecolor\": \"white\", \"ticks\": \"\", \"title\": {\"standoff\": 15}, \"zerolinecolor\": \"white\", \"zerolinewidth\": 2}, \"yaxis\": {\"automargin\": true, \"gridcolor\": \"white\", \"linecolor\": \"white\", \"ticks\": \"\", \"title\": {\"standoff\": 15}, \"zerolinecolor\": \"white\", \"zerolinewidth\": 2}}}, \"title\": {\"text\": \"population test vs death rate\"}, \"xaxis\": {\"title\": {\"text\": \"population test\"}}, \"yaxis\": {\"title\": {\"text\": \"death rate\"}}},\n",
       "                        {\"responsive\": true}\n",
       "                    ).then(function(){\n",
       "                            \n",
       "var gd = document.getElementById('264cd939-241b-4a1e-8a81-04e11f332a0e');\n",
       "var x = new MutationObserver(function (mutations, observer) {{\n",
       "        var display = window.getComputedStyle(gd).display;\n",
       "        if (!display || display === 'none') {{\n",
       "            console.log([gd, 'removed!']);\n",
       "            Plotly.purge(gd);\n",
       "            observer.disconnect();\n",
       "        }}\n",
       "}});\n",
       "\n",
       "// Listen for the removal of the full notebook cells\n",
       "var notebookContainer = gd.closest('#notebook-container');\n",
       "if (notebookContainer) {{\n",
       "    x.observe(notebookContainer, {childList: true});\n",
       "}}\n",
       "\n",
       "// Listen for the clearing of the current output cell\n",
       "var outputEl = gd.closest('.output');\n",
       "if (outputEl) {{\n",
       "    x.observe(outputEl, {childList: true});\n",
       "}}\n",
       "\n",
       "                        })\n",
       "                };\n",
       "                });\n",
       "            </script>\n",
       "        </div>"
      ]
     },
     "metadata": {},
     "output_type": "display_data"
    },
    {
     "name": "stdout",
     "output_type": "stream",
     "text": [
      "Pearsons correlation: 0.157\n",
      "Samples are uncorrelated (fail to reject H0) p=0.060\n",
      "Spearmans correlation: 0.101\n",
      "Samples are uncorrelated (fail to reject H0) p=0.230\n",
      "Kendall correlation coefficient: 0.073\n",
      "Samples are uncorrelated (fail to reject H0) p=0.192\n"
     ]
    }
   ],
   "source": [
    "df = pd.read_csv('deathrate+tests.csv')\n",
    "\n",
    "correl(df)"
   ]
  },
  {
   "cell_type": "code",
   "execution_count": 9,
   "metadata": {},
   "outputs": [
    {
     "name": "stdout",
     "output_type": "stream",
     "text": [
      "Requirement already satisfied: csvsort in c:\\users\\user\\.conda\\envs\\dand\\lib\\site-packages (1.5)\n",
      "Note: you may need to restart the kernel to use updated packages.\n"
     ]
    }
   ],
   "source": [
    "pip install csvsort"
   ]
  },
  {
   "cell_type": "code",
   "execution_count": 14,
   "metadata": {},
   "outputs": [],
   "source": [
    "dataset = pd.read_csv('deathrate+tests.csv')\n",
    "dataset = dataset.sort_values([\"Totaltests\"], ascending = (False))\n",
    "dataset.to_csv('deathrate+tests.csv', index=False)\n"
   ]
  },
  {
   "cell_type": "code",
   "execution_count": null,
   "metadata": {},
   "outputs": [],
   "source": []
  }
 ],
 "metadata": {
  "kernelspec": {
   "display_name": "Python 3",
   "language": "python",
   "name": "python3"
  },
  "language_info": {
   "codemirror_mode": {
    "name": "ipython",
    "version": 3
   },
   "file_extension": ".py",
   "mimetype": "text/x-python",
   "name": "python",
   "nbconvert_exporter": "python",
   "pygments_lexer": "ipython3",
   "version": "3.7.7"
  }
 },
 "nbformat": 4,
 "nbformat_minor": 4
}
