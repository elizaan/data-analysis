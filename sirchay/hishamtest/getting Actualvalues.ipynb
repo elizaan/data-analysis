{
 "cells": [
  {
   "cell_type": "code",
   "execution_count": null,
   "metadata": {},
   "outputs": [],
   "source": [
    "import pandas as pd\n",
    "import csv\n",
    "\n",
    "csv_input1 = pd.read_csv('PredOutput.csv')\n",
    "csv_input2 = pd.read_csv('country_timeline1.csv')\n",
    "for line1 in csv_input1:\n",
    "    for line2 in csv_input2:\n",
    "        if csv_input2['Date'] == csv_input1['date'] and csv_input2['Country_name'] == csv_input1['country_name']\n",
    "            csv_input1['actual_affected'] = csv_input2['New_confirmed']\n",
    "            csv_input1['actual_death'] = csv_input2['New_death']\n",
    "\n",
    "\n",
    "csv_input1.to_csv('PredOutput.csv', index=False)"
   ]
  }
 ],
 "metadata": {
  "kernelspec": {
   "display_name": "Python [conda env:.conda-DAND] *",
   "language": "python",
   "name": "conda-env-.conda-DAND-py"
  },
  "language_info": {
   "codemirror_mode": {
    "name": "ipython",
    "version": 3
   },
   "file_extension": ".py",
   "mimetype": "text/x-python",
   "name": "python",
   "nbconvert_exporter": "python",
   "pygments_lexer": "ipython3",
   "version": "3.8.2"
  }
 },
 "nbformat": 4,
 "nbformat_minor": 4
}
